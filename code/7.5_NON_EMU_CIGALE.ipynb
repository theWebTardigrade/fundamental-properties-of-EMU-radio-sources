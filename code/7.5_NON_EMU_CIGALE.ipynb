{
 "cells": [
  {
   "cell_type": "markdown",
   "id": "4aeec257",
   "metadata": {},
   "source": [
    "# Create CIGALE data file for (VIKING+DES+CATWISE) sources"
   ]
  },
  {
   "cell_type": "markdown",
   "id": "78dfc5cf",
   "metadata": {},
   "source": [
    "Select a subsample of VIKING+DES+CATWISE sources that have the same distribution as EMU sources in a given magnitude."
   ]
  },
  {
   "cell_type": "markdown",
   "id": "8e2554c3",
   "metadata": {},
   "source": [
    "# Import Libraries"
   ]
  },
  {
   "cell_type": "code",
   "execution_count": 1,
   "id": "765199bb",
   "metadata": {},
   "outputs": [],
   "source": [
    "import numpy as np\n",
    "from astropy.table import Table\n",
    "import pandas as pd\n",
    "import matplotlib.pyplot as plt\n",
    "import missingno"
   ]
  },
  {
   "cell_type": "markdown",
   "id": "e04404de",
   "metadata": {},
   "source": [
    "# Define the directory"
   ]
  },
  {
   "cell_type": "code",
   "execution_count": 2,
   "id": "bb8fd0ff",
   "metadata": {},
   "outputs": [],
   "source": [
    "observatory = '/home/mfonseca/fastdisk'\n",
    "my_computer = '/home/polaris/Lab_Astro/data/'\n",
    "\n",
    "directory = my_computer"
   ]
  },
  {
   "cell_type": "markdown",
   "id": "c7bb7498",
   "metadata": {},
   "source": [
    "# Import data"
   ]
  },
  {
   "cell_type": "markdown",
   "id": "d20226b4",
   "metadata": {},
   "source": [
    "## Import EMU+VIKING+DES+CATWISE crossmatch data"
   ]
  },
  {
   "cell_type": "code",
   "execution_count": 3,
   "id": "20dda1db",
   "metadata": {},
   "outputs": [
    {
     "name": "stdout",
     "output_type": "stream",
     "text": [
      "Number of objects in the catalog 11695\n",
      "Number of objects in the catalog that have matches in all three surveys 3855\n",
      "Number of objects in the catalog that have matches in all three surveys and have full photometry 3530\n"
     ]
    },
    {
     "name": "stderr",
     "output_type": "stream",
     "text": [
      "/tmp/ipykernel_117689/2011678717.py:14: SettingWithCopyWarning: \n",
      "A value is trying to be set on a copy of a slice from a DataFrame.\n",
      "Try using .loc[row_indexer,col_indexer] = value instead\n",
      "\n",
      "See the caveats in the documentation: https://pandas.pydata.org/pandas-docs/stable/user_guide/indexing.html#returning-a-view-versus-a-copy\n",
      "  emu_catalog_matches_noMags_full['EMU_island_name'] = emu_catalog_matches_noMags_full['EMU_island_name'].str.decode('utf-8').str.strip(' ')\n",
      "/tmp/ipykernel_117689/2011678717.py:18: SettingWithCopyWarning: \n",
      "A value is trying to be set on a copy of a slice from a DataFrame\n",
      "\n",
      "See the caveats in the documentation: https://pandas.pydata.org/pandas-docs/stable/user_guide/indexing.html#returning-a-view-versus-a-copy\n",
      "  emu_catalog_matches_noMags_full.drop(columns=['DESY6_mag_auto_y_extcorr', 'DESY6_z_y_extcorr','VKG_magerr_petro_z', 'VKG_mag_petro_z_ab_extcorr'], inplace=True)\n",
      "/tmp/ipykernel_117689/2011678717.py:19: SettingWithCopyWarning: \n",
      "A value is trying to be set on a copy of a slice from a DataFrame\n",
      "\n",
      "See the caveats in the documentation: https://pandas.pydata.org/pandas-docs/stable/user_guide/indexing.html#returning-a-view-versus-a-copy\n",
      "  emu_catalog_matches_noMags_full.dropna(inplace=True)\n"
     ]
    }
   ],
   "source": [
    "emu_matched_no_mags_path = directory + 'cross_match/EMU_0102-32_DESY6GOLD_VIKING_CATWISE_noMags/EMU_0102-32_DESY6GOLD_VIKINGDR5_CATWISE_noMag_petro_2.fits'\n",
    "emu_matched_no_mags = Table.read(emu_matched_no_mags_path).filled()\n",
    "emu_matched_no_mags = emu_matched_no_mags.to_pandas()\n",
    "\n",
    "match_mask = (emu_matched_no_mags['match_flag'] == 1) & (emu_matched_no_mags['p_i'] >= 0.1) & (emu_matched_no_mags['p_any'] >=0.83)\n",
    "catalog_matches_noMags = emu_matched_no_mags[match_mask]\n",
    "print(f'Number of objects in the catalog {len(catalog_matches_noMags)}')\n",
    "\n",
    "# Here we select objects that have matches in all three surveys\n",
    "full_match_mask = (catalog_matches_noMags['DESY6_coadd_object_id'] != -99) & (catalog_matches_noMags['VKG_sourceID'] != -99) & (catalog_matches_noMags['CAT_source_id'] != b'-99')\n",
    "emu_catalog_matches_noMags_full = catalog_matches_noMags[full_match_mask]\n",
    "\n",
    "# Ignore the warning\n",
    "emu_catalog_matches_noMags_full['EMU_island_name'] = emu_catalog_matches_noMags_full['EMU_island_name'].str.decode('utf-8').str.strip(' ')\n",
    "\n",
    "print(f'Number of objects in the catalog that have matches in all three surveys {len(emu_catalog_matches_noMags_full)}')\n",
    "\n",
    "emu_catalog_matches_noMags_full.drop(columns=['DESY6_mag_auto_y_extcorr', 'DESY6_z_y_extcorr','VKG_magerr_petro_z', 'VKG_mag_petro_z_ab_extcorr'], inplace=True)\n",
    "emu_catalog_matches_noMags_full.dropna(inplace=True)\n",
    "\n",
    "print(f'Number of objects in the catalog that have matches in all three surveys and have full photometry {len(emu_catalog_matches_noMags_full)}')"
   ]
  },
  {
   "cell_type": "markdown",
   "id": "ce0095f1",
   "metadata": {},
   "source": [
    "## Import VIKING+DES+CATWISE crossmatch data"
   ]
  },
  {
   "cell_type": "code",
   "execution_count": 4,
   "id": "a94b175c",
   "metadata": {},
   "outputs": [
    {
     "name": "stdout",
     "output_type": "stream",
     "text": [
      "Number of objects in the catalog 587677\n",
      "Number of objects in the catalog that have matches in all three surveys 366961\n"
     ]
    }
   ],
   "source": [
    "other_matched_no_mags_path = directory + 'cross_match/without_EMU/DESY6_VKG_CAT_noMags/DESY6_VKG_CAT_noMags.fits'\n",
    "other_matched_no_mags = Table.read(other_matched_no_mags_path).filled()\n",
    "other_matched_no_mags = other_matched_no_mags.to_pandas()\n",
    "\n",
    "# Match criteria from NWAY\n",
    "match_mask = (other_matched_no_mags['match_flag'] == 1) & (other_matched_no_mags['p_i'] > 0.1) & (other_matched_no_mags['p_any'] >0.00)\n",
    "other_catalog_matches_noMags = other_matched_no_mags[match_mask]\n",
    "print(f'Number of objects in the catalog {len(other_catalog_matches_noMags)}')\n",
    "\n",
    "# Here we select objects that have matches in DES and CATWISE surveys\n",
    "full_match_mask = (other_catalog_matches_noMags['DESY6_coadd_object_id'] != -99) & (other_catalog_matches_noMags['CAT_source_id'] != b'-99')\n",
    "other_catalog_matches_noMags_full = other_catalog_matches_noMags[full_match_mask]\n",
    "\n",
    "print(f'Number of objects in the catalog that have matches in all three surveys {len(other_catalog_matches_noMags_full)}')"
   ]
  },
  {
   "cell_type": "markdown",
   "id": "3b98dcab",
   "metadata": {},
   "source": [
    "## Remove EMU+VIKING+DES+CATWISE crossmatch data from VIKING+DES+CATWISE"
   ]
  },
  {
   "cell_type": "code",
   "execution_count": 5,
   "id": "5778119f",
   "metadata": {},
   "outputs": [
    {
     "name": "stderr",
     "output_type": "stream",
     "text": [
      "/tmp/ipykernel_117689/2347824584.py:5: SettingWithCopyWarning: \n",
      "A value is trying to be set on a copy of a slice from a DataFrame.\n",
      "Try using .loc[row_indexer,col_indexer] = value instead\n",
      "\n",
      "See the caveats in the documentation: https://pandas.pydata.org/pandas-docs/stable/user_guide/indexing.html#returning-a-view-versus-a-copy\n",
      "  other_catalog_matches_noMags_full['_merge_key'] = other_catalog_matches_noMags_full[compare_cols].astype(str).agg('_'.join, axis=1)\n",
      "/tmp/ipykernel_117689/2347824584.py:6: SettingWithCopyWarning: \n",
      "A value is trying to be set on a copy of a slice from a DataFrame.\n",
      "Try using .loc[row_indexer,col_indexer] = value instead\n",
      "\n",
      "See the caveats in the documentation: https://pandas.pydata.org/pandas-docs/stable/user_guide/indexing.html#returning-a-view-versus-a-copy\n",
      "  emu_catalog_matches_noMags_full['_merge_key'] = emu_catalog_matches_noMags_full[compare_cols].astype(str).agg('_'.join, axis=1)\n"
     ]
    },
    {
     "name": "stdout",
     "output_type": "stream",
     "text": [
      "Number of objects in the catalog that have matches in all three surveys and have full photometry but are not in EMU 363431\n"
     ]
    },
    {
     "name": "stderr",
     "output_type": "stream",
     "text": [
      "/tmp/ipykernel_117689/2347824584.py:13: SettingWithCopyWarning: \n",
      "A value is trying to be set on a copy of a slice from a DataFrame\n",
      "\n",
      "See the caveats in the documentation: https://pandas.pydata.org/pandas-docs/stable/user_guide/indexing.html#returning-a-view-versus-a-copy\n",
      "  emu_catalog_matches_noMags_full.drop(columns=['_merge_key'], inplace=True)\n"
     ]
    }
   ],
   "source": [
    "# Columns to compare (same names in both DataFrames)\n",
    "compare_cols = ['DESY6_coadd_object_id', 'VKG_sourceID', 'CAT_source_name']\n",
    "\n",
    "# Step 1: Create a merge key to identify matching rows\n",
    "other_catalog_matches_noMags_full['_merge_key'] = other_catalog_matches_noMags_full[compare_cols].astype(str).agg('_'.join, axis=1)\n",
    "emu_catalog_matches_noMags_full['_merge_key'] = emu_catalog_matches_noMags_full[compare_cols].astype(str).agg('_'.join, axis=1)\n",
    "\n",
    "# Step 2: Remove rows from df1 where values in compare_cols match any row in df2\n",
    "non_emu_fullphot_filtered = other_catalog_matches_noMags_full[~other_catalog_matches_noMags_full['_merge_key'].isin(emu_catalog_matches_noMags_full['_merge_key'])].copy()\n",
    "\n",
    "# Step 3: Drop the helper column\n",
    "non_emu_fullphot_filtered.drop(columns=['_merge_key'], inplace=True)\n",
    "emu_catalog_matches_noMags_full.drop(columns=['_merge_key'], inplace=True)\n",
    "\n",
    "# Step 4: Add source_flag (0 = from other_catalog_matches_noMags_full, 1 = from emu_catalog_matches_noMags_full)\n",
    "# other_catalog_matches_noMags_full['source_flag'] = 0\n",
    "# emu_catalog_matches_noMags_full['source_flag'] = 1\n",
    "\n",
    "# Step 5: Append df2 to the filtered df1\n",
    "# final_df = pd.concat([other_catalog_matches_noMags_full, emu_catalog_matches_noMags_full], ignore_index=True)\n",
    "final_df = non_emu_fullphot_filtered\n",
    "\n",
    "print(f'Number of objects in the catalog that have matches in all three surveys and have full photometry but are not in EMU {len(final_df)}')"
   ]
  },
  {
   "cell_type": "markdown",
   "id": "466b2e44",
   "metadata": {},
   "source": [
    "# Select a subsample of VIKING+DES+CATWISE with similar distribution to EMU+VIKING+DES+CATWISE"
   ]
  },
  {
   "cell_type": "code",
   "execution_count": 6,
   "id": "0c795cca",
   "metadata": {},
   "outputs": [],
   "source": [
    "def match_distribution_by_binning(df1, df2, column, bins, n_subsamples, random_state=None):\n",
    "    \"\"\"\n",
    "    Returns a single DataFrame containing multiple non-overlapping subsamples of df1,\n",
    "    each matching the distribution of df2[column], without adding new columns.\n",
    "\n",
    "    Parameters:\n",
    "    - df1: pandas DataFrame to sample from\n",
    "    - df2: pandas DataFrame with reference distribution\n",
    "    - column: str, column to match distribution on\n",
    "    - bins: int or sequence, used for binning the column\n",
    "    - n_subsamples: int, number of non-overlapping subsamples to extract\n",
    "    - random_state: int or None, for reproducibility\n",
    "\n",
    "    Returns:\n",
    "    - pandas DataFrame containing the combined subsamples\n",
    "    \"\"\"\n",
    "    rng = np.random.default_rng(random_state)\n",
    "    \n",
    "    # Create binned copies\n",
    "    df1_binned = df1.copy()\n",
    "    df2_binned = df2.copy()\n",
    "    df1_binned['bin'] = pd.cut(df1_binned[column], bins=bins, include_lowest=True)\n",
    "    df2_binned['bin'] = pd.cut(df2_binned[column], bins=bins, include_lowest=True)\n",
    "    \n",
    "    # Target distribution per bin\n",
    "    target_counts = df2_binned['bin'].value_counts().sort_index()\n",
    "    \n",
    "    # Split df1 into bin groups\n",
    "    bin_groups = {b: df1_binned[df1_binned['bin'] == b].copy() for b in target_counts.index}\n",
    "    \n",
    "    all_sampled = []\n",
    "\n",
    "    for _ in range(n_subsamples):\n",
    "        current_sample_indices = []\n",
    "        for b, target_count in target_counts.items():\n",
    "            group = bin_groups.get(b, pd.DataFrame())\n",
    "            if len(group) < target_count:\n",
    "                break  # Not enough data in this bin to continue\n",
    "            selected = rng.choice(group.index, size=target_count, replace=False)\n",
    "            current_sample_indices.extend(selected)\n",
    "            bin_groups[b].drop(index=selected, inplace=True)\n",
    "        else:\n",
    "            # All bins sampled successfully\n",
    "            sample = df1.loc[current_sample_indices].copy()\n",
    "            all_sampled.append(sample)\n",
    "            continue\n",
    "        break  # Exit if any bin couldn't be fulfilled\n",
    "\n",
    "    # Combine all samples into a single DataFrame\n",
    "    return pd.concat(all_sampled, ignore_index=True)"
   ]
  },
  {
   "cell_type": "code",
   "execution_count": 9,
   "id": "73040d91",
   "metadata": {},
   "outputs": [],
   "source": [
    "bins = np.linspace(emu_catalog_matches_noMags_full['DESY6_mag_auto_i_extcorr'].min(), emu_catalog_matches_noMags_full['DESY6_mag_auto_i_extcorr'].max(), 50, 42)\n",
    "#subsample_df1 = match_distribution_by_binning(final_df, emu_catalog_matches_noMags_full, 'DESY6_mag_auto_i_extcorr', bins, 4,random_state=42)\n",
    "\n",
    "#print(len(subsample_df1))\n",
    "\n",
    "# Save the subsample to a new file\n",
    "#subsample_df1.to_csv('/home/polaris/Lab_Astro/data/cigale/nonemu_data/nonemu_data_sample4.data', index=False)\n",
    "final_df.to_csv('/home/polaris/Lab_Astro/data/cigale/nonemu_data/nonemu_data.data', index=False)"
   ]
  },
  {
   "cell_type": "markdown",
   "id": "7eda9635",
   "metadata": {},
   "source": [
    "# SANITY CHECK: Plot the distributions "
   ]
  },
  {
   "cell_type": "code",
   "execution_count": null,
   "id": "27f29e44",
   "metadata": {},
   "outputs": [
    {
     "data": {
      "image/png": "[encoded data removed]",
      "text/plain": [
       "<Figure size 640x480 with 1 Axes>"
      ]
     },
     "metadata": {},
     "output_type": "display_data"
    }
   ],
   "source": [
    "plt.hist(subsample_df1['DESY6_mag_auto_g_extcorr'], bins=bins, alpha=0.5, label='Non-EMU Sample', color='blue', density=True)\n",
    "plt.hist(emu_catalog_matches_noMags_full['DESY6_mag_auto_g_extcorr'], bins=bins, alpha=0.5, label='EMU Sample', color='orange', density=True)\n",
    "plt.xlabel('DESY6 mag auto g extcorr')\n",
    "plt.ylabel('Density of objects')\n",
    "plt.legend()\n",
    "plt.title('Distribution of DESY6 mag auto g extcorr')\n",
    "plt.show()"
   ]
  },
  {
   "cell_type": "markdown",
   "id": "51de17c6",
   "metadata": {},
   "source": []
  },
  {
   "cell_type": "code",
   "execution_count": null,
   "id": "97352708",
   "metadata": {},
   "outputs": [],
   "source": []
  }
 ],
 "metadata": {
  "kernelspec": {
   "display_name": "labastro",
   "language": "python",
   "name": "python3"
  },
  "language_info": {
   "codemirror_mode": {
    "name": "ipython",
    "version": 3
   },
   "file_extension": ".py",
   "mimetype": "text/x-python",
   "name": "python",
   "nbconvert_exporter": "python",
   "pygments_lexer": "ipython3",
   "version": "3.10.16"
  }
 },
 "nbformat": 4,
 "nbformat_minor": 5
}
