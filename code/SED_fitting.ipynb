{
 "cells": [
  {
   "cell_type": "markdown",
   "metadata": {},
   "source": [
    "# SED Fitting using GALAPY"
   ]
  },
  {
   "cell_type": "code",
   "execution_count": 2,
   "metadata": {},
   "outputs": [],
   "source": [
    "from astropy.io import fits\n",
    "import numpy as np"
   ]
  },
  {
   "cell_type": "code",
   "execution_count": 12,
   "metadata": {},
   "outputs": [],
   "source": [
    "emu_g23_catalog_path = '/home/polaris/Lab_Astro/data/matched_data/EMU_GAMA_filter.fits'\n",
    "emu_g23_mlj_catalog_path = '/home/polaris/Lab_Astro/data/matched_data/EMU_GAMA_filter_mjy.fits'"
   ]
  },
  {
   "cell_type": "code",
   "execution_count": 8,
   "metadata": {},
   "outputs": [
    {
     "name": "stdout",
     "output_type": "stream",
     "text": [
      "['G23_flux_err_FUVt', 'G23_flux_err_NUVt', 'G23_flux_err_ut', 'G23_flux_err_gt', 'G23_flux_err_rt', 'G23_flux_err_it', 'G23_flux_err_Zt', 'G23_flux_err_Yt', 'G23_flux_err_Jt', 'G23_flux_err_Ht', 'G23_flux_err_Kt', 'G23_flux_err_W1t', 'G23_flux_err_W2t']\n"
     ]
    }
   ],
   "source": [
    "with fits.open(emu_g23_catalog_path) as hdul:\n",
    "    data = hdul[1].data\n",
    "    columns = data.columns.names\n",
    "    columns_with_flux = [col for col in columns if ('flux' in col) and ('err' in col) and ('G23' in col) and (col[-1:] != 'l')]\n",
    "    print(columns_with_flux) "
   ]
  },
  {
   "cell_type": "code",
   "execution_count": null,
   "metadata": {},
   "outputs": [],
   "source": [
    "columns_with_flux = ['G23_flux_FUVt', 'G23_flux_NUVt', 'G23_flux_ut', 'G23_flux_gt', 'G23_flux_rt', 'G23_flux_it', 'G23_flux_Zt', 'G23_flux_Yt', 'G23_flux_Jt', 'G23_flux_Ht', 'G23_flux_Kt', 'G23_flux_W1t', 'G23_flux_W2t']\n",
    "columns_with_error = ['G23_flux_err_FUVt', 'G23_flux_err_NUVt', 'G23_flux_err_ut', 'G23_flux_err_gt', 'G23_flux_err_rt', 'G23_flux_err_it', 'G23_flux_err_Zt', 'G23_flux_err_Yt', 'G23_flux_err_Jt', 'G23_flux_err_Ht', 'G23_flux_err_Kt', 'G23_flux_err_W1t', 'G23_flux_err_W2t']\n",
    "filters = ['GALEX.FUV', 'GALEX.NUV', 'SDSS.u', 'SDSS.g', 'SDSS.r', 'SDSS.i', 'SDSS.z', 'Paranal.VISTA.Y_filter', 'Paranal.VISTA.J_filter', 'Paranal.VISTA.H_filter', 'Paranal.VISTA.Z_filter', 'WISE.W1', 'WISE.W2']\n",
    "\n",
    "column_list_to_convert = columns_with_flux + columns_with_error"
   ]
  },
  {
   "cell_type": "markdown",
   "metadata": {},
   "source": [
    "## Convert Jansky to MiliJansky\n",
    "Convert all columns from a given list from Jansky to Milijansky"
   ]
  },
  {
   "cell_type": "code",
   "execution_count": null,
   "metadata": {},
   "outputs": [],
   "source": [
    "jansky_columns = []"
   ]
  },
  {
   "cell_type": "code",
   "execution_count": 11,
   "metadata": {},
   "outputs": [
    {
     "name": "stdout",
     "output_type": "stream",
     "text": [
      "Converted G23_flux_FUVt values to Millijansky.\n",
      "Converted G23_flux_NUVt values to Millijansky.\n",
      "Converted G23_flux_ut values to Millijansky.\n",
      "Converted G23_flux_gt values to Millijansky.\n",
      "Converted G23_flux_rt values to Millijansky.\n",
      "Converted G23_flux_it values to Millijansky.\n",
      "Converted G23_flux_Zt values to Millijansky.\n",
      "Converted G23_flux_Yt values to Millijansky.\n",
      "Converted G23_flux_Jt values to Millijansky.\n",
      "Converted G23_flux_Ht values to Millijansky.\n",
      "Converted G23_flux_Kt values to Millijansky.\n",
      "Converted G23_flux_W1t values to Millijansky.\n",
      "Converted G23_flux_W2t values to Millijansky.\n",
      "Converted G23_flux_err_FUVt values to Millijansky.\n",
      "Converted G23_flux_err_NUVt values to Millijansky.\n",
      "Converted G23_flux_err_ut values to Millijansky.\n",
      "Converted G23_flux_err_gt values to Millijansky.\n",
      "Converted G23_flux_err_rt values to Millijansky.\n",
      "Converted G23_flux_err_it values to Millijansky.\n",
      "Converted G23_flux_err_Zt values to Millijansky.\n",
      "Converted G23_flux_err_Yt values to Millijansky.\n",
      "Converted G23_flux_err_Jt values to Millijansky.\n",
      "Converted G23_flux_err_Ht values to Millijansky.\n",
      "Converted G23_flux_err_Kt values to Millijansky.\n",
      "Converted G23_flux_err_W1t values to Millijansky.\n",
      "Converted G23_flux_err_W2t values to Millijansky.\n",
      "Converted data saved to /home/polaris/Lab_Astro/data/matched_data/EMU_GAMA_filter_mjy.fits\n"
     ]
    }
   ],
   "source": [
    "def convert_to_millijansky(fits_file, column_list):\n",
    "    with fits.open(fits_file) as hdul:\n",
    "        data = hdul[1].data\n",
    "        columns = data.columns.names \n",
    "\n",
    "        for column_name in column_list:\n",
    "            if column_name in columns:\n",
    "                data[column_name] = data[column_name] * 1000\n",
    "                print(f\"Converted {column_name} values to Millijansky.\")\n",
    "            else:\n",
    "                print(f\"Column '{column_name}' not found in the FITS file.\")\n",
    "\n",
    "        hdul.writeto(fits_file.replace('.fits', '_mjy.fits'), overwrite=True)\n",
    "        print(f\"Converted data saved to {fits_file.replace('.fits', '_mjy.fits')}\")\n",
    "        return\n",
    "    \n",
    "convert_to_millijansky(emu_g23_catalog_path, column_list_to_convert )"
   ]
  },
  {
   "cell_type": "markdown",
   "metadata": {},
   "source": [
    "## GALAPY code"
   ]
  },
  {
   "cell_type": "code",
   "execution_count": 14,
   "metadata": {},
   "outputs": [
    {
     "name": "stdout",
     "output_type": "stream",
     "text": [
      "\n",
      "# Path: /home/polaris/.galapy\n",
      "\n",
      "HST.WFPC2.WF.F547M\n",
      "HST.WFC3.UVIS2.F275W\n",
      "HST.WFC3.UVIS2.F350LP\n",
      "HST.WFC3.UVIS2.F475X\n",
      "HST.WFC3.UVIS2.F390W\n",
      "HST.WFC3.UVIS2.F225W\n",
      "HST.WFC3.UVIS2.F606W\n",
      "HST.WFC3.UVIS2.F600LP\n",
      "HST.WFC3.UVIS2.F336W\n",
      "HST.WFC3.IR.F105W\n",
      "HST.WFC3.IR.F110W\n",
      "HST.WFC3.IR.F098M\n",
      "HST.WFC3.IR.F160W\n",
      "HST.ACS.WFC.F625W\n",
      "JCMT.SCUBA.2450MHz\n",
      "JCMT.SCUBA.2850MHz\n",
      "CFHT.MegaCam.u_1\n",
      "ATCA.ATCA2\n",
      "ATCA.ATCA1\n",
      "GOODS.z\n",
      "GOODS.b\n",
      "GOODS.v\n",
      "GOODS.i\n",
      "WISE.W3\n",
      "WISE.W4\n",
      "WISE.W2\n",
      "WISE.W1\n",
      "2MASS.H\n",
      "2MASS.J\n",
      "2MASS.Ks\n",
      "ALMA.B8\n",
      "ALMA.B6\n",
      "ALMA.B7\n",
      "ALMA.B3\n",
      "GALEX.FUV\n",
      "GALEX.NUV\n",
      "Subaru.HSC.z_filter\n",
      "Subaru.HSC.i_filter\n",
      "Subaru.HSC.r_filter\n",
      "Subaru.Suprime.B_filter\n",
      "Subaru.Suprime.V_filter\n",
      "Spitzer.IRAC.I3\n",
      "Spitzer.IRAC.I2\n",
      "Spitzer.IRAC.I1\n",
      "Spitzer.IRAC.I4\n",
      "Spitzer.MIPS.160mu\n",
      "Spitzer.MIPS.24mu\n",
      "Spitzer.MIPS.70mu\n",
      "Spitzer.IRS.Red\n",
      "Spitzer.IRS.Blue\n",
      "JWST.NIRISS.F115W\n",
      "JWST.NIRISS.F150W\n",
      "JWST.NIRISS.F430M\n",
      "JWST.NIRISS.F480M\n",
      "JWST.NIRISS.F356W\n",
      "JWST.NIRISS.F140M\n",
      "JWST.NIRISS.F090W\n",
      "JWST.NIRISS.F444W\n",
      "JWST.NIRISS.F200W\n",
      "JWST.NIRISS.F277W\n",
      "JWST.NIRISS.F380M\n",
      "JWST.NIRISS.F158M\n",
      "JWST.MIRI.F770W\n",
      "JWST.MIRI.F1280W\n",
      "JWST.MIRI.F1130W\n",
      "JWST.MIRI.F560W\n",
      "JWST.MIRI.F1500W\n",
      "JWST.MIRI.F1000W\n",
      "JWST.MIRI.F2550W\n",
      "JWST.MIRI.F1800W\n",
      "JWST.MIRI.F2100W\n",
      "JWST.NIRCam.F115W\n",
      "JWST.NIRCam.F322W2\n",
      "JWST.NIRCam.F210M\n",
      "JWST.NIRCam.F150W\n",
      "JWST.NIRCam.F182M\n",
      "JWST.NIRCam.F430M\n",
      "JWST.NIRCam.F187N\n",
      "JWST.NIRCam.F480M\n",
      "JWST.NIRCam.F070W\n",
      "JWST.NIRCam.F212N\n",
      "JWST.NIRCam.F356W\n",
      "JWST.NIRCam.F140M\n",
      "JWST.NIRCam.F410M\n",
      "JWST.NIRCam.F090W\n",
      "JWST.NIRCam.F335M\n",
      "JWST.NIRCam.F300M\n",
      "JWST.NIRCam.F444W\n",
      "JWST.NIRCam.F200W\n",
      "JWST.NIRCam.F460M\n",
      "JWST.NIRCam.F150W2\n",
      "JWST.NIRCam.F323N\n",
      "JWST.NIRCam.F466N\n",
      "JWST.NIRCam.F470N\n",
      "JWST.NIRCam.F405N\n",
      "JWST.NIRCam.F360M\n",
      "JWST.NIRCam.F164N\n",
      "JWST.NIRCam.F277W\n",
      "JWST.NIRCam.F162M\n",
      "JWST.NIRCam.F250M\n",
      "Paranal.VISTA.J_filter\n",
      "Paranal.VISTA.Z_filter\n",
      "Paranal.VISTA.Ks_filter\n",
      "Paranal.VISTA.Y_filter\n",
      "Paranal.VISTA.H_filter\n",
      "VLA.X\n",
      "VLA.C\n",
      "VLA.L\n",
      "Herschel.PACS.blue\n",
      "Herschel.PACS.red\n",
      "Herschel.PACS.green\n",
      "Herschel.SPIRE.PMW\n",
      "Herschel.SPIRE.PLW\n",
      "Herschel.SPIRE.PSW\n",
      "SDSS.r\n",
      "SDSS.g\n",
      "SDSS.z\n",
      "SDSS.u\n",
      "SDSS.i\n"
     ]
    }
   ],
   "source": [
    "from galapy.PhotometricSystem import print_filters\n",
    "print_filters()"
   ]
  },
  {
   "cell_type": "code",
   "execution_count": 21,
   "metadata": {},
   "outputs": [
    {
     "name": "stdout",
     "output_type": "stream",
     "text": [
      "[0.0024289025459438562, 0.0018849516054615378, 0.004777566064149141, 0.024537721648812294, 0.08633957803249359, 0.14078283309936523, 0.1902095228433609, 0.2357759177684784, 0.28728294372558594, 0.41839200258255005, 0.3907151222229004, 0.2375180572271347, 0.16212648153305054]\n",
      "13\n"
     ]
    }
   ],
   "source": [
    "def print_row_values(row_number, column_list, fits_file):\n",
    "    with fits.open(fits_file) as hdul:\n",
    "        data = hdul[1].data\n",
    "        if row_number < 0 or row_number >= len(data):\n",
    "            print(f\"Row number {row_number} is out of range.\")\n",
    "            return\n",
    "        \n",
    "        row = data[row_number]\n",
    "        # Convert numpy.float to normal Python float\n",
    "        values = [float(row[column]) if isinstance(row[column], (np.float32, np.float64)) else row[column]\n",
    "                  for column in column_list if column in data.columns.names]\n",
    "        print(values)\n",
    "        print(len(values))\n",
    "\n",
    "\n",
    "print_row_values(16, columns_with_flux, emu_g23_mlj_catalog_path)"
   ]
  },
  {
   "cell_type": "code",
   "execution_count": null,
   "metadata": {},
   "outputs": [
    {
     "name": "stdout",
     "output_type": "stream",
     "text": [
      "Read from file /home/polaris/Lab_Astro/data/202503241800_emcee_results.galapy.hdf5\n",
      "The run has  2 degrees of freedom\n"
     ]
    }
   ],
   "source": [
    "from galapy.sampling.Results import load_results\n",
    "\n",
    "res = load_results('/home/polaris/Lab_Astro/data/202503241800_emcee_results.galapy.hdf5')\n",
    "\n",
    "model = res.get_model()\n",
    "observation = res.get_observation()\n",
    "handler = res.get_handler()\n",
    "print('The run has ', res.Ndof, 'degrees of freedom')\n",
    "\n",
    "\n",
    "import galapy.analysis.plot as gplot\n",
    "from galapy.analysis.plot import plt\n",
    "\n",
    "fig, axes = plt.subplots(2,1,figsize=(6,5),tight_layout=True,\n",
    "                                      sharex = True,\n",
    "                         gridspec_kw={'height_ratios':(4.5,1.5), 'hspace':0.0})\n",
    "\n",
    "###################################################\n",
    "# Plot the SED:\n",
    "\n",
    "_ = gplot.sed_flux_res(\n",
    "    res, plot_components=True, plot_observation=True, plot_contours=True,\n",
    "    ax = axes[0], # passing the first Axis to the ax argument\n",
    "    ax_kwargs = {\n",
    "       'xlim':(1.e+3, 2.e+8),\n",
    "       'ylim':(2.e-6,1.e+4),\n",
    "    },\n",
    "    legend_kwargs = {\n",
    "        'l1': {'loc': 'upper left', 'fontsize':12},\n",
    "        'l2': {'loc': 'upper right', 'ncol': 2, 'fontsize': 12}\n",
    "    }\n",
    ")\n",
    "\n",
    "###################################################\n",
    "# Plot the residuals\n",
    "\n",
    "_ = gplot.sed_residuals_res(\n",
    "    res, frame='obs', plot_contours=True, plot_chi2 = True,\n",
    "    ax = axes[1], # passing the second Axis to the ax argument\n",
    "    ax_kwargs={\n",
    "        'xlim':(1.e+3, 2.e+8),\n",
    "        'ylim':(-3., +3.)\n",
    "    },\n",
    "    text_kwargs={'loc':'lower right'}\n",
    ")"
   ]
  }
 ],
 "metadata": {
  "kernelspec": {
   "display_name": "labastro",
   "language": "python",
   "name": "python3"
  },
  "language_info": {
   "codemirror_mode": {
    "name": "ipython",
    "version": 3
   },
   "file_extension": ".py",
   "mimetype": "text/x-python",
   "name": "python",
   "nbconvert_exporter": "python",
   "pygments_lexer": "ipython3",
   "version": "3.10.16"
  }
 },
 "nbformat": 4,
 "nbformat_minor": 2
}
