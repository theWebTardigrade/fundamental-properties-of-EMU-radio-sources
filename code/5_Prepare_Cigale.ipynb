{
 "cells": [
  {
   "cell_type": "markdown",
   "id": "3b584709",
   "metadata": {},
   "source": [
    "# Import Libraries"
   ]
  },
  {
   "cell_type": "code",
   "execution_count": 2,
   "id": "a6ea429d",
   "metadata": {},
   "outputs": [],
   "source": [
    "import numpy as np\n",
    "from astropy.table import Table\n",
    "import pandas as pd"
   ]
  },
  {
   "cell_type": "code",
   "execution_count": 3,
   "id": "0ac4f686",
   "metadata": {},
   "outputs": [],
   "source": [
    "observatory = '/data/mfonseca/'\n",
    "my_computer = '/home/polaris/Lab_Astro/data/'\n",
    "\n",
    "directory = my_computer"
   ]
  },
  {
   "cell_type": "code",
   "execution_count": 18,
   "id": "4dca8e6a",
   "metadata": {},
   "outputs": [
    {
     "name": "stdout",
     "output_type": "stream",
     "text": [
      "['EMU_island_id', 'EMU_island_name', 'EMU_n_components', 'EMU_ra_deg_cont', 'EMU_dec_deg_cont', 'EMU_freq', 'EMU_maj_axis', 'EMU_min_axis', 'EMU_pos_ang', 'EMU_flux_int', 'EMU_flux_int_err', 'EMU_flux_peak', 'EMU_mean_background', 'EMU_background_noise', 'EMU_max_residual', 'EMU_min_residual', 'EMU_mean_residual', 'EMU_rms_residual', 'EMU_stdev_residual', 'EMU_x_min', 'EMU_x_max', 'EMU_y_min', 'EMU_y_max', 'EMU_n_pix', 'EMU_solid_angle', 'EMU_beam_area', 'EMU_x_ave', 'EMU_y_ave', 'EMU_x_cen', 'EMU_y_cen', 'EMU_x_peak', 'EMU_y_peak', 'EMU_flag_i1', 'EMU_flag_i2', 'EMU_flag_i3', 'EMU_flag_i4', 'EMU_comment', 'DESY6_coadd_object_id', 'DESY6_ra', 'DESY6_dec', 'DESY6_mag_auto_g', 'DESY6_magerr_auto_g', 'DESY6_mag_auto_r', 'DESY6_magerr_auto_r', 'DESY6_mag_auto_i', 'DESY6_magerr_auto_i', 'DESY6_mag_auto_z', 'DESY6_magerr_auto_z', 'DESY6_mag_auto_y', 'DESY6_magerr_auto_y', 'DESY6_a_fiducial_g', 'DESY6_a_fiducial_i', 'DESY6_a_fiducial_r', 'DESY6_a_fiducial_y', 'DESY6_a_fiducial_z', 'DESY6_spread_model_g', 'DESY6_spread_model_r', 'DESY6_spread_model_i', 'DESY6_spread_model_z', 'DESY6_spread_model_y', 'DESY6_spreaderr_model_g', 'DESY6_spreaderr_model_r', 'DESY6_spreaderr_model_i', 'DESY6_spreaderr_model_z', 'DESY6_spreaderr_model_y', 'DESY6_dnf_z', 'DESY6_dnf_zerr_fit', 'DESY6_tilename', 'VKG_sourceID', 'VKG_ra', 'VKG_dec', 'VKG_zAperMag3', 'VKG_zAperMagNoAperCorr3', 'VKG_zAperMag3Err', 'VKG_yAperMag3', 'VKG_yAperMagNoAperCorr3', 'VKG_yAperMag3Err', 'VKG_jAperMag3', 'VKG_jAperMagNoAperCorr3', 'VKG_jAperMag3Err', 'VKG_hAperMag3', 'VKG_hAperMagNoAperCorr3', 'VKG_hAperMag3Err', 'VKG_ksAperMag3', 'VKG_ksAperMagNoAperCorr3', 'VKG_ksAperMag3Err', 'VKG_eBV', 'VKG_aZ', 'VKG_aY', 'VKG_aJ', 'VKG_aH', 'VKG_aKs', 'VKG_zppErrBits', 'VKG_yppErrBits', 'VKG_ksErrBits', 'VKG_jErrBits', 'VKG_hErrBits', 'VKG_mergedClassStat', 'VKG_pGalaxy', 'VKG_pStar', 'VKG_pNoise', 'VKG_pSaturated', 'CAT_source_name', 'CAT_source_id', 'CAT_unwise_objid', 'CAT_ra', 'CAT_sigra', 'CAT_dec', 'CAT_sigdec', 'CAT_sigradec', 'CAT_w1mpro', 'CAT_w1sigmpro', 'CAT_w2mpro', 'CAT_w2sigmpro', 'CAT_cc_flags', 'CAT_ab_flags', 'CAT_pos_err', 'Separation_DESY6_EMU', 'Separation_VKG_EMU', 'Separation_VKG_DESY6', 'Separation_CAT_EMU', 'Separation_CAT_DESY6', 'Separation_CAT_VKG', 'Separation_max', 'ncat', 'dist_bayesfactor', 'dist_bayesfactor_corrected', 'dist_post', 'p_single', 'p_any', 'p_i', 'match_flag']\n"
     ]
    }
   ],
   "source": [
    "matched_no_mags_path = directory + 'cross_match/EMU_0102-32_DESY6GOLD_VIKING_CATWISE_noMags/EMU_0102-32_DESY6GOLD_VIKINGDR5_CATWISE_noMag.fits'\n",
    "matched_no_mags = Table.read(matched_no_mags_path)\n",
    "matched_no_mags = matched_no_mags.to_pandas()\n",
    "match_mask = (matched_no_mags['match_flag'] == 1) & (matched_no_mags['p_i'] >= 0.1) & (matched_no_mags['p_any'] >=0.83)\n",
    "catalog_matches_noMags = matched_no_mags[match_mask]\n",
    "full_match_mask = (catalog_matches_noMags['DESY6_coadd_object_id'] != -99) & (catalog_matches_noMags['VKG_sourceID'] != -99) & (catalog_matches_noMags['CAT_source_id'] != b'-99')\n",
    "catalog_matches_noMags_full = catalog_matches_noMags[full_match_mask]\n",
    "\n",
    "print(catalog_matches_noMags_full.columns.tolist())"
   ]
  },
  {
   "cell_type": "markdown",
   "id": "9c0b4b57",
   "metadata": {},
   "source": [
    "# Define column names"
   ]
  },
  {
   "cell_type": "code",
   "execution_count": 5,
   "id": "2cdd8340",
   "metadata": {},
   "outputs": [],
   "source": [
    "id = ['EMU_island_name']\n",
    "\n",
    "redshift = ['DESY6_dnf_z']\n",
    "\n",
    "des_filters_cigale = ['ctio_decam.g', 'ctio_decam.r', 'ctio_decam.i', 'ctio_decam.z', 'ctio_decam.Y']\n",
    "des_errors_cigale = ['ctio_decam.g_err', 'ctio_decam.r_err', 'ctio_decam.i_err', 'ctio_decam.z_err', 'ctio_decam.Y_err']\n",
    "\n",
    "viking_filters_cigale = ['paranal.vircam.Z', 'paranal.vircam.Y', 'paranal.vircam.J', 'paranal.vircam.H', 'paranal.vircam.Ks']\n",
    "viking_errors_cigale = ['paranal.vircam.Z_err', 'paranal.vircam.Y_err', 'paranal.vircam.J_err', 'paranal.vircam.H_err', 'paranal.vircam.Ks_err']\n",
    "\n",
    "catwise_filters_cigale = ['wise.W1', 'wise.W2']\n",
    "catwise_errors_cigale = ['wise.W1_err', 'wise.W2_err']\n"
   ]
  },
  {
   "cell_type": "code",
   "execution_count": 6,
   "id": "0f6c2f5a",
   "metadata": {},
   "outputs": [],
   "source": [
    "extra_cols_dict = {\n",
    "    'EMU_island_name' : 'id',\n",
    "    'DESY6_dnf_z' : 'redshift',\n",
    "}\n",
    "\n",
    "des_cols_dict = {\n",
    "    'DESY6_mag_auto_g_flux': 'ctio.decam.g',\n",
    "    'DESY6_mag_auto_r_flux': 'ctio.decam.r',\n",
    "    'DESY6_mag_auto_i_flux': 'ctio.decam.i',\n",
    "    'DESY6_mag_auto_z_flux': 'ctio.decam.z',\n",
    "    'DESY6_mag_auto_y_flux': 'ctio.decam.Y',\n",
    "    'DESY6_magerr_auto_g_fluxerr' : 'ctio.decam.g_err',\n",
    "    'DESY6_magerr_auto_r_fluxerr' : 'ctio.decam.r_err',\n",
    "    'DESY6_magerr_auto_i_fluxerr' : 'ctio.decam.i_err',\n",
    "    'DESY6_magerr_auto_z_fluxerr' : 'ctio.decam.z_err',\n",
    "    'DESY6_magerr_auto_y_fluxerr' : 'ctio.decam.Y_err',\n",
    "}\n",
    "\n",
    "viking_cols_dict = {\n",
    "    'VKG_zAperMag3_flux': 'paranal.vircam.Z',\n",
    "    'VKG_yAperMag3_flux': 'paranal.vircam.Y',\n",
    "    'VKG_jAperMag3_flux': 'paranal.vircam.J',\n",
    "    'VKG_hAperMag3_flux': 'paranal.vircam.H',\n",
    "    'VKG_ksAperMag3_flux': 'paranal.vircam.Ks',\n",
    "    'VKG_zAperMag3Err_fluxerr': 'paranal.vircam.Z_err',\n",
    "    'VKG_yAperMag3Err_fluxerr': 'paranal.vircam.Y_err',\n",
    "    'VKG_jAperMag3Err_fluxerr': 'paranal.vircam.J_err',\n",
    "    'VKG_hAperMag3Err_fluxerr': 'paranal.vircam.H_err',\n",
    "    'VKG_ksAperMag3Err_fluxerr': 'paranal.vircam.Ks_err',\n",
    "\n",
    "}\n",
    "\n",
    "catwise_cols_dict = {\n",
    "    'CAT_w1mpro_flux': 'wise.W1',\n",
    "    'CAT_w2mpro_flux': 'wise.W2',\n",
    "    'CAT_w1sigmpro_fluxerr': 'wise.W1_err',\n",
    "    'CAT_w2sigmpro_fluxerr': 'wise.W2_err',\n",
    "}\n",
    "\n",
    "all_dicts = [extra_cols_dict, des_cols_dict, viking_cols_dict, catwise_cols_dict]\n",
    "mag_cols = [\n",
    "    'DESY6_mag_auto_g',\n",
    "    'DESY6_mag_auto_r',\n",
    "    'DESY6_mag_auto_i',\n",
    "    'DESY6_mag_auto_z',\n",
    "    'DESY6_mag_auto_y',\n",
    "    'VKG_zAperMag3',\n",
    "    'VKG_yAperMag3',\n",
    "    'VKG_jAperMag3',\n",
    "    'VKG_hAperMag3',\n",
    "    'VKG_ksAperMag3',\n",
    "    'CAT_w1mpro',\n",
    "    'CAT_w2mpro'\n",
    "]\n",
    "\n",
    "mag_err_cols = [\n",
    "    'DESY6_magerr_auto_g',\n",
    "    'DESY6_magerr_auto_r',\n",
    "    'DESY6_magerr_auto_i',\n",
    "    'DESY6_magerr_auto_z',\n",
    "    'DESY6_magerr_auto_y',\n",
    "    'VKG_zAperMag3Err',\n",
    "    'VKG_yAperMag3Err',\n",
    "    'VKG_jAperMag3Err',\n",
    "    'VKG_hAperMag3Err',\n",
    "    'VKG_ksAperMag3Err',\n",
    "    'CAT_w1sigmpro',\n",
    "    'CAT_w2sigmpro'\n",
    "]"
   ]
  },
  {
   "cell_type": "markdown",
   "id": "72664aa5",
   "metadata": {},
   "source": [
    "# Add custom DES filters"
   ]
  },
  {
   "cell_type": "markdown",
   "id": "00dc7dd0",
   "metadata": {},
   "source": [
    "### Normalize the transmission"
   ]
  },
  {
   "cell_type": "code",
   "execution_count": null,
   "id": "7fc8a8d5",
   "metadata": {},
   "outputs": [],
   "source": [
    "g_filter_path = '/data/mfonseca/survey_data/DES_data/CTIO_DECam.g.dat'\n",
    "i_filter_path = '/data/mfonseca/survey_data/DES_data/CTIO_DECam.i.dat'\n",
    "r_filter_path = '/data/mfonseca/survey_data/DES_data/CTIO_DECam.r.dat'\n",
    "z_filter_path = '/data/mfonseca/survey_data/DES_data/CTIO_DECam.z.dat'\n",
    "y_filter_path = '/data/mfonseca/survey_data/DES_data/CTIO_DECam.Y.dat'"
   ]
  },
  {
   "cell_type": "code",
   "execution_count": null,
   "id": "18b19cde",
   "metadata": {},
   "outputs": [],
   "source": [
    "def normalize_filter_data(input_filename, output_filename):\n",
    "    \"\"\"\n",
    "    Normalizes the second column (transmission values) of a .dat file.\n",
    "\n",
    "    Parameters:\n",
    "    - input_filename (str): Path to the input .dat file.\n",
    "    - output_filename (str): Path where the normalized data will be saved.\n",
    "\n",
    "    The input file should contain two columns: wavelength (first column) and transmission (second column).\n",
    "    \"\"\"\n",
    "    # Initialize lists to store data\n",
    "    lambda_values = []\n",
    "    transmission_values = []\n",
    "\n",
    "    # Read the data from the .dat file\n",
    "    with open(input_filename, 'r') as f:\n",
    "        for line in f:\n",
    "            # Skip comments or empty lines\n",
    "            if line.startswith('#') or line.strip() == '':\n",
    "                continue\n",
    "            \n",
    "            # Split the line into wavelength and transmission\n",
    "            columns = line.split()\n",
    "            lambda_values.append(float(columns[0]))  # Wavelength (first column)\n",
    "            transmission_values.append(float(columns[1]))  # Transmission (second column)\n",
    "\n",
    "    # Convert the lists to numpy arrays for easier processing\n",
    "    lambda_values = np.array(lambda_values)\n",
    "    transmission_values = np.array(transmission_values)\n",
    "\n",
    "    # Normalize the transmission values (second column)\n",
    "    max_transmission = np.max(transmission_values)\n",
    "    normalized_transmission = transmission_values / max_transmission\n",
    "\n",
    "    # Save the normalized data to the output .dat file\n",
    "    with open(output_filename, 'w') as f:\n",
    "        # Optionally add a header\n",
    "        f.write(\"# Wavelength (Å) and Normalized Transmission Values\\n\")\n",
    "        \n",
    "        # Write the wavelength and the normalized transmission\n",
    "        for lambda_val, norm_trans in zip(lambda_values, normalized_transmission):\n",
    "            f.write(f\"{lambda_val} {norm_trans}\\n\")\n",
    "\n",
    "    print(f\"Normalization complete. Output saved to {output_filename}.\")"
   ]
  },
  {
   "cell_type": "code",
   "execution_count": null,
   "id": "ae243202",
   "metadata": {},
   "outputs": [],
   "source": [
    "normalize_filter_data(g_filter_path, g_filter_path)\n",
    "normalize_filter_data(i_filter_path, i_filter_path)\n",
    "normalize_filter_data(r_filter_path, r_filter_path)\n",
    "normalize_filter_data(y_filter_path, y_filter_path)\n",
    "normalize_filter_data(z_filter_path, z_filter_path)\n"
   ]
  },
  {
   "cell_type": "markdown",
   "id": "c27fa102",
   "metadata": {},
   "source": [
    "# Convert magnitudes to fluxes"
   ]
  },
  {
   "cell_type": "code",
   "execution_count": 30,
   "id": "354060ec",
   "metadata": {},
   "outputs": [],
   "source": [
    "def mag_to_flux_mJy(mag):\n",
    "    '''\n",
    "    Convert magnitude to flux using the formula:\n",
    "    flux_mJy = 3631 * 10 ** (-0.4 * mag)\n",
    "\n",
    "    Args:\n",
    "        mag (float or array-like): Magnitude value(s) to convert.\n",
    "\n",
    "    Returns:\n",
    "        float or array-like: Corresponding flux value(s) in mJy.\n",
    "\n",
    "    '''\n",
    "    return 3631 * 10 ** (-0.4 * mag)\n",
    "\n",
    "def magerr_to_fluxerr_mJy(mag, magerr):\n",
    "    '''\n",
    "    Convert magnitude error to flux error using the formula:\n",
    "    fluxerr_mJy = 3631 * ln(10) * 10 ** (-0.4 * mag) * (-0.4) * magerr\n",
    "\n",
    "    Args:\n",
    "        mag (float or array-like): Magnitude value(s) to convert.\n",
    "        magerr (float or array-like): Magnitude error value(s) to convert.\n",
    "\n",
    "    Returns:\n",
    "        float or array-like: Corresponding flux error value(s) in mJy.\n",
    "    \n",
    "    '''\n",
    "\n",
    "    return 3631 * np.log(10) * 10 ** (-0.4 * mag) * (0.4) * magerr"
   ]
  },
  {
   "cell_type": "code",
   "execution_count": 31,
   "id": "ce44ed0f",
   "metadata": {},
   "outputs": [],
   "source": [
    "def add_flux_to_df(df, mag_cols, mag_err_cols):\n",
    "    '''\n",
    "    Add flux and flux error columns to the DataFrame.\n",
    "\n",
    "    Args:\n",
    "        df (DataFrame): Input DataFrame.\n",
    "        mag_cols (list): List of magnitude column names.\n",
    "        mag_err_cols (list): List of magnitude error column names.\n",
    "\n",
    "    Returns:\n",
    "        DataFrame: Updated DataFrame with flux and flux error columns added.\n",
    "    \n",
    "    '''\n",
    "\n",
    "    df = df.copy()\n",
    "\n",
    "    for mag_col, mag_err_col in zip(mag_cols, mag_err_cols):\n",
    "        # Create new column names for flux and flux error\n",
    "        flux_col = f\"{mag_col}_flux\"\n",
    "        flux_err_col = f\"{mag_err_col}_fluxerr\"\n",
    "\n",
    "        # Convert magnitudes to fluxes\n",
    "        df[flux_col] = mag_to_flux_mJy(df[mag_col])\n",
    "\n",
    "        # Convert magnitude errors to flux errors\n",
    "        df[flux_err_col] = magerr_to_fluxerr_mJy(df[mag_col], df[mag_err_col])\n",
    "\n",
    "    return df"
   ]
  },
  {
   "cell_type": "markdown",
   "id": "49c51e85",
   "metadata": {},
   "source": [
    "# Create a catalog for CIGALE"
   ]
  },
  {
   "cell_type": "markdown",
   "id": "64c00a86",
   "metadata": {},
   "source": [
    "Creates an ASCII file for cigale "
   ]
  },
  {
   "cell_type": "code",
   "execution_count": 32,
   "id": "54f0afbd",
   "metadata": {},
   "outputs": [],
   "source": [
    "def generate_ascii_with_flux(catalog_df, mag_columns, mag_error_columns, dict_all_cols, n_rows ,output_path):\n",
    "    \"\"\"\n",
    "    Converts magnitude columns and magnitude error columns to flux and flux error in mJy.\n",
    "\n",
    "    Args:\n",
    "        df (pd.DataFrame): DataFrame with magnitude columns and their corresponding error columns.\n",
    "        mag_columns (list): List of magnitude column names to convert.\n",
    "        mag_error_columns (list): List of magnitude error column names to convert.\n",
    "        dict_flux_to_filters (dict): Dictionary mapping flux columns to their corresponding filters.\n",
    "\n",
    "    Returns:\n",
    "        pd.DataFrame: DataFrame with new flux and flux error columns added.\n",
    "    \"\"\"\n",
    "\n",
    "    catalog_flux = add_flux_to_df(catalog_df, mag_columns, mag_error_columns)\n",
    "\n",
    "    print(catalog_flux.columns.tolist())\n",
    "\n",
    "    # Create a new DataFrame to store the data for CIGALE\n",
    "    cigale_df = pd.DataFrame()\n",
    "\n",
    "    # Add the ID, redshift columns, flux and flux_err columns\n",
    "    for catalog in dict_all_cols:\n",
    "        for col, new_col in catalog.items():\n",
    "            cigale_df[new_col] = catalog_flux[col]\n",
    "\n",
    "    cigale_to_save = cigale_df.head(n_rows)\n",
    "\n",
    "    cigale_to_save.to_csv(output_path, sep=' ', index=False)\n",
    "\n",
    "    print(f'Saved Cigale file to path {output_path}')\n",
    "    "
   ]
  },
  {
   "cell_type": "code",
   "execution_count": 37,
   "id": "decfc839",
   "metadata": {},
   "outputs": [
    {
     "name": "stdout",
     "output_type": "stream",
     "text": [
      "['EMU_island_id', 'EMU_island_name', 'EMU_n_components', 'EMU_ra_deg_cont', 'EMU_dec_deg_cont', 'EMU_freq', 'EMU_maj_axis', 'EMU_min_axis', 'EMU_pos_ang', 'EMU_flux_int', 'EMU_flux_int_err', 'EMU_flux_peak', 'EMU_mean_background', 'EMU_background_noise', 'EMU_max_residual', 'EMU_min_residual', 'EMU_mean_residual', 'EMU_rms_residual', 'EMU_stdev_residual', 'EMU_x_min', 'EMU_x_max', 'EMU_y_min', 'EMU_y_max', 'EMU_n_pix', 'EMU_solid_angle', 'EMU_beam_area', 'EMU_x_ave', 'EMU_y_ave', 'EMU_x_cen', 'EMU_y_cen', 'EMU_x_peak', 'EMU_y_peak', 'EMU_flag_i1', 'EMU_flag_i2', 'EMU_flag_i3', 'EMU_flag_i4', 'EMU_comment', 'DESY6_coadd_object_id', 'DESY6_ra', 'DESY6_dec', 'DESY6_mag_auto_g', 'DESY6_magerr_auto_g', 'DESY6_mag_auto_r', 'DESY6_magerr_auto_r', 'DESY6_mag_auto_i', 'DESY6_magerr_auto_i', 'DESY6_mag_auto_z', 'DESY6_magerr_auto_z', 'DESY6_mag_auto_y', 'DESY6_magerr_auto_y', 'DESY6_a_fiducial_g', 'DESY6_a_fiducial_i', 'DESY6_a_fiducial_r', 'DESY6_a_fiducial_y', 'DESY6_a_fiducial_z', 'DESY6_spread_model_g', 'DESY6_spread_model_r', 'DESY6_spread_model_i', 'DESY6_spread_model_z', 'DESY6_spread_model_y', 'DESY6_spreaderr_model_g', 'DESY6_spreaderr_model_r', 'DESY6_spreaderr_model_i', 'DESY6_spreaderr_model_z', 'DESY6_spreaderr_model_y', 'DESY6_dnf_z', 'DESY6_dnf_zerr_fit', 'DESY6_tilename', 'VKG_sourceID', 'VKG_ra', 'VKG_dec', 'VKG_zAperMag3', 'VKG_zAperMagNoAperCorr3', 'VKG_zAperMag3Err', 'VKG_yAperMag3', 'VKG_yAperMagNoAperCorr3', 'VKG_yAperMag3Err', 'VKG_jAperMag3', 'VKG_jAperMagNoAperCorr3', 'VKG_jAperMag3Err', 'VKG_hAperMag3', 'VKG_hAperMagNoAperCorr3', 'VKG_hAperMag3Err', 'VKG_ksAperMag3', 'VKG_ksAperMagNoAperCorr3', 'VKG_ksAperMag3Err', 'VKG_eBV', 'VKG_aZ', 'VKG_aY', 'VKG_aJ', 'VKG_aH', 'VKG_aKs', 'VKG_zppErrBits', 'VKG_yppErrBits', 'VKG_ksErrBits', 'VKG_jErrBits', 'VKG_hErrBits', 'VKG_mergedClassStat', 'VKG_pGalaxy', 'VKG_pStar', 'VKG_pNoise', 'VKG_pSaturated', 'CAT_source_name', 'CAT_source_id', 'CAT_unwise_objid', 'CAT_ra', 'CAT_sigra', 'CAT_dec', 'CAT_sigdec', 'CAT_sigradec', 'CAT_w1mpro', 'CAT_w1sigmpro', 'CAT_w2mpro', 'CAT_w2sigmpro', 'CAT_cc_flags', 'CAT_ab_flags', 'CAT_pos_err', 'Separation_DESY6_EMU', 'Separation_VKG_EMU', 'Separation_VKG_DESY6', 'Separation_CAT_EMU', 'Separation_CAT_DESY6', 'Separation_CAT_VKG', 'Separation_max', 'ncat', 'dist_bayesfactor', 'dist_bayesfactor_corrected', 'dist_post', 'p_single', 'p_any', 'p_i', 'match_flag', 'DESY6_mag_auto_g_flux', 'DESY6_magerr_auto_g_fluxerr', 'DESY6_mag_auto_r_flux', 'DESY6_magerr_auto_r_fluxerr', 'DESY6_mag_auto_i_flux', 'DESY6_magerr_auto_i_fluxerr', 'DESY6_mag_auto_z_flux', 'DESY6_magerr_auto_z_fluxerr', 'DESY6_mag_auto_y_flux', 'DESY6_magerr_auto_y_fluxerr', 'VKG_zAperMag3_flux', 'VKG_zAperMag3Err_fluxerr', 'VKG_yAperMag3_flux', 'VKG_yAperMag3Err_fluxerr', 'VKG_jAperMag3_flux', 'VKG_jAperMag3Err_fluxerr', 'VKG_hAperMag3_flux', 'VKG_hAperMag3Err_fluxerr', 'VKG_ksAperMag3_flux', 'VKG_ksAperMag3Err_fluxerr', 'CAT_w1mpro_flux', 'CAT_w1sigmpro_fluxerr', 'CAT_w2mpro_flux', 'CAT_w2sigmpro_fluxerr']\n",
      "Saved Cigale file to path /home/polaris/Lab_Astro/data/cigale/test4/test4\n"
     ]
    }
   ],
   "source": [
    "generate_ascii_with_flux(catalog_matches_noMags_full, mag_cols, mag_err_cols, all_dicts, 5, directory + 'cigale/test4/test4' )"
   ]
  }
 ],
 "metadata": {
  "kernelspec": {
   "display_name": "labastro",
   "language": "python",
   "name": "python3"
  },
  "language_info": {
   "codemirror_mode": {
    "name": "ipython",
    "version": 3
   },
   "file_extension": ".py",
   "mimetype": "text/x-python",
   "name": "python",
   "nbconvert_exporter": "python",
   "pygments_lexer": "ipython3",
   "version": "3.10.16"
  }
 },
 "nbformat": 4,
 "nbformat_minor": 5
}
