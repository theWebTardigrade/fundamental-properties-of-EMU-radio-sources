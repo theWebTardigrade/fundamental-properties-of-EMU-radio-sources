{
 "cells": [
  {
   "cell_type": "markdown",
   "id": "3b584709",
   "metadata": {},
   "source": [
    "# Import Libraries"
   ]
  },
  {
   "cell_type": "code",
   "execution_count": 1,
   "id": "a6ea429d",
   "metadata": {},
   "outputs": [],
   "source": [
    "import numpy as np"
   ]
  },
  {
   "cell_type": "code",
   "execution_count": null,
   "id": "4dca8e6a",
   "metadata": {},
   "outputs": [],
   "source": [
    "data = "
   ]
  },
  {
   "cell_type": "markdown",
   "id": "9c0b4b57",
   "metadata": {},
   "source": [
    "# Define column names"
   ]
  },
  {
   "cell_type": "code",
   "execution_count": null,
   "id": "2cdd8340",
   "metadata": {},
   "outputs": [],
   "source": [
    "id = ['id']\n",
    "\n",
    "redshift = ['redshift']\n",
    "\n",
    "des_filters_cigale = ['ctio_decam.g', 'ctio_decam.r', 'ctio_decam.i', 'ctio_decam.z', 'ctio_decam.Y']\n",
    "des_errors_cigale = ['ctio_decam.g_err', 'ctio_decam.r_err', 'ctio_decam.i_err', 'ctio_decam.z_err', 'ctio_decam.Y_err']\n",
    "\n",
    "viking_filters_cigale = ['paranal.vircam.Z', 'paranal.vircam.Y', 'paranal.vircam.J', 'paranal.vircam.H', 'paranal.vircam.Ks']\n",
    "viking_errors_cigale = ['paranal.vircam.Z_err', 'paranal.vircam.Y_err', 'paranal.vircam.J_err', 'paranal.vircam.H_err', 'paranal.vircam.Ks_err']\n",
    "\n",
    "catwise_filters_cigale = ['wise.W1', 'wise.W2']\n",
    "catwise_errors_cigale = ['wise.W1_err', 'wise.W2_err']"
   ]
  },
  {
   "cell_type": "code",
   "execution_count": null,
   "id": "0f6c2f5a",
   "metadata": {},
   "outputs": [],
   "source": [
    "des_cols_dict = {\n",
    "    'DES_mag_auto_g_dered': 'ctio_decam.g',\n",
    "    'DES_mag_auto_r_dered': 'ctio_decam.r',\n",
    "    'DES_mag_auto_i_dered': 'ctio_decam.i',\n",
    "    'DES_mag_auto_z_dered': 'ctio_decam.z',\n",
    "    'DES_mag_auto_y_dered': 'ctio_decam.Y',\n",
    "    'DES_magerr_auto_g' : 'ctio_decam.g_err',\n",
    "    'DES_magerr_auto_r' : 'ctio_decam.r_err',\n",
    "    'DES_magerr_auto_i' : 'ctio_decam.i_err',\n",
    "    'DES_magerr_auto_z' : 'ctio_decam.z_err',\n",
    "    'DES_magerr_auto_y' : 'ctio_decam.Y_err',\n",
    "}\n",
    "\n",
    "viking_cols_dict = {\n",
    "    'VKG_zAperMag3_dered': 'paranal.vircam.Z',\n",
    "    'VKG_yAperMag3_dered': 'paranal.vircam.Y',\n",
    "    'VKG_jAperMag3_dered': 'paranal.vircam.J',\n",
    "    'VKG_hAperMag3_dered': 'paranal.vircam.H',\n",
    "    'VKG_ksAperMag3_dered': 'paranal.vircam.Ks',\n",
    "    'VKG_zAperMag3Err_dered': 'paranal.vircam.Z_err',\n",
    "    'VKG_yAperMag3Err_dered': 'paranal.vircam.Y_err',\n",
    "    'VKG_jAperMag3Err_dered': 'paranal.vircam.J_err',\n",
    "    'VKG_hAperMag3Err_dered': 'paranal.vircam.H_err',\n",
    "    'VKG_ksAperMag3Err_dered': 'paranal.vircam.Ks_err',\n",
    "\n",
    "}\n",
    "\n",
    "catwise_cols_dict = {\n",
    "    'CAT_w1mpro': 'wise.W1',\n",
    "    'CAT_w2mpro': 'wise.W2',\n",
    "}"
   ]
  },
  {
   "cell_type": "markdown",
   "id": "72664aa5",
   "metadata": {},
   "source": [
    "# Add custom DES filters"
   ]
  },
  {
   "cell_type": "markdown",
   "id": "00dc7dd0",
   "metadata": {},
   "source": [
    "### Normalize the transmission"
   ]
  },
  {
   "cell_type": "code",
   "execution_count": 2,
   "id": "7fc8a8d5",
   "metadata": {},
   "outputs": [],
   "source": [
    "g_filter_path = '/data/mfonseca/survey_data/DES_data/CTIO_DECam.g.dat'\n",
    "i_filter_path = '/data/mfonseca/survey_data/DES_data/CTIO_DECam.i.dat'\n",
    "r_filter_path = '/data/mfonseca/survey_data/DES_data/CTIO_DECam.r.dat'\n",
    "z_filter_path = '/data/mfonseca/survey_data/DES_data/CTIO_DECam.z.dat'\n",
    "y_filter_path = '/data/mfonseca/survey_data/DES_data/CTIO_DECam.Y.dat'"
   ]
  },
  {
   "cell_type": "code",
   "execution_count": 3,
   "id": "18b19cde",
   "metadata": {},
   "outputs": [],
   "source": [
    "def normalize_filter_data(input_filename, output_filename):\n",
    "    \"\"\"\n",
    "    Normalizes the second column (transmission values) of a .dat file.\n",
    "\n",
    "    Parameters:\n",
    "    - input_filename (str): Path to the input .dat file.\n",
    "    - output_filename (str): Path where the normalized data will be saved.\n",
    "\n",
    "    The input file should contain two columns: wavelength (first column) and transmission (second column).\n",
    "    \"\"\"\n",
    "    # Initialize lists to store data\n",
    "    lambda_values = []\n",
    "    transmission_values = []\n",
    "\n",
    "    # Read the data from the .dat file\n",
    "    with open(input_filename, 'r') as f:\n",
    "        for line in f:\n",
    "            # Skip comments or empty lines\n",
    "            if line.startswith('#') or line.strip() == '':\n",
    "                continue\n",
    "            \n",
    "            # Split the line into wavelength and transmission\n",
    "            columns = line.split()\n",
    "            lambda_values.append(float(columns[0]))  # Wavelength (first column)\n",
    "            transmission_values.append(float(columns[1]))  # Transmission (second column)\n",
    "\n",
    "    # Convert the lists to numpy arrays for easier processing\n",
    "    lambda_values = np.array(lambda_values)\n",
    "    transmission_values = np.array(transmission_values)\n",
    "\n",
    "    # Normalize the transmission values (second column)\n",
    "    max_transmission = np.max(transmission_values)\n",
    "    normalized_transmission = transmission_values / max_transmission\n",
    "\n",
    "    # Save the normalized data to the output .dat file\n",
    "    with open(output_filename, 'w') as f:\n",
    "        # Optionally add a header\n",
    "        f.write(\"# Wavelength (Å) and Normalized Transmission Values\\n\")\n",
    "        \n",
    "        # Write the wavelength and the normalized transmission\n",
    "        for lambda_val, norm_trans in zip(lambda_values, normalized_transmission):\n",
    "            f.write(f\"{lambda_val} {norm_trans}\\n\")\n",
    "\n",
    "    print(f\"Normalization complete. Output saved to {output_filename}.\")"
   ]
  },
  {
   "cell_type": "code",
   "execution_count": 4,
   "id": "ae243202",
   "metadata": {},
   "outputs": [
    {
     "name": "stdout",
     "output_type": "stream",
     "text": [
      "Normalization complete. Output saved to /data/mfonseca/survey_data/DES_data/CTIO_DECam.g.dat.\n",
      "Normalization complete. Output saved to /data/mfonseca/survey_data/DES_data/CTIO_DECam.i.dat.\n",
      "Normalization complete. Output saved to /data/mfonseca/survey_data/DES_data/CTIO_DECam.r.dat.\n",
      "Normalization complete. Output saved to /data/mfonseca/survey_data/DES_data/CTIO_DECam.Y.dat.\n",
      "Normalization complete. Output saved to /data/mfonseca/survey_data/DES_data/CTIO_DECam.z.dat.\n"
     ]
    }
   ],
   "source": [
    "normalize_filter_data(g_filter_path, g_filter_path)\n",
    "normalize_filter_data(i_filter_path, i_filter_path)\n",
    "normalize_filter_data(r_filter_path, r_filter_path)\n",
    "normalize_filter_data(y_filter_path, y_filter_path)\n",
    "normalize_filter_data(z_filter_path, z_filter_path)\n"
   ]
  },
  {
   "cell_type": "markdown",
   "id": "c27fa102",
   "metadata": {},
   "source": [
    "# Convert magnitudes to fluxes"
   ]
  },
  {
   "cell_type": "code",
   "execution_count": null,
   "id": "354060ec",
   "metadata": {},
   "outputs": [],
   "source": [
    "def mag_to_flux_mJy(mag, zero_point):\n",
    "    \"\"\"\n",
    "    Convert magnitude to flux using the formula:\n",
    "    flux_mJy = 3631 * 10 ** (-0.4 * mag)\n",
    "\n",
    "    Args:\n",
    "        mag (float or array-like): Magnitude value(s) to convert.\n",
    "\n",
    "    Returns:\n",
    "        float or array-like: Corresponding flux value(s) in mJy.\n",
    "\n",
    "    \"\"\"\n",
    "    return 3631 * 10 ** (-0.4 * mag)"
   ]
  },
  {
   "cell_type": "markdown",
   "id": "49c51e85",
   "metadata": {},
   "source": [
    "# Create a catalog for CIGALE"
   ]
  },
  {
   "cell_type": "markdown",
   "id": "64c00a86",
   "metadata": {},
   "source": [
    "Creates an ASCII file for cigale "
   ]
  },
  {
   "cell_type": "code",
   "execution_count": null,
   "id": "54f0afbd",
   "metadata": {},
   "outputs": [],
   "source": []
  }
 ],
 "metadata": {
  "kernelspec": {
   "display_name": "cigale",
   "language": "python",
   "name": "python3"
  },
  "language_info": {
   "codemirror_mode": {
    "name": "ipython",
    "version": 3
   },
   "file_extension": ".py",
   "mimetype": "text/x-python",
   "name": "python",
   "nbconvert_exporter": "python",
   "pygments_lexer": "ipython3",
   "version": "3.12.2"
  }
 },
 "nbformat": 4,
 "nbformat_minor": 5
}
