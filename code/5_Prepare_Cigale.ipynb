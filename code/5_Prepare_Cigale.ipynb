{
 "cells": [
  {
   "cell_type": "code",
   "execution_count": null,
   "id": "2cdd8340",
   "metadata": {},
   "outputs": [],
   "source": [
    "filter_names_viking = ['paranal.vircam.Z', 'paranal.vircam.Y', 'paranal.vircam.J', 'paranal.vircam.H', 'paranal.vircam.Ks']\n",
    "filter_names_des = \n",
    "filter_names_catwise = ['wise.W1', 'wise.W2']"
   ]
  },
  {
   "cell_type": "code",
   "execution_count": 1,
   "id": "2b949a28",
   "metadata": {},
   "outputs": [],
   "source": [
    "import numpy as np"
   ]
  },
  {
   "cell_type": "markdown",
   "id": "72664aa5",
   "metadata": {},
   "source": [
    "## Add custom DES filters"
   ]
  },
  {
   "cell_type": "markdown",
   "id": "00dc7dd0",
   "metadata": {},
   "source": [
    "### Normalize the transmission"
   ]
  },
  {
   "cell_type": "code",
   "execution_count": 2,
   "id": "7fc8a8d5",
   "metadata": {},
   "outputs": [],
   "source": [
    "g_filter_path = '/data/mfonseca/survey_data/DES_data/CTIO_DECam.g.dat'\n",
    "i_filter_path = '/data/mfonseca/survey_data/DES_data/CTIO_DECam.i.dat'\n",
    "r_filter_path = '/data/mfonseca/survey_data/DES_data/CTIO_DECam.r.dat'\n",
    "z_filter_path = '/data/mfonseca/survey_data/DES_data/CTIO_DECam.z.dat'\n",
    "y_filter_path = '/data/mfonseca/survey_data/DES_data/CTIO_DECam.Y.dat'"
   ]
  },
  {
   "cell_type": "code",
   "execution_count": 3,
   "id": "18b19cde",
   "metadata": {},
   "outputs": [],
   "source": [
    "def normalize_filter_data(input_filename, output_filename):\n",
    "    \"\"\"\n",
    "    Normalizes the second column (transmission values) of a .dat file.\n",
    "\n",
    "    Parameters:\n",
    "    - input_filename (str): Path to the input .dat file.\n",
    "    - output_filename (str): Path where the normalized data will be saved.\n",
    "\n",
    "    The input file should contain two columns: wavelength (first column) and transmission (second column).\n",
    "    \"\"\"\n",
    "    # Initialize lists to store data\n",
    "    lambda_values = []\n",
    "    transmission_values = []\n",
    "\n",
    "    # Read the data from the .dat file\n",
    "    with open(input_filename, 'r') as f:\n",
    "        for line in f:\n",
    "            # Skip comments or empty lines\n",
    "            if line.startswith('#') or line.strip() == '':\n",
    "                continue\n",
    "            \n",
    "            # Split the line into wavelength and transmission\n",
    "            columns = line.split()\n",
    "            lambda_values.append(float(columns[0]))  # Wavelength (first column)\n",
    "            transmission_values.append(float(columns[1]))  # Transmission (second column)\n",
    "\n",
    "    # Convert the lists to numpy arrays for easier processing\n",
    "    lambda_values = np.array(lambda_values)\n",
    "    transmission_values = np.array(transmission_values)\n",
    "\n",
    "    # Normalize the transmission values (second column)\n",
    "    max_transmission = np.max(transmission_values)\n",
    "    normalized_transmission = transmission_values / max_transmission\n",
    "\n",
    "    # Save the normalized data to the output .dat file\n",
    "    with open(output_filename, 'w') as f:\n",
    "        # Optionally add a header\n",
    "        f.write(\"# Wavelength (Å) and Normalized Transmission Values\\n\")\n",
    "        \n",
    "        # Write the wavelength and the normalized transmission\n",
    "        for lambda_val, norm_trans in zip(lambda_values, normalized_transmission):\n",
    "            f.write(f\"{lambda_val} {norm_trans}\\n\")\n",
    "\n",
    "    print(f\"Normalization complete. Output saved to {output_filename}.\")"
   ]
  },
  {
   "cell_type": "code",
   "execution_count": 4,
   "id": "ae243202",
   "metadata": {},
   "outputs": [
    {
     "name": "stdout",
     "output_type": "stream",
     "text": [
      "Normalization complete. Output saved to /data/mfonseca/survey_data/DES_data/CTIO_DECam.g.dat.\n",
      "Normalization complete. Output saved to /data/mfonseca/survey_data/DES_data/CTIO_DECam.i.dat.\n",
      "Normalization complete. Output saved to /data/mfonseca/survey_data/DES_data/CTIO_DECam.r.dat.\n",
      "Normalization complete. Output saved to /data/mfonseca/survey_data/DES_data/CTIO_DECam.Y.dat.\n",
      "Normalization complete. Output saved to /data/mfonseca/survey_data/DES_data/CTIO_DECam.z.dat.\n"
     ]
    }
   ],
   "source": [
    "normalize_filter_data(g_filter_path, g_filter_path)\n",
    "normalize_filter_data(i_filter_path, i_filter_path)\n",
    "normalize_filter_data(r_filter_path, r_filter_path)\n",
    "normalize_filter_data(y_filter_path, y_filter_path)\n",
    "normalize_filter_data(z_filter_path, z_filter_path)\n"
   ]
  }
 ],
 "metadata": {
  "kernelspec": {
   "display_name": "rapids-25.02",
   "language": "python",
   "name": "python3"
  },
  "language_info": {
   "codemirror_mode": {
    "name": "ipython",
    "version": 3
   },
   "file_extension": ".py",
   "mimetype": "text/x-python",
   "name": "python",
   "nbconvert_exporter": "python",
   "pygments_lexer": "ipython3",
   "version": "3.12.9"
  }
 },
 "nbformat": 4,
 "nbformat_minor": 5
}
