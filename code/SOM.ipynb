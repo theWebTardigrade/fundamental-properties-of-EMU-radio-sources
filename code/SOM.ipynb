{
 "cells": [
  {
   "cell_type": "markdown",
   "metadata": {},
   "source": [
    "# Self Organized Maps (SOMs)"
   ]
  },
  {
   "cell_type": "markdown",
   "metadata": {},
   "source": [
    "## Import Libraries"
   ]
  },
  {
   "cell_type": "code",
   "execution_count": 1,
   "metadata": {},
   "outputs": [
    {
     "ename": "ModuleNotFoundError",
     "evalue": "No module named 'minisom'",
     "output_type": "error",
     "traceback": [
      "\u001b[31m---------------------------------------------------------------------------\u001b[39m",
      "\u001b[31mModuleNotFoundError\u001b[39m                       Traceback (most recent call last)",
      "\u001b[36mCell\u001b[39m\u001b[36m \u001b[39m\u001b[32mIn[1]\u001b[39m\u001b[32m, line 2\u001b[39m\n\u001b[32m      1\u001b[39m \u001b[38;5;66;03m# MiniSOM\u001b[39;00m\n\u001b[32m----> \u001b[39m\u001b[32m2\u001b[39m \u001b[38;5;28;01mfrom\u001b[39;00m\u001b[38;5;250m \u001b[39m\u001b[34;01mminisom\u001b[39;00m\u001b[38;5;250m \u001b[39m\u001b[38;5;28;01mimport\u001b[39;00m MiniSom\n\u001b[32m      4\u001b[39m \u001b[38;5;66;03m# XPySOM\u001b[39;00m\n\u001b[32m      5\u001b[39m \u001b[38;5;28;01mfrom\u001b[39;00m\u001b[38;5;250m \u001b[39m\u001b[34;01mxpysom\u001b[39;00m\u001b[38;5;250m \u001b[39m\u001b[38;5;28;01mimport\u001b[39;00m XPySom\n",
      "\u001b[31mModuleNotFoundError\u001b[39m: No module named 'minisom'"
     ]
    }
   ],
   "source": [
    "# MiniSOM\n",
    "from minisom import MiniSom\n",
    "\n",
    "# XPySOM\n",
    "from xpysom import XPySom\n",
    "\n",
    "# SimpSOM, https://simpsom.readthedocs.io\n",
    "import simpsom as sps\n",
    "# from simpsom.plots import scatter_on_map\n",
    "\n",
    "# Math and others\n",
    "import matplotlib.pyplot as plt\n",
    "import numpy as np\n",
    "import pandas as pd\n",
    "from astropy.io import fits\n",
    "from astropy.table import Table"
   ]
  },
  {
   "cell_type": "markdown",
   "metadata": {},
   "source": [
    "## Import catalog"
   ]
  },
  {
   "cell_type": "code",
   "execution_count": 2,
   "metadata": {},
   "outputs": [],
   "source": [
    "emu_matched_catalog = '/data/mfonseca/cross_match/EMU_0102-32/EMU_0101-32_DES_VIKING_CATWISE/EMU_0102-32_DES_VIKING_CATWISE.fits'"
   ]
  },
  {
   "cell_type": "code",
   "execution_count": 12,
   "metadata": {},
   "outputs": [
    {
     "name": "stdout",
     "output_type": "stream",
     "text": [
      "12563\n"
     ]
    }
   ],
   "source": [
    "catalog_table = Table.read(emu_matched_catalog, format='fits')\n",
    "catalog_df = catalog_table.to_pandas()\n",
    "\n",
    "# Filter the catalog based on the match_flag and p_i, p_any values\n",
    "match_mask = (catalog_df['match_flag'] == 1) & (catalog_df['p_i'] >= 0.1) & (catalog_df['p_any'] >=0.84)\n",
    "\n",
    "catalog_df_filtered_matches = catalog_df[match_mask]\n",
    "\n",
    "# Filter the catalog to keep only the magnitude\n",
    "magnitude_columns = ['DES_mag_auto_g_dered', 'DES_mag_auto_r_dered', 'DES_mag_auto_i_dered', 'DES_mag_auto_z_dered',\n",
    "                       'VKG_zPetroMag', 'VKG_jPetroMag', 'VKG_yPetroMag', 'VKG_ksPetroMag', 'VKG_hPetroMag', 'CAT_w1mpro', 'CAT_w2mpro']\n",
    "catalog_df_filtered_matches_magnitude = catalog_df_filtered_matches[magnitude_columns]\n",
    "\n",
    "print(len(catalog_df_filtered_matches_magnitude))"
   ]
  },
  {
   "cell_type": "code",
   "execution_count": 13,
   "metadata": {},
   "outputs": [],
   "source": [
    "catalog_matrix = catalog_df_filtered_matches_magnitude.to_numpy()"
   ]
  },
  {
   "cell_type": "markdown",
   "metadata": {},
   "source": [
    "## SimpSOM"
   ]
  },
  {
   "cell_type": "code",
   "execution_count": 79,
   "metadata": {},
   "outputs": [
    {
     "name": "stdout",
     "output_type": "stream",
     "text": [
      "Help on class SOMNet in module simpsom.network:\n",
      "\n",
      "class SOMNet(builtins.object)\n",
      " |  SOMNet(net_height, net_width, data, load_file=None, metric='euclidean', metric_kwds={}, init='PCA', PBC=False, GPU=False, random_seed=None)\n",
      " |  \n",
      " |  Kohonen SOM Network class.\n",
      " |  \n",
      " |  Methods defined here:\n",
      " |  \n",
      " |  __init__(self, net_height, net_width, data, load_file=None, metric='euclidean', metric_kwds={}, init='PCA', PBC=False, GPU=False, random_seed=None)\n",
      " |      Initialise the SOM network.\n",
      " |      \n",
      " |      Args:\n",
      " |          net_height (int): Number of nodes along the first dimension.\n",
      " |          net_width (int): Numer of nodes along the second dimension.\n",
      " |          data (self.interface.num.array or list): N-dimensional dataset.\n",
      " |          load_file (str, optional): Name of file to load containing information \n",
      " |              to initialize the network weights.\n",
      " |          metric (string): distance metric for the identification of best matching\n",
      " |              units. Accepts metrics available in scikit-learn (default 'euclidean').\n",
      " |          metric_kwds (dict): dictionary with optional keywords to pass to the chosen\n",
      " |              metric (default {}).\n",
      " |          init (str or list of self.interface.num.array): Nodes initialization method, to be chosen between 'random'\n",
      " |              or 'PCA' (default 'PCA'). Alternatively a couple of vectors can be provided\n",
      " |              whose values will be spanned uniformly.\n",
      " |          PBC (boolean): Activate/deactivate periodic boundary conditions,\n",
      " |              warning: only quality threshold clustering algorithm works with PBC (default 0).\n",
      " |          GPU (boolean): Activate/deactivate GPU run with RAPIDS (requires CUDA).\n",
      " |          random_seed (int): Seed for the random numbers generator (default None).\n",
      " |  \n",
      " |  cluster(self, array, clus_type='qthresh', cutoff=5, quant=0.2, percent=0.02, num_cl=8, save_file=True, file_type='dat', show=False, print_out=True, out_path='./')\n",
      " |      Clusters the data in a given array according to the SOM trained map.\n",
      " |          The clusters can also be plotted.\n",
      " |      \n",
      " |      Args:\n",
      " |          array (self.interface.num.array): An array containing datapoints to be clustered.\n",
      " |          clus_type (str, optional): The type of clustering to be applied, so far only quality threshold (qthresh) \n",
      " |              algorithm is directly implemented, other algorithms require sklearn.\n",
      " |          cutoff (float, optional): Cutoff for the quality threshold algorithm. This also doubles as\n",
      " |              maximum distance of two points to be considered in the same cluster with DBSCAN.\n",
      " |          percent (float, optional): The percentile that defines the reference distance in density peak clustering (dpeak).\n",
      " |          num_cl (int, optional): The number of clusters for K-Means clustering\n",
      " |          quant (float, optional): Quantile used to calculate the bandwidth of the mean shift algorithm.\n",
      " |          save_file (bool, optional): Choose to save the resulting clusters in a text file.\n",
      " |          file_type (string, optional): Format of the file where the clusters will be saved (csv or dat)\n",
      " |          show (bool, optional): Choose to display the plot.\n",
      " |          print_out (bool, optional): Choose to save the plot to a file.\n",
      " |          out_path (str, optional): Path to the folder where data will be saved.\n",
      " |          \n",
      " |      Returns:\n",
      " |          (list of int): A nested list containing the clusters with indexes of the input array points.\n",
      " |  \n",
      " |  diff_graph(self, show=False, print_out=True, returns=False, out_path='./')\n",
      " |      Plot a 2D map with nodes and weights difference among neighboring nodes.\n",
      " |      \n",
      " |      Args:\n",
      " |          show (bool, optional): Choose to display the plot.\n",
      " |          print_out (bool, optional): Choose to save the plot to a file.\n",
      " |          returns (bool, optional): Choose to return the difference value.\n",
      " |          out_path (str, optional): Path to the folder where data will be saved.\n",
      " |      \n",
      " |      Returns:\n",
      " |          (list): difference value for each node.\n",
      " |  \n",
      " |  find_bmu_ix(self, vecs)\n",
      " |      Find the index of the best matching unit (BMU) for a given list of vectors.\n",
      " |      \n",
      " |      Args:           \n",
      " |          vec (2d self.interface.num.array or list of lists): vectors whose distance from the network\n",
      " |              nodes will be calculated.\n",
      " |          \n",
      " |      Returns:            \n",
      " |          bmu (SOMNode): The best matching unit node index.\n",
      " |  \n",
      " |  nodes_graph(self, colnum=0, show=False, print_out=True, out_path='./', colname=None)\n",
      " |      Plot a 2D map with hexagonal nodes and weights values\n",
      " |      \n",
      " |      Args:\n",
      " |          colnum (int): The index of the weight that will be shown as colormap.\n",
      " |          show (bool, optional): Choose to display the plot.\n",
      " |          print_out (bool, optional): Choose to save the plot to a file.\n",
      " |          colname (str, optional): Name of the column to be shown on the map.\n",
      " |          out_path (str, optional): Path to the folder where data will be saved.\n",
      " |  \n",
      " |  plot_convergence(self, logax=False, show=False, print_out=False, out_path='./')\n",
      " |      Plot the the map training progress according to the \n",
      " |          chosen convergence criterion.\n",
      " |          \n",
      " |      Args: \n",
      " |          logax (bool, optional): if True, plot convergence on logarithmic y axis.\n",
      " |          show (bool, optional): Choose to display the plot.\n",
      " |          print_out (bool, optional): Choose to save the plot to a file.\n",
      " |          out_path (str, optional): Path to the folder where data will be saved.\n",
      " |  \n",
      " |  project(self, array, colnum=-1, labels=[], show=False, print_out=True, out_path='./', colname=None)\n",
      " |      Project the datapoints of a given array to the 2D space of the \n",
      " |          SOM by calculating the bmus. If requested plot a 2D map with as \n",
      " |          implemented in nodes_graph and adds circles to the bmu\n",
      " |          of each datapoint in a given array.\n",
      " |      \n",
      " |      Args:\n",
      " |          array (self.interface.num.array): An array containing datapoints to be mapped.\n",
      " |          colnum (int): The index of the weight that will be shown as colormap. \n",
      " |              If not chosen, the difference map will be used instead.\n",
      " |          show (bool, optional): Choose to display the plot.\n",
      " |          print_out (bool, optional): Choose to save the plot to a file.\n",
      " |          out_path (str, optional): Path to the folder where data will be saved.\n",
      " |          colname (str, optional): Name of the column to be shown on the map.\n",
      " |          \n",
      " |      Returns:\n",
      " |          (list): bmu x,y position for each input array datapoint.\n",
      " |  \n",
      " |  save(self, fileName='SOMNet_trained', out_path='./')\n",
      " |      Saves the network dimensions, the pbc and nodes weights to a file.\n",
      " |      \n",
      " |      Args:\n",
      " |          fileName (str, optional): Name of file where the data will be saved.\n",
      " |          out_path (str, optional): Path to the folder where data will be saved.\n",
      " |  \n",
      " |  train(self, train_algo='batch', epochs=-1, start_learning_rate=0.01, early_stop=None, early_stop_patience=3, early_stop_tolerance=0.0001, batch_size=-1)\n",
      " |      Train the SOM.\n",
      " |      \n",
      " |      Args:\n",
      " |          train_algo (str): training algorithm, choose between 'online' or 'batch' \n",
      " |              (default 'online'). Beware that the online algorithm will run one datapoint\n",
      " |              per epoch, while the batch algorithm runs all points at one for each epoch.\n",
      " |          epochs (int): Number of training iterations. If not selected (or -1)\n",
      " |              automatically set epochs as 10 times the number of datapoints. \n",
      " |          start_learning_rate (float): Initial learning rate, used only in online\n",
      " |              learning.\n",
      " |          early_stop (str): Early stopping method, for now only 'mapdiff' (checks if the\n",
      " |              weights of nodes don't change) and 'bmudiff' (checks if the assigned bmu to each sample\n",
      " |              don't change) are available. If None, don't use early stopping (default None).\n",
      " |          early_stop_patience (int): Number of iterations without improvement before stopping the \n",
      " |              training, only available for batch training (default 3).\n",
      " |          early_stop_tolerance (float): Improvement tolerance, if the map does not improve beyond\n",
      " |              this threshold, the early stopping counter will be activated (it needs to be set\n",
      " |              appropriately depending on the used distance metric). Ignored if early stopping\n",
      " |              is off (default 1e-4).\n",
      " |          batch_size (int): Split the dataset in batches of this size when calculating the \n",
      " |              new weights, works only when train_algo is 'batch' and helps keeping down the \n",
      " |              memory requirements when working with large datasets, if -1 run the whole dataset\n",
      " |              at once.\n",
      " |  \n",
      " |  update_learning_rate(self, n_iter)\n",
      " |      Update the learning rate.\n",
      " |      \n",
      " |      Args:           \n",
      " |          n_iter (int): Iteration number.\n",
      " |  \n",
      " |  update_sigma(self, n_iter)\n",
      " |      Update the gaussian sigma.\n",
      " |      \n",
      " |      Args:           \n",
      " |          n_iter (int): Iteration number.\n",
      " |  \n",
      " |  ----------------------------------------------------------------------\n",
      " |  Data descriptors defined here:\n",
      " |  \n",
      " |  __dict__\n",
      " |      dictionary for instance variables (if defined)\n",
      " |  \n",
      " |  __weakref__\n",
      " |      list of weak references to the object (if defined)\n",
      "\n"
     ]
    }
   ],
   "source": [
    "help(sps.SOMNet)"
   ]
  },
  {
   "cell_type": "markdown",
   "metadata": {},
   "source": [
    "### Example"
   ]
  },
  {
   "cell_type": "code",
   "execution_count": 3,
   "metadata": {},
   "outputs": [
    {
     "ename": "ModuleNotFoundError",
     "evalue": "No module named 'pylettes'",
     "output_type": "error",
     "traceback": [
      "\u001b[31m---------------------------------------------------------------------------\u001b[39m",
      "\u001b[31mModuleNotFoundError\u001b[39m                       Traceback (most recent call last)",
      "\u001b[36mCell\u001b[39m\u001b[36m \u001b[39m\u001b[32mIn[3]\u001b[39m\u001b[32m, line 1\u001b[39m\n\u001b[32m----> \u001b[39m\u001b[32m1\u001b[39m \u001b[38;5;28;01mfrom\u001b[39;00m\u001b[38;5;250m \u001b[39m\u001b[34;01mpylettes\u001b[39;00m\u001b[38;5;250m \u001b[39m\u001b[38;5;28;01mimport\u001b[39;00m *\n\u001b[32m      2\u001b[39m pylette = Tundra(reverse=\u001b[38;5;28;01mTrue\u001b[39;00m).cmap\n\u001b[32m      4\u001b[39m \u001b[38;5;28;01mfrom\u001b[39;00m\u001b[38;5;250m \u001b[39m\u001b[34;01mkeras\u001b[39;00m\u001b[34;01m.\u001b[39;00m\u001b[34;01mdatasets\u001b[39;00m\u001b[38;5;250m \u001b[39m\u001b[38;5;28;01mimport\u001b[39;00m mnist\n",
      "\u001b[31mModuleNotFoundError\u001b[39m: No module named 'pylettes'"
     ]
    }
   ],
   "source": [
    "from pylettes import *\n",
    "pylette = Tundra(reverse=True).cmap\n",
    "\n",
    "from keras.datasets import mnist\n",
    "(train_X, train_y), (test_X, test_y) = mnist.load_data()\n",
    "\n",
    "flat_data = train_X.reshape(train_X.shape[0], -1)"
   ]
  },
  {
   "cell_type": "code",
   "execution_count": 91,
   "metadata": {},
   "outputs": [
    {
     "name": "stdout",
     "output_type": "stream",
     "text": [
      "Periodic Boundary Conditions active.\n",
      "The weights will be initialized with PCA.\n"
     ]
    }
   ],
   "source": [
    "net = sps.SOMNet(10, 10, data, init='PCA', metric='cosine', PBC=True, random_seed=32, GPU=False)"
   ]
  },
  {
   "cell_type": "code",
   "execution_count": 92,
   "metadata": {},
   "outputs": [
    {
     "name": "stdout",
     "output_type": "stream",
     "text": [
      "The map will be trained with the batch algorithm.\n",
      "Training SOM... 0% "
     ]
    },
    {
     "ename": "KeyboardInterrupt",
     "evalue": "",
     "output_type": "error",
     "traceback": [
      "\u001b[0;31m---------------------------------------------------------------------------\u001b[0m",
      "\u001b[0;31mKeyboardInterrupt\u001b[0m                         Traceback (most recent call last)",
      "Cell \u001b[0;32mIn[92], line 1\u001b[0m\n\u001b[0;32m----> 1\u001b[0m \u001b[43mnet\u001b[49m\u001b[38;5;241;43m.\u001b[39;49m\u001b[43mtrain\u001b[49m\u001b[43m(\u001b[49m\u001b[43mtrain_algo\u001b[49m\u001b[38;5;241;43m=\u001b[39;49m\u001b[38;5;124;43m'\u001b[39;49m\u001b[38;5;124;43mbatch\u001b[39;49m\u001b[38;5;124;43m'\u001b[39;49m\u001b[43m,\u001b[49m\u001b[43m \u001b[49m\u001b[43mstart_learning_rate\u001b[49m\u001b[38;5;241;43m=\u001b[39;49m\u001b[38;5;241;43m10\u001b[39;49m\u001b[43m,\u001b[49m\u001b[43m \u001b[49m\u001b[43mepochs\u001b[49m\u001b[38;5;241;43m=\u001b[39;49m\u001b[38;5;241;43m-\u001b[39;49m\u001b[38;5;241;43m1\u001b[39;49m\u001b[43m,\u001b[49m\u001b[43m \u001b[49m\u001b[43mbatch_size\u001b[49m\u001b[38;5;241;43m=\u001b[39;49m\u001b[38;5;241;43m-\u001b[39;49m\u001b[38;5;241;43m1\u001b[39;49m\u001b[43m)\u001b[49m\n",
      "File \u001b[0;32m~/miniconda3/envs/labastro/lib/python3.10/site-packages/simpsom/network.py:338\u001b[0m, in \u001b[0;36mSOMNet.train\u001b[0;34m(self, train_algo, epochs, start_learning_rate, early_stop, early_stop_patience, early_stop_tolerance, batch_size)\u001b[0m\n\u001b[1;32m    335\u001b[0m     batchgauss \u001b[38;5;241m=\u001b[39m \u001b[38;5;28mself\u001b[39m\u001b[38;5;241m.\u001b[39minterface\u001b[38;5;241m.\u001b[39mnum\u001b[38;5;241m.\u001b[39mrepeat(batchgauss[:, :, \u001b[38;5;28mself\u001b[39m\u001b[38;5;241m.\u001b[39minterface\u001b[38;5;241m.\u001b[39mnum\u001b[38;5;241m.\u001b[39mnewaxis], \u001b[38;5;28mself\u001b[39m\u001b[38;5;241m.\u001b[39mdata\u001b[38;5;241m.\u001b[39mshape[\u001b[38;5;241m1\u001b[39m], axis\u001b[38;5;241m=\u001b[39m\u001b[38;5;241m2\u001b[39m)\n\u001b[1;32m    336\u001b[0m     batchdata \u001b[38;5;241m=\u001b[39m \u001b[38;5;28mself\u001b[39m\u001b[38;5;241m.\u001b[39minterface\u001b[38;5;241m.\u001b[39mnum\u001b[38;5;241m.\u001b[39mrepeat(batchdata[:, \u001b[38;5;28mself\u001b[39m\u001b[38;5;241m.\u001b[39minterface\u001b[38;5;241m.\u001b[39mnum\u001b[38;5;241m.\u001b[39mnewaxis, :], gauss\u001b[38;5;241m.\u001b[39mshape[\u001b[38;5;241m1\u001b[39m], axis\u001b[38;5;241m=\u001b[39m\u001b[38;5;241m1\u001b[39m)\n\u001b[0;32m--> 338\u001b[0m     numerator  \u001b[38;5;241m+\u001b[39m\u001b[38;5;241m=\u001b[39m \u001b[38;5;28;43mself\u001b[39;49m\u001b[38;5;241;43m.\u001b[39;49m\u001b[43minterface\u001b[49m\u001b[38;5;241;43m.\u001b[39;49m\u001b[43mnum\u001b[49m\u001b[38;5;241;43m.\u001b[39;49m\u001b[43mmultiply\u001b[49m\u001b[43m(\u001b[49m\u001b[43mbatchgauss\u001b[49m\u001b[43m,\u001b[49m\u001b[43mbatchdata\u001b[49m\u001b[43m)\u001b[49m\u001b[38;5;241;43m.\u001b[39;49m\u001b[43msum\u001b[49m\u001b[43m(\u001b[49m\u001b[43maxis\u001b[49m\u001b[38;5;241;43m=\u001b[39;49m\u001b[38;5;241;43m0\u001b[39;49m\u001b[43m)\u001b[49m\n\u001b[1;32m    340\u001b[0m new_weights \u001b[38;5;241m=\u001b[39m \u001b[38;5;28mself\u001b[39m\u001b[38;5;241m.\u001b[39minterface\u001b[38;5;241m.\u001b[39mnum\u001b[38;5;241m.\u001b[39mdivide(numerator,denominator)\n\u001b[1;32m    341\u001b[0m new_weights[\u001b[38;5;28mself\u001b[39m\u001b[38;5;241m.\u001b[39minterface\u001b[38;5;241m.\u001b[39mnum\u001b[38;5;241m.\u001b[39misnan(new_weights)] \u001b[38;5;241m=\u001b[39m all_weights[\u001b[38;5;28mself\u001b[39m\u001b[38;5;241m.\u001b[39minterface\u001b[38;5;241m.\u001b[39mnum\u001b[38;5;241m.\u001b[39misnan(new_weights)] \n",
      "File \u001b[0;32m~/miniconda3/envs/labastro/lib/python3.10/site-packages/numpy/core/_methods.py:49\u001b[0m, in \u001b[0;36m_sum\u001b[0;34m(a, axis, dtype, out, keepdims, initial, where)\u001b[0m\n\u001b[1;32m     47\u001b[0m \u001b[38;5;28;01mdef\u001b[39;00m\u001b[38;5;250m \u001b[39m\u001b[38;5;21m_sum\u001b[39m(a, axis\u001b[38;5;241m=\u001b[39m\u001b[38;5;28;01mNone\u001b[39;00m, dtype\u001b[38;5;241m=\u001b[39m\u001b[38;5;28;01mNone\u001b[39;00m, out\u001b[38;5;241m=\u001b[39m\u001b[38;5;28;01mNone\u001b[39;00m, keepdims\u001b[38;5;241m=\u001b[39m\u001b[38;5;28;01mFalse\u001b[39;00m,\n\u001b[1;32m     48\u001b[0m          initial\u001b[38;5;241m=\u001b[39m_NoValue, where\u001b[38;5;241m=\u001b[39m\u001b[38;5;28;01mTrue\u001b[39;00m):\n\u001b[0;32m---> 49\u001b[0m     \u001b[38;5;28;01mreturn\u001b[39;00m \u001b[43mumr_sum\u001b[49m\u001b[43m(\u001b[49m\u001b[43ma\u001b[49m\u001b[43m,\u001b[49m\u001b[43m \u001b[49m\u001b[43maxis\u001b[49m\u001b[43m,\u001b[49m\u001b[43m \u001b[49m\u001b[43mdtype\u001b[49m\u001b[43m,\u001b[49m\u001b[43m \u001b[49m\u001b[43mout\u001b[49m\u001b[43m,\u001b[49m\u001b[43m \u001b[49m\u001b[43mkeepdims\u001b[49m\u001b[43m,\u001b[49m\u001b[43m \u001b[49m\u001b[43minitial\u001b[49m\u001b[43m,\u001b[49m\u001b[43m \u001b[49m\u001b[43mwhere\u001b[49m\u001b[43m)\u001b[49m\n",
      "\u001b[0;31mKeyboardInterrupt\u001b[0m: "
     ]
    }
   ],
   "source": [
    "net.train(train_algo='batch', start_learning_rate=10, epochs=-1, batch_size=-1)"
   ]
  },
  {
   "cell_type": "markdown",
   "metadata": {},
   "source": [
    "### XPySom"
   ]
  },
  {
   "cell_type": "code",
   "execution_count": null,
   "metadata": {},
   "outputs": [],
   "source": [
    "data_min = catalog_matrix.min(axis=0)\n",
    "data_max = catalog_matrix.max(axis=0)\n",
    "normalized_data = (catalog_matrix - data_min) / (data_max - data_min)"
   ]
  },
  {
   "cell_type": "code",
   "execution_count": null,
   "metadata": {},
   "outputs": [
    {
     "ename": "TypeError",
     "evalue": "only integer scalar arrays can be converted to a scalar index",
     "output_type": "error",
     "traceback": [
      "\u001b[0;31m---------------------------------------------------------------------------\u001b[0m",
      "\u001b[0;31mTypeError\u001b[0m                                 Traceback (most recent call last)",
      "Cell \u001b[0;32mIn[47], line 9\u001b[0m\n\u001b[1;32m      7\u001b[0m \u001b[38;5;66;03m# Initialization and training\u001b[39;00m\n\u001b[1;32m      8\u001b[0m som_shape \u001b[38;5;241m=\u001b[39m (\u001b[38;5;241m20\u001b[39m, \u001b[38;5;241m20\u001b[39m)\n\u001b[0;32m----> 9\u001b[0m som \u001b[38;5;241m=\u001b[39m \u001b[43mXPySom\u001b[49m\u001b[43m(\u001b[49m\u001b[38;5;241;43m20\u001b[39;49m\u001b[43m,\u001b[49m\u001b[43m \u001b[49m\u001b[38;5;241;43m20\u001b[39;49m\u001b[43m,\u001b[49m\u001b[43m \u001b[49m\u001b[43mdata\u001b[49m\u001b[43m)\u001b[49m\n",
      "File \u001b[0;32m~/miniconda3/envs/labastro/lib/python3.10/site-packages/xpysom/xpysom.py:156\u001b[0m, in \u001b[0;36mXPySom.__init__\u001b[0;34m(self, x, y, input_len, sigma, sigmaN, learning_rate, learning_rateN, decay_function, neighborhood_function, std_coeff, topology, activation_distance, random_seed, n_parallel, compact_support, xp)\u001b[0m\n\u001b[1;32m    153\u001b[0m \u001b[38;5;28mself\u001b[39m\u001b[38;5;241m.\u001b[39m_input_len \u001b[38;5;241m=\u001b[39m input_len\n\u001b[1;32m    155\u001b[0m \u001b[38;5;66;03m# random initialization\u001b[39;00m\n\u001b[0;32m--> 156\u001b[0m \u001b[38;5;28mself\u001b[39m\u001b[38;5;241m.\u001b[39m_weights \u001b[38;5;241m=\u001b[39m \u001b[38;5;28;43mself\u001b[39;49m\u001b[38;5;241;43m.\u001b[39;49m\u001b[43m_random_generator\u001b[49m\u001b[38;5;241;43m.\u001b[39;49m\u001b[43mrand\u001b[49m\u001b[43m(\u001b[49m\u001b[43mx\u001b[49m\u001b[43m,\u001b[49m\u001b[43m \u001b[49m\u001b[43my\u001b[49m\u001b[43m,\u001b[49m\u001b[43m \u001b[49m\u001b[43minput_len\u001b[49m\u001b[43m)\u001b[49m\u001b[38;5;241m*\u001b[39m\u001b[38;5;241m2\u001b[39m\u001b[38;5;241m-\u001b[39m\u001b[38;5;241m1\u001b[39m\n\u001b[1;32m    157\u001b[0m \u001b[38;5;28mself\u001b[39m\u001b[38;5;241m.\u001b[39m_weights \u001b[38;5;241m/\u001b[39m\u001b[38;5;241m=\u001b[39m np\u001b[38;5;241m.\u001b[39mlinalg\u001b[38;5;241m.\u001b[39mnorm(\u001b[38;5;28mself\u001b[39m\u001b[38;5;241m.\u001b[39m_weights, axis\u001b[38;5;241m=\u001b[39m\u001b[38;5;241m-\u001b[39m\u001b[38;5;241m1\u001b[39m, keepdims\u001b[38;5;241m=\u001b[39m\u001b[38;5;28;01mTrue\u001b[39;00m)\n\u001b[1;32m    159\u001b[0m \u001b[38;5;66;03m# used to evaluate the neighborhood function\u001b[39;00m\n",
      "File \u001b[0;32mnumpy/random/mtrand.pyx:1219\u001b[0m, in \u001b[0;36mnumpy.random.mtrand.RandomState.rand\u001b[0;34m()\u001b[0m\n",
      "File \u001b[0;32mnumpy/random/mtrand.pyx:437\u001b[0m, in \u001b[0;36mnumpy.random.mtrand.RandomState.random_sample\u001b[0;34m()\u001b[0m\n",
      "File \u001b[0;32m_common.pyx:307\u001b[0m, in \u001b[0;36mnumpy.random._common.double_fill\u001b[0;34m()\u001b[0m\n",
      "\u001b[0;31mTypeError\u001b[0m: only integer scalar arrays can be converted to a scalar index"
     ]
    }
   ],
   "source": [
    "galaxy_names = catalog_df['EMU_island_name'].values\n",
    "\n",
    "# data normalization\n",
    "data = (catalog_df_filtered - np.mean(catalog_df_filtered, axis=0)) / np.std(catalog_df_filtered, axis=0)\n",
    "data = data.values\n",
    "\n",
    "# Initialization and training\n",
    "som_shape = (20, 20)\n",
    "som = XPySom(20, 20, data)\n"
   ]
  },
  {
   "cell_type": "markdown",
   "metadata": {},
   "source": [
    "## MiniSom"
   ]
  },
  {
   "cell_type": "markdown",
   "metadata": {},
   "source": [
    "### Example"
   ]
  },
  {
   "cell_type": "code",
   "execution_count": null,
   "metadata": {},
   "outputs": [
    {
     "name": "stdout",
     "output_type": "stream",
     "text": [
      "[[ 1.42097769e-01 -9.86151745e-01]\n",
      " [ 1.11880257e-02 -1.78816620e+00]\n",
      " [-1.92066576e-01 -6.67479334e-01]\n",
      " [-3.47091272e-01 -9.60817955e-01]\n",
      " [ 4.45257175e-01 -1.56349549e+00]\n",
      " [-1.61061637e-01 -8.25482182e-01]\n",
      " [-5.42668460e-02 -7.61353407e-02]\n",
      " [-2.54076455e-01 -6.66812655e-01]\n",
      " [ 6.14061844e-01 -1.10682059e+00]\n",
      " [ 5.48606973e-01 -1.15415477e+00]\n",
      " [ 1.42097769e-01  5.61876160e-01]\n",
      " [-2.81636401e-01 -1.32215780e+00]\n",
      " [-3.29866306e-01  1.90536133e-01]\n",
      " [-3.67761232e-01 -3.76140749e-01]\n",
      " [-3.81541205e-01 -5.12143200e-01]\n",
      " [-8.87167785e-02  3.23205191e-01]\n",
      " [-2.95416374e-01  1.02255113e+00]\n",
      " [ 2.90232479e-01 -1.40082589e+00]\n",
      " [-5.08218528e-02 -1.28882387e+00]\n",
      " [-7.32930516e-01  2.67870860e-01]\n",
      " [-2.36851488e-01 -4.18808184e-01]\n",
      " [-2.54076455e-01 -6.74812799e-01]\n",
      " [ 3.55687351e-01 -1.95676924e+00]\n",
      " [-9.53410084e-01 -1.52349476e+00]\n",
      " [ 5.59729379e-02 -1.27282358e+00]\n",
      " [ 4.62482141e-01 -1.86483425e+00]\n",
      " [-6.29580719e-01 -2.18137900e-01]\n",
      " [-7.26040530e-01 -7.97481677e-01]\n",
      " [-2.54076455e-01 -6.30812006e-01]\n",
      " [-4.81446009e-01 -1.12802668e-01]\n",
      " [-5.81350813e-01 -1.89676816e+00]\n",
      " [ 2.21332614e-01 -1.92137432e-01]\n",
      " [-2.60966441e-01  1.46535340e-01]\n",
      " [-3.12641340e-01 -1.05081958e+00]\n",
      " [ 6.97529109e-02 -1.04748618e+00]\n",
      " [ 4.38367189e-01 -9.53484489e-01]\n",
      " [ 4.65927135e-01 -5.84811177e-01]\n",
      " [ 7.69086541e-01 -4.96142912e-01]\n",
      " [-1.63719203e-02 -3.92141037e-01]\n",
      " [-1.95511569e-01  1.98990190e+00]\n",
      " [-4.50441070e-01 -7.42147346e-01]\n",
      " [-4.64221043e-01 -9.67484742e-01]\n",
      " [-5.81350813e-01 -8.26148860e-01]\n",
      " [ 2.24777607e-01  6.73878179e-01]\n",
      " [ 9.04228704e-02 -3.81474178e-01]\n",
      " [-3.60871245e-01 -1.42682635e+00]\n",
      " [ 1.76547702e-01 -1.55549534e+00]\n",
      " [ 4.90829514e-02 -4.94809554e-01]\n",
      " [-1.98169135e-02 -6.64145940e-01]\n",
      " [ 4.29803920e-03 -1.04748618e+00]\n",
      " [-1.43836671e-01  1.83202667e-01]\n",
      " [ 3.21237418e-01  1.26188878e+00]\n",
      " [-1.23166711e-01  2.77204362e-01]\n",
      " [-1.78286603e-01 -2.48138441e-01]\n",
      " [-1.12831731e-01 -1.47949397e+00]\n",
      " [ 6.28629244e-02 -1.17815521e+00]\n",
      " [-1.33501691e-01 -5.98811429e-01]\n",
      " [ 2.49679987e-02 -1.70549804e+00]\n",
      " [ 1.83437688e-01 -1.13415441e+00]\n",
      " [-9.43075104e-01 -1.46549372e+00]\n",
      " [-1.18077964e+00 -6.66812655e-01]\n",
      " [-1.24623451e+00 -9.54151168e-01]\n",
      " [-8.56950273e-01 -3.20139739e-01]\n",
      " [-5.60680854e-01  3.04538188e-01]\n",
      " [-7.12260557e-01 -1.68283097e+00]\n",
      " [-6.77810624e-01 -8.98816837e-01]\n",
      " [-1.74841610e-01 -1.59149599e+00]\n",
      " [-2.88526387e-01 -9.88818459e-01]\n",
      " [-1.64506630e-01 -1.49082751e+00]\n",
      " [-7.29485523e-01 -1.11469311e-01]\n",
      " [ 9.58561169e-01  2.50537215e-01]\n",
      " [ 6.86406703e-01  6.49877746e-01]\n",
      " [ 8.31096419e-01  5.59209445e-01]\n",
      " [ 1.46842017e+00 -5.09476485e-01]\n",
      " [ 6.79516716e-01  2.02536349e-01]\n",
      " [ 6.62291750e-01  8.13214024e-01]\n",
      " [ 8.51766379e-01  8.25341862e-02]\n",
      " [ 2.01961909e+00  5.00541721e-01]\n",
      " [ 1.40985528e+00  9.09215755e-01]\n",
      " [ 7.82866514e-01 -5.61477423e-01]\n",
      " [ 5.79611912e-01  1.22122138e+00]\n",
      " [ 1.33406543e+00  1.08255221e+00]\n",
      " [ 1.84392443e+00  9.81883731e-01]\n",
      " [ 1.62688986e+00 -1.48549408e+00]\n",
      " [ 1.60621990e+00 -4.92142840e-01]\n",
      " [ 1.17904074e+00 -8.38149077e-01]\n",
      " [ 1.38918533e+00 -1.36749195e+00]\n",
      " [ 1.42363526e+00 -6.13407883e-03]\n",
      " [ 2.18153377e+00  1.38655769e+00]\n",
      " [ 2.07818398e+00  8.77215178e-01]\n",
      " [ 1.80947450e+00 -1.16348827e+00]\n",
      " [ 1.34784541e+00 -3.86807608e-01]\n",
      " [ 1.36507037e+00 -3.08806201e-01]\n",
      " [ 1.28928052e+00  1.53389368e+00]\n",
      " [ 1.21004568e+00  8.21880847e-01]\n",
      " [ 6.96741682e-01 -2.80068541e-03]\n",
      " [ 1.53732004e+00 -1.48803317e-01]\n",
      " [ 1.42363526e+00 -1.03748600e+00]\n",
      " [ 1.14459080e+00 -5.64810816e-01]\n",
      " [ 1.33406543e+00 -1.00815214e+00]\n",
      " [ 5.38271993e-01  3.44538909e-01]\n",
      " [ 1.08258093e+00 -1.08815358e+00]\n",
      " [ 1.58899493e+00  4.05206669e-01]\n",
      " [ 1.49253512e+00 -2.28804759e-01]\n",
      " [ 1.41330028e+00 -2.21471294e-01]\n",
      " [ 1.37196036e+00 -7.64814422e-01]\n",
      " [ 1.37885035e+00 -5.71477603e-01]\n",
      " [ 9.58561169e-01  3.11999275e-02]\n",
      " [ 1.75435461e+00 -2.98806021e-01]\n",
      " [ 1.27550055e+00 -1.30815755e+00]\n",
      " [ 1.24105062e+00 -9.76818243e-01]\n",
      " [ 1.56143499e+00 -1.48009017e-02]\n",
      " [ 1.47531016e+00 -1.06081976e+00]\n",
      " [ 1.47875515e+00  1.98790187e+00]\n",
      " [ 2.10918891e+00  6.51211104e-01]\n",
      " [ 1.45119520e+00 -9.68151420e-01]\n",
      " [ 1.41674527e+00  4.22540315e-01]\n",
      " [ 1.48220014e+00 -4.10808040e-01]\n",
      " [ 1.39263032e+00 -4.08013704e-02]\n",
      " [ 1.78535955e+00 -4.24808293e-01]\n",
      " [ 1.85770441e+00  1.46722581e+00]\n",
      " [ 1.13425583e+00 -5.41349441e-02]\n",
      " [ 4.55592155e-01  3.90539738e-01]\n",
      " [ 1.23416063e+00 -4.77475909e-01]\n",
      " [ 3.93582276e-01 -2.42805012e-01]\n",
      " [ 1.34440041e+00  3.25205227e-01]\n",
      " [ 1.30995048e+00  4.60541000e-01]\n",
      " [ 1.07913593e+00 -9.62151312e-01]\n",
      " [ 1.83014446e+00 -1.19348882e+00]\n",
      " [ 9.31001223e-01  1.11055272e+00]\n",
      " [ 1.18937572e+00 -5.75477675e-01]\n",
      " [ 1.40985528e+00 -5.28143489e-01]\n",
      " [ 1.83437688e-01  5.07875187e-01]\n",
      " [ 4.52147162e-01  3.77206165e-01]\n",
      " [ 2.45447567e-01  8.47881316e-01]\n",
      " [ 1.83437688e-01 -6.68018391e-02]\n",
      " [ 8.65546352e-01 -1.16136062e-01]\n",
      " [ 2.48892560e-01 -7.06813376e-01]\n",
      " [ 2.59227540e-01 -6.50145688e-01]\n",
      " [ 4.76262114e-01  4.58668585e-02]\n",
      " [-6.12355752e-01  1.06921864e+00]\n",
      " [-5.26230921e-01  2.22323944e+00]\n",
      " [-5.19340935e-01  1.52989361e+00]\n",
      " [-9.05180179e-01  1.17922062e+00]\n",
      " [-1.04297991e+00  5.13875295e-01]\n",
      " [-1.25312450e+00  1.64589570e+00]\n",
      " [-1.17733465e+00 -9.86151745e-01]\n",
      " [-8.12165361e-01  4.80541361e-01]\n",
      " [-7.39820503e-01 -2.93472592e-01]\n",
      " [-1.39781421e+00  1.17455387e+00]\n",
      " [-1.03953492e+00  9.96550662e-01]\n",
      " [-9.77525037e-01  2.19457226e+00]\n",
      " [-8.91400206e-01  7.03878720e-01]\n",
      " [-1.26345948e+00 -2.45471726e-01]\n",
      " [-1.20144960e+00  2.31870211e-01]\n",
      " [-1.26001448e+00  1.40855809e+00]\n",
      " [-1.20833958e+00 -2.35471546e-01]\n",
      " [-9.36185118e-01  7.49879549e-01]\n",
      " [-1.06709486e+00  4.51874177e-01]\n",
      " [-1.15666469e+00  1.12521965e+00]\n",
      " [-7.94940395e-01 -4.12141398e-01]\n",
      " [-9.74080044e-01  3.80539558e-01]\n",
      " [-9.63745064e-01  8.58548175e-01]\n",
      " [-7.91495401e-01  4.79208003e-01]\n",
      " [-1.27723945e+00  1.79189833e+00]\n",
      " [-9.46520098e-01 -9.99485318e-01]\n",
      " [-8.29390327e-01  8.15880739e-01]\n",
      " [-9.29295131e-01 -4.14680491e-02]\n",
      " [-1.20489459e+00  4.24540351e-01]\n",
      " [-1.24278952e+00 -1.19469455e-01]\n",
      " [-1.31857937e+00  2.02323584e+00]\n",
      " [-1.13599473e+00  2.00990226e+00]\n",
      " [-1.23245454e+00  4.05873348e-01]\n",
      " [-1.18766963e+00  1.25855539e+00]\n",
      " [-1.38403424e+00  9.87883839e-01]\n",
      " [-1.39436922e+00  7.15212258e-01]\n",
      " [-1.23589953e+00  1.08988568e+00]\n",
      " [-1.41503918e+00  6.67878071e-01]\n",
      " [-1.16010968e+00  1.45055885e+00]\n",
      " [-9.08625172e-01 -1.35949181e+00]\n",
      " [-1.18422463e+00  8.37881135e-01]\n",
      " [-8.22500341e-01  8.57881496e-01]\n",
      " [-9.15515158e-01  7.71213267e-01]\n",
      " [-1.10154479e+00  1.00588416e+00]\n",
      " [-6.74365631e-01  1.65656256e+00]\n",
      " [-1.13254973e+00  2.41203713e-01]\n",
      " [-1.04642490e+00  7.98547093e-01]\n",
      " [-1.35647429e+00  3.19205119e-01]\n",
      " [-1.24623451e+00  2.54924532e+00]\n",
      " [-1.46671408e+00  8.49881352e-01]\n",
      " [-1.34958431e+00  1.13188644e+00]\n",
      " [-1.23245454e+00  1.89869454e-01]\n",
      " [-1.02575494e+00 -6.88018751e-02]\n",
      " [-1.38747923e+00  7.68546552e-01]\n",
      " [-9.43075104e-01  2.87871221e-01]\n",
      " [-7.05370570e-01  7.81880126e-01]\n",
      " [-7.08815563e-01  1.18855412e+00]\n",
      " [-5.09005955e-01  6.46544353e-01]\n",
      " [-7.67380449e-01 -2.62805372e-01]\n",
      " [-7.19150543e-01 -5.81477783e-01]\n",
      " [-8.50060287e-01  1.18122066e+00]\n",
      " [-7.50155482e-01 -9.33484129e-01]\n",
      " [-1.26345948e+00  2.33870248e-01]\n",
      " [-7.39820503e-01  3.17058985e+00]\n",
      " [-8.53505280e-01  1.45868661e-01]\n",
      " [-9.15515158e-01 -4.61347999e-02]\n",
      " [-1.24623451e+00  4.16540207e-01]\n",
      " [-5.67570840e-01  3.07658816e+00]\n",
      " [-1.03608992e+00 -6.81351965e-02]\n",
      " [-8.77620233e-01  1.29122264e+00]]\n"
     ]
    }
   ],
   "source": [
    "data = pd.read_csv('https://archive.ics.uci.edu/ml/machine-learning-databases/00236/seeds_dataset.txt', \n",
    "                    names=['area', 'perimeter', 'compactness', 'length_kernel', 'width_kernel',\n",
    "                   'asymmetry_coefficient', 'length_kernel_groove', 'target'], usecols=[0, 5], \n",
    "                   sep='\\t+', engine='python')\n",
    "# data normalization\n",
    "data = (data - np.mean(data, axis=0)) / np.std(data, axis=0)\n",
    "data = data.values\n",
    "\n",
    "\n",
    "# Initialization and training\n",
    "som_shape = (1, 3)\n",
    "som = MiniSom(som_shape[0], som_shape[1], data.shape[1], sigma=.5, learning_rate=.5,\n",
    "              neighborhood_function='gaussian', random_seed=10)\n",
    "\n",
    "som.train_batch(data, 500, verbose=True)"
   ]
  },
  {
   "cell_type": "code",
   "execution_count": 15,
   "metadata": {},
   "outputs": [],
   "source": [
    "# each neuron represents a cluster\n",
    "winner_coordinates = np.array([som.winner(x) for x in data]).T\n",
    "# with np.ravel_multi_index we convert the bidimensional\n",
    "# coordinates to a monodimensional index\n",
    "cluster_index = np.ravel_multi_index(winner_coordinates, som_shape)"
   ]
  },
  {
   "cell_type": "code",
   "execution_count": null,
   "metadata": {},
   "outputs": [
    {
     "data": {
      "text/plain": [
       "<matplotlib.legend.Legend at 0x7bdba9e0bfd0>"
      ]
     },
     "execution_count": 16,
     "metadata": {},
     "output_type": "execute_result"
    },
    {
     "data": {
      "image/png": "[encoded data removed]",
      "text/plain": [
       "<Figure size 640x480 with 1 Axes>"
      ]
     },
     "metadata": {},
     "output_type": "display_data"
    }
   ],
   "source": [
    "# plotting the clusters using the first 2 dimentions of the data\n",
    "for c in np.unique(cluster_index):\n",
    "    plt.scatter(data[cluster_index == c, 0],\n",
    "                data[cluster_index == c, 1], label='cluster='+str(c), alpha=.7)\n",
    "\n",
    "# plotting centroids\n",
    "for centroid in som.get_weights():\n",
    "    plt.scatter(centroid[:, 0], centroid[:, 1], marker='x', \n",
    "                s=4, linewidths=10, color='k', label='centroid')\n",
    "plt.legend(loc='best')"
   ]
  },
  {
   "cell_type": "markdown",
   "metadata": {},
   "source": [
    "### With our galaxy values"
   ]
  },
  {
   "cell_type": "code",
   "execution_count": 19,
   "metadata": {},
   "outputs": [],
   "source": [
    "galaxy_names = catalog_df['EMU_island_name'].str.decode('utf-8').str.strip()\n",
    "\n",
    "# Normalize the data\n",
    "data = (catalog_df_filtered_matches_magnitude - np.mean(catalog_df_filtered_matches_magnitude, axis=0)) / np.std(catalog_df_filtered_matches_magnitude, axis=0)\n",
    "data = data.values"
   ]
  },
  {
   "cell_type": "code",
   "execution_count": 50,
   "metadata": {},
   "outputs": [
    {
     "name": "stdout",
     "output_type": "stream",
     "text": [
      " [ 100000 / 100000 ] 100% - 0:00:00 left \n",
      " quantization error: 0.20844634964872283\n"
     ]
    }
   ],
   "source": [
    "som_shape = (10, 10)\n",
    "som = MiniSom(som_shape[0], som_shape[1], data.shape[1], sigma=.5, learning_rate=.1,\n",
    "              neighborhood_function='gaussian', random_seed=0)\n",
    "\n",
    "som.train_batch(data, 100000, verbose=True)"
   ]
  },
  {
   "cell_type": "code",
   "execution_count": 51,
   "metadata": {},
   "outputs": [
    {
     "data": {
      "image/png": "[encoded data removed]",
      "text/plain": [
       "<Figure size 700x700 with 2 Axes>"
      ]
     },
     "metadata": {},
     "output_type": "display_data"
    }
   ],
   "source": [
    "plt.figure(figsize=(7, 7))\n",
    "frequencies = som.activation_response(data)\n",
    "plt.pcolor(frequencies.T, cmap='Blues') \n",
    "plt.colorbar()\n",
    "plt.show()"
   ]
  },
  {
   "cell_type": "code",
   "execution_count": 52,
   "metadata": {},
   "outputs": [],
   "source": [
    "# each neuron represents a cluster\n",
    "winner_coordinates = np.array([som.winner(x) for x in data]).T\n",
    "# with np.ravel_multi_index we convert the bidimensional\n",
    "# coordinates to a monodimensional index\n",
    "cluster_index = np.ravel_multi_index(winner_coordinates, som_shape)"
   ]
  },
  {
   "cell_type": "code",
   "execution_count": 54,
   "metadata": {},
   "outputs": [
    {
     "data": {
      "image/png": "[encoded data removed]",
      "text/plain": [
       "<Figure size 640x480 with 1 Axes>"
      ]
     },
     "metadata": {},
     "output_type": "display_data"
    }
   ],
   "source": [
    "# plotting the clusters using the first 2 dimentions of the data\n",
    "for c in np.unique(cluster_index):\n",
    "    plt.scatter(data[cluster_index == c, 0],\n",
    "                data[cluster_index == c, 1], label='cluster='+str(c), alpha=.7)\n",
    "\n",
    "# plt.xlim(-.5,1)\n",
    "# plt.ylim(-1,1)\n"
   ]
  }
 ],
 "metadata": {
  "kernelspec": {
   "display_name": "rapids-25.02",
   "language": "python",
   "name": "python3"
  },
  "language_info": {
   "codemirror_mode": {
    "name": "ipython",
    "version": 3
   },
   "file_extension": ".py",
   "mimetype": "text/x-python",
   "name": "python",
   "nbconvert_exporter": "python",
   "pygments_lexer": "ipython3",
   "version": "3.12.9"
  }
 },
 "nbformat": 4,
 "nbformat_minor": 2
}
