{
 "cells": [
  {
   "cell_type": "markdown",
   "metadata": {},
   "source": [
    "## Quantization Error (QE) and Topographic Error (TE)"
   ]
  },
  {
   "cell_type": "code",
   "execution_count": null,
   "metadata": {
    "vscode": {
     "languageId": "plaintext"
    }
   },
   "outputs": [],
   "source": [
    "# Quantization Error (QE)\n",
    "# Average distance of a data point to the nearest lattice node\n",
    "# Measures how well the mapping fits the distribution of the data\n",
    "\n",
    "def som_quantization_error(data, trained_som):\n",
    "    '''\n",
    "    Calculates the quantization error of a trained SOMNet object\n",
    "\n",
    "    Args:\n",
    "        data: NumPy array of input data.\n",
    "        trainded_som: trained SimpSOM SOMNet object\n",
    "\n",
    "    Returns:\n",
    "        quantization error (float)\n",
    "    '''\n",
    "    # Convert to clean NumPy array with uniform dtype first\n",
    "    data_np = np.asarray(data, dtype=np.float64)\n",
    "\n",
    "    # Convert NumPy array to CuPy array for GPU processing\n",
    "    data_cp = cp.array(data_np)\n",
    "\n",
    "    # Find all BMU indices\n",
    "    bmu_indices = trained_som.find_bmu_ix(data_cp)\n",
    "\n",
    "    # Get the weights of the BMUs\n",
    "    bmu_weights = cp.array([trained_som.nodes_list[int(bmu_idx)].weights for bmu_idx in bmu_indices])\n",
    "\n",
    "    # Vectorized distance calculation\n",
    "    distances = cp.linalg.norm(bmu_weights - data_cp, axis=1)\n",
    "    total_distance = cp.sum(distances)\n",
    "\n",
    "    quantization_error = float(total_distance / len(data))\n",
    "    return quantization_error"
   ]
  },
  {
   "cell_type": "code",
   "execution_count": null,
   "metadata": {
    "vscode": {
     "languageId": "plaintext"
    }
   },
   "outputs": [],
   "source": [
    "# Topographic Error (TE)\n",
    "# Proportion of data points whose BMU and second BMU are NOT neighbors\n",
    "# Measures how well the shape of the data is preserved in the output space\n",
    "\n",
    "def som_topographic_error(data, trained_som):\n",
    "    \"\"\"\n",
    "    Computes topographic error ET for a SOM with hex topology using GPU (CuPy).\n",
    "    \n",
    "    Args:\n",
    "        data:    The input data used to train the SOM (NumPy array).\n",
    "        trained_som: A trained SOMNet object from the simpsom library.\n",
    "\n",
    "    Returns:\n",
    "        Topographic error (float between 0 and 1).\n",
    "        Proportion of data points whose BMU and second BMU are NOT neighbors\n",
    "    \"\"\"\n",
    "    # Convert data to CuPy arrays\n",
    "    data_cp = cp.array(data)\n",
    "\n",
    "    # Get all the nodes' weights from the trained SOM (GPU-enabled)\n",
    "    weights_cp = cp.array([node.weights for node in trained_som.nodes_list])\n",
    "\n",
    "    # Initialize total error\n",
    "    total_error = 0\n",
    "\n",
    "    # Find all BMU indices\n",
    "    bmu_indices = trained_som.find_bmu_ix(data_cp)\n",
    "\n",
    "    # Find all the second BMU indices\n",
    "    som_dist = sps.distances.Distance(xp=np) # Initialize the distance object, as required by the documentation\n",
    "    distances = som_dist.pairdist(data_cp, weights_cp, metric='euclidean')\n",
    "\n",
    "    sorted_indices = cp.argsort(distances, axis=1)\n",
    "    sbmu_indices = sorted_indices[:, 1]\n",
    "\n",
    "\n",
    "    # Get the positions of the BMU and second BMU in the grid\n",
    "    bmu_positions = cp.array([trained_som.nodes_list[int(bmu_idx)].pos for bmu_idx in bmu_indices])\n",
    "    sbmu_positions = cp.array([trained_som.nodes_list[int(sbmu_idx)].pos for sbmu_idx in sbmu_indices])\n",
    "\n",
    "\n",
    "    bmu_row, bmu_col = bmu_positions[:, 0], bmu_positions[:, 1]\n",
    "    sbmu_row, sbmu_col = sbmu_positions[:, 0], sbmu_positions[:, 1]\n",
    "\n",
    "    # Check if BMU and sBMU are neighbors\n",
    "    row_neighbors = cp.abs(bmu_row - sbmu_row)\n",
    "    col_neighbors = cp.abs(bmu_col - sbmu_col)\n",
    "\n",
    "    not_neighbors = (row_neighbors > 1) | (col_neighbors > 1)\n",
    "\n",
    "    number_not_neighbors = cp.sum(not_neighbors)\n",
    "\n",
    "    # Compute the topographic error\n",
    "    topographic_error = number_not_neighbors / data_cp.shape[0]\n",
    "\n",
    "    return float(topographic_error)"
   ]
  }
 ],
 "metadata": {
  "language_info": {
   "name": "python"
  }
 },
 "nbformat": 4,
 "nbformat_minor": 2
}
