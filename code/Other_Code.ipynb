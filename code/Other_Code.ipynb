{
 "cells": [
  {
   "cell_type": "markdown",
   "metadata": {},
   "source": [
    "# Other Code"
   ]
  },
  {
   "cell_type": "markdown",
   "metadata": {},
   "source": [
    "Given a fits image of a survey, calculate the area of the survey in degrees^2. The fits image is in pixels and the CDELT1 value on the header is used to rescale to physical units."
   ]
  },
  {
   "cell_type": "code",
   "execution_count": null,
   "metadata": {
    "vscode": {
     "languageId": "plaintext"
    }
   },
   "outputs": [],
   "source": [
    "def calculate_survey_area(fits_file):\n",
    "    # Open the FITS file and extract the header\n",
    "    with fits.open(fits_file) as hdul:\n",
    "        header = hdul[0].header\n",
    "        data = hdul[0].data\n",
    "        \n",
    "        # Ensure data is at least 2D (handle multi-dimensional FITS files)\n",
    "        if data.ndim > 2:\n",
    "            data = data[0]  # Take the first frame if it's a multi-frame FITS\n",
    "        \n",
    "        # Get image dimensions\n",
    "        height, width = data.shape[-2:]  # Ensure correct shape indexing\n",
    "        total_pixels = width * height\n",
    "        \n",
    "        # Extract pixel scale from header (if available)\n",
    "        if 'PIXSCALE' in header:\n",
    "            pixel_scale = header['PIXSCALE']  # in arcsec/pixel\n",
    "        elif 'CDELT1' in header and 'CDELT2' in header:\n",
    "            if header['CUNIT1'] == 'deg' and header['CUNIT2'] == 'deg': # Check if units are in degrees\n",
    "                pixel_scale = np.abs(header['CDELT1']) * 3600  # Convert from decimal degrees to arcseconds\n",
    "        else:\n",
    "            raise ValueError(\"Pixel scale not found in FITS header. Check metadata or specify manually.\")\n",
    "        \n",
    "        # Compute the survey area in square arcseconds\n",
    "        area_arcsec2 = total_pixels * (pixel_scale ** 2)\n",
    "        \n",
    "        # Convert to square degrees\n",
    "        area_deg2 = area_arcsec2 / (3600 ** 2)\n",
    "        \n",
    "    print(f\"Total pixels: {total_pixels}\")\n",
    "    print(f\"Pixel scale (arcsec/pixel): {pixel_scale}\")\n",
    "    print(f\"Survey area (deg^2): {area_deg2}\")\n",
    "\n",
    "    return area_deg2"
   ]
  },
  {
   "cell_type": "code",
   "execution_count": null,
   "metadata": {
    "vscode": {
     "languageId": "plaintext"
    }
   },
   "outputs": [],
   "source": [
    "area_emu_survey = calculate_survey_area(emu_mosaic_path)"
   ]
  }
 ],
 "metadata": {
  "language_info": {
   "name": "python"
  }
 },
 "nbformat": 4,
 "nbformat_minor": 2
}
