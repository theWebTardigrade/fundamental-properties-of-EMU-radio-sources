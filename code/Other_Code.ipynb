{
 "cells": [
  {
   "cell_type": "markdown",
   "metadata": {},
   "source": [
    "# Other Code"
   ]
  },
  {
   "cell_type": "markdown",
   "metadata": {},
   "source": [
    "Given a fits image of a survey, calculate the area of the survey in degrees^2. The fits image is in pixels and the CDELT1 value on the header is used to rescale to physical units."
   ]
  },
  {
   "cell_type": "code",
   "execution_count": null,
   "metadata": {
    "vscode": {
     "languageId": "plaintext"
    }
   },
   "outputs": [],
   "source": [
    "def calculate_survey_area(fits_file):\n",
    "    # Open the FITS file and extract the header\n",
    "    with fits.open(fits_file) as hdul:\n",
    "        header = hdul[0].header\n",
    "        data = hdul[0].data\n",
    "        \n",
    "        # Ensure data is at least 2D (handle multi-dimensional FITS files)\n",
    "        if data.ndim > 2:\n",
    "            data = data[0]  # Take the first frame if it's a multi-frame FITS\n",
    "        \n",
    "        # Get image dimensions\n",
    "        height, width = data.shape[-2:]  # Ensure correct shape indexing\n",
    "        total_pixels = width * height\n",
    "        \n",
    "        # Extract pixel scale from header (if available)\n",
    "        if 'PIXSCALE' in header:\n",
    "            pixel_scale = header['PIXSCALE']  # in arcsec/pixel\n",
    "        elif 'CDELT1' in header and 'CDELT2' in header:\n",
    "            if header['CUNIT1'] == 'deg' and header['CUNIT2'] == 'deg': # Check if units are in degrees\n",
    "                pixel_scale = np.abs(header['CDELT1']) * 3600  # Convert from decimal degrees to arcseconds\n",
    "        else:\n",
    "            raise ValueError(\"Pixel scale not found in FITS header. Check metadata or specify manually.\")\n",
    "        \n",
    "        # Compute the survey area in square arcseconds\n",
    "        area_arcsec2 = total_pixels * (pixel_scale ** 2)\n",
    "        \n",
    "        # Convert to square degrees\n",
    "        area_deg2 = area_arcsec2 / (3600 ** 2)\n",
    "        \n",
    "    print(f\"Total pixels: {total_pixels}\")\n",
    "    print(f\"Pixel scale (arcsec/pixel): {pixel_scale}\")\n",
    "    print(f\"Survey area (deg^2): {area_deg2}\")\n",
    "\n",
    "    return area_deg2"
   ]
  },
  {
   "cell_type": "code",
   "execution_count": null,
   "metadata": {
    "vscode": {
     "languageId": "plaintext"
    }
   },
   "outputs": [],
   "source": [
    "area_emu_survey = calculate_survey_area(emu_mosaic_path)"
   ]
  },
  {
   "cell_type": "code",
   "execution_count": null,
   "metadata": {
    "vscode": {
     "languageId": "plaintext"
    }
   },
   "outputs": [],
   "source": [
    "# Create a list of the field name and the corresponding SkyCoord object of the center of the field\n",
    "emu_tiles_dic = [[emu_html_df['field_name'][i], emu_center_coords[i]] for i in range(len(emu_html_df))]\n",
    "\n",
    "# Create a list of valid field names and corresponding SkyCoord object\n",
    "emu_tiles_valid_dic = [[emu_html_df['field_name'][i], emu_center_coords[i]] for i in range(len(emu_html_df)) if has_sbid[i]]"
   ]
  },
  {
   "cell_type": "code",
   "execution_count": null,
   "metadata": {
    "vscode": {
     "languageId": "plaintext"
    }
   },
   "outputs": [],
   "source": [
    "# polygons for area analysis\n",
    "emu_tiles_deg = []\n",
    "emu_tiles_rad = []\n",
    "\n",
    "# polygons for plotting in degrees and radians\n",
    "emu_tiles_plot_deg = []\n",
    "emu_tiles_plot_rad = []\n",
    "\n",
    "# polygons with valid tiles for plotting in radians\n",
    "emu_tiles_plot_rad_valid = []\n",
    "\n",
    "for i in range(len(emu_tiles_df)):\n",
    "    ra_deg = emu_tiles_df['ra_deg'][i]\n",
    "    dec_deg = emu_tiles_df['dec_deg'][i]\n",
    "    \n",
    "    # Size of the tile in degrees\n",
    "    size = 5 \n",
    "    half_size = size / 2\n",
    "\n",
    "    # Define the corners of the tile in degrees\n",
    "    corners_deg = [\n",
    "        (ra_deg - half_size, dec_deg - half_size),\n",
    "        (ra_deg + half_size, dec_deg - half_size),\n",
    "        (ra_deg + half_size, dec_deg + half_size),\n",
    "        (ra_deg - half_size, dec_deg + half_size)\n",
    "    ]\n",
    "\n",
    "    # Shift RA values to center the plot at RA = 0 and convert to radians\n",
    "    corners_rad = [(  np.radians(ra - 360 if ra > 180 else ra ), np.radians(dec)) for ra, dec in corners_deg]\n",
    "\n",
    "    # Define the color of the tiles, if the SBID is missing, color it red, if not, color it blue\n",
    "    color = 'red' if pd.isna(emu_tiles_df['sbid'][i]) else 'blue'\n",
    "\n",
    "    # Append to lists\n",
    "    emu_tiles_deg.append(splyPolygon(corners_deg))\n",
    "    emu_tiles_rad.append(splyPolygon(corners_rad))\n",
    "    if color == 'blue':\n",
    "        emu_tiles_plot_rad_valid.append(mplPolygon(corners_rad))\n",
    "    emu_tiles_plot_deg.append(mplPolygon(corners_deg, closed=True, edgecolor=color, facecolor='none'))\n",
    "    emu_tiles_plot_rad.append(mplPolygon(corners_rad, closed=True, edgecolor=color, facecolor='none'))"
   ]
  },
  {
   "cell_type": "code",
   "execution_count": null,
   "metadata": {
    "vscode": {
     "languageId": "plaintext"
    }
   },
   "outputs": [],
   "source": [
    "# create a list of DES DR1 tiles\n",
    "\n",
    "des_tiles_deg = []\n",
    "des_tiles_rad = []\n",
    "des_tiles_plot_deg = []\n",
    "des_tiles_plot_rad = []\n",
    "\n",
    "for i in range(len(des_tiles_df)):\n",
    "\n",
    "    corners_deg = [\n",
    "        (des_tiles_df['rac1'][i],des_tiles_df['decc1'][i]),\n",
    "        (des_tiles_df['rac2'][i],des_tiles_df['decc2'][i]),\n",
    "        (des_tiles_df['rac3'][i],des_tiles_df['decc3'][i]),\n",
    "        (des_tiles_df['rac4'][i],des_tiles_df['decc4'][i])\n",
    "    ]\n",
    "\n",
    "    # Shift RA values to center the plot at RA = 0 and convert to radians\n",
    "    corners_rad = [(  np.radians(ra - 360 if ra > 180 else ra ), np.radians(dec)) for ra, dec in corners_deg]\n",
    "\n",
    "    # Append to lists\n",
    "    des_tiles_deg.append(splyPolygon(corners_deg))\n",
    "    des_tiles_rad.append(splyPolygon(corners_rad))\n",
    "    des_tiles_plot_deg.append(mplPolygon(corners_deg, closed=True, edgecolor='purple', facecolor='none'))\n",
    "    des_tiles_plot_rad.append(mplPolygon(corners_rad, closed=True, edgecolor='purple', facecolor='none'))\n",
    "\n",
    "    print(des_tiles_deg)"
   ]
  }
 ],
 "metadata": {
  "language_info": {
   "name": "python"
  }
 },
 "nbformat": 4,
 "nbformat_minor": 2
}
