{
 "cells": [
  {
   "cell_type": "markdown",
   "id": "a6942eac",
   "metadata": {},
   "source": [
    "# Self Organized Maps (SOMs) for DES objects"
   ]
  },
  {
   "cell_type": "markdown",
   "id": "0730eeb3",
   "metadata": {},
   "source": [
    "Define the directory were all the files are saved."
   ]
  },
  {
   "cell_type": "markdown",
   "id": "d47a6d16",
   "metadata": {},
   "source": [
    "observatory = '/data/mfonseca/'\n",
    "my_computer = '/home/polaris/Lab_Astro/data/'\n",
    "\n",
    "directory = my_computer"
   ]
  },
  {
   "cell_type": "markdown",
   "id": "b72afb7a",
   "metadata": {},
   "source": [
    "## Import Libraries"
   ]
  },
  {
   "cell_type": "code",
   "execution_count": null,
   "id": "532e0845",
   "metadata": {},
   "outputs": [],
   "source": [
    "import matplotlib.pyplot as plt\n",
    "import matplotlib.colors as mcolors\n",
    "\n",
    "import numpy as np\n",
    "import pandas as pd\n",
    "\n",
    "# SimpSOM, https://simpsom.readthedocs.io\n",
    "import simpsom as sps\n",
    "\n",
    "# Astropy\n",
    "from astropy.table import Table\n",
    "from astropy.coordinates import SkyCoord\n",
    "from astropy import units as u\n",
    "\n",
    "# CuPY\n",
    "# import cupy as cp\n",
    "\n",
    "# Seaborn\n",
    "import seaborn as sns\n",
    "\n",
    "# Kolmorgorov-Smirnov\n",
    "from scipy.stats import kstest"
   ]
  }
 ],
 "metadata": {
  "language_info": {
   "name": "python"
  }
 },
 "nbformat": 4,
 "nbformat_minor": 5
}
