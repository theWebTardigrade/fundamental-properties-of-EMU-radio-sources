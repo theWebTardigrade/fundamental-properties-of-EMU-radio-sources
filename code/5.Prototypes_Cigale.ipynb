{
 "cells": [
  {
   "cell_type": "markdown",
   "id": "222f9a6e",
   "metadata": {},
   "source": [
    "# Import Libraries"
   ]
  },
  {
   "cell_type": "code",
   "execution_count": null,
   "id": "9532c641",
   "metadata": {
    "vscode": {
     "languageId": "plaintext"
    }
   },
   "outputs": [],
   "source": [
    "import numpy as np\n",
    "from astropy.table import Table\n",
    "import pandas as pd"
   ]
  },
  {
   "cell_type": "code",
   "execution_count": null,
   "id": "4a3743e7",
   "metadata": {
    "vscode": {
     "languageId": "plaintext"
    }
   },
   "outputs": [],
   "source": [
    "observatory = '/home/mfonseca/fastdisk'\n",
    "my_computer = '/home/polaris/Lab_Astro/data/'\n",
    "\n",
    "directory = my_computer"
   ]
  },
  {
   "cell_type": "markdown",
   "id": "40ca9ade",
   "metadata": {},
   "source": [
    "# Import prototype file from SOMs"
   ]
  },
  {
   "cell_type": "code",
   "execution_count": null,
   "id": "1c6b9a92",
   "metadata": {
    "vscode": {
     "languageId": "plaintext"
    }
   },
   "outputs": [],
   "source": [
    "link = "
   ]
  },
  {
   "cell_type": "markdown",
   "id": "ccfde4f3",
   "metadata": {
    "vscode": {
     "languageId": "plaintext"
    }
   },
   "source": [
    "# Convert colors to magnitudes"
   ]
  },
  {
   "cell_type": "markdown",
   "id": "480ade27",
   "metadata": {},
   "source": [
    "# Convert magnitudes to fluxes"
   ]
  },
  {
   "cell_type": "markdown",
   "id": "d48de10d",
   "metadata": {},
   "source": [
    "# Export "
   ]
  }
 ],
 "metadata": {
  "language_info": {
   "name": "python"
  }
 },
 "nbformat": 4,
 "nbformat_minor": 5
}
