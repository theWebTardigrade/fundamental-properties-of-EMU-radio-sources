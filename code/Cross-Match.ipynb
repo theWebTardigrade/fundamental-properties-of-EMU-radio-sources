{
 "cells": [
  {
   "cell_type": "markdown",
   "metadata": {},
   "source": [
    "# Fundamental Properties of EMU Radio Sources - Cross-Match Catalogs using NWAY"
   ]
  },
  {
   "cell_type": "markdown",
   "metadata": {},
   "source": [
    "## Import Libraries"
   ]
  },
  {
   "cell_type": "code",
   "execution_count": 4,
   "metadata": {},
   "outputs": [],
   "source": [
    "from astropy.io import fits\n",
    "import numpy as np\n",
    "from astropy.table import Table"
   ]
  },
  {
   "cell_type": "markdown",
   "metadata": {},
   "source": [
    "## Import Catalog Data"
   ]
  },
  {
   "cell_type": "code",
   "execution_count": null,
   "metadata": {},
   "outputs": [],
   "source": [
    "emu_catalog_path = '/data/mfonseca/survey_data/EMU_data/EMU_0102-32/EMU_0102-32_1comp.fits'\n",
    "des_catalog_path = '/data/mfonseca/survey_data/DES_data/DES_in_EMU_0102-32_square.fits'\n",
    "viking_catalog_path = '/data/mfonseca/survey_data/VIKING_data/VIKING_in_EMU_0102-32.fits'\n",
    "catwise_catalog_path = '/data/mfonseca/survey_data/CATWISE_data/CATWISE2020_in_EMU_0102-32.fits'"
   ]
  },
  {
   "cell_type": "markdown",
   "metadata": {},
   "source": [
    "## Prepare the catalogs for NWAY input\n",
    "The NWAY library has multiple requirements for a catalog to serve as input.\n",
    "1. The fits data table needs to have a extension name. It is used as a prefix for the columns copied to the output catalog, so each column from each catalog is called \"PREFIXOFCATALOG_NAMEOFCOLUMN\"\n",
    "2. The fits header of the catalogs needs to have the SKYAREA keyword. This keyword has the area on the sky in square degrees covered by the catalog. Since I don't have the documentation for EMU data, I must calculate the area using the mosaic image.\n",
    "3. The position error needs to be a column with a single value, called positional error, so we need to obtain it from the right ascension and declination errors."
   ]
  },
  {
   "cell_type": "markdown",
   "metadata": {},
   "source": [
    "### Change extension name\n",
    "This process is also possible using just the NWAY library. Check page 8 of the NWAY documentation"
   ]
  },
  {
   "cell_type": "code",
   "execution_count": 3,
   "metadata": {},
   "outputs": [],
   "source": [
    "def change_hdu_name(fits_file, hdu_index, new_name):\n",
    "    with fits.open(fits_file, mode='update') as hdul:\n",
    "        # Change the name of the specified HDU\n",
    "        hdul[hdu_index].header['EXTNAME'] = new_name\n",
    "        # Save changes to the FITS file\n",
    "        hdul.flush()"
   ]
  },
  {
   "cell_type": "markdown",
   "metadata": {},
   "source": [
    "Change extension name of EMU survey to \"EMU\" and of GAMA-23 survey to \"G23\""
   ]
  },
  {
   "cell_type": "code",
   "execution_count": 4,
   "metadata": {},
   "outputs": [],
   "source": [
    "change_hdu_name(emu_catalog_path, hdu_index=1, new_name=\"EMU\")\n",
    "change_hdu_name(des_catalog_path, hdu_index=1, new_name=\"DES\")\n",
    "change_hdu_name(viking_catalog_path, hdu_index=1, new_name=\"VKG\")\n",
    "change_hdu_name(catwise_catalog_path, hdu_index=1, new_name=\"CAT\")"
   ]
  },
  {
   "cell_type": "markdown",
   "metadata": {},
   "source": [
    "### Create and assign value to SKYAREA keyword"
   ]
  },
  {
   "cell_type": "markdown",
   "metadata": {},
   "source": [
    "Create the SKYAREA in the FITS header and assign a value to it."
   ]
  },
  {
   "cell_type": "code",
   "execution_count": 5,
   "metadata": {},
   "outputs": [],
   "source": [
    "def create_skyarea_keyword(fits_file, skyarea_value):\n",
    "    \"\"\"\n",
    "    Create the SKYAREA keyword in the FITS header and assign a value to it.\n",
    "\n",
    "    Parameters:\n",
    "    fits_file (str): Path to the FITS file.\n",
    "    skyarea_value (float): Value to assign to the SKYAREA keyword (in square degrees).\n",
    "    \"\"\"\n",
    "    with fits.open(fits_file, mode='update') as hdul:\n",
    "        header = hdul[1].header\n",
    "        \n",
    "        header['SKYAREA'] = skyarea_value\n",
    "        \n",
    "        hdul.flush()\n",
    "        print(f\"SKYAREA keyword set to {skyarea_value} in {fits_file}.\")"
   ]
  },
  {
   "cell_type": "code",
   "execution_count": 6,
   "metadata": {},
   "outputs": [],
   "source": [
    "def calculate_skyarea(ra_interval, dec_interval):\n",
    "    \"\"\"\n",
    "    Calculate the area of the sky.\n",
    "\n",
    "    Parameters:\n",
    "    ra_interval (list): List of interval of RA in degrees\n",
    "    dec_interval (list): List of interval of DEC in degrees\n",
    "\n",
    "    \"\"\"\n",
    "    delta_ra_rad  = np.radians(abs(ra_interval[1]-ra_interval[0]))\n",
    "    delta_dec_rad = np.sin(np.radians(dec_interval[1])) - np.sin(np.radians(dec_interval[0]))\n",
    "\n",
    "    solid_angle_sr = delta_ra_rad*delta_dec_rad\n",
    "    solid_angle_deg2 = solid_angle_sr * (180 / np.pi) ** 2\n",
    "\n",
    "    return solid_angle_deg2"
   ]
  },
  {
   "cell_type": "code",
   "execution_count": null,
   "metadata": {},
   "outputs": [
    {
     "name": "stdout",
     "output_type": "stream",
     "text": [
      "30.425887052030664\n"
     ]
    }
   ],
   "source": [
    "# Acoording to documentation it is indeed around 30 degrees\n",
    "area_emu_survey = calculate_skyarea([12.0,19.0], [-35.16,-30.00])\n",
    "print(area_emu_survey)"
   ]
  },
  {
   "cell_type": "code",
   "execution_count": null,
   "metadata": {},
   "outputs": [
    {
     "name": "stdout",
     "output_type": "stream",
     "text": [
      "SKYAREA keyword set to 30.425887052030664 in /home/polaris/Lab_Astro/data/EMU_data/EMU_0102-32/EMU_0102-32_1comp.fits.\n",
      "SKYAREA keyword set to 53.100621980421366 in /home/polaris/Lab_Astro/data/DES_data/DES_in_EMU_0102-32_square.fits.\n",
      "SKYAREA keyword set to 53.100621980421366 in /home/polaris/Lab_Astro/data/VIKING_data/VIKING_in_EMU_0102-32.fits.\n",
      "SKYAREA keyword set to 53.100621980421366 in /home/polaris/Lab_Astro/data/CATWISE_data/CATWISE2020_in_EMU_0102-32.fits.\n"
     ]
    }
   ],
   "source": [
    "area_emu_survey = calculate_skyarea([12.0,19.0], [-35.16,-30.00])\n",
    "\n",
    "# The limits are derived from the limit imposed when querying the catalogs\n",
    "area_des_survey = calculate_skyarea([11.00,20.0], [-36.00,-29.00])\n",
    "area_viking_survey = calculate_skyarea([11.00,20.0], [-36.00,-29.00])\n",
    "area_catwise_survey = calculate_skyarea([11.00,20.0], [-36.00,-29.00])\n",
    "\n",
    "\n",
    "create_skyarea_keyword(emu_catalog_path, area_emu_survey)\n",
    "create_skyarea_keyword(des_catalog_path, area_des_survey)\n",
    "create_skyarea_keyword(viking_catalog_path, area_viking_survey)\n",
    "create_skyarea_keyword(catwise_catalog_path, area_catwise_survey)"
   ]
  },
  {
   "cell_type": "markdown",
   "metadata": {},
   "source": [
    "## Fix Class of Columns in VIKING Survey"
   ]
  },
  {
   "cell_type": "code",
   "execution_count": 10,
   "metadata": {},
   "outputs": [
    {
     "name": "stderr",
     "output_type": "stream",
     "text": [
      "WARNING: UnitsWarning: 'Degrees' did not parse as fits unit: At col 0, Unit 'Degrees' not supported by the FITS standard.  If this is meant to be a custom unit, define it with 'u.def_unit'. To have it recognized inside a file reader or other code, enable it with 'u.add_enabled_units'. For details, see https://docs.astropy.org/en/latest/units/combining_and_defining.html [astropy.units.core]\n"
     ]
    },
    {
     "name": "stdout",
     "output_type": "stream",
     "text": [
      "Cleaned FITS table saved to: /home/polaris/Lab_Astro/data/VIKING_data/VIKING_in_EMU_0102-32.fits\n"
     ]
    }
   ],
   "source": [
    "# Read the table from the FITS file\n",
    "table = Table.read(viking_catalog_path, format='fits')\n",
    "\n",
    "# Ensure the key columns are floats\n",
    "for col in ['ra', 'dec', 'zPetroMag', 'zPetroMagErr', 'jPetroMag', 'jPetroMagErr', 'yPetroMag', 'yPetroMagErr', 'ksPetroMag', 'ksPetroMagErr', 'hPetroMag', 'hPetroMagErr']:\n",
    "    if col in table.colnames:\n",
    "        # Convert column to float, handling strings or mixed types\n",
    "        table[col] = np.asarray(table[col], dtype=np.float64)\n",
    "    else:\n",
    "        raise KeyError(f\"Column '{col}' not found in the FITS table.\")\n",
    "\n",
    "# Save the cleaned table\n",
    "table.write(viking_catalog_path, format='fits', overwrite=True)\n",
    "\n",
    "print(f\"Cleaned FITS table saved to: {viking_catalog_path}\")"
   ]
  },
  {
   "cell_type": "markdown",
   "metadata": {},
   "source": [
    "## Fix ID Column in EMU survey"
   ]
  },
  {
   "cell_type": "code",
   "execution_count": null,
   "metadata": {},
   "outputs": [],
   "source": [
    "\n",
    "def create_id_column_from_source_name(fits_file):\n",
    "    with fits.open(fits_file, mode='update') as hdul:\n",
    "        data = hdul[1].data\n",
    "\n",
    "        if 'Source_Name' not in data.columns.names:\n",
    "            raise ValueError(\"The FITS file does not contain a 'Source_Name' column.\")\n",
    "        \n",
    "        if 'ID' in data.columns.names:\n",
    "            raise ValueError(\"The FITS file already contains an 'ID' column.\")\n",
    "\n",
    "        source_names = data['Source_Name']\n",
    "\n",
    "        id_data = [name.split('EMUJ')[-1] if 'EMUJ' in name else '' for name in source_names]\n",
    "\n",
    "        id_col = fits.Column(name='ID', format='20A', array=id_data)  # '20A' for a string column of max length 20\n",
    "\n",
    "        new_columns = hdul[1].columns + fits.ColDefs([id_col])\n",
    "        new_hdu = fits.BinTableHDU.from_columns(new_columns)\n",
    "\n",
    "        hdul[1] = new_hdu\n",
    "\n",
    "        hdul.flush()\n",
    "        print(\"Created new 'ID' column with the number part of 'Source_Name'.\")"
   ]
  }
 ],
 "metadata": {
  "kernelspec": {
   "display_name": "rapids-25.02",
   "language": "python",
   "name": "python3"
  },
  "language_info": {
   "codemirror_mode": {
    "name": "ipython",
    "version": 3
   },
   "file_extension": ".py",
   "mimetype": "text/x-python",
   "name": "python",
   "nbconvert_exporter": "python",
   "pygments_lexer": "ipython3",
   "version": "3.12.9"
  }
 },
 "nbformat": 4,
 "nbformat_minor": 2
}
