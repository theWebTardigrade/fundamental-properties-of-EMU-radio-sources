{
 "cells": [
  {
   "cell_type": "markdown",
   "metadata": {},
   "source": [
    "# Fundamental Properties of EMU Radio Sources - Cross-Match Catalogs using NWAY"
   ]
  },
  {
   "cell_type": "markdown",
   "metadata": {},
   "source": [
    "## Libraries"
   ]
  },
  {
   "cell_type": "code",
   "execution_count": null,
   "metadata": {},
   "outputs": [],
   "source": [
    "from astropy.io import fits\n",
    "import numpy as np\n",
    "import subprocess"
   ]
  },
  {
   "cell_type": "markdown",
   "metadata": {},
   "source": [
    "## Import Catalog Data"
   ]
  },
  {
   "cell_type": "code",
   "execution_count": null,
   "metadata": {},
   "outputs": [],
   "source": [
    "emu_catalog_path = \"/home/polaris/Lab_Astro/data/G23-ASKAP-EMUES-master-cat.fits\"\n",
    "emu_mosaic_path = \"/home/polaris/Lab_Astro/data/G23-ASKAP-EMUES-data/G23-EMUES-mosaic.fits\"\n",
    "\n",
    "gama_catalog_path = \"/home/polaris/Lab_Astro/data/gkvInputCatv02.fits\""
   ]
  },
  {
   "cell_type": "code",
   "execution_count": null,
   "metadata": {},
   "outputs": [],
   "source": [
    "def get_catalog_data(catalog_path):\n",
    "    # Open the fits file of the catalog as a fits object\n",
    "    catalog = fits.open(catalog_path)\n",
    "\n",
    "    # Get the data and header of the catalog\n",
    "    catalog_data = catalog[1].data\n",
    "    catalog_header = catalog[1].header\n",
    "    \n",
    "    return catalog_data, catalog_header\n"
   ]
  },
  {
   "cell_type": "code",
   "execution_count": null,
   "metadata": {},
   "outputs": [],
   "source": [
    "emu_catalog_data, emu_catalog_header = get_catalog_data(emu_catalog_path)\n",
    "gama_catalog_data, gama_catalog_header = get_catalog_data(gama_catalog_path)"
   ]
  },
  {
   "cell_type": "markdown",
   "metadata": {},
   "source": [
    "## Prepare the catalogs for NWAY input\n",
    "The NWAY library has multiple requirements for a catalog to serve as input.\n",
    "1. The fits data table needs to have a extension name, that is used as a prefix for the columns copied to the output catalog\n",
    "2. The fits header of the catalogs needs to have the SKYAREA keyword. This keyword has the area on the sky in square degrees covered by the catalog. Since I don't have the documentation for EMU data, I must calculate the area using the mosaic image.\n",
    "3. The position error needs to be a column with a single value, called positional error, so we need to obtain it from the right ascension and declination errors."
   ]
  },
  {
   "cell_type": "markdown",
   "metadata": {},
   "source": [
    "### Change extension name\n",
    "This process is also possible using just the NWAY library. Check page 8 of the NWAY documentation"
   ]
  },
  {
   "cell_type": "code",
   "execution_count": null,
   "metadata": {},
   "outputs": [],
   "source": [
    "def change_hdu_name(fits_file, hdu_index, new_name):\n",
    "    with fits.open(fits_file, mode='update') as hdul:\n",
    "        # Change the name of the specified HDU\n",
    "        hdul[hdu_index].header['EXTNAME'] = new_name\n",
    "        # Save changes to the FITS file\n",
    "        hdul.flush()"
   ]
  },
  {
   "cell_type": "markdown",
   "metadata": {},
   "source": [
    "Change extension name of EMU survey to \"EMU\" and of GAMA-23 survey to \"G23\""
   ]
  },
  {
   "cell_type": "code",
   "execution_count": null,
   "metadata": {},
   "outputs": [],
   "source": [
    "change_hdu_name(emu_catalog_path, hdu_index=1, new_name=\"EMU\")\n",
    "change_hdu_name(gama_catalog_path, hdu_index=1, new_name=\"G23\")"
   ]
  },
  {
   "cell_type": "markdown",
   "metadata": {},
   "source": [
    "### Calculate the area of the survey\n",
    "Given a fits image of a survey, calculate the area of the survey in degrees^2. The fits image is in pixels and the CDELT1 value on the header is used to rescale to physical units."
   ]
  },
  {
   "cell_type": "code",
   "execution_count": null,
   "metadata": {},
   "outputs": [],
   "source": [
    "def calculate_survey_area(fits_file):\n",
    "    # Open the FITS file and extract the header\n",
    "    with fits.open(fits_file) as hdul:\n",
    "        header = hdul[0].header\n",
    "        data = hdul[0].data\n",
    "        \n",
    "        # Ensure data is at least 2D (handle multi-dimensional FITS files)\n",
    "        if data.ndim > 2:\n",
    "            data = data[0]  # Take the first frame if it's a multi-frame FITS\n",
    "        \n",
    "        # Get image dimensions\n",
    "        height, width = data.shape[-2:]  # Ensure correct shape indexing\n",
    "        total_pixels = width * height\n",
    "        \n",
    "        # Extract pixel scale from header (if available)\n",
    "        if 'PIXSCALE' in header:\n",
    "            pixel_scale = header['PIXSCALE']  # in arcsec/pixel\n",
    "        elif 'CDELT1' in header and 'CDELT2' in header:\n",
    "            if header['CUNIT1'] == 'deg' and header['CUNIT2'] == 'deg': # Check if units are in degrees\n",
    "                pixel_scale = np.abs(header['CDELT1']) * 3600  # Convert from decimal degrees to arcseconds\n",
    "        else:\n",
    "            raise ValueError(\"Pixel scale not found in FITS header. Check metadata or specify manually.\")\n",
    "        \n",
    "        # Compute the survey area in square arcseconds\n",
    "        area_arcsec2 = total_pixels * (pixel_scale ** 2)\n",
    "        \n",
    "        # Convert to square degrees\n",
    "        area_deg2 = area_arcsec2 / (3600 ** 2)\n",
    "        \n",
    "    print(f\"Total pixels: {total_pixels}\")\n",
    "    print(f\"Pixel scale (arcsec/pixel): {pixel_scale}\")\n",
    "    print(f\"Survey area (deg^2): {area_deg2}\")\n"
   ]
  },
  {
   "cell_type": "code",
   "execution_count": null,
   "metadata": {},
   "outputs": [],
   "source": [
    "area_emu_survey = calculate_survey_area(emu_mosaic_path)\n",
    "area_emu_survey"
   ]
  },
  {
   "cell_type": "markdown",
   "metadata": {},
   "source": [
    "### Create positional error column and append to fits file\n",
    "This function considers that both the error in RA and DEC are in angular units. The positional error is calculated by using the uncertainty formula."
   ]
  },
  {
   "cell_type": "code",
   "execution_count": null,
   "metadata": {},
   "outputs": [],
   "source": [
    "def create_positional_error_column(fits_file):\n",
    "    # Open the FITS file and extract data\n",
    "    with fits.open(fits_file, mode='update') as hdul:\n",
    "        data = hdul[1].data\n",
    "\n",
    "        ra_error = data['E_RA']\n",
    "        dec_error = data['E_DEC']\n",
    "\n",
    "        # Compute the positional error\n",
    "        pos_error_data = np.sqrt(ra_error ** 2 + dec_error ** 2)\n",
    "\n",
    "        # Create a new column\n",
    "        pos_error_col = fits.Column(name='POS_ERROR', format='D', array=pos_error_data) # 'D' is for double precision float (64-bit)\n",
    "\n",
    "        # Add the new column to the existing table\n",
    "        new_columns = hdul[1].columns + fits.ColDefs([pos_error_col])\n",
    "        new_hdu = fits.BinTableHDU.from_columns(new_columns)\n",
    "\n",
    "        # Replace the binary table HDU with the updated one\n",
    "        hdul[1] = new_hdu\n",
    "\n",
    "        # Save changes to the FITS file\n",
    "        hdul.flush()\n",
    "\n",
    "        print(\"Positional error column created successfully.\")"
   ]
  },
  {
   "cell_type": "code",
   "execution_count": null,
   "metadata": {},
   "outputs": [],
   "source": [
    "create_positional_error_column(emu_catalog_path)"
   ]
  },
  {
   "cell_type": "markdown",
   "metadata": {},
   "source": [
    "## Run NWAY"
   ]
  },
  {
   "cell_type": "code",
   "execution_count": null,
   "metadata": {},
   "outputs": [],
   "source": [
    "def run_nway_and_print_output(primary_catalog, secondary_catalog, output_file, primary_err_col, secondary_err_col):\n",
    "    \"\"\"\n",
    "    Run NWAY for cross-matching catalogs and print the output.\n",
    "\n",
    "    Parameters:\n",
    "    primary_catalog (str): Path to the primary catalog FITS file.\n",
    "    secondary_catalog (str): Path to the secondary catalog FITS file.\n",
    "    output_file (str): Path to save the output catalog.\n",
    "    primary_err_col (str): Column name for positional error in the primary catalog.\n",
    "    secondary_err_col (str): Column name for positional error in the secondary catalog.\n",
    "    \"\"\"\n",
    "    # Construct the NWAY command\n",
    "    command = [\n",
    "        'nway.py ',\n",
    "        primary_catalog, \n",
    "        ' :', primary_err_col, ' ',\n",
    "        secondary_catalog,\n",
    "        ' :', secondary_err_col,\n",
    "        \" --out\", output_file,\n",
    "    ]\n",
    "\n",
    "    # Run the NWAY command and capture output\n",
    "    try:\n",
    "        result = subprocess.run(command, check=True, text=True, capture_output=True)\n",
    "        print(\"NWAY Output:\")\n",
    "        print(result.stdout)  # Print the standard output from NWAY\n",
    "        if result.stderr:\n",
    "            print(\"NWAY Errors:\")\n",
    "            print(result.stderr)  # Print any errors from NWAY\n",
    "    except subprocess.CalledProcessError as e:\n",
    "        print(f\"Error running NWAY: {e}\")\n",
    "        print(f\"Standard Output:\\n{e.stdout}\")\n",
    "        print(f\"Standard Error:\\n{e.stderr}\")\n",
    "    except FileNotFoundError:\n",
    "        print(\"NWAY is not installed or not found in the system PATH.\")\n"
   ]
  }
 ],
 "metadata": {
  "kernelspec": {
   "display_name": "labastro",
   "language": "python",
   "name": "python3"
  },
  "language_info": {
   "codemirror_mode": {
    "name": "ipython",
    "version": 3
   },
   "file_extension": ".py",
   "mimetype": "text/x-python",
   "name": "python",
   "nbconvert_exporter": "python",
   "pygments_lexer": "ipython3",
   "version": "3.10.16"
  }
 },
 "nbformat": 4,
 "nbformat_minor": 2
}
