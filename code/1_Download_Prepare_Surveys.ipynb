{
 "cells": [
  {
   "cell_type": "markdown",
   "id": "94d63de1",
   "metadata": {},
   "source": [
    "# Prepare All Catalogs"
   ]
  },
  {
   "cell_type": "markdown",
   "id": "a202adab",
   "metadata": {},
   "source": [
    "This notebook contains a list of functions that prepare the complementary catalogs for future work.\n",
    "\n",
    "Make sure all of the functions add new columns to the catalogs instead of replace the values of the old was, to avoid replacing multiple times and making a mistake\n",
    "\n",
    "It clears the catalogs of non-detections and flagged objects."
   ]
  },
  {
   "cell_type": "markdown",
   "id": "22ad527e",
   "metadata": {},
   "source": [
    "## Import libraries"
   ]
  },
  {
   "cell_type": "code",
   "execution_count": 1,
   "id": "bea44ecd",
   "metadata": {},
   "outputs": [],
   "source": [
    "# Astropy\n",
    "from astropy.table import Table\n",
    "from astropy.io import fits\n",
    "from astropy.coordinates import SkyCoord\n",
    "from astropy import units as u\n",
    "\n",
    "import missingno\n",
    "import numpy as np"
   ]
  },
  {
   "cell_type": "markdown",
   "id": "167eceac",
   "metadata": {},
   "source": [
    "## Define the paths to the main catalogs to use"
   ]
  },
  {
   "cell_type": "code",
   "execution_count": 2,
   "id": "6861e12a",
   "metadata": {},
   "outputs": [],
   "source": [
    "observatory = '/data/mfonseca/'\n",
    "my_computer = '/home/polaris/Lab_Astro/data/'\n",
    "\n",
    "directory = my_computer"
   ]
  },
  {
   "cell_type": "code",
   "execution_count": 3,
   "id": "fd9ac1ac",
   "metadata": {},
   "outputs": [],
   "source": [
    "# EMU catalogs\n",
    "emu_catalog_path = directory + 'survey_data/EMU_data/EMU_0102-32/EMU_0102-32_1comp.fits'\n",
    "emu_patched_catalog_path = '/data/mfonseca/survey_data/EMU_data/EMU_0102-32/EMU_0102-32_1comp_withoutpatches.fits'\n",
    "\n",
    "# DES catalogs\n",
    "desdr2_catalog_path = directory + 'survey_data/DES_data/DESDR2_in_EMU_0102-32_magautodered.fits'\n",
    "desy6gold_catalog_path = directory + 'survey_data/DES_data/DESY6GOLD_in_EMU_0102-32.fits'\n",
    "desy6gold_allflags_catalog_path = directory + 'survey_data/DES_data/DESY6GOLD_in_EMU_0102-32_allflags.fits'\n",
    "\n",
    "# VIKING catalogs\n",
    "vikingdr5_catalog_path = directory + 'survey_data/VIKING_data/VIKINGDR5_in_EMU_0102-32_allapermag3.fits'\n",
    "\n",
    "# CatWISE catalogs\n",
    "catwise2020_catalog_path = directory + 'survey_data/CATWISE_data/CATWISE2020_in_EMU_0102-32.fits'\n",
    "\n",
    "# Matched Catalog\n",
    "matched_catalog_path = directory + 'cross_match/EMU_0102-32_DESY6GOLD_VIKING_CATWISE_noMags/EMU_0102-32_DESY6GOLD_VIKINGDR5_CATWISE_noMag.fits'"
   ]
  },
  {
   "cell_type": "code",
   "execution_count": 9,
   "id": "c111e39f",
   "metadata": {},
   "outputs": [],
   "source": [
    "def replace_bad_values_with_nan(file_path, columns, bad_values):\n",
    "    '''\n",
    "    Replaces all occurrences of specified bad values with NaN in selected columns of a FITS file.\n",
    "\n",
    "    Args:\n",
    "        file_path (str): Path to the FITS file.\n",
    "        columns (list): List of column names to process.\n",
    "        bad_values (list or set): List or set of values to replace with NaN.\n",
    "    Returns:\n",
    "        None: The function modifies the FITS file in place.\n",
    "    '''\n",
    "    catalog_table = Table.read(file_path)\n",
    "    catalog_df = catalog_table.to_pandas()\n",
    "\n",
    "    for col in columns:\n",
    "        # Replace all specified bad values with NaN\n",
    "        catalog_df[col] = catalog_df[col].replace(bad_values, np.nan)\n",
    "\n",
    "    # Save the updated DataFrame back to the original FITS file\n",
    "    updated_catalog_table = Table.from_pandas(catalog_df)\n",
    "    updated_catalog_table.write(file_path, overwrite=True)"
   ]
  },
  {
   "cell_type": "code",
   "execution_count": 10,
   "id": "1c683d77",
   "metadata": {},
   "outputs": [],
   "source": [
    "# replace_bad_values_with_nan(\n",
    "#     desy6gold_allflags_catalog_path,\n",
    "#     columns= ['mag_auto_g', 'mag_auto_r', 'mag_auto_i', 'mag_auto_z', 'mag_auto_y'],\n",
    "#     bad_values=[99])"
   ]
  },
  {
   "cell_type": "markdown",
   "id": "5ac67cb4",
   "metadata": {},
   "source": [
    "## Convert VEGA magnitude to AB magnitude (VIKING DR5, CATWISE2020)"
   ]
  },
  {
   "cell_type": "markdown",
   "id": "6a8b97f6",
   "metadata": {},
   "source": [
    "While the DES DR2 magnitudes are already in the AB system, the VIKING DR5 and CATWISE2020 magnitudes are in the Vega system and need to be converted."
   ]
  },
  {
   "cell_type": "code",
   "execution_count": null,
   "id": "e1b1b879",
   "metadata": {},
   "outputs": [],
   "source": [
    "def fix_ab_magnitude(file_path, ab_offset, mag_columns, prefix=''):\n",
    "    '''\n",
    "    Converts Vega magnitudes to AB magnitudes.\n",
    "\n",
    "    Args:\n",
    "        file_path (str): Path to the FITS file.\n",
    "        ab_offset (list): List of offsets for each magnitude column.\n",
    "        mag_columns (list): List of base magnitude column names (without prefix).\n",
    "        prefix (str): Optional prefix to prepend to input column names only.\n",
    "    Returns:\n",
    "        None: The function modifies the FITS file in place.\n",
    "    '''\n",
    "    catalog_table = Table.read(file_path)\n",
    "    catalog_df = catalog_table.to_pandas()\n",
    "\n",
    "    bad_value = -999999488.0  # Define bad value\n",
    "\n",
    "    for idx, base_col in enumerate(mag_columns):\n",
    "        input_col = prefix + base_col\n",
    "        output_col = base_col + '_ab'  # No prefix on output\n",
    "        offset = ab_offset[idx]\n",
    "\n",
    "        # Initialize new column with NaNs\n",
    "        catalog_df[output_col] = np.nan\n",
    "\n",
    "        # Apply correction where value is valid\n",
    "        valid_mask = catalog_df[input_col] != bad_value\n",
    "        catalog_df.loc[valid_mask, output_col] = catalog_df.loc[valid_mask, input_col] + offset\n",
    "\n",
    "    # Save the updated DataFrame back to the original FITS file\n",
    "    updated_catalog_table = Table.from_pandas(catalog_df)\n",
    "    updated_catalog_table.write(file_path, overwrite=True)"
   ]
  },
  {
   "cell_type": "markdown",
   "id": "2efd206f",
   "metadata": {},
   "source": [
    "For the ViKING DR5 we used the two magnitudes recomended in the webpage of VSA: AperMagNoAperCorr3 and AperMag3."
   ]
  },
  {
   "cell_type": "code",
   "execution_count": null,
   "id": "e911dbff",
   "metadata": {},
   "outputs": [
    {
     "ename": "KeyError",
     "evalue": "'VKG_zAperMagNoAperCorr3'",
     "output_type": "error",
     "traceback": [
      "\u001b[0;31m---------------------------------------------------------------------------\u001b[0m",
      "\u001b[0;31mKeyError\u001b[0m                                  Traceback (most recent call last)",
      "File \u001b[0;32m~/miniconda3/envs/labastro/lib/python3.10/site-packages/pandas/core/indexes/base.py:3805\u001b[0m, in \u001b[0;36mIndex.get_loc\u001b[0;34m(self, key)\u001b[0m\n\u001b[1;32m   3804\u001b[0m \u001b[38;5;28;01mtry\u001b[39;00m:\n\u001b[0;32m-> 3805\u001b[0m     \u001b[38;5;28;01mreturn\u001b[39;00m \u001b[38;5;28;43mself\u001b[39;49m\u001b[38;5;241;43m.\u001b[39;49m\u001b[43m_engine\u001b[49m\u001b[38;5;241;43m.\u001b[39;49m\u001b[43mget_loc\u001b[49m\u001b[43m(\u001b[49m\u001b[43mcasted_key\u001b[49m\u001b[43m)\u001b[49m\n\u001b[1;32m   3806\u001b[0m \u001b[38;5;28;01mexcept\u001b[39;00m \u001b[38;5;167;01mKeyError\u001b[39;00m \u001b[38;5;28;01mas\u001b[39;00m err:\n",
      "File \u001b[0;32mindex.pyx:167\u001b[0m, in \u001b[0;36mpandas._libs.index.IndexEngine.get_loc\u001b[0;34m()\u001b[0m\n",
      "File \u001b[0;32mindex.pyx:196\u001b[0m, in \u001b[0;36mpandas._libs.index.IndexEngine.get_loc\u001b[0;34m()\u001b[0m\n",
      "File \u001b[0;32mpandas/_libs/hashtable_class_helper.pxi:7081\u001b[0m, in \u001b[0;36mpandas._libs.hashtable.PyObjectHashTable.get_item\u001b[0;34m()\u001b[0m\n",
      "File \u001b[0;32mpandas/_libs/hashtable_class_helper.pxi:7089\u001b[0m, in \u001b[0;36mpandas._libs.hashtable.PyObjectHashTable.get_item\u001b[0;34m()\u001b[0m\n",
      "\u001b[0;31mKeyError\u001b[0m: 'VKG_zAperMagNoAperCorr3'",
      "\nThe above exception was the direct cause of the following exception:\n",
      "\u001b[0;31mKeyError\u001b[0m                                  Traceback (most recent call last)",
      "Cell \u001b[0;32mIn[12], line 8\u001b[0m\n\u001b[1;32m      5\u001b[0m \u001b[38;5;66;03m# http://casu.ast.cam.ac.uk/surveys-projects/vista/technical/filter-set\u001b[39;00m\n\u001b[1;32m      6\u001b[0m viking_ab_offset \u001b[38;5;241m=\u001b[39m [\u001b[38;5;241m0.502\u001b[39m, \u001b[38;5;241m0.600\u001b[39m, \u001b[38;5;241m0.916\u001b[39m, \u001b[38;5;241m1.366\u001b[39m, \u001b[38;5;241m1.827\u001b[39m]\n\u001b[0;32m----> 8\u001b[0m \u001b[43mfix_ab_magnitude\u001b[49m\u001b[43m(\u001b[49m\u001b[43mvikingdr5_catalog_path\u001b[49m\u001b[43m,\u001b[49m\u001b[43m \u001b[49m\u001b[43mviking_ab_offset\u001b[49m\u001b[43m,\u001b[49m\u001b[43m \u001b[49m\u001b[43mviking_AperMagNoAperCorr3_cols\u001b[49m\u001b[43m)\u001b[49m\n\u001b[1;32m      9\u001b[0m fix_ab_magnitude(vikingdr5_catalog_path, viking_ab_offset, viking_AperMag3_cols)\n\u001b[1;32m     11\u001b[0m fix_ab_magnitude(matched_catalog, viking_ab_offset, viking_AperMagNoAperCorr3_cols)\n",
      "Cell \u001b[0;32mIn[11], line 26\u001b[0m, in \u001b[0;36mfix_ab_magnitude\u001b[0;34m(file_path, ab_offset, mag_columns)\u001b[0m\n\u001b[1;32m     23\u001b[0m     catalog_df[new_col_name] \u001b[38;5;241m=\u001b[39m np\u001b[38;5;241m.\u001b[39mnan\n\u001b[1;32m     25\u001b[0m     \u001b[38;5;66;03m# Apply the correction where the value is valid\u001b[39;00m\n\u001b[0;32m---> 26\u001b[0m     valid_mask \u001b[38;5;241m=\u001b[39m \u001b[43mcatalog_df\u001b[49m\u001b[43m[\u001b[49m\u001b[43mcol\u001b[49m\u001b[43m]\u001b[49m \u001b[38;5;241m!=\u001b[39m bad_value\n\u001b[1;32m     27\u001b[0m     catalog_df\u001b[38;5;241m.\u001b[39mloc[valid_mask, new_col_name] \u001b[38;5;241m=\u001b[39m catalog_df\u001b[38;5;241m.\u001b[39mloc[valid_mask, col] \u001b[38;5;241m+\u001b[39m offset\n\u001b[1;32m     29\u001b[0m \u001b[38;5;66;03m# Save the updated DataFrame back to the original FITS file\u001b[39;00m\n",
      "File \u001b[0;32m~/miniconda3/envs/labastro/lib/python3.10/site-packages/pandas/core/frame.py:4102\u001b[0m, in \u001b[0;36mDataFrame.__getitem__\u001b[0;34m(self, key)\u001b[0m\n\u001b[1;32m   4100\u001b[0m \u001b[38;5;28;01mif\u001b[39;00m \u001b[38;5;28mself\u001b[39m\u001b[38;5;241m.\u001b[39mcolumns\u001b[38;5;241m.\u001b[39mnlevels \u001b[38;5;241m>\u001b[39m \u001b[38;5;241m1\u001b[39m:\n\u001b[1;32m   4101\u001b[0m     \u001b[38;5;28;01mreturn\u001b[39;00m \u001b[38;5;28mself\u001b[39m\u001b[38;5;241m.\u001b[39m_getitem_multilevel(key)\n\u001b[0;32m-> 4102\u001b[0m indexer \u001b[38;5;241m=\u001b[39m \u001b[38;5;28;43mself\u001b[39;49m\u001b[38;5;241;43m.\u001b[39;49m\u001b[43mcolumns\u001b[49m\u001b[38;5;241;43m.\u001b[39;49m\u001b[43mget_loc\u001b[49m\u001b[43m(\u001b[49m\u001b[43mkey\u001b[49m\u001b[43m)\u001b[49m\n\u001b[1;32m   4103\u001b[0m \u001b[38;5;28;01mif\u001b[39;00m is_integer(indexer):\n\u001b[1;32m   4104\u001b[0m     indexer \u001b[38;5;241m=\u001b[39m [indexer]\n",
      "File \u001b[0;32m~/miniconda3/envs/labastro/lib/python3.10/site-packages/pandas/core/indexes/base.py:3812\u001b[0m, in \u001b[0;36mIndex.get_loc\u001b[0;34m(self, key)\u001b[0m\n\u001b[1;32m   3807\u001b[0m     \u001b[38;5;28;01mif\u001b[39;00m \u001b[38;5;28misinstance\u001b[39m(casted_key, \u001b[38;5;28mslice\u001b[39m) \u001b[38;5;129;01mor\u001b[39;00m (\n\u001b[1;32m   3808\u001b[0m         \u001b[38;5;28misinstance\u001b[39m(casted_key, abc\u001b[38;5;241m.\u001b[39mIterable)\n\u001b[1;32m   3809\u001b[0m         \u001b[38;5;129;01mand\u001b[39;00m \u001b[38;5;28many\u001b[39m(\u001b[38;5;28misinstance\u001b[39m(x, \u001b[38;5;28mslice\u001b[39m) \u001b[38;5;28;01mfor\u001b[39;00m x \u001b[38;5;129;01min\u001b[39;00m casted_key)\n\u001b[1;32m   3810\u001b[0m     ):\n\u001b[1;32m   3811\u001b[0m         \u001b[38;5;28;01mraise\u001b[39;00m InvalidIndexError(key)\n\u001b[0;32m-> 3812\u001b[0m     \u001b[38;5;28;01mraise\u001b[39;00m \u001b[38;5;167;01mKeyError\u001b[39;00m(key) \u001b[38;5;28;01mfrom\u001b[39;00m\u001b[38;5;250m \u001b[39m\u001b[38;5;21;01merr\u001b[39;00m\n\u001b[1;32m   3813\u001b[0m \u001b[38;5;28;01mexcept\u001b[39;00m \u001b[38;5;167;01mTypeError\u001b[39;00m:\n\u001b[1;32m   3814\u001b[0m     \u001b[38;5;66;03m# If we have a listlike key, _check_indexing_error will raise\u001b[39;00m\n\u001b[1;32m   3815\u001b[0m     \u001b[38;5;66;03m#  InvalidIndexError. Otherwise we fall through and re-raise\u001b[39;00m\n\u001b[1;32m   3816\u001b[0m     \u001b[38;5;66;03m#  the TypeError.\u001b[39;00m\n\u001b[1;32m   3817\u001b[0m     \u001b[38;5;28mself\u001b[39m\u001b[38;5;241m.\u001b[39m_check_indexing_error(key)\n",
      "\u001b[0;31mKeyError\u001b[0m: 'VKG_zAperMagNoAperCorr3'"
     ]
    }
   ],
   "source": [
    "viking_AperMagNoAperCorr3_cols = ['zAperMagNoAperCorr3', 'yAperMagNoAperCorr3', 'jAperMagNoAperCorr3', 'hAperMagNoAperCorr3', 'ksAperMagNoAperCorr3']\n",
    "viking_AperMag3_cols = ['zAperMag3', 'yAperMag3', 'jAperMag3', 'hAperMag3', 'ksAperMag3']\n",
    "\n",
    "\n",
    "# http://casu.ast.cam.ac.uk/surveys-projects/vista/technical/filter-set\n",
    "viking_ab_offset = [0.502, 0.600, 0.916, 1.366, 1.827]\n",
    "\n",
    "fix_ab_magnitude(vikingdr5_catalog_path, viking_ab_offset, viking_AperMagNoAperCorr3_cols)\n",
    "fix_ab_magnitude(vikingdr5_catalog_path, viking_ab_offset, viking_AperMag3_cols)\n",
    "\n",
    "# fix_ab_magnitude(matched_catalog, viking_ab_offset, viking_AperMagNoAperCorr3_cols)\n",
    "# fix_ab_magnitude(matched_catalog, viking_ab_offset, viking_AperMag3_cols)"
   ]
  },
  {
   "cell_type": "markdown",
   "id": "b3514a28",
   "metadata": {},
   "source": [
    "For the CATWISE2020 survey, given the big size of the aperture magnitudes, we use the PSF magnitudes."
   ]
  },
  {
   "cell_type": "code",
   "execution_count": null,
   "id": "fecf517c",
   "metadata": {},
   "outputs": [],
   "source": [
    "# For CATWISE2020\n",
    "catwise_psfmag_columns = ['w1mpro', 'w2mpro']\n",
    "\n",
    "# https://wise2.ipac.caltech.edu/docs/release/allsky/expsup/sec4_4h.html\n",
    "catwise_ab_offset = [2.699, 3.339]\n",
    "\n",
    "fix_ab_magnitude(catwise2020_catalog_path, catwise_ab_offset, catwise_psfmag_columns)\n",
    "\n",
    "# fix_ab_magnitude(matched_catalog, catwise_ab_offset, catwise_psfmag_columns)"
   ]
  },
  {
   "cell_type": "markdown",
   "id": "1a3a7b1e",
   "metadata": {},
   "source": [
    "## Correct for extinction (DESY6GOLD, VIKING DR5)"
   ]
  },
  {
   "cell_type": "code",
   "execution_count": null,
   "id": "ac71dd84",
   "metadata": {},
   "outputs": [],
   "source": [
    "def correct_extinction(file_path, mag_extinction_dict, bad_value):\n",
    "    '''\n",
    "    Corrects the extinction in the magnitudes of the catalog using the total extinction.\n",
    "\n",
    "    Args:\n",
    "        file_path (str): Path to the FITS file.\n",
    "        mag_extinction_dict (dict): Dictionary where\n",
    "            key = name of the magnitude column,\n",
    "            value = name of the extinction coefficient column.\n",
    "        bad_value (float): Sentinel value indicating invalid or missing data.\n",
    "    Returns:\n",
    "        None: The function modifies the FITS file in place.\n",
    "    '''\n",
    "\n",
    "    catalog_table = Table.read(file_path)\n",
    "    catalog_df = catalog_table.to_pandas()\n",
    "\n",
    "    for mag_col, excoef_col in mag_extinction_dict.items():\n",
    "        new_mag_col = mag_col + '_extcorr'\n",
    "\n",
    "        # Initialize new column with NaNs\n",
    "        catalog_df[new_mag_col] = np.nan\n",
    "\n",
    "        # Mask for valid entries\n",
    "        valid_mask = catalog_df[mag_col] != bad_value\n",
    "\n",
    "        # Apply extinction correction only where data is valid\n",
    "        catalog_df.loc[valid_mask, new_mag_col] = (\n",
    "            catalog_df.loc[valid_mask, mag_col] - catalog_df.loc[valid_mask, excoef_col]\n",
    "        )\n",
    "\n",
    "    # Save the updated DataFrame back to the original FITS file\n",
    "    updated_catalog_table = Table.from_pandas(catalog_df)\n",
    "    updated_catalog_table.write(file_path, overwrite=True)"
   ]
  },
  {
   "cell_type": "code",
   "execution_count": null,
   "id": "64fb11f3",
   "metadata": {},
   "outputs": [],
   "source": [
    "# For DES Y6 GOLD\n",
    "des_extinction_dict = {\n",
    "    'mag_auto_g': 'a_fiducial_g',\n",
    "    'mag_auto_r': 'a_fiducial_r',\n",
    "    'mag_auto_i': 'a_fiducial_i',\n",
    "    'mag_auto_z': 'a_fiducial_z',\n",
    "    'mag_auto_y': 'a_fiducial_y',\n",
    "}\n",
    "\n",
    "correct_extinction(desy6gold_catalog_path, des_extinction_dict, 99)\n",
    "correct_extinction(desy6gold_allflags_catalog_path, des_extinction_dict, 99)\n",
    "\n",
    "# correct_extinction(matched_catalog, des_extinction_dict, 99)"
   ]
  },
  {
   "cell_type": "code",
   "execution_count": null,
   "id": "eff6ba0a",
   "metadata": {},
   "outputs": [],
   "source": [
    "# For VIKING DR5\n",
    "viking_extinction_dict = {\n",
    "    'VKG_zAperMag3_ab': 'VKG_aZ',\n",
    "    'VKG_yAperMag3_ab': 'VKG_aY',\n",
    "    'VKG_jAperMag3_ab': 'VKG_aJ',\n",
    "    'VKG_hAperMag3_ab': 'VKG_aH',\n",
    "    'VKG_ksAperMag3_ab': 'VKG_aKs',\n",
    "    'VKG_zAperMagNoAperCorr3_ab': 'VKG_aZ',\n",
    "    'VKG_yAperMagNoAperCorr3_ab': 'VKG_aY',\n",
    "    'VKG_jAperMagNoAperCorr3_ab': 'VKG_aJ',\n",
    "    'VKG_hAperMagNoAperCorr3_ab': 'VKG_aH',\n",
    "    'VKG_ksAperMagNoAperCorr3_ab': 'VKG_aKs',\n",
    "}\n",
    "\n",
    "correct_extinction(vikingdr5_catalog_path, viking_extinction_dict, -999999488.0)\n",
    "\n",
    "correct_extinction(matched_catalog, viking_extinction_dict, -999999488.0)"
   ]
  },
  {
   "cell_type": "markdown",
   "id": "99402a61",
   "metadata": {},
   "source": [
    "## Calculate Colors (DES DR2, DES Y6 GOLD, VIKING DR5, CATWISE2020)"
   ]
  },
  {
   "cell_type": "code",
   "execution_count": 4,
   "id": "22eeb63a",
   "metadata": {},
   "outputs": [],
   "source": [
    "def compute_color(df, col1, col2, new_col_name, bad_value):\n",
    "    '''\n",
    "    Function to calculate colors given two columns\n",
    "    '''\n",
    "\n",
    "    mask_good = (df[col1] != bad_value) & (df[col2] != bad_value)\n",
    "    \n",
    "    # Initialize the color column with nans\n",
    "    df[new_col_name] = np.nan\n",
    "\n",
    "    # Where both magnitudes are good, compute the color\n",
    "    df.loc[mask_good, new_col_name] = df.loc[mask_good, col1] - df.loc[mask_good, col2]"
   ]
  },
  {
   "cell_type": "code",
   "execution_count": null,
   "id": "9d0eef27",
   "metadata": {},
   "outputs": [],
   "source": [
    "# For DESY6 GOLD \n",
    "desy6gold_catalog_table = Table.read(desy6gold_catalog_path)\n",
    "desy6gold_catalog_df = desy6gold_catalog_table.to_pandas()\n",
    "\n",
    "bad_value = 99\n",
    "compute_color(desy6gold_catalog_df, 'g_r_extcorr', 'mag_auto_g_extcorr', 'mag_auto_r_extcorr', bad_value)\n",
    "compute_color(desy6gold_catalog_df, 'r_i_extcorr', 'mag_auto_r_extcorr', 'mag_auto_i_extcorr', bad_value)\n",
    "compute_color(desy6gold_catalog_df, 'i_z_extcorr', 'mag_auto_i_extcorr', 'mag_auto_z_extcorr', bad_value)\n",
    "compute_color(desy6gold_catalog_df, 'z_y_extcorr', 'mag_auto_z_extcorr', 'mag_auto_y_extcorr', bad_value)\n",
    "\n",
    "updated_catalog_table = Table.from_pandas(desy6gold_catalog_df)\n",
    "updated_catalog_table.write(desy6gold_catalog_path, overwrite=True)"
   ]
  },
  {
   "cell_type": "code",
   "execution_count": null,
   "id": "128be5ed",
   "metadata": {},
   "outputs": [],
   "source": [
    "# For VIKING DR5\n",
    "bad_value = -999999488.0\n",
    "\n",
    "vikingdr5_catalog_table = Table.read(vikingdr5_catalog_path)\n",
    "vikingdr5_catalog_df = vikingdr5_catalog_table.to_pandas()\n",
    "\n",
    "# --- AperMag3 (am3) colors ---\n",
    "compute_color(vikingdr5_catalog_df, 'zAperMag3_ab_extcorr', 'yAperMag3_ab_extcorr', 'z_y_am3_extcorr', bad_value)\n",
    "compute_color(vikingdr5_catalog_df, 'yAperMag3_ab_extcorr', 'jAperMag3_ab_extcorr', 'y_j_am3_extcorr', bad_value)\n",
    "compute_color(vikingdr5_catalog_df, 'jAperMag3_ab_extcorr', 'hAperMag3_ab_extcorr', 'j_h_am3_extcorr', bad_value)\n",
    "compute_color(vikingdr5_catalog_df, 'hAperMag3_ab_extcorr', 'ksAperMag3_ab_extcorr', 'h_ks_am3_extcorr', bad_value)\n",
    "\n",
    "# --- AperMagNoAperCorr3 (am3nac) colors ---\n",
    "compute_color(vikingdr5_catalog_df, 'zAperMagNoAperCorr3_ab_extcorr', 'yAperMagNoAperCorr3_ab_extcorr', 'z_y_am3nac_extcorr', bad_value)\n",
    "compute_color(vikingdr5_catalog_df, 'yAperMagNoAperCorr3_ab_extcorr', 'jAperMagNoAperCorr3_ab_extcorr', 'y_j_am3nac_extcorr', bad_value)\n",
    "compute_color(vikingdr5_catalog_df, 'jAperMagNoAperCorr3_ab_extcorr', 'hAperMagNoAperCorr3_ab_extcorr', 'j_h_am3nac_extcorr', bad_value)\n",
    "compute_color(vikingdr5_catalog_df, 'hAperMagNoAperCorr3_ab_extcorr', 'ksAperMagNoAperCorr3_ab_extcorr', 'h_ks_am3nac_extcorr', bad_value)\n",
    "\n",
    "# Save back to FITS\n",
    "updated_catalog_table = Table.from_pandas(vikingdr5_catalog_df)\n",
    "updated_catalog_table.write(vikingdr5_catalog_path, overwrite=True)"
   ]
  },
  {
   "cell_type": "code",
   "execution_count": null,
   "id": "69bb5545",
   "metadata": {},
   "outputs": [],
   "source": [
    "# For the CATWISE2020\n",
    "catwise_catalog_table = Table.read(catwise2020_catalog_path)\n",
    "catwise_catalog_df = catwise_catalog_table.to_pandas()\n",
    "\n",
    "compute_color(catwise_catalog_df, 'w1_w2_ab', 'w1mpro_ab', 'w2mpro_ab' )\n",
    "\n",
    "updated_catalog_table = Table.from_pandas(catwise_catalog_df)\n",
    "updated_catalog_table.write(catwise2020_catalog_path, overwrite=True)"
   ]
  },
  {
   "cell_type": "code",
   "execution_count": 6,
   "id": "608f15d2",
   "metadata": {},
   "outputs": [],
   "source": [
    "# For the matched catalog\n",
    "matched_catalog_table = Table.read(matched_catalog_path)\n",
    "matched_catalog_df = matched_catalog_table.to_pandas()\n",
    "\n",
    "# DESY6 GOLD section\n",
    "compute_color(matched_catalog_df, 'DESY6_mag_auto_g_extcorr', 'DESY6_mag_auto_r_extcorr', 'DESY6_g_r_extcorr', 99)\n",
    "compute_color(matched_catalog_df, 'DESY6_mag_auto_r_extcorr', 'DESY6_mag_auto_i_extcorr', 'DESY6_r_i_extcorr', 99)\n",
    "compute_color(matched_catalog_df, 'DESY6_mag_auto_i_extcorr', 'DESY6_mag_auto_z_extcorr', 'DESY6_i_z_extcorr', 99)\n",
    "compute_color(matched_catalog_df, 'DESY6_mag_auto_z_extcorr', 'DESY6_mag_auto_y_extcorr', 'DESY6_z_y_extcorr', 99)\n",
    "\n",
    "# VIKING DR5 section\n",
    "compute_color(matched_catalog_df, 'VKG_yAperMag3_ab_extcorr', 'VKG_zAperMag3_ab_extcorr', 'VKG_z_y_am3_extcorr', -999999488.0)\n",
    "compute_color(matched_catalog_df, 'VKG_jAperMag3_ab_extcorr', 'VKG_yAperMag3_ab_extcorr', 'VKG_y_j_am3_extcorr', -999999488.0)\n",
    "compute_color(matched_catalog_df, 'VKG_hAperMag3_ab_extcorr', 'VKG_jAperMag3_ab_extcorr', 'VKG_j_h_am3_extcorr', -999999488.0)\n",
    "compute_color(matched_catalog_df, 'VKG_ksAperMag3_ab_extcorr', 'VKG_hAperMag3_ab_extcorr', 'VKG_h_ks_am3_extcorr', -999999488.0)\n",
    "\n",
    "compute_color(matched_catalog_df, 'VKG_yAperMagNoAperCorr3_ab_extcorr', 'VKG_zAperMagNoAperCorr3_ab_extcorr', 'VKG_z_y_am3nac_extcorr', -999999488.0)\n",
    "compute_color(matched_catalog_df, 'VKG_jAperMagNoAperCorr3_ab_extcorr', 'VKG_yAperMagNoAperCorr3_ab_extcorr', 'VKG_y_j_am3nac_extcorr', -999999488.0)\n",
    "compute_color(matched_catalog_df, 'VKG_hAperMagNoAperCorr3_ab_extcorr', 'VKG_jAperMagNoAperCorr3_ab_extcorr', 'VKG_j_h_am3nac_extcorr', -999999488.0)\n",
    "compute_color(matched_catalog_df, 'VKG_ksAperMagNoAperCorr3_ab_extcorr', 'VKG_hAperMagNoAperCorr3_ab_extcorr', 'VKG_h_ks_am3nac_extcorr', -999999488.0)\n",
    "\n",
    "# CATWISE2020 section\n",
    "compute_color(matched_catalog_df, 'CAT_w1mpro_ab', 'CAT_w2mpro_ab', 'CAT_w1_w2_ab', -999999488.0)\n",
    "\n",
    "updated_catalog_table = Table.from_pandas(matched_catalog_df)\n",
    "updated_catalog_table.write(matched_catalog_path, overwrite=True)"
   ]
  },
  {
   "cell_type": "markdown",
   "id": "a838467c",
   "metadata": {},
   "source": [
    "# Count non-detections (VIKING DR5, CATWISE2020)"
   ]
  },
  {
   "cell_type": "code",
   "execution_count": null,
   "id": "7eff708b",
   "metadata": {},
   "outputs": [
    {
     "name": "stdout",
     "output_type": "stream",
     "text": [
      "Index(['sourceID', 'ra', 'dec', 'zAperMag3', 'zAperMagNoAperCorr3',\n",
      "       'zAperMag3Err', 'yAperMag3', 'yAperMagNoAperCorr3', 'yAperMag3Err',\n",
      "       'jAperMag3', 'jAperMagNoAperCorr3', 'jAperMag3Err', 'hAperMag3',\n",
      "       'hAperMagNoAperCorr3', 'hAperMag3Err', 'ksAperMag3',\n",
      "       'ksAperMagNoAperCorr3', 'ksAperMag3Err', 'eBV', 'aZ', 'aY', 'aJ', 'aH',\n",
      "       'aKs', 'zppErrBits', 'yppErrBits', 'ksErrBits', 'jErrBits', 'hErrBits',\n",
      "       'mergedClassStat', 'pGalaxy', 'pStar', 'pNoise', 'pSaturated',\n",
      "       'zAperMagNoAperCorr3_ab', 'yAperMagNoAperCorr3_ab',\n",
      "       'jAperMagNoAperCorr3_ab', 'hAperMagNoAperCorr3_ab',\n",
      "       'ksAperMagNoAperCorr3_ab', 'zAperMag3_ab', 'yAperMag3_ab',\n",
      "       'jAperMag3_ab', 'hAperMag3_ab', 'ksAperMag3_ab', 'zAperMag3_ab_extcorr',\n",
      "       'yAperMag3_ab_extcorr', 'jAperMag3_ab_extcorr', 'hAperMag3_ab_extcorr',\n",
      "       'ksAperMag3_ab_extcorr', 'zAperMagNoAperCorr3_ab_extcorr',\n",
      "       'yAperMagNoAperCorr3_ab_extcorr', 'jAperMagNoAperCorr3_ab_extcorr',\n",
      "       'hAperMagNoAperCorr3_ab_extcorr', 'ksAperMagNoAperCorr3_ab_extcorr',\n",
      "       'z_y_am3_extcorr', 'y_j_am3_extcorr', 'j_h_am3_extcorr',\n",
      "       'h_ks_am3_extcorr', 'z_y_am3nac_extcorr', 'y_j_am3nac_extcorr',\n",
      "       'j_h_am3nac_extcorr', 'h_ks_am3nac_extcorr'],\n",
      "      dtype='object')\n"
     ]
    }
   ],
   "source": [
    "catalog_table = Table.read(vikingdr5_catalog_path)\n",
    "vikingdr5_catalog_df = catalog_table.to_pandas()\n",
    "\n",
    "print(vikingdr5_catalog_df.columns)"
   ]
  },
  {
   "cell_type": "code",
   "execution_count": null,
   "id": "3f15eae6",
   "metadata": {},
   "outputs": [
    {
     "name": "stdout",
     "output_type": "stream",
     "text": [
      "the nan value is: -999999488.0\n",
      "93357 (9.753%) objects have a nan value in the z filter\n",
      "97536 (10.190%) objects have a nan value in the y filter\n",
      "5 (0.001%) objects have a nan value in the j filter\n",
      "10 (0.001%) objects have a nan value in the h filter\n",
      "5 (0.001%) objects have a nan value in the ks filter\n"
     ]
    }
   ],
   "source": [
    "print(f'the nan value is: {vikingdr5_catalog_df['zAperMag3'].tail(len(vikingdr5_catalog_df)).unique().min()}')\n",
    "\n",
    "z_filter = vikingdr5_catalog_df[vikingdr5_catalog_df['zAperMag3']== -999999488.0]\n",
    "y_filter = vikingdr5_catalog_df[vikingdr5_catalog_df['yAperMag3'] == -999999488.0]\n",
    "j_filter = vikingdr5_catalog_df[vikingdr5_catalog_df['jAperMag3'] == -999999488.0]\n",
    "h_filter = vikingdr5_catalog_df[vikingdr5_catalog_df['hAperMag3'] == -999999488.0]\n",
    "ks_filter = vikingdr5_catalog_df[vikingdr5_catalog_df['ksAperMag3'] == -999999488.0]\n",
    "\n",
    "\n",
    "print(f'{len(z_filter)} ({(len(z_filter)/len(vikingdr5_catalog_df))*100:.3f}%) objects have a nan value in the z filter')\n",
    "print(f'{len(y_filter)} ({(len(y_filter)/len(vikingdr5_catalog_df))*100:.3f}%) objects have a nan value in the y filter')\n",
    "print(f'{len(j_filter)} ({(len(j_filter)/len(vikingdr5_catalog_df))*100:.3f}%) objects have a nan value in the j filter')\n",
    "print(f'{len(h_filter)} ({(len(h_filter)/len(vikingdr5_catalog_df))*100:.3f}%) objects have a nan value in the h filter')\n",
    "print(f'{len(ks_filter)} ({(len(ks_filter)/len(vikingdr5_catalog_df))*100:.3f}%) objects have a nan value in the ks filter')"
   ]
  },
  {
   "cell_type": "code",
   "execution_count": null,
   "id": "7215d3ac",
   "metadata": {},
   "outputs": [],
   "source": [
    "catalog_table = Table.read(catwise2020_catalog_path)\n",
    "catwise_catalog_df = catalog_table.to_pandas()"
   ]
  },
  {
   "cell_type": "code",
   "execution_count": null,
   "id": "e9a728fe",
   "metadata": {},
   "outputs": [
    {
     "name": "stdout",
     "output_type": "stream",
     "text": [
      "the nan value is: 5.181000232696533\n"
     ]
    }
   ],
   "source": [
    "# This shows us that catwise doesn't have nan values\n",
    "\n",
    "# missingno.matrix(catwise_catalog_df)\n",
    "\n",
    "print(f'the nan value is: {catwise_catalog_df['w1mpro'].tail(len(catwise_catalog_df)).unique().min()}')"
   ]
  },
  {
   "cell_type": "markdown",
   "id": "724ed87f",
   "metadata": {},
   "source": [
    "# Remove EMU sources in empty VIKING spots"
   ]
  },
  {
   "cell_type": "markdown",
   "id": "ccce25da",
   "metadata": {},
   "source": [
    "There are three rectangular patches in the VIKING area that don't have any objects, which is due to bad quality measurments."
   ]
  },
  {
   "cell_type": "code",
   "execution_count": null,
   "id": "85ce3da5",
   "metadata": {},
   "outputs": [],
   "source": [
    "emu_catalog_path = '/data/mfonseca/survey_data/EMU_data/EMU_0102-32/EMU_0102-32_1comp.fits'"
   ]
  },
  {
   "cell_type": "code",
   "execution_count": null,
   "id": "9de24920",
   "metadata": {},
   "outputs": [
    {
     "name": "stderr",
     "output_type": "stream",
     "text": [
      "WARNING: UnitsWarning: '--' did not parse as fits unit: Invalid character at col 0 If this is meant to be a custom unit, define it with 'u.def_unit'. To have it recognized inside a file reader or other code, enable it with 'u.add_enabled_units'. For details, see https://docs.astropy.org/en/latest/units/combining_and_defining.html [astropy.units.core]\n"
     ]
    }
   ],
   "source": [
    "emu_table = Table.read(emu_catalog_path)\n",
    "emu_catalog_df = emu_table.to_pandas()\n",
    "\n",
    "viking_table = Table.read(vikingdr5_catalog_path)\n",
    "viking_catalog_df = viking_table.to_pandas()\n",
    "\n",
    "emu_coords = SkyCoord(ra=emu_catalog_df['ra_deg_cont'].values * u.deg,\n",
    "                      dec=emu_catalog_df['dec_deg_cont'].values * u.deg)\n",
    "\n",
    "viking_coords = SkyCoord(ra=viking_catalog_df['ra'].values * u.deg,\n",
    "                         dec=viking_catalog_df['dec'].values * u.deg)\n",
    "\n",
    "# Perform many-to-many matching (find all EMU–VIKING pairs within 10 arcsec)\n",
    "idx_viking, idx_emu, sep2d, _ = emu_coords.search_around_sky(viking_coords, 10 * u.arcsec)\n",
    "\n",
    "# Get unique EMU indices that have at least one match\n",
    "unique_matched_emu_indices = np.unique(idx_emu)\n",
    "\n",
    "matched_emu_df = emu_catalog_df.iloc[unique_matched_emu_indices]\n",
    "\n",
    "Table.from_pandas(matched_emu_df).write(\"/data/mfonseca/survey_data/EMU_data/EMU_0102-32/EMU_0102-32_1comp_filtered.fits\", overwrite=True)"
   ]
  },
  {
   "cell_type": "code",
   "execution_count": null,
   "id": "dab548a9",
   "metadata": {},
   "outputs": [
    {
     "name": "stdout",
     "output_type": "stream",
     "text": [
      "Number of original sources in EMU catalog: 18736\n",
      "Number of sources in EMU catalog after filtering: 11588\n",
      "Fraction of sources in EMU catalog after filtering: 61.85%\n"
     ]
    }
   ],
   "source": [
    "print(f'Number of original sources in EMU catalog: {len(emu_catalog_df)}')\n",
    "print(f'Number of sources in EMU catalog after filtering: {len(matched_emu_df)}')\n",
    "\n",
    "fraction = len(matched_emu_df) / len(emu_catalog_df)\n",
    "\n",
    "print(f'Fraction of sources in EMU catalog after filtering: {fraction:.2%}')"
   ]
  }
 ],
 "metadata": {
  "kernelspec": {
   "display_name": "labastro",
   "language": "python",
   "name": "python3"
  },
  "language_info": {
   "codemirror_mode": {
    "name": "ipython",
    "version": 3
   },
   "file_extension": ".py",
   "mimetype": "text/x-python",
   "name": "python",
   "nbconvert_exporter": "python",
   "pygments_lexer": "ipython3",
   "version": "3.10.16"
  }
 },
 "nbformat": 4,
 "nbformat_minor": 5
}
