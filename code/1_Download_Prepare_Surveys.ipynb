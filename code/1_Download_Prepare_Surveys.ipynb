{
 "cells": [
  {
   "cell_type": "markdown",
   "id": "94d63de1",
   "metadata": {},
   "source": [
    "# Prepare All Catalogs"
   ]
  },
  {
   "cell_type": "markdown",
   "id": "a202adab",
   "metadata": {},
   "source": [
    "This notebook contains a list of functions that prepare the complementary catalogs for future work.\n",
    "\n",
    "Make sure all of the functions add new columns to the catalogs instead of replace the values of the old was, to avoid replacing multiple times and making a mistake\n",
    "\n",
    "It clears the catalogs of non-detections and flagged objects."
   ]
  },
  {
   "cell_type": "markdown",
   "id": "22ad527e",
   "metadata": {},
   "source": [
    "## Import libraries"
   ]
  },
  {
   "cell_type": "code",
   "execution_count": 8,
   "id": "bea44ecd",
   "metadata": {},
   "outputs": [],
   "source": [
    "# Astropy\n",
    "from astropy.table import Table\n",
    "from astropy.io import fits\n",
    "from astropy.coordinates import SkyCoord\n",
    "from astropy import units as u\n",
    "\n",
    "import missingno\n",
    "import numpy as np"
   ]
  },
  {
   "cell_type": "markdown",
   "id": "167eceac",
   "metadata": {},
   "source": [
    "## Define the paths to the main catalogs to use"
   ]
  },
  {
   "cell_type": "code",
   "execution_count": 9,
   "id": "fd9ac1ac",
   "metadata": {},
   "outputs": [],
   "source": [
    "# EMU catalogs\n",
    "emu_catalog_path = '/data/mfonseca/survey_data/EMU_data/EMU_0102-32/EMU_0102-32_1comp.fits'\n",
    "emu_patched_catalog_path = '/data/mfonseca/survey_data/EMU_data/EMU_0102-32/EMU_0102-32_1comp_withoutpatches.fits'\n",
    "\n",
    "# DES catalogs\n",
    "desdr2_catalog_path = '/data/mfonseca/survey_data/DES_data/DESDR2_in_EMU_0102-32_magautodered.fits'\n",
    "desy6gold_catalog_path = '/data/mfonseca/survey_data/DES_data/DESY6GOLD_in_EMU_0102-32_magauto.fits'\n",
    "\n",
    "# VIKING catalogs\n",
    "vikingdr5_catalog_path = '/data/mfonseca/survey_data/VIKING_data/VIKINGDR5_in_EMU_0102-32_allapermag3.fits'\n",
    "\n",
    "# CatWISE catalogs\n",
    "catwise2020_catalog_path = '/data/mfonseca/survey_data/CATWISE_data/CATWISE2020_in_EMU_0102-32.fits'"
   ]
  },
  {
   "cell_type": "markdown",
   "id": "5ac67cb4",
   "metadata": {},
   "source": [
    "## Convert VEGA magnitude to AB magnitude (VIKING DR5, CATWISE2020)"
   ]
  },
  {
   "cell_type": "markdown",
   "id": "6a8b97f6",
   "metadata": {},
   "source": [
    "While the DES DR2 magnitudes are already in the AB system, the VIKING DR5 and CATWISE2020 magnitudes are in the Vega system and need to be converted."
   ]
  },
  {
   "cell_type": "code",
   "execution_count": 10,
   "id": "e1b1b879",
   "metadata": {},
   "outputs": [],
   "source": [
    "def fix_ab_magnitude(file_path, ab_offset, mag_columns):\n",
    "    '''\n",
    "    Converts Vega magnitudes to AB magnitudes.\n",
    "    Works for both VIKING DR5 and CATWISE 2020 catalogs.\n",
    "\n",
    "    Args:\n",
    "        file_path (str): Path to the FITS file.\n",
    "        ab_offset (list): List of offsets for each magnitude column.\n",
    "        mag_columns (list): List of magnitude column names to be corrected, same order as ab_offset.\n",
    "    Returns:\n",
    "        None: The function modifies the FITS file in place.\n",
    "    '''\n",
    "    catalog_table = Table.read(file_path)\n",
    "    catalog_df = catalog_table.to_pandas()\n",
    "\n",
    "    for idx, col in enumerate(mag_columns):\n",
    "        new_col_name = col + '_ab'\n",
    "        offset = ab_offset[idx]\n",
    "        \n",
    "        # Create the dered column, copying the original column first\n",
    "        catalog_df[new_col_name] = catalog_df[col]\n",
    "\n",
    "        # Apply the correction only where the value is NOT the bad value (only for VIKING DR5)\n",
    "        mask = catalog_df[col] != -999999488.0\n",
    "        catalog_df.loc[mask, new_col_name] = catalog_df.loc[mask, col] + offset\n",
    "\n",
    "    # Save the updated DataFrame back to the original FITS file\n",
    "    updated_catalog_table = Table.from_pandas(catalog_df)\n",
    "    updated_catalog_table.write(file_path, overwrite=True)"
   ]
  },
  {
   "cell_type": "markdown",
   "id": "2efd206f",
   "metadata": {},
   "source": [
    "For the ViKING DR5 we used the two magnitudes recomended in the webpage of VSA: AperMagNoAperCorr3 and AperMag3."
   ]
  },
  {
   "cell_type": "code",
   "execution_count": 11,
   "id": "e911dbff",
   "metadata": {},
   "outputs": [],
   "source": [
    "viking_AperMagNoAperCorr3_cols = ['zAperMagNoAperCorr3', 'yAperMagNoAperCorr3', 'jAperMagNoAperCorr3', 'hAperMagNoAperCorr3', 'ksAperMagNoAperCorr3']\n",
    "viking_AperMag3_cols = ['zAperMag3', 'yAperMag3', 'jAperMag3', 'hAperMag3', 'ksAperMag3']\n",
    "\n",
    "\n",
    "# http://casu.ast.cam.ac.uk/surveys-projects/vista/technical/filter-set\n",
    "viking_ab_offset = [0.502, 0.600, 0.916, 1.366, 1.827]\n",
    "\n",
    "fix_ab_magnitude(vikingdr5_catalog_path, viking_ab_offset, viking_AperMagNoAperCorr3_cols)\n",
    "fix_ab_magnitude(vikingdr5_catalog_path, viking_ab_offset, viking_AperMag3_cols)"
   ]
  },
  {
   "cell_type": "markdown",
   "id": "b3514a28",
   "metadata": {},
   "source": [
    "For the CATWISE2020 survey, given the big size of the aperture magnitudes, we use the PSF magnitudes."
   ]
  },
  {
   "cell_type": "code",
   "execution_count": 12,
   "id": "fecf517c",
   "metadata": {},
   "outputs": [],
   "source": [
    "# For CATWISE2020\n",
    "catwise_psfmag_columns = ['w1mpro', 'w2mpro']\n",
    "\n",
    "# https://wise2.ipac.caltech.edu/docs/release/allsky/expsup/sec4_4h.html\n",
    "catwise_ab_offset = [2.699, 3.339]\n",
    "\n",
    "fix_ab_magnitude(catwise2020_catalog_path, catwise_ab_offset, catwise_psfmag_columns)"
   ]
  },
  {
   "cell_type": "markdown",
   "id": "1a3a7b1e",
   "metadata": {},
   "source": [
    "## Correct for extinction (DESY6GOLD, VIKING DR5)"
   ]
  },
  {
   "cell_type": "code",
   "execution_count": 1,
   "id": "ac71dd84",
   "metadata": {},
   "outputs": [],
   "source": [
    "def correct_extinction(file_path, mag_extinction_dict, bad_value):\n",
    "    '''\n",
    "    Corrects the extinction in the magnitudes of the catalog using the total extinction.\n",
    "\n",
    "    Args:\n",
    "        file_path (str): Path to the FITS file.\n",
    "        mag_extinction_dict (dict): Dictionary where\n",
    "            key = name of the magnitude column,\n",
    "            value = name of the extinction coefficient column.\n",
    "    Returns:\n",
    "        None: The function modifies the FITS file in place.\n",
    "    '''\n",
    "\n",
    "    catalog_table = Table.read(file_path)\n",
    "    catalog_df = catalog_table.to_pandas()\n",
    "\n",
    "    for mag_col, excoef_col in mag_extinction_dict.items():\n",
    "        new_mag_col = mag_col + '_extcorr'\n",
    "\n",
    "        # Initialize the new column with the original values\n",
    "        catalog_df[new_mag_col] = catalog_df[mag_col]\n",
    "\n",
    "        # Create a mask: where values are good (i.e., not the bad value)\n",
    "        mask = catalog_df[mag_col] != bad_value\n",
    "\n",
    "        # Apply extinction correction only on good values\n",
    "        catalog_df.loc[mask, new_mag_col] = catalog_df.loc[mask, mag_col] - catalog_df.loc[mask, excoef_col]\n",
    "\n",
    "    # Save the updated DataFrame back to the original FITS file\n",
    "    updated_catalog_table = Table.from_pandas(catalog_df)\n",
    "    updated_catalog_table.write(file_path, overwrite=True)"
   ]
  },
  {
   "cell_type": "code",
   "execution_count": null,
   "id": "64fb11f3",
   "metadata": {},
   "outputs": [],
   "source": [
    "# For DES Y6 GOLD\n",
    "des_extinction_dict = {\n",
    "    'mag_auto_g': 'a_fiducial_g',\n",
    "    'mag_auto_r': 'a_fiducial_r',\n",
    "    'mag_auto_i': 'a_fiducial_i',\n",
    "    'mag_auto_z': 'a_fiducial_z',\n",
    "    'mag_auto_y': 'a_fiducial_y',\n",
    "}\n",
    "\n",
    "correct_extinction(desy6gold_catalog_path, des_extinction_dict, 99)"
   ]
  },
  {
   "cell_type": "code",
   "execution_count": null,
   "id": "eff6ba0a",
   "metadata": {},
   "outputs": [],
   "source": [
    "# For VIKING DR5\n",
    "viking_extinction_dict = {\n",
    "    'zAperMag3_ab': 'aZ',\n",
    "    'yAperMag3_ab': 'aY',\n",
    "    'jAperMag3_ab': 'aJ',\n",
    "    'hAperMag3_ab': 'aH',\n",
    "    'ksAperMag3_ab': 'aKs',\n",
    "    'zAperMagNoAperCorr3_ab': 'aZ',\n",
    "    'yAperMagNoAperCorr3_ab': 'aY',\n",
    "    'jAperMagNoAperCorr3_ab': 'aJ',\n",
    "    'hAperMagNoAperCorr3_ab': 'aH',\n",
    "    'ksAperMagNoAperCorr3_ab': 'aKs',\n",
    "}\n",
    "\n",
    "correct_extinction(vikingdr5_catalog_path, viking_extinction_dict, -999999488.0)"
   ]
  },
  {
   "cell_type": "markdown",
   "id": "99402a61",
   "metadata": {},
   "source": [
    "## Calculate Colors (DES DR2, DES Y6 GOLD, VIKING DR5, CATWISE2020)"
   ]
  },
  {
   "cell_type": "code",
   "execution_count": 16,
   "id": "9d0eef27",
   "metadata": {},
   "outputs": [],
   "source": [
    "# For DES Y6GOLD\n",
    "desy6gold_catalog_table = Table.read(desy6gold_catalog_path)\n",
    "desy6gold_catalog_df = desy6gold_catalog_table.to_pandas()\n",
    "\n",
    "desy6gold_mag_cols = ['mag_auto_g_extcorr', 'mag_auto_r_extcorr', 'mag_auto_i_extcorr', 'mag_auto_z_extcorr', 'mag_auto_y_extcorr']\n",
    "desy6gold_catalog_df['g_r_extcorr'] = desy6gold_catalog_df['mag_auto_g_extcorr'] - desy6gold_catalog_df['mag_auto_r_extcorr']\n",
    "desy6gold_catalog_df['r_i_extcorr'] = desy6gold_catalog_df['mag_auto_r_extcorr'] - desy6gold_catalog_df['mag_auto_i_extcorr']\n",
    "desy6gold_catalog_df['i_z_extcorr'] = desy6gold_catalog_df['mag_auto_i_extcorr'] - desy6gold_catalog_df['mag_auto_z_extcorr']\n",
    "desy6gold_catalog_df['z_y_extcorr'] = desy6gold_catalog_df['mag_auto_z_extcorr'] - desy6gold_catalog_df['mag_auto_y_extcorr']\n",
    "\n",
    "updated_catalog_table = Table.from_pandas(desy6gold_catalog_df)\n",
    "updated_catalog_table.write(desy6gold_catalog_path, overwrite=True)"
   ]
  },
  {
   "cell_type": "code",
   "execution_count": 36,
   "id": "128be5ed",
   "metadata": {},
   "outputs": [],
   "source": [
    "# Define bad value\n",
    "BAD_VALUE = -999999488.0\n",
    "\n",
    "# Read the catalog\n",
    "vikingdr5_catalog_table = Table.read(vikingdr5_catalog_path)\n",
    "vikingdr5_catalog_df = vikingdr5_catalog_table.to_pandas()\n",
    "\n",
    "# --- Helper function to compute colors safely ---\n",
    "def compute_color(df, col1, col2, new_col_name):\n",
    "    mask_good = (df[col1] != BAD_VALUE) & (df[col2] != BAD_VALUE)\n",
    "    \n",
    "    # Initialize the color column with bad values\n",
    "    df[new_col_name] = BAD_VALUE\n",
    "\n",
    "    # Where both magnitudes are good, compute the color\n",
    "    df.loc[mask_good, new_col_name] = df.loc[mask_good, col1] - df.loc[mask_good, col2]\n",
    "\n",
    "# --- AperMag3 (am3) colors ---\n",
    "compute_color(vikingdr5_catalog_df, 'zAperMag3_ab_extcorr', 'yAperMag3_ab_extcorr', 'z_y_am3_extcorr')\n",
    "compute_color(vikingdr5_catalog_df, 'yAperMag3_ab_extcorr', 'jAperMag3_ab_extcorr', 'y_j_am3_extcorr')\n",
    "compute_color(vikingdr5_catalog_df, 'jAperMag3_ab_extcorr', 'hAperMag3_ab_extcorr', 'j_h_am3_extcorr')\n",
    "compute_color(vikingdr5_catalog_df, 'hAperMag3_ab_extcorr', 'ksAperMag3_ab_extcorr', 'h_ks_am3_extcorr')\n",
    "\n",
    "# --- AperMagNoAperCorr3 (am3nac) colors ---\n",
    "compute_color(vikingdr5_catalog_df, 'zAperMagNoAperCorr3_ab_extcorr', 'yAperMagNoAperCorr3_ab_extcorr', 'z_y_am3nac_extcorr')\n",
    "compute_color(vikingdr5_catalog_df, 'yAperMagNoAperCorr3_ab_extcorr', 'jAperMagNoAperCorr3_ab_extcorr', 'y_j_am3nac_extcorr')\n",
    "compute_color(vikingdr5_catalog_df, 'jAperMagNoAperCorr3_ab_extcorr', 'hAperMagNoAperCorr3_ab_extcorr', 'j_h_am3nac_extcorr')\n",
    "compute_color(vikingdr5_catalog_df, 'hAperMagNoAperCorr3_ab_extcorr', 'ksAperMagNoAperCorr3_ab_extcorr', 'h_ks_am3nac_extcorr')\n",
    "\n",
    "# Save back to FITS\n",
    "updated_catalog_table = Table.from_pandas(vikingdr5_catalog_df)\n",
    "updated_catalog_table.write(vikingdr5_catalog_path, overwrite=True)"
   ]
  },
  {
   "cell_type": "code",
   "execution_count": 18,
   "id": "69bb5545",
   "metadata": {},
   "outputs": [],
   "source": [
    "# For the CATWISE2020 catalog\n",
    "catwise_catalog_table = Table.read(catwise2020_catalog_path)\n",
    "catwise_catalog_df = catwise_catalog_table.to_pandas()\n",
    "\n",
    "catwise_catalog_df['w1_w2_ab'] = catwise_catalog_df['w1mpro_ab'] - catwise_catalog_df['w2mpro_ab']\n",
    "\n",
    "updated_catalog_table = Table.from_pandas(catwise_catalog_df)\n",
    "updated_catalog_table.write(catwise2020_catalog_path, overwrite=True)"
   ]
  },
  {
   "cell_type": "markdown",
   "id": "a838467c",
   "metadata": {},
   "source": [
    "# Count non-detections (VIKING DR5, CATWISE2020)"
   ]
  },
  {
   "cell_type": "code",
   "execution_count": 19,
   "id": "7eff708b",
   "metadata": {},
   "outputs": [
    {
     "name": "stdout",
     "output_type": "stream",
     "text": [
      "Index(['sourceID', 'ra', 'dec', 'zAperMag3', 'zAperMagNoAperCorr3',\n",
      "       'zAperMag3Err', 'yAperMag3', 'yAperMagNoAperCorr3', 'yAperMag3Err',\n",
      "       'jAperMag3', 'jAperMagNoAperCorr3', 'jAperMag3Err', 'hAperMag3',\n",
      "       'hAperMagNoAperCorr3', 'hAperMag3Err', 'ksAperMag3',\n",
      "       'ksAperMagNoAperCorr3', 'ksAperMag3Err', 'eBV', 'aZ', 'aY', 'aJ', 'aH',\n",
      "       'aKs', 'zppErrBits', 'yppErrBits', 'ksErrBits', 'jErrBits', 'hErrBits',\n",
      "       'mergedClassStat', 'pGalaxy', 'pStar', 'pNoise', 'pSaturated',\n",
      "       'zAperMagNoAperCorr3_ab', 'yAperMagNoAperCorr3_ab',\n",
      "       'jAperMagNoAperCorr3_ab', 'hAperMagNoAperCorr3_ab',\n",
      "       'ksAperMagNoAperCorr3_ab', 'zAperMag3_ab', 'yAperMag3_ab',\n",
      "       'jAperMag3_ab', 'hAperMag3_ab', 'ksAperMag3_ab', 'zAperMag3_ab_extcorr',\n",
      "       'yAperMag3_ab_extcorr', 'jAperMag3_ab_extcorr', 'hAperMag3_ab_extcorr',\n",
      "       'ksAperMag3_ab_extcorr', 'zAperMagNoAperCorr3_ab_extcorr',\n",
      "       'yAperMagNoAperCorr3_ab_extcorr', 'jAperMagNoAperCorr3_ab_extcorr',\n",
      "       'hAperMagNoAperCorr3_ab_extcorr', 'ksAperMagNoAperCorr3_ab_extcorr',\n",
      "       'z_y_am3_extcorr', 'y_j_am3_extcorr', 'j_h_am3_extcorr',\n",
      "       'h_ks_am3_extcorr', 'z_y_am3nac_extcorr', 'y_j_am3nac_extcorr',\n",
      "       'j_h_am3nac_extcorr', 'h_ks_am3nac_extcorr'],\n",
      "      dtype='object')\n"
     ]
    }
   ],
   "source": [
    "catalog_table = Table.read(vikingdr5_catalog_path)\n",
    "vikingdr5_catalog_df = catalog_table.to_pandas()\n",
    "\n",
    "print(vikingdr5_catalog_df.columns)"
   ]
  },
  {
   "cell_type": "code",
   "execution_count": 35,
   "id": "3f15eae6",
   "metadata": {},
   "outputs": [
    {
     "name": "stdout",
     "output_type": "stream",
     "text": [
      "the nan value is: -999999488.0\n",
      "93357 (9.753%) objects have a nan value in the z filter\n",
      "97536 (10.190%) objects have a nan value in the y filter\n",
      "5 (0.001%) objects have a nan value in the j filter\n",
      "10 (0.001%) objects have a nan value in the h filter\n",
      "5 (0.001%) objects have a nan value in the ks filter\n"
     ]
    }
   ],
   "source": [
    "print(f'the nan value is: {vikingdr5_catalog_df['zAperMag3'].tail(len(vikingdr5_catalog_df)).unique().min()}')\n",
    "\n",
    "z_filter = vikingdr5_catalog_df[vikingdr5_catalog_df['zAperMag3']== -999999488.0]\n",
    "y_filter = vikingdr5_catalog_df[vikingdr5_catalog_df['yAperMag3'] == -999999488.0]\n",
    "j_filter = vikingdr5_catalog_df[vikingdr5_catalog_df['jAperMag3'] == -999999488.0]\n",
    "h_filter = vikingdr5_catalog_df[vikingdr5_catalog_df['hAperMag3'] == -999999488.0]\n",
    "ks_filter = vikingdr5_catalog_df[vikingdr5_catalog_df['ksAperMag3'] == -999999488.0]\n",
    "\n",
    "\n",
    "print(f'{len(z_filter)} ({(len(z_filter)/len(vikingdr5_catalog_df))*100:.3f}%) objects have a nan value in the z filter')\n",
    "print(f'{len(y_filter)} ({(len(y_filter)/len(vikingdr5_catalog_df))*100:.3f}%) objects have a nan value in the y filter')\n",
    "print(f'{len(j_filter)} ({(len(j_filter)/len(vikingdr5_catalog_df))*100:.3f}%) objects have a nan value in the j filter')\n",
    "print(f'{len(h_filter)} ({(len(h_filter)/len(vikingdr5_catalog_df))*100:.3f}%) objects have a nan value in the h filter')\n",
    "print(f'{len(ks_filter)} ({(len(ks_filter)/len(vikingdr5_catalog_df))*100:.3f}%) objects have a nan value in the ks filter')"
   ]
  },
  {
   "cell_type": "code",
   "execution_count": 21,
   "id": "7215d3ac",
   "metadata": {},
   "outputs": [],
   "source": [
    "catalog_table = Table.read(catwise2020_catalog_path)\n",
    "catwise_catalog_df = catalog_table.to_pandas()"
   ]
  },
  {
   "cell_type": "code",
   "execution_count": 22,
   "id": "e9a728fe",
   "metadata": {},
   "outputs": [
    {
     "name": "stdout",
     "output_type": "stream",
     "text": [
      "the nan value is: 5.181000232696533\n"
     ]
    }
   ],
   "source": [
    "# This shows us that catwise doesn't have nan values\n",
    "\n",
    "# missingno.matrix(catwise_catalog_df)\n",
    "\n",
    "print(f'the nan value is: {catwise_catalog_df['w1mpro'].tail(len(catwise_catalog_df)).unique().min()}')"
   ]
  },
  {
   "cell_type": "markdown",
   "id": "724ed87f",
   "metadata": {},
   "source": [
    "# Remove EMU sources in empty VIKING spots"
   ]
  },
  {
   "cell_type": "markdown",
   "id": "ccce25da",
   "metadata": {},
   "source": [
    "There are three rectangular patches in the VIKING area that don't have any objects, which is due to bad quality measurments."
   ]
  },
  {
   "cell_type": "code",
   "execution_count": 23,
   "id": "85ce3da5",
   "metadata": {},
   "outputs": [],
   "source": [
    "emu_catalog_path = '/data/mfonseca/survey_data/EMU_data/EMU_0102-32/EMU_0102-32_1comp.fits'"
   ]
  },
  {
   "cell_type": "code",
   "execution_count": 24,
   "id": "9de24920",
   "metadata": {},
   "outputs": [
    {
     "name": "stderr",
     "output_type": "stream",
     "text": [
      "WARNING: UnitsWarning: '--' did not parse as fits unit: Invalid character at col 0 If this is meant to be a custom unit, define it with 'u.def_unit'. To have it recognized inside a file reader or other code, enable it with 'u.add_enabled_units'. For details, see https://docs.astropy.org/en/latest/units/combining_and_defining.html [astropy.units.core]\n"
     ]
    }
   ],
   "source": [
    "emu_table = Table.read(emu_catalog_path)\n",
    "emu_catalog_df = emu_table.to_pandas()\n",
    "\n",
    "viking_table = Table.read(vikingdr5_catalog_path)\n",
    "viking_catalog_df = viking_table.to_pandas()\n",
    "\n",
    "emu_coords = SkyCoord(ra=emu_catalog_df['ra_deg_cont'].values * u.deg,\n",
    "                      dec=emu_catalog_df['dec_deg_cont'].values * u.deg)\n",
    "\n",
    "viking_coords = SkyCoord(ra=viking_catalog_df['ra'].values * u.deg,\n",
    "                         dec=viking_catalog_df['dec'].values * u.deg)\n",
    "\n",
    "# Perform many-to-many matching (find all EMU–VIKING pairs within 10 arcsec)\n",
    "idx_viking, idx_emu, sep2d, _ = emu_coords.search_around_sky(viking_coords, 10 * u.arcsec)\n",
    "\n",
    "# Get unique EMU indices that have at least one match\n",
    "unique_matched_emu_indices = np.unique(idx_emu)\n",
    "\n",
    "matched_emu_df = emu_catalog_df.iloc[unique_matched_emu_indices]\n",
    "\n",
    "Table.from_pandas(matched_emu_df).write(\"/data/mfonseca/survey_data/EMU_data/EMU_0102-32/EMU_0102-32_1comp_filtered.fits\", overwrite=True)"
   ]
  },
  {
   "cell_type": "code",
   "execution_count": 25,
   "id": "dab548a9",
   "metadata": {},
   "outputs": [
    {
     "name": "stdout",
     "output_type": "stream",
     "text": [
      "Number of original sources in EMU catalog: 18736\n",
      "Number of sources in EMU catalog after filtering: 11588\n",
      "Fraction of sources in EMU catalog after filtering: 61.85%\n"
     ]
    }
   ],
   "source": [
    "print(f'Number of original sources in EMU catalog: {len(emu_catalog_df)}')\n",
    "print(f'Number of sources in EMU catalog after filtering: {len(matched_emu_df)}')\n",
    "\n",
    "fraction = len(matched_emu_df) / len(emu_catalog_df)\n",
    "\n",
    "print(f'Fraction of sources in EMU catalog after filtering: {fraction:.2%}')"
   ]
  }
 ],
 "metadata": {
  "kernelspec": {
   "display_name": "rapids-25.02",
   "language": "python",
   "name": "python3"
  },
  "language_info": {
   "codemirror_mode": {
    "name": "ipython",
    "version": 3
   },
   "file_extension": ".py",
   "mimetype": "text/x-python",
   "name": "python",
   "nbconvert_exporter": "python",
   "pygments_lexer": "ipython3",
   "version": "3.12.9"
  }
 },
 "nbformat": 4,
 "nbformat_minor": 5
}
