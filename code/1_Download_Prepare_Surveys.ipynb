{
 "cells": [
  {
   "cell_type": "markdown",
   "id": "94d63de1",
   "metadata": {},
   "source": [
    "# Prepare All Catalogs"
   ]
  },
  {
   "cell_type": "markdown",
   "id": "a202adab",
   "metadata": {},
   "source": [
    "This notebook contains a list of functions that prepare the complementary catalogs for future work.\n",
    "It clears the catalogs of non-detections and flagged objects."
   ]
  },
  {
   "cell_type": "markdown",
   "id": "22ad527e",
   "metadata": {},
   "source": [
    "## Import libraries"
   ]
  },
  {
   "cell_type": "code",
   "execution_count": 2,
   "id": "bea44ecd",
   "metadata": {},
   "outputs": [],
   "source": [
    "# Astropy\n",
    "from astropy.table import Table\n",
    "from astropy.io import fits\n",
    "from astropy.coordinates import SkyCoord\n",
    "from astropy import units as u\n",
    "\n",
    "import missingno\n",
    "import numpy as np"
   ]
  },
  {
   "cell_type": "code",
   "execution_count": 11,
   "id": "fd9ac1ac",
   "metadata": {},
   "outputs": [],
   "source": [
    "desdr2_catalog_path = '/data/mfonseca/survey_data/DES_data/DES_in_EMU_0102-32_square.fits'\n",
    "desy6gold_catalog_path = '/data/mfonseca/survey_data/DES_data/DESY6GOLD_in_EMU_0102-32_magauto.fits'\n",
    "\n",
    "vikingdr5_catalog_path = '/data/mfonseca/survey_data/VIKING_data/VIKINGDR5_in_EMU_0102-32_allapermag3.fits'\n",
    "catwise_catalog_path = '/data/mfonseca/survey_data/CATWISE_data/CATWISE2020_in_EMU_0102-32.fits'"
   ]
  },
  {
   "cell_type": "markdown",
   "id": "5ac67cb4",
   "metadata": {},
   "source": [
    "## Convert VEGA magnitude to AB magnitude (VIKING DR5, CATWISE2020)"
   ]
  },
  {
   "cell_type": "markdown",
   "id": "6a8b97f6",
   "metadata": {},
   "source": [
    "While the DES DR2 magnitudes are already in the AB system, the VIKING DR5 and CATWISE2020 magnitudes are in the Vega system and need to be converted."
   ]
  },
  {
   "cell_type": "code",
   "execution_count": null,
   "id": "e1b1b879",
   "metadata": {},
   "outputs": [],
   "source": [
    "def fix_ab_magnitude(file_path, ab_offset, mag_columns):\n",
    "    '''\n",
    "    Converts the vega magnitudes to ab magnitudes\n",
    "\n",
    "    Args:\n",
    "        file_path (str): Path to the FITS file.\n",
    "        ab_offset (list): List of offsets for each magnitude column.\n",
    "        mag_columns (list): List of magnitude column names to be corrected, same order as ab_offset.\n",
    "    Returns:\n",
    "        None: The function modifies the FITS file in place.\n",
    "    \n",
    "    '''\n",
    "\n",
    "    catalog_table = Table.read(file_path)\n",
    "    catalog_df = catalog_table.to_pandas()\n",
    "\n",
    "    for col in mag_columns:\n",
    "        # Apply the AB magnitude correction\n",
    "        index = mag_columns.index(col)\n",
    "        col_dered = [col+'_dered' for col in mag_columns]\n",
    "        catalog_df[col_dered] = catalog_df[col] + ab_offset[index]\n",
    "\n",
    "\n",
    "    # Save the updated DataFrame back to the original FITS file\n",
    "    updated_catalog_table = Table.from_pandas(catalog_df)\n",
    "    updated_catalog_table.write(file_path, overwrite=True)"
   ]
  },
  {
   "cell_type": "markdown",
   "id": "2efd206f",
   "metadata": {},
   "source": [
    "For the ViKING DR5 we used the two magnitudes recomended in the webpage of VSA: AperMagNoAperCorr3 and AperMag3."
   ]
  },
  {
   "cell_type": "code",
   "execution_count": null,
   "id": "e911dbff",
   "metadata": {},
   "outputs": [],
   "source": [
    "viking_AperMagNoAperCorr3_cols = ['zAperMagNoAperCorr3', 'yAperMagNoAperCorr3', 'jAperMagNoAperCorr3', 'hAperMagNoAperCorr3', 'ksAperMagNoAperCorr3']\n",
    "viking_AperMag3_cols = ['zAperMag3', 'yAperMag3', 'jAperMag3', 'hAperMag3', 'ksAperMag3']\n",
    "\n",
    "\n",
    "# http://casu.ast.cam.ac.uk/surveys-projects/vista/technical/filter-set\n",
    "viking_ab_offset = [0.502, 0.600, 0.916, 1.366, 1.827]\n",
    "\n",
    "fix_ab_magnitude(vikingdr5_catalog_path, viking_ab_offset, viking_AperMagNoAperCorr3_cols)\n",
    "fix_ab_magnitude(vikingdr5_catalog_path, viking_ab_offset, viking_AperMag3_cols)"
   ]
  },
  {
   "cell_type": "markdown",
   "id": "b3514a28",
   "metadata": {},
   "source": [
    "For the CATWISE2020 survey, given the big size of the aperture magnitudes, we use the PSF magnitudes."
   ]
  },
  {
   "cell_type": "code",
   "execution_count": null,
   "id": "fecf517c",
   "metadata": {},
   "outputs": [],
   "source": [
    "# For CATWISE2020\n",
    "catwise_psfmag_columns = ['w1mpro', 'w2mpro']\n",
    "\n",
    "# https://wise2.ipac.caltech.edu/docs/release/allsky/expsup/sec4_4h.html\n",
    "catwise_ab_offset = [2.699, 3.339]\n",
    "\n",
    "fix_ab_magnitude(catwise_catalog_path, catwise_ab_offset, catwise_psfmag_columns)"
   ]
  },
  {
   "cell_type": "markdown",
   "id": "1a3a7b1e",
   "metadata": {},
   "source": [
    "## Correct for extinction (DESY6GOLD, VIKING DR5)"
   ]
  },
  {
   "cell_type": "code",
   "execution_count": null,
   "id": "4e9bf021",
   "metadata": {},
   "outputs": [],
   "source": [
    "exctinction_columns = ['a_fiducial_g', 'a_fiducial_r', 'a_fiducial_i', 'a_fiducial_z', 'a_fiducial_y',]\n"
   ]
  },
  {
   "cell_type": "code",
   "execution_count": null,
   "id": "ac71dd84",
   "metadata": {},
   "outputs": [],
   "source": [
    "def correct_extinction(file_path, filter_list, type='AperMag3'):\n",
    "    '''\n",
    "    Corrects the extinction in the magnitudes of the catalog when given the total extinction.\n",
    "\n",
    "    Args:\n",
    "        file_path (str): Path to the FITS file.\n",
    "        filter_list (list): List of filters to be corrected, in lower case.\n",
    "        type (str): Type of magnitude to be corrected. Default is 'AperMag3'.\n",
    "    Returns:\n",
    "        None: The function modifies the FITS file in place.\n",
    "    \n",
    "    '''\n",
    "\n",
    "    catalog_table = Table.read(file_path)\n",
    "    catalog_df = catalog_table.to_pandas()\n",
    "\n",
    "    rows = catalog_df.shape[0]\n",
    "\n",
    "    for filter in filter_list:\n",
    "        mag_colum = filter + type\n",
    "        excoef_column = 'a' + filter.upper()\n",
    "\n",
    "        extinction = catalog_df[excoef_column]\n",
    "\n",
    "        catalog_df[mag_colum] = catalog_df[mag_colum] - catalog_df[excoef_column]\n",
    "\n",
    "\n",
    "    # Save the updated DataFrame back to the original FITS file\n",
    "    updated_catalog_table = Table.from_pandas(catalog_df)\n",
    "    updated_catalog_table.write(file_path, overwrite=True)"
   ]
  },
  {
   "cell_type": "code",
   "execution_count": null,
   "id": "eff6ba0a",
   "metadata": {},
   "outputs": [],
   "source": [
    "# For VIKING DR4\n",
    "viking_filters = ['z', 'y', 'j', 'h', 'ks']\n",
    "\n",
    "correct_extinction(vikingdr5_catalog_path, viking_filters, type='AperMag3')\n",
    "correct_extinction(vikingdr5_catalog_path, viking_filters, type='AperMagNoAperCorr3')"
   ]
  },
  {
   "cell_type": "code",
   "execution_count": null,
   "id": "544dfbaf",
   "metadata": {},
   "outputs": [],
   "source": [
    "def compute_dereddened_photometry(df, mag_cols, extinction_cols):\n",
    "    \"\"\"\n",
    "    Adds dereddened magnitudes and colors to a DataFrame.\n",
    "\n",
    "    Parameters:\n",
    "    - df: pandas.DataFrame\n",
    "    - mag_cols: list of strings, magnitude column names\n",
    "    - extinction_cols: dict mapping band (str) to extinction column\n",
    "    \n",
    "    Returns:\n",
    "    - df: DataFrame with added columns:\n",
    "        - e.g., 'zPnt_dered', 'yPnt_dered', 'zmyPnt_dered'\n",
    "    \"\"\"\n",
    "    # Dereddened magnitudes\n",
    "    for band in extinction_cols:\n",
    "        mag_col = next((col for col in mag_cols if col.lower().startswith(band.lower())), None)\n",
    "        if mag_col:\n",
    "            df[f\"{mag_col}_dered\"] = df[mag_col] - df[extinction_cols[band]]\n",
    "\n",
    "    # Dereddened colors\n",
    "    for i in range(len(mag_cols)):\n",
    "        for j in range(i + 1, len(mag_cols)):\n",
    "            band1, band2 = mag_cols[i], mag_cols[j]\n",
    "            b1, b2 = band1[0].lower(), band2[0].lower()\n",
    "            if b1 in extinction_cols and b2 in extinction_cols:\n",
    "                color_name = f\"{b1}m{b2}Pnt\"\n",
    "                dered_color = (df[band1] - df[band2]) - (df[extinction_cols[b1]] - df[extinction_cols[b2]])\n",
    "                df[f\"{color_name}_dered\"] = dered_color\n",
    "\n",
    "    return df"
   ]
  },
  {
   "cell_type": "code",
   "execution_count": null,
   "id": "53ac835c",
   "metadata": {},
   "outputs": [],
   "source": [
    "# For VIKING DR5\n",
    "point_mag_cols = ['zmyPnt', 'yPnt', 'jPnt']\n",
    "extinction_cols = {'z': 'aZ', 'y': 'aY', 'j': 'aJ'}"
   ]
  },
  {
   "cell_type": "markdown",
   "id": "99402a61",
   "metadata": {},
   "source": [
    "## Calculate Colors (DESY6GOLD, VIKING DR5, CATWISE2020)"
   ]
  },
  {
   "cell_type": "code",
   "execution_count": null,
   "id": "9a0291b4",
   "metadata": {},
   "outputs": [],
   "source": [
    "# For DES DR2\n",
    "desy6gold_catalog_table = Table.read(desy6gold_catalog_path)\n",
    "desy6gold_catalog_df = desy6gold_catalog_table.to_pandas()\n",
    "\n",
    "desy6gold_mag_cols = ['mag_auto_g', 'mag_auto_r', 'mag_auto_i', 'mag_auto_z', 'mag_auto_y']\n",
    "desy6gold_catalog_df['g_r_dered'] = desy6gold_catalog_df['mag_auto_g_dered'] - desy6gold_catalog_df['mag_auto_r_dered']\n",
    "desy6gold_catalog_df['r_i_dered'] = desy6gold_catalog_df['mag_auto_r_dered'] - desy6gold_catalog_df['mag_auto_i_dered']\n",
    "desy6gold_catalog_df['i_z_dered'] = desy6gold_catalog_df['mag_auto_i_dered'] - desy6gold_catalog_df['mag_auto_z_dered']\n",
    "desy6gold_catalog_df['z_y_dered'] = desy6gold_catalog_df['mag_auto_z_dered'] - desy6gold_catalog_df['mag_auto_y_dered']\n",
    "\n",
    "updated_catalog_table = Table.from_pandas(desy6gold_catalog_df)\n",
    "updated_catalog_table.write(desy6gold_catalog_path, overwrite=True)"
   ]
  },
  {
   "cell_type": "code",
   "execution_count": null,
   "id": "69bb5545",
   "metadata": {},
   "outputs": [],
   "source": [
    "# For the CATWISE catalog\n",
    "catwise_catalog_table = Table.read(catwise_catalog_path)\n",
    "catwise_catalog_df = catwise_catalog_table.to_pandas()\n",
    "\n",
    "catwise_catalog_df['w1_w2_dered'] = catwise_catalog_df['w1mpro_dered'] - catwise_catalog_df['w2mpro_dered']\n",
    "\n",
    "updated_catalog_table = Table.from_pandas(catwise_catalog_df)\n",
    "updated_catalog_table.write(catwise_catalog_path, overwrite=True)"
   ]
  },
  {
   "cell_type": "markdown",
   "id": "a838467c",
   "metadata": {},
   "source": [
    "# Count non-detections (VIKING DR5, CATWISE2020)"
   ]
  },
  {
   "cell_type": "code",
   "execution_count": 10,
   "id": "7eff708b",
   "metadata": {},
   "outputs": [
    {
     "name": "stderr",
     "output_type": "stream",
     "text": [
      "WARNING: UnitsWarning: 'degrees' did not parse as fits unit: At col 0, Unit 'degrees' not supported by the FITS standard.  If this is meant to be a custom unit, define it with 'u.def_unit'. To have it recognized inside a file reader or other code, enable it with 'u.add_enabled_units'. For details, see https://docs.astropy.org/en/latest/units/combining_and_defining.html [astropy.units.core]\n",
      "WARNING: UnitsWarning: 'degrees' did not parse as fits unit: At col 0, Unit 'degrees' not supported by the FITS standard.  If this is meant to be a custom unit, define it with 'u.def_unit'. To have it recognized inside a file reader or other code, enable it with 'u.add_enabled_units'. For details, see https://docs.astropy.org/en/latest/units/combining_and_defining.html [astropy.units.core]\n"
     ]
    },
    {
     "name": "stdout",
     "output_type": "stream",
     "text": [
      "Index(['sourceID', 'ra', 'dec', 'zAperMag3', 'zAperMagNoAperCorr3',\n",
      "       'zAperMag3Err', 'yAperMag3', 'yAperMagNoAperCorr3', 'yAperMag3Err',\n",
      "       'jAperMag3', 'jAperMagNoAperCorr3', 'jAperMag3Err', 'hAperMag',\n",
      "       'hAperMagNoAperCorr3', 'hAperMag3Err', 'ksAperMag3',\n",
      "       'ksAperMagNoAperCorr3', 'ksAperMag3Err', 'eBV', 'aZ', 'aY', 'aJ', 'aH',\n",
      "       'aKs', 'zppErrBits', 'yppErrBits', 'ksErrBits', 'jErrBits', 'hErrBits',\n",
      "       'mergedClassStat', 'pGalaxy', 'pStar', 'pNoise', 'pSaturated'],\n",
      "      dtype='object')\n"
     ]
    }
   ],
   "source": [
    "catalog_table = Table.read(vikingdr5_catalog_path)\n",
    "vikingdr5_catalog_df = catalog_table.to_pandas()\n",
    "\n",
    "print(vikingdr5_catalog_df.columns)"
   ]
  },
  {
   "cell_type": "code",
   "execution_count": null,
   "id": "3f15eae6",
   "metadata": {},
   "outputs": [
    {
     "name": "stdout",
     "output_type": "stream",
     "text": [
      "the nan value is: -999999488.0\n",
      "863853 (90.25%) objects have a nan value in the z filter\n",
      "859674 (89.81%) objects have a nan value in the y filter\n",
      "957205 (100.00%) objects have a nan value in the j filter\n",
      "957205 (100.00%) objects have a nan value in the ks filter\n"
     ]
    }
   ],
   "source": [
    "print(f'the nan value is: {vikingdr5_catalog_df['zAperMag3'].tail(len(vikingdr5_catalog_df)).unique().min()}')\n",
    "\n",
    "z_filter = vikingdr5_catalog_df[~np.isclose(vikingdr5_catalog_df['zAperMag3'], -999999488.0)]\n",
    "y_filter = vikingdr5_catalog_df[~np.isclose(vikingdr5_catalog_df['yAperMag3'], -999999488.0)]\n",
    "j_filter = vikingdr5_catalog_df[~np.isclose(vikingdr5_catalog_df['jAperMag3'], -999999488.0)]\n",
    "#h_filter = viking_catalog_df[~np.isclose(viking_catalog_df['hAperMag3'], -999999488.0)]\n",
    "ks_filter = vikingdr5_catalog_df[~np.isclose(vikingdr5_catalog_df['ksAperMag3'], -999999488.0)]\n",
    "\n",
    "\n",
    "print(f'{len(z_filter)} ({(len(z_filter)/len(vikingdr5_catalog_df))*100:.2f}%) objects have a nan value in the z filter')\n",
    "print(f'{len(y_filter)} ({(len(y_filter)/len(vikingdr5_catalog_df))*100:.2f}%) objects have a nan value in the y filter')\n",
    "print(f'{len(j_filter)} ({(len(j_filter)/len(vikingdr5_catalog_df))*100:.2f}%) objects have a nan value in the j filter')\n",
    "#print(f'{len(h_filter)} ({(len(h_filter)/len(viking_catalog_df))*100:.2f}%) objects have a nan value in the h filter')\n",
    "print(f'{len(ks_filter)} ({(len(ks_filter)/len(vikingdr5_catalog_df))*100:.2f}%) objects have a nan value in the ks filter')"
   ]
  },
  {
   "cell_type": "code",
   "execution_count": null,
   "id": "7215d3ac",
   "metadata": {},
   "outputs": [],
   "source": [
    "catalog_table = Table.read(catwise_catalog_path)\n",
    "catwise_catalog_df = catalog_table.to_pandas()"
   ]
  },
  {
   "cell_type": "code",
   "execution_count": null,
   "id": "e9a728fe",
   "metadata": {},
   "outputs": [],
   "source": [
    "# This shows us that catwise doesn't have nan values\n",
    "\n",
    "# missingno.matrix(catwise_catalog_df)\n",
    "\n",
    "print(f'the nan value is: {catwise_catalog_df['w1mpro'].tail(len(catwise_catalog_df)).unique().min()}')"
   ]
  },
  {
   "cell_type": "markdown",
   "id": "724ed87f",
   "metadata": {},
   "source": [
    "# Remove EMU sources in empty VIKING spots"
   ]
  },
  {
   "cell_type": "markdown",
   "id": "ccce25da",
   "metadata": {},
   "source": [
    "There are three rectangular patches in the VIKING area that don't have any objects, which is due to bad quality measurments."
   ]
  },
  {
   "cell_type": "code",
   "execution_count": 4,
   "id": "85ce3da5",
   "metadata": {},
   "outputs": [],
   "source": [
    "emu_catalog_path = '/data/mfonseca/survey_data/EMU_data/EMU_0102-32/EMU_0102-32_1comp.fits'"
   ]
  },
  {
   "cell_type": "code",
   "execution_count": 27,
   "id": "9de24920",
   "metadata": {},
   "outputs": [
    {
     "name": "stderr",
     "output_type": "stream",
     "text": [
      "WARNING: UnitsWarning: '--' did not parse as fits unit: Invalid character at col 0 If this is meant to be a custom unit, define it with 'u.def_unit'. To have it recognized inside a file reader or other code, enable it with 'u.add_enabled_units'. For details, see https://docs.astropy.org/en/latest/units/combining_and_defining.html [astropy.units.core]\n",
      "WARNING: UnitsWarning: 'degrees' did not parse as fits unit: At col 0, Unit 'degrees' not supported by the FITS standard.  If this is meant to be a custom unit, define it with 'u.def_unit'. To have it recognized inside a file reader or other code, enable it with 'u.add_enabled_units'. For details, see https://docs.astropy.org/en/latest/units/combining_and_defining.html [astropy.units.core]\n",
      "WARNING: UnitsWarning: 'degrees' did not parse as fits unit: At col 0, Unit 'degrees' not supported by the FITS standard.  If this is meant to be a custom unit, define it with 'u.def_unit'. To have it recognized inside a file reader or other code, enable it with 'u.add_enabled_units'. For details, see https://docs.astropy.org/en/latest/units/combining_and_defining.html [astropy.units.core]\n"
     ]
    }
   ],
   "source": [
    "emu_table = Table.read(emu_catalog_path)\n",
    "emu_catalog_df = emu_table.to_pandas()\n",
    "\n",
    "viking_table = Table.read(vikingdr5_catalog_path)\n",
    "viking_catalog_df = viking_table.to_pandas()\n",
    "\n",
    "emu_coords = SkyCoord(ra=emu_catalog_df['ra_deg_cont'].values * u.deg,\n",
    "                      dec=emu_catalog_df['dec_deg_cont'].values * u.deg)\n",
    "\n",
    "viking_coords = SkyCoord(ra=viking_catalog_df['ra'].values * u.deg,\n",
    "                         dec=viking_catalog_df['dec'].values * u.deg)\n",
    "\n",
    "# Perform many-to-many matching (find all EMU–VIKING pairs within 10 arcsec)\n",
    "idx_viking, idx_emu, sep2d, _ = emu_coords.search_around_sky(viking_coords, 10 * u.arcsec)\n",
    "\n",
    "# Get unique EMU indices that have at least one match\n",
    "unique_matched_emu_indices = np.unique(idx_emu)\n",
    "\n",
    "matched_emu_df = emu_catalog_df.iloc[unique_matched_emu_indices]\n",
    "\n",
    "Table.from_pandas(matched_emu_df).write(\"/data/mfonseca/survey_data/EMU_data/EMU_0102-32/EMU_0102-32_1comp_filtered.fits\", overwrite=True)"
   ]
  },
  {
   "cell_type": "code",
   "execution_count": 28,
   "id": "dab548a9",
   "metadata": {},
   "outputs": [
    {
     "name": "stdout",
     "output_type": "stream",
     "text": [
      "Number of original sources in EMU catalog: 18736\n",
      "Number of sources in EMU catalog after filtering: 11588\n",
      "Fraction of sources in EMU catalog after filtering: 61.85%\n"
     ]
    }
   ],
   "source": [
    "print(f'Number of original sources in EMU catalog: {len(emu_catalog_df)}')\n",
    "print(f'Number of sources in EMU catalog after filtering: {len(matched_emu_df)}')\n",
    "\n",
    "fraction = len(matched_emu_df) / len(emu_catalog_df)\n",
    "\n",
    "print(f'Fraction of sources in EMU catalog after filtering: {fraction:.2%}')"
   ]
  }
 ],
 "metadata": {
  "kernelspec": {
   "display_name": "rapids-25.02",
   "language": "python",
   "name": "python3"
  },
  "language_info": {
   "codemirror_mode": {
    "name": "ipython",
    "version": 3
   },
   "file_extension": ".py",
   "mimetype": "text/x-python",
   "name": "python",
   "nbconvert_exporter": "python",
   "pygments_lexer": "ipython3",
   "version": "3.12.9"
  }
 },
 "nbformat": 4,
 "nbformat_minor": 5
}
