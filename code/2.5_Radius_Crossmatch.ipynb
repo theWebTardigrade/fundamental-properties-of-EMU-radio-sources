{
 "cells": [
  {
   "cell_type": "markdown",
   "id": "34ec5a85",
   "metadata": {},
   "source": [
    "## Initical Cross-Matching"
   ]
  },
  {
   "cell_type": "markdown",
   "id": "346a12ad",
   "metadata": {},
   "source": [
    "Code to generate beautifull histograms for initial radius cross-matching"
   ]
  },
  {
   "cell_type": "code",
   "execution_count": 2,
   "id": "bf563126",
   "metadata": {},
   "outputs": [],
   "source": [
    "from astropy.table import Table\n",
    "from astropy.coordinates import SkyCoord\n",
    "from astropy import units as u\n",
    "\n",
    "import numpy as np\n",
    "import matplotlib.pyplot as plt"
   ]
  },
  {
   "cell_type": "code",
   "execution_count": 3,
   "id": "2af31191",
   "metadata": {},
   "outputs": [],
   "source": [
    "# EMU catalogs\n",
    "emu_catalog_path = '/data/mfonseca/survey_data/EMU_data/EMU_0102-32/EMU_0102-32_1comp.fits'\n",
    "emu_patched_catalog_path = '/data/mfonseca/survey_data/EMU_data/EMU_0102-32/EMU_0102-32_1comp_withoutpatches.fits'\n",
    "emuXviking_catalog_path = ''\n",
    "\n",
    "# DES catalogs\n",
    "desdr2_catalog_path = '/data/mfonseca/survey_data/DES_data/DESDR2_in_EMU_0102-32_magautodered.fits'\n",
    "desy6gold_catalog_path = '/data/mfonseca/survey_data/DES_data/DESY6GOLD_in_EMU_0102-32_magauto.fits'\n",
    "\n",
    "# VIKING DR5 catalogs\n",
    "vikingdr5_catalog_path = '/data/mfonseca/survey_data/VIKING_data/VIKINGDR5_in_EMU_0102-32_allapermag3.fits'\n",
    "\n",
    "# CatWISE catalogs\n",
    "catwise_catalog_path = '/data/mfonseca/survey_data/CATWISE_data/CATWISE2020_in_EMU_0102-32.fits'"
   ]
  },
  {
   "cell_type": "code",
   "execution_count": null,
   "id": "33867abd",
   "metadata": {},
   "outputs": [
    {
     "name": "stderr",
     "output_type": "stream",
     "text": [
      "WARNING: UnitsWarning: '--' did not parse as fits unit: Invalid character at col 0 If this is meant to be a custom unit, define it with 'u.def_unit'. To have it recognized inside a file reader or other code, enable it with 'u.add_enabled_units'. For details, see https://docs.astropy.org/en/latest/units/combining_and_defining.html [astropy.units.core]\n"
     ]
    }
   ],
   "source": [
    "# EMU\n",
    "emu_table = Table.read(emu_catalog_path)\n",
    "emu_catalog_df = emu_table.to_pandas()\n",
    "\n",
    "emu_coords = SkyCoord(ra=emu_catalog_df['ra_deg_cont'].values * u.deg,\n",
    "                      dec=emu_catalog_df['dec_deg_cont'].values * u.deg)\n",
    "\n",
    "# DES Y6 GOLD\n",
    "desy6gold_table = Table.read(desy6gold_catalog_path)\n",
    "desy6gold_catalog_df = desy6gold_table.to_pandas()\n",
    "\n",
    "desy6gold_coords = SkyCoord(ra=desy6gold_catalog_df['ra'].values * u.deg,\n",
    "                         dec=desy6gold_catalog_df['dec'].values * u.deg)\n",
    "\n",
    "\n",
    "# VIKING DR5\n",
    "viking_table = Table.read(vikingdr5_catalog_path)\n",
    "viking_catalog_df = viking_table.to_pandas()\n",
    "\n",
    "viking_coords = SkyCoord(ra=viking_catalog_df['ra'].values * u.deg,\n",
    "                         dec=viking_catalog_df['dec'].values * u.deg)\n",
    "\n",
    "# CatWISE 2020\n",
    "\n"
   ]
  },
  {
   "cell_type": "code",
   "execution_count": 1,
   "id": "ab0c3f58",
   "metadata": {},
   "outputs": [],
   "source": [
    "def crossmatch_separation(cat1, cat2):\n",
    "\n",
    "    idx, d2d, _ = cat1.match_to_catalog_sky(cat2)\n",
    "    separation = d2d.arcsec\n",
    "\n",
    "    return separation\n"
   ]
  },
  {
   "cell_type": "markdown",
   "id": "2bf3664f",
   "metadata": {},
   "source": [
    "## EMU x DES"
   ]
  },
  {
   "cell_type": "code",
   "execution_count": 5,
   "id": "450de94c",
   "metadata": {},
   "outputs": [
    {
     "data": {
      "text/plain": [
       "array([ 1.03029574,  0.86980563,  2.92258252, ...,  1.72575684,\n",
       "       25.78516492,  1.9324179 ])"
      ]
     },
     "execution_count": 5,
     "metadata": {},
     "output_type": "execute_result"
    }
   ],
   "source": [
    "crossmatch_separation(emu_coords, viking_coords)"
   ]
  },
  {
   "cell_type": "markdown",
   "id": "cb08b341",
   "metadata": {},
   "source": [
    "## EMU x VIKING"
   ]
  },
  {
   "cell_type": "markdown",
   "id": "9afcc469",
   "metadata": {},
   "source": [
    "## EMU x CatWISE"
   ]
  },
  {
   "cell_type": "markdown",
   "id": "3e77c959",
   "metadata": {},
   "source": [
    "## Combined Histogram"
   ]
  }
 ],
 "metadata": {
  "kernelspec": {
   "display_name": "rapids-25.02",
   "language": "python",
   "name": "python3"
  },
  "language_info": {
   "codemirror_mode": {
    "name": "ipython",
    "version": 3
   },
   "file_extension": ".py",
   "mimetype": "text/x-python",
   "name": "python",
   "nbconvert_exporter": "python",
   "pygments_lexer": "ipython3",
   "version": "3.12.9"
  }
 },
 "nbformat": 4,
 "nbformat_minor": 5
}
