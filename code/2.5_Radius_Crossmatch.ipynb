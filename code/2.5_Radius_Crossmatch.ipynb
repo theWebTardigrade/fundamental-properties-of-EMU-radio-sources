{
 "cells": [
  {
   "cell_type": "markdown",
   "id": "34ec5a85",
   "metadata": {},
   "source": [
    "## Initical Cross-Matching"
   ]
  },
  {
   "cell_type": "markdown",
   "id": "346a12ad",
   "metadata": {},
   "source": [
    "Code to generate beautifull histograms for initial radius cross-matching"
   ]
  },
  {
   "cell_type": "code",
   "execution_count": null,
   "id": "bf563126",
   "metadata": {},
   "outputs": [],
   "source": [
    "from astropy.io import fits\n",
    "import numpy as np\n",
    "from astropy.table import Table"
   ]
  },
  {
   "cell_type": "code",
   "execution_count": null,
   "id": "2af31191",
   "metadata": {},
   "outputs": [],
   "source": [
    "# EMU catalogs\n",
    "emu_catalog_path = '/data/mfonseca/survey_data/EMU_data/EMU_0102-32/EMU_0102-32_1comp.fits'\n",
    "emu_patched_catalog_path = '/data/mfonseca/survey_data/EMU_data/EMU_0102-32/EMU_0102-32_1comp_withoutpatches.fits'\n",
    "emuXviking_catalog_path = ''\n",
    "\n",
    "# DES catalogs\n",
    "desdr2_catalog_path = '/data/mfonseca/survey_data/DES_data/DESDR2_in_EMU_0102-32_magautodered.fits'\n",
    "desy6gold_catalog_path = '/data/mfonseca/survey_data/DES_data/DESY6GOLD_in_EMU_0102-32_magauto.fits'\n",
    "\n",
    "# VIKING catalogs\n",
    "viking_catalog_path = '/data/mfonseca/survey_data/VIKING_data/VIKINGDR5_in_EMU_0102-32_allapermag3.fits'\n",
    "\n",
    "# CatWISE catalogs\n",
    "catwise_catalog_path = '/data/mfonseca/survey_data/CATWISE_data/CATWISE2020_in_EMU_0102-32.fits'"
   ]
  }
 ],
 "metadata": {
  "kernelspec": {
   "display_name": "rapids-25.02",
   "language": "python",
   "name": "python3"
  },
  "language_info": {
   "name": "python",
   "version": "3.12.9"
  }
 },
 "nbformat": 4,
 "nbformat_minor": 5
}
