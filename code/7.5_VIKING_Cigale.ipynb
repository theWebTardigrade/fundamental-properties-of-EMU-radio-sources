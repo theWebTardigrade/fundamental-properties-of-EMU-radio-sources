{
 "cells": [
  {
   "cell_type": "markdown",
   "id": "4aeec257",
   "metadata": {},
   "source": [
    "# Create CIGALE data file for (VIKING+DES+CATWISE) sources"
   ]
  },
  {
   "cell_type": "markdown",
   "id": "78dfc5cf",
   "metadata": {},
   "source": [
    "Select a subsample of VIKING+DES+CATWISE sources that have the same distribution as EMU sources in a given magnitude."
   ]
  },
  {
   "cell_type": "markdown",
   "id": "8e2554c3",
   "metadata": {},
   "source": [
    "# Import Libraries"
   ]
  },
  {
   "cell_type": "code",
   "execution_count": 1,
   "id": "765199bb",
   "metadata": {},
   "outputs": [],
   "source": [
    "import numpy as np\n",
    "from astropy.table import Table\n",
    "import pandas as pd\n",
    "import matplotlib.pyplot as plt\n",
    "import missingno"
   ]
  },
  {
   "cell_type": "markdown",
   "id": "e04404de",
   "metadata": {},
   "source": [
    "# Define the directory"
   ]
  },
  {
   "cell_type": "code",
   "execution_count": 2,
   "id": "bb8fd0ff",
   "metadata": {},
   "outputs": [],
   "source": [
    "observatory = '/home/mfonseca/fastdisk'\n",
    "my_computer = '/home/polaris/Lab_Astro/data/'\n",
    "\n",
    "directory = my_computer"
   ]
  },
  {
   "cell_type": "markdown",
   "id": "c7bb7498",
   "metadata": {},
   "source": [
    "# Import data"
   ]
  },
  {
   "cell_type": "markdown",
   "id": "d20226b4",
   "metadata": {},
   "source": [
    "## Import EMU+VIKING+DES+CATWISE crossmatch data"
   ]
  },
  {
   "cell_type": "code",
   "execution_count": 3,
   "id": "20dda1db",
   "metadata": {},
   "outputs": [
    {
     "name": "stdout",
     "output_type": "stream",
     "text": [
      "Number of objects in the catalog 11695\n",
      "Number of objects in the catalog that have matches in all three surveys 3855\n",
      "Number of objects in the catalog that have matches in all three surveys and have full photometry 3530\n"
     ]
    },
    {
     "name": "stderr",
     "output_type": "stream",
     "text": [
      "/tmp/ipykernel_73934/2011678717.py:14: SettingWithCopyWarning: \n",
      "A value is trying to be set on a copy of a slice from a DataFrame.\n",
      "Try using .loc[row_indexer,col_indexer] = value instead\n",
      "\n",
      "See the caveats in the documentation: https://pandas.pydata.org/pandas-docs/stable/user_guide/indexing.html#returning-a-view-versus-a-copy\n",
      "  emu_catalog_matches_noMags_full['EMU_island_name'] = emu_catalog_matches_noMags_full['EMU_island_name'].str.decode('utf-8').str.strip(' ')\n",
      "/tmp/ipykernel_73934/2011678717.py:18: SettingWithCopyWarning: \n",
      "A value is trying to be set on a copy of a slice from a DataFrame\n",
      "\n",
      "See the caveats in the documentation: https://pandas.pydata.org/pandas-docs/stable/user_guide/indexing.html#returning-a-view-versus-a-copy\n",
      "  emu_catalog_matches_noMags_full.drop(columns=['DESY6_mag_auto_y_extcorr', 'DESY6_z_y_extcorr','VKG_magerr_petro_z', 'VKG_mag_petro_z_ab_extcorr'], inplace=True)\n",
      "/tmp/ipykernel_73934/2011678717.py:19: SettingWithCopyWarning: \n",
      "A value is trying to be set on a copy of a slice from a DataFrame\n",
      "\n",
      "See the caveats in the documentation: https://pandas.pydata.org/pandas-docs/stable/user_guide/indexing.html#returning-a-view-versus-a-copy\n",
      "  emu_catalog_matches_noMags_full.dropna(inplace=True)\n"
     ]
    }
   ],
   "source": [
    "emu_matched_no_mags_path = directory + 'cross_match/EMU_0102-32_DESY6GOLD_VIKING_CATWISE_noMags/EMU_0102-32_DESY6GOLD_VIKINGDR5_CATWISE_noMag_petro_2.fits'\n",
    "emu_matched_no_mags = Table.read(emu_matched_no_mags_path).filled()\n",
    "emu_matched_no_mags = emu_matched_no_mags.to_pandas()\n",
    "\n",
    "match_mask = (emu_matched_no_mags['match_flag'] == 1) & (emu_matched_no_mags['p_i'] >= 0.1) & (emu_matched_no_mags['p_any'] >=0.83)\n",
    "catalog_matches_noMags = emu_matched_no_mags[match_mask]\n",
    "print(f'Number of objects in the catalog {len(catalog_matches_noMags)}')\n",
    "\n",
    "# Here we select objects that have matches in all three surveys\n",
    "full_match_mask = (catalog_matches_noMags['DESY6_coadd_object_id'] != -99) & (catalog_matches_noMags['VKG_sourceID'] != -99) & (catalog_matches_noMags['CAT_source_id'] != b'-99')\n",
    "emu_catalog_matches_noMags_full = catalog_matches_noMags[full_match_mask]\n",
    "\n",
    "# Ignore the warning\n",
    "emu_catalog_matches_noMags_full['EMU_island_name'] = emu_catalog_matches_noMags_full['EMU_island_name'].str.decode('utf-8').str.strip(' ')\n",
    "\n",
    "print(f'Number of objects in the catalog that have matches in all three surveys {len(emu_catalog_matches_noMags_full)}')\n",
    "\n",
    "emu_catalog_matches_noMags_full.drop(columns=['DESY6_mag_auto_y_extcorr', 'DESY6_z_y_extcorr','VKG_magerr_petro_z', 'VKG_mag_petro_z_ab_extcorr'], inplace=True)\n",
    "emu_catalog_matches_noMags_full.dropna(inplace=True)\n",
    "\n",
    "print(f'Number of objects in the catalog that have matches in all three surveys and have full photometry {len(emu_catalog_matches_noMags_full)}')"
   ]
  },
  {
   "cell_type": "markdown",
   "id": "ce0095f1",
   "metadata": {},
   "source": [
    "## Import VIKING+DES+CATWISE crossmatch data"
   ]
  },
  {
   "cell_type": "code",
   "execution_count": 5,
   "id": "a94b175c",
   "metadata": {},
   "outputs": [
    {
     "name": "stdout",
     "output_type": "stream",
     "text": [
      "Number of objects in the catalog 591080\n",
      "Number of objects in the catalog that have matches in all three surveys 366961\n",
      "Number of objects in the catalog that have matches in all three surveys and have full photometry 315399\n"
     ]
    },
    {
     "name": "stderr",
     "output_type": "stream",
     "text": [
      "/tmp/ipykernel_73934/3434645965.py:17: SettingWithCopyWarning: \n",
      "A value is trying to be set on a copy of a slice from a DataFrame\n",
      "\n",
      "See the caveats in the documentation: https://pandas.pydata.org/pandas-docs/stable/user_guide/indexing.html#returning-a-view-versus-a-copy\n",
      "  other_catalog_matches_noMags_full.dropna(inplace=True)\n"
     ]
    }
   ],
   "source": [
    "other_matched_no_mags_path = directory + 'cross_match/without_EMU/DESY6_VKG_CAT_noMags/DESY6_VKG_CAT_noMags.fits'\n",
    "other_matched_no_mags = Table.read(other_matched_no_mags_path).filled()\n",
    "other_matched_no_mags = other_matched_no_mags.to_pandas()\n",
    "\n",
    "# Match criteria from NWAY\n",
    "match_mask = (other_matched_no_mags['match_flag'] == 1) & (other_matched_no_mags['p_i'] >= 0.1) & (other_matched_no_mags['p_any'] >=0.00)\n",
    "other_catalog_matches_noMags = other_matched_no_mags[match_mask]\n",
    "print(f'Number of objects in the catalog {len(other_catalog_matches_noMags)}')\n",
    "\n",
    "# Here we select objects that have matches in all three surveys\n",
    "full_match_mask = (other_catalog_matches_noMags['DESY6_coadd_object_id'] != -99) & (other_catalog_matches_noMags['VKG_sourceID'] != -99) & (other_catalog_matches_noMags['CAT_source_id'] != b'-99')\n",
    "other_catalog_matches_noMags_full = other_catalog_matches_noMags[full_match_mask]\n",
    "\n",
    "print(f'Number of objects in the catalog that have matches in all three surveys {len(other_catalog_matches_noMags_full)}')\n",
    "\n",
    "# Remove objects with incomplete photometry\n",
    "other_catalog_matches_noMags_full.dropna(inplace=True)\n",
    "\n",
    "print(f'Number of objects in the catalog that have matches in all three surveys and have full photometry {len(other_catalog_matches_noMags_full)}')"
   ]
  },
  {
   "cell_type": "markdown",
   "id": "3b98dcab",
   "metadata": {},
   "source": [
    "## Remove EMU+VIKING+DES+CATWISE crossmatch data from VIKING+DES "
   ]
  },
  {
   "cell_type": "code",
   "execution_count": 6,
   "id": "5778119f",
   "metadata": {},
   "outputs": [
    {
     "name": "stdout",
     "output_type": "stream",
     "text": [
      "Number of objects in the catalog that have matches in all three surveys and have full photometry but are not in EMU 311164\n"
     ]
    }
   ],
   "source": [
    "# List of id columns\n",
    "cols = ['DESY6_coadd_object_id', 'VKG_sourceID', 'CAT_source_id']\n",
    "\n",
    "# Create a boolean mask for each column: True where df1[col] is in df2[col]\n",
    "mask = pd.Series(False, index=other_catalog_matches_noMags_full.index)  # initialize False mask\n",
    "\n",
    "for col in cols:\n",
    "    mask |= other_catalog_matches_noMags_full[col].isin(emu_catalog_matches_noMags_full[col])\n",
    "\n",
    "# Select only rows in df1 where mask is False (i.e., no match on any column)\n",
    "other_catalog_matches_noMags_full_filtered = other_catalog_matches_noMags_full[~mask].copy()\n",
    "\n",
    "print(f'Number of objects in the catalog that have matches in all three surveys and have full photometry but are not in EMU {len(other_catalog_matches_noMags_full_filtered)}')"
   ]
  },
  {
   "cell_type": "markdown",
   "id": "466b2e44",
   "metadata": {},
   "source": [
    "# Select a subsample of VIKING+DES+CATWISE with similar distribution to EMU+VIKING+DES+CATWISE"
   ]
  },
  {
   "cell_type": "code",
   "execution_count": null,
   "id": "0c795cca",
   "metadata": {},
   "outputs": [],
   "source": []
  },
  {
   "cell_type": "markdown",
   "id": "7eda9635",
   "metadata": {},
   "source": [
    "# Save the subsample to a CIGALE file"
   ]
  }
 ],
 "metadata": {
  "kernelspec": {
   "display_name": "labastro",
   "language": "python",
   "name": "python3"
  },
  "language_info": {
   "codemirror_mode": {
    "name": "ipython",
    "version": 3
   },
   "file_extension": ".py",
   "mimetype": "text/x-python",
   "name": "python",
   "nbconvert_exporter": "python",
   "pygments_lexer": "ipython3",
   "version": "3.10.16"
  }
 },
 "nbformat": 4,
 "nbformat_minor": 5
}
