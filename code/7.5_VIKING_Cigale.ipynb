{
 "cells": [
  {
   "cell_type": "markdown",
   "id": "4aeec257",
   "metadata": {},
   "source": [
    "# Create CIGALE data file for (VIKING+DES+CATWISE) sources"
   ]
  },
  {
   "cell_type": "markdown",
   "id": "78dfc5cf",
   "metadata": {},
   "source": [
    "Select a subsample of VIKING+DES+CATWISE sources that have the same distribution as EMU sources in a given magnitude."
   ]
  },
  {
   "cell_type": "markdown",
   "id": "8e2554c3",
   "metadata": {},
   "source": [
    "# Import Libraries"
   ]
  },
  {
   "cell_type": "code",
   "execution_count": null,
   "id": "765199bb",
   "metadata": {},
   "outputs": [],
   "source": []
  },
  {
   "cell_type": "markdown",
   "id": "e04404de",
   "metadata": {},
   "source": [
    "# Define the directory"
   ]
  },
  {
   "cell_type": "markdown",
   "id": "c7bb7498",
   "metadata": {},
   "source": [
    "# Import data"
   ]
  },
  {
   "cell_type": "markdown",
   "id": "d20226b4",
   "metadata": {},
   "source": [
    "## Import EMU+VIKING+DES+CATWISE crossmatch data"
   ]
  },
  {
   "cell_type": "markdown",
   "id": "ce0095f1",
   "metadata": {},
   "source": [
    "## Import VIKING+DES+CATWISE crossmatch data"
   ]
  },
  {
   "cell_type": "markdown",
   "id": "466b2e44",
   "metadata": {},
   "source": [
    "# Select a subsample of VIKING+DES+CATWISE with similar distribution to EMU+VIKING+DES+CATWISE"
   ]
  },
  {
   "cell_type": "markdown",
   "id": "7eda9635",
   "metadata": {},
   "source": [
    "# Save the subsample to a CIGALE file"
   ]
  }
 ],
 "metadata": {
  "language_info": {
   "name": "python"
  }
 },
 "nbformat": 4,
 "nbformat_minor": 5
}
