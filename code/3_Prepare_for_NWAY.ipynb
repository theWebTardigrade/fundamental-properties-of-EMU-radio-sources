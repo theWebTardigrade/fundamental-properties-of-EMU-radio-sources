{
 "cells": [
  {
   "cell_type": "markdown",
   "metadata": {},
   "source": [
    "# Cross-Match Catalogs using NWAY"
   ]
  },
  {
   "cell_type": "markdown",
   "metadata": {},
   "source": [
    "## Import Libraries"
   ]
  },
  {
   "cell_type": "code",
   "execution_count": 61,
   "metadata": {},
   "outputs": [],
   "source": [
    "from astropy.io import fits\n",
    "import numpy as np\n",
    "from astropy.table import Table"
   ]
  },
  {
   "cell_type": "markdown",
   "metadata": {},
   "source": [
    "## Import Catalog Data"
   ]
  },
  {
   "cell_type": "code",
   "execution_count": 62,
   "metadata": {},
   "outputs": [],
   "source": [
    "# EMU catalogs\n",
    "emu_catalog_path = '/data/mfonseca/survey_data/EMU_data/EMU_0102-32/EMU_0102-32_1comp.fits'\n",
    "emu_patched_catalog_path = '/data/mfonseca/survey_data/EMU_data/EMU_0102-32/EMU_0102-32_1comp_withoutpatches.fits'\n",
    "\n",
    "# DES catalogs\n",
    "desdr2_catalog_path = '/data/mfonseca/survey_data/DES_data/DESDR2_in_EMU_0102-32_magautodered.fits'\n",
    "desy6gold_catalog_path = '/data/mfonseca/survey_data/DES_data/DESY6GOLD_in_EMU_0102-32_magauto.fits'\n",
    "\n",
    "# VIKING catalogs\n",
    "viking_catalog_path = '/data/mfonseca/survey_data/VIKING_data/VIKINGDR5_in_EMU_0102-32_allapermag3.fits'\n",
    "\n",
    "# CatWISE catalogs\n",
    "catwise_catalog_path = '/data/mfonseca/survey_data/CATWISE_data/CATWISE2020_in_EMU_0102-32.fits'"
   ]
  },
  {
   "cell_type": "markdown",
   "metadata": {},
   "source": [
    "## Prepare the catalogs for NWAY input\n",
    "The NWAY library has multiple requirements for a catalog to serve as input.\n",
    "1. The fits data table needs to have a extension name. It is used as a prefix for the columns copied to the output catalog, so each column from each catalog is called \"PREFIXOFCATALOG_NAMEOFCOLUMN\"\n",
    "2. The fits header of the catalogs needs to have the SKYAREA keyword. This keyword has the area on the sky in square degrees covered by the catalog. Since I don't have the documentation for EMU data, I must calculate the area using the mosaic image.\n",
    "3. The position error needs to be a column with a single value, called positional error, so we need to obtain it from the right ascension and declination errors."
   ]
  },
  {
   "cell_type": "markdown",
   "metadata": {},
   "source": [
    "### Change extension name\n",
    "This process is also possible using just the NWAY library. Check page 8 of the NWAY documentation\n",
    "Changes the extension name of each catalog, it becomes the prefix of the columns from that catalog after running nway"
   ]
  },
  {
   "cell_type": "code",
   "execution_count": 63,
   "metadata": {},
   "outputs": [],
   "source": [
    "def change_hdu_name(fits_file, hdu_index, new_name):\n",
    "    with fits.open(fits_file, mode='update') as hdul:\n",
    "        # Change the name of the specified HDU\n",
    "        hdul[hdu_index].header['EXTNAME'] = new_name\n",
    "        # Save changes to the FITS file\n",
    "        hdul.flush()"
   ]
  },
  {
   "cell_type": "code",
   "execution_count": 64,
   "metadata": {},
   "outputs": [],
   "source": [
    "change_hdu_name(emu_catalog_path, hdu_index=1, new_name=\"EMU\")\n",
    "change_hdu_name(emu_patched_catalog_path, hdu_index=1, new_name=\"EMU\")\n",
    "\n",
    "change_hdu_name(desdr2_catalog_path, hdu_index=1, new_name=\"DES\")\n",
    "change_hdu_name(desy6gold_catalog_path, hdu_index=1, new_name='DESY6')\n",
    "\n",
    "change_hdu_name(viking_catalog_path, hdu_index=1, new_name=\"VKG\")\n",
    "change_hdu_name(catwise_catalog_path, hdu_index=1, new_name=\"CAT\")"
   ]
  },
  {
   "cell_type": "markdown",
   "metadata": {},
   "source": [
    "### Create and assign value to SKYAREA keyword"
   ]
  },
  {
   "cell_type": "markdown",
   "metadata": {},
   "source": [
    "Create the SKYAREA in the FITS header and assign a value to it."
   ]
  },
  {
   "cell_type": "code",
   "execution_count": 65,
   "metadata": {},
   "outputs": [],
   "source": [
    "def create_skyarea_keyword(fits_file, skyarea_value):\n",
    "    \"\"\"\n",
    "    Create the SKYAREA keyword in the FITS header and assign a value to it.\n",
    "\n",
    "    Parameters:\n",
    "    fits_file (str): Path to the FITS file.\n",
    "    skyarea_value (float): Value to assign to the SKYAREA keyword (in square degrees).\n",
    "    \"\"\"\n",
    "    with fits.open(fits_file, mode='update') as hdul:\n",
    "        header = hdul[1].header\n",
    "        \n",
    "        header['SKYAREA'] = skyarea_value\n",
    "        \n",
    "        hdul.flush()\n",
    "        print(f\"SKYAREA keyword set to {skyarea_value} in {fits_file}.\")"
   ]
  },
  {
   "cell_type": "code",
   "execution_count": 66,
   "metadata": {},
   "outputs": [],
   "source": [
    "def calculate_skyarea(ra_interval, dec_interval):\n",
    "    \"\"\"\n",
    "    Calculate the area of the sky.\n",
    "\n",
    "    Parameters:\n",
    "    ra_interval (list): List of interval of RA in degrees\n",
    "    dec_interval (list): List of interval of DEC in degrees\n",
    "\n",
    "    \"\"\"\n",
    "    delta_ra_rad  = np.radians(abs(ra_interval[1]-ra_interval[0]))\n",
    "    delta_dec_rad = np.sin(np.radians(dec_interval[1])) - np.sin(np.radians(dec_interval[0]))\n",
    "\n",
    "    solid_angle_sr = delta_ra_rad*delta_dec_rad\n",
    "    solid_angle_deg2 = solid_angle_sr * (180 / np.pi) ** 2\n",
    "\n",
    "    return solid_angle_deg2"
   ]
  },
  {
   "cell_type": "code",
   "execution_count": 67,
   "metadata": {},
   "outputs": [
    {
     "name": "stdout",
     "output_type": "stream",
     "text": [
      "Patch 1 Sky Area: 0.9617694716176918 deg^2\n",
      "Patch 2 Sky Area: 0.2521135638049071 deg^2\n",
      "Patch 3 Sky Area: 0.8932636233122696 deg^2\n",
      "Total Patch Area: 2.1071466587348686 deg^2\n"
     ]
    }
   ],
   "source": [
    "patch1 = calculate_skyarea([16.77, 18.32], [-30.84, -30.12])\n",
    "patch2 = calculate_skyarea([14.95, 16.49], [-35.16, -34.96])\n",
    "patch3 = calculate_skyarea([12.54, 13.97], [-32.79, -32.05])\n",
    "\n",
    "total_patch = patch1 + patch2 + patch3\n",
    "\n",
    "print(f\"Patch 1 Sky Area: {patch1} deg^2\")\n",
    "print(f\"Patch 2 Sky Area: {patch2} deg^2\")\n",
    "print(f\"Patch 3 Sky Area: {patch3} deg^2\")\n",
    "print(f\"Total Patch Area: {total_patch} deg^2\")"
   ]
  },
  {
   "cell_type": "code",
   "execution_count": 68,
   "metadata": {},
   "outputs": [
    {
     "name": "stdout",
     "output_type": "stream",
     "text": [
      "30.425887052030664\n",
      "28.318740393295794\n"
     ]
    }
   ],
   "source": [
    "# Acoording to documentation it is indeed around 30 degrees\n",
    "area_emu_survey = calculate_skyarea([12.0,19.0], [-35.16,-30.00])\n",
    "print(area_emu_survey)\n",
    "\n",
    "area_emu_patched = area_emu_survey - total_patch\n",
    "print(area_emu_patched)"
   ]
  },
  {
   "cell_type": "code",
   "execution_count": 69,
   "metadata": {},
   "outputs": [
    {
     "name": "stdout",
     "output_type": "stream",
     "text": [
      "SKYAREA keyword set to 28.318740393295794 in /data/mfonseca/survey_data/EMU_data/EMU_0102-32/EMU_0102-32_1comp_withoutpatches.fits.\n",
      "SKYAREA keyword set to 30.425887052030664 in /data/mfonseca/survey_data/EMU_data/EMU_0102-32/EMU_0102-32_1comp.fits.\n",
      "SKYAREA keyword set to 53.100621980421366 in /data/mfonseca/survey_data/DES_data/DESDR2_in_EMU_0102-32_magautodered.fits.\n",
      "SKYAREA keyword set to 53.100621980421366 in /data/mfonseca/survey_data/DES_data/DESY6GOLD_in_EMU_0102-32_magauto.fits.\n",
      "SKYAREA keyword set to 53.100621980421366 in /data/mfonseca/survey_data/VIKING_data/VIKINGDR5_in_EMU_0102-32_allapermag3.fits.\n",
      "SKYAREA keyword set to 53.100621980421366 in /data/mfonseca/survey_data/CATWISE_data/CATWISE2020_in_EMU_0102-32.fits.\n"
     ]
    }
   ],
   "source": [
    "# The limits are derived from the limit imposed when querying the catalogs\n",
    "area_des_survey = calculate_skyarea([11.00,20.0], [-36.00,-29.00])\n",
    "\n",
    "\n",
    "area_viking_survey = calculate_skyarea([11.00,20.0], [-36.00,-29.00])\n",
    "area_catwise_survey = calculate_skyarea([11.00,20.0], [-36.00,-29.00])\n",
    "\n",
    "# EMU area\n",
    "create_skyarea_keyword(emu_patched_catalog_path, area_emu_patched)\n",
    "create_skyarea_keyword(emu_catalog_path, area_emu_survey)\n",
    "\n",
    "# DES area\n",
    "create_skyarea_keyword(desdr2_catalog_path, area_des_survey)\n",
    "create_skyarea_keyword(desy6gold_catalog_path, area_des_survey)\n",
    "\n",
    "# VIKING area\n",
    "create_skyarea_keyword(viking_catalog_path, area_viking_survey)\n",
    "\n",
    "# CatWISE area\n",
    "create_skyarea_keyword(catwise_catalog_path, area_catwise_survey)"
   ]
  },
  {
   "cell_type": "markdown",
   "metadata": {},
   "source": [
    "## Fix ID Column in EMU survey"
   ]
  },
  {
   "cell_type": "code",
   "execution_count": 70,
   "metadata": {},
   "outputs": [],
   "source": [
    "\n",
    "def create_id_column_from_source_name(fits_file):\n",
    "    with fits.open(fits_file, mode='update') as hdul:\n",
    "        data = hdul[1].data\n",
    "\n",
    "        if 'Source_Name' not in data.columns.names:\n",
    "            raise ValueError(\"The FITS file does not contain a 'Source_Name' column.\")\n",
    "        \n",
    "        if 'ID' in data.columns.names:\n",
    "            raise ValueError(\"The FITS file already contains an 'ID' column.\")\n",
    "\n",
    "        source_names = data['Source_Name']\n",
    "\n",
    "        id_data = [name.split('EMUJ')[-1] if 'EMUJ' in name else '' for name in source_names]\n",
    "\n",
    "        id_col = fits.Column(name='ID', format='20A', array=id_data)  # '20A' for a string column of max length 20\n",
    "\n",
    "        new_columns = hdul[1].columns + fits.ColDefs([id_col])\n",
    "        new_hdu = fits.BinTableHDU.from_columns(new_columns)\n",
    "\n",
    "        hdul[1] = new_hdu\n",
    "\n",
    "        hdul.flush()\n",
    "        print(\"Created new 'ID' column with the number part of 'Source_Name'.\")"
   ]
  }
 ],
 "metadata": {
  "kernelspec": {
   "display_name": "rapids-25.02",
   "language": "python",
   "name": "python3"
  },
  "language_info": {
   "codemirror_mode": {
    "name": "ipython",
    "version": 3
   },
   "file_extension": ".py",
   "mimetype": "text/x-python",
   "name": "python",
   "nbconvert_exporter": "python",
   "pygments_lexer": "ipython3",
   "version": "3.12.9"
  }
 },
 "nbformat": 4,
 "nbformat_minor": 2
}
