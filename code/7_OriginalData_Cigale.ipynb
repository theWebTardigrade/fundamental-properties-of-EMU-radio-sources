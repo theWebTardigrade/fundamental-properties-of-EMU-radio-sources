{
 "cells": [
  {
   "cell_type": "markdown",
   "id": "3b584709",
   "metadata": {},
   "source": [
    "# Import Libraries"
   ]
  },
  {
   "cell_type": "code",
   "execution_count": 76,
   "id": "a6ea429d",
   "metadata": {},
   "outputs": [],
   "source": [
    "import numpy as np\n",
    "from astropy.table import Table\n",
    "import pandas as pd\n",
    "import matplotlib.pyplot as plt"
   ]
  },
  {
   "cell_type": "code",
   "execution_count": 77,
   "id": "0ac4f686",
   "metadata": {},
   "outputs": [],
   "source": [
    "observatory = '/home/mfonseca/fastdisk'\n",
    "my_computer = '/home/polaris/Lab_Astro/data/'\n",
    "\n",
    "directory = my_computer"
   ]
  },
  {
   "cell_type": "code",
   "execution_count": 78,
   "id": "4dca8e6a",
   "metadata": {},
   "outputs": [],
   "source": [
    "matched_no_mags_path = directory + 'cross_match/EMU_0102-32_DESY6GOLD_VIKING_CATWISE_noMags/EMU_0102-32_DESY6GOLD_VIKINGDR5_CATWISE_noMag.fits'\n",
    "matched_no_mags = Table.read(matched_no_mags_path)\n",
    "matched_no_mags = matched_no_mags.to_pandas()\n",
    "\n",
    "matched_no_mags['EMU_island_name'] = matched_no_mags['EMU_island_name'].str.decode('utf-8').str.strip(' ')\n",
    "\n",
    "match_mask = (matched_no_mags['match_flag'] == 1) & (matched_no_mags['p_i'] >= 0.1) & (matched_no_mags['p_any'] >=0.83)\n",
    "catalog_matches_noMags = matched_no_mags[match_mask]\n",
    "full_match_mask = (catalog_matches_noMags['DESY6_coadd_object_id'] != -99) & (catalog_matches_noMags['VKG_sourceID'] != -99) & (catalog_matches_noMags['CAT_source_id'] != b'-99')\n",
    "catalog_matches_noMags_full = catalog_matches_noMags[full_match_mask]\n"
   ]
  },
  {
   "cell_type": "markdown",
   "id": "c2a34f63",
   "metadata": {},
   "source": [
    "## Histogram of Redshifts"
   ]
  },
  {
   "cell_type": "code",
   "execution_count": 79,
   "id": "da429dbb",
   "metadata": {},
   "outputs": [
    {
     "data": {
      "image/png": "[encoded data removed]",
      "text/plain": [
       "<Figure size 640x480 with 1 Axes>"
      ]
     },
     "metadata": {},
     "output_type": "display_data"
    }
   ],
   "source": [
    "plt.hist(catalog_matches_noMags_full['DESY6_dnf_z'], bins = 100)\n",
    "plt.show()"
   ]
  },
  {
   "cell_type": "markdown",
   "id": "9c0b4b57",
   "metadata": {},
   "source": [
    "# Define column names"
   ]
  },
  {
   "cell_type": "code",
   "execution_count": 80,
   "id": "2cdd8340",
   "metadata": {},
   "outputs": [],
   "source": [
    "id = ['EMU_island_name']\n",
    "\n",
    "redshift = ['DESY6_dnf_z']\n",
    "\n",
    "des_filters_cigale = ['ctio_decam.g', 'ctio_decam.r', 'ctio_decam.i', 'ctio_decam.z', 'ctio_decam.Y']\n",
    "des_errors_cigale = ['ctio_decam.g_err', 'ctio_decam.r_err', 'ctio_decam.i_err', 'ctio_decam.z_err', 'ctio_decam.Y_err']\n",
    "\n",
    "viking_filters_cigale = ['paranal.vircam.Z', 'paranal.vircam.Y', 'paranal.vircam.J', 'paranal.vircam.H', 'paranal.vircam.Ks']\n",
    "viking_errors_cigale = ['paranal.vircam.Z_err', 'paranal.vircam.Y_err', 'paranal.vircam.J_err', 'paranal.vircam.H_err', 'paranal.vircam.Ks_err']\n",
    "\n",
    "catwise_filters_cigale = ['wise.W1', 'wise.W2']\n",
    "catwise_errors_cigale = ['wise.W1_err', 'wise.W2_err']\n"
   ]
  },
  {
   "cell_type": "code",
   "execution_count": 81,
   "id": "0f6c2f5a",
   "metadata": {},
   "outputs": [],
   "source": [
    "extra_cols_dict = {\n",
    "    'EMU_island_name' : 'id',\n",
    "    'DESY6_dnf_z' : 'redshift',\n",
    "}\n",
    "\n",
    "des_cols_dict = {\n",
    "    'DESY6_mag_auto_g_extcorr_flux': 'ctio.decam.g',\n",
    "    'DESY6_mag_auto_r_extcorr_flux': 'ctio.decam.r',\n",
    "    'DESY6_mag_auto_i_extcorr_flux': 'ctio.decam.i',\n",
    "    'DESY6_mag_auto_z_extcorr_flux': 'ctio.decam.z',\n",
    "    'DESY6_magerr_auto_g_fluxerr' : 'ctio.decam.g_err',\n",
    "    'DESY6_magerr_auto_r_fluxerr' : 'ctio.decam.r_err',\n",
    "    'DESY6_magerr_auto_i_fluxerr' : 'ctio.decam.i_err',\n",
    "    'DESY6_magerr_auto_z_fluxerr' : 'ctio.decam.z_err',\n",
    "}\n",
    "\n",
    "viking_cols_dict = {\n",
    "    'VKG_yAperMagNoAperCorr3_ab_extcorr_flux': 'paranal.vircam.Y',\n",
    "    'VKG_jAperMagNoAperCorr3_ab_extcorr_flux': 'paranal.vircam.J',\n",
    "    'VKG_hAperMagNoAperCorr3_ab_extcorr_flux': 'paranal.vircam.H',\n",
    "    'VKG_ksAperMagNoAperCorr3_ab_extcorr_flux': 'paranal.vircam.Ks',\n",
    "    'VKG_yAperMag3Err_fluxerr': 'paranal.vircam.Y_err',\n",
    "    'VKG_jAperMag3Err_fluxerr': 'paranal.vircam.J_err',\n",
    "    'VKG_hAperMag3Err_fluxerr': 'paranal.vircam.H_err',\n",
    "    'VKG_ksAperMag3Err_fluxerr': 'paranal.vircam.Ks_err',\n",
    "\n",
    "}\n",
    "\n",
    "catwise_cols_dict = {\n",
    "    'CAT_w1mpro_ab_flux': 'wise.W1',\n",
    "    'CAT_w2mpro_ab_flux': 'wise.W2',\n",
    "    'CAT_w1sigmpro_fluxerr': 'wise.W1_err',\n",
    "    'CAT_w2sigmpro_fluxerr': 'wise.W2_err',\n",
    "}\n",
    "\n",
    "all_dicts = [extra_cols_dict, des_cols_dict, viking_cols_dict, catwise_cols_dict]\n",
    "mag_cols = [\n",
    "    'DESY6_mag_auto_g_extcorr',\n",
    "    'DESY6_mag_auto_r_extcorr',\n",
    "    'DESY6_mag_auto_i_extcorr',\n",
    "    'DESY6_mag_auto_z_extcorr',\n",
    "    'VKG_yAperMagNoAperCorr3_ab_extcorr',\n",
    "    'VKG_jAperMagNoAperCorr3_ab_extcorr',\n",
    "    'VKG_hAperMagNoAperCorr3_ab_extcorr',\n",
    "    'VKG_ksAperMagNoAperCorr3_ab_extcorr',\n",
    "    'CAT_w1mpro_ab',\n",
    "    'CAT_w2mpro_ab'\n",
    "]\n",
    "\n",
    "mag_err_cols = [\n",
    "    'DESY6_magerr_auto_g',\n",
    "    'DESY6_magerr_auto_r',\n",
    "    'DESY6_magerr_auto_i',\n",
    "    'DESY6_magerr_auto_z',\n",
    "    'VKG_yAperMag3Err',\n",
    "    'VKG_jAperMag3Err',\n",
    "    'VKG_hAperMag3Err',\n",
    "    'VKG_ksAperMag3Err',\n",
    "    'CAT_w1sigmpro',\n",
    "    'CAT_w2sigmpro'\n",
    "]"
   ]
  },
  {
   "cell_type": "markdown",
   "id": "c27fa102",
   "metadata": {},
   "source": [
    "# Convert magnitudes to fluxes"
   ]
  },
  {
   "cell_type": "code",
   "execution_count": 82,
   "id": "354060ec",
   "metadata": {},
   "outputs": [],
   "source": [
    "def mag_to_flux_mJy(mag):\n",
    "    '''\n",
    "    Convert magnitude to flux using the formula:\n",
    "\n",
    "    Args:\n",
    "        mag (float or array-like): Magnitude value(s) to convert.\n",
    "\n",
    "    Returns:\n",
    "        float or array-like: Corresponding flux value(s) in mJy.\n",
    "\n",
    "    '''\n",
    "    return 10 ** (6.56-0.4 * mag)\n",
    "\n",
    "def magerr_to_fluxerr_mJy(mag, magerr):\n",
    "    '''\n",
    "    Convert magnitude error to flux error using the formula:\n",
    "\n",
    "    Args:\n",
    "        mag (float or array-like): Magnitude value(s) to convert.\n",
    "        magerr (float or array-like): Magnitude error value(s) to convert.\n",
    "\n",
    "    Returns:\n",
    "        float or array-like: Corresponding flux error value(s) in mJy.\n",
    "    \n",
    "    '''\n",
    "\n",
    "    # Check if the magnitude error is 10% of the magnitude\n",
    "    return np.maximum(10 ** (6.56-0.4 * mag)*0.1, (np.log(10) *  (0.4) * (10 ** (6.56-0.4 * mag)) * magerr))"
   ]
  },
  {
   "cell_type": "code",
   "execution_count": 83,
   "id": "ce44ed0f",
   "metadata": {},
   "outputs": [],
   "source": [
    "def add_flux_to_df(df, mag_cols, mag_err_cols):\n",
    "    '''\n",
    "    Add flux and flux error columns to the DataFrame.\n",
    "    If the flux error is smaller than 0.1, use \n",
    "\n",
    "    Args:\n",
    "        df (DataFrame): Input DataFrame.\n",
    "        mag_cols (list): List of magnitude column names.\n",
    "        mag_err_cols (list): List of magnitude error column names.\n",
    "\n",
    "    Returns:\n",
    "        DataFrame: Updated DataFrame with flux and flux error columns added.\n",
    "    \n",
    "    '''\n",
    "\n",
    "    df = df.copy()\n",
    "\n",
    "    for mag_col, mag_err_col in zip(mag_cols, mag_err_cols):\n",
    "        # Create new column names for flux and flux error\n",
    "        flux_col = f\"{mag_col}_flux\"\n",
    "        flux_err_col = f\"{mag_err_col}_fluxerr\"\n",
    "\n",
    "        # Convert magnitudes to fluxes\n",
    "        df[flux_col] = mag_to_flux_mJy(df[mag_col])\n",
    "\n",
    "        # Convert magnitude errors to flux errors\n",
    "        df[flux_err_col] = magerr_to_fluxerr_mJy(df[mag_col], df[mag_err_col])\n",
    "\n",
    "    return df"
   ]
  },
  {
   "cell_type": "markdown",
   "id": "49c51e85",
   "metadata": {},
   "source": [
    "# Create a catalog for CIGALE"
   ]
  },
  {
   "cell_type": "markdown",
   "id": "64c00a86",
   "metadata": {},
   "source": [
    "Creates an ASCII file for cigale "
   ]
  },
  {
   "cell_type": "code",
   "execution_count": 84,
   "id": "54f0afbd",
   "metadata": {},
   "outputs": [],
   "source": [
    "def generate_ascii_with_flux(catalog_df, mag_columns, mag_error_columns, dict_all_cols, n_rows ,output_path):\n",
    "    \"\"\"\n",
    "    Converts magnitude columns and magnitude error columns to flux and flux error in mJy.\n",
    "\n",
    "    Args:\n",
    "        df (pd.DataFrame): DataFrame with magnitude columns and their corresponding error columns.\n",
    "        mag_columns (list): List of magnitude column names to convert.\n",
    "        mag_error_columns (list): List of magnitude error column names to convert.\n",
    "        dict_flux_to_filters (dict): Dictionary mapping flux columns to their corresponding filters.\n",
    "\n",
    "    Returns:\n",
    "        pd.DataFrame: DataFrame with new flux and flux error columns added.\n",
    "    \"\"\"\n",
    "\n",
    "    catalog_flux = add_flux_to_df(catalog_df, mag_columns, mag_error_columns)\n",
    "\n",
    "\n",
    "    # Create a new DataFrame to store the data for CIGALE\n",
    "    cigale_df = pd.DataFrame()\n",
    "\n",
    "    # Add the ID, redshift columns, flux and flux_err columns\n",
    "    for catalog in dict_all_cols:\n",
    "        for col, new_col in catalog.items():\n",
    "            cigale_df[new_col] = catalog_flux[col]\n",
    "\n",
    "    # If the redshift column is negative, CIGALE will consider the redshifts from a grid\n",
    "    cigale_df['redshift'] = -cigale_df['redshift']\n",
    "\n",
    "    cigale_to_save = cigale_df.head(n_rows)\n",
    "\n",
    "    cigale_to_save.to_csv(output_path, sep=' ', index=False)\n",
    "\n",
    "    print(f'Saved Cigale file to path {output_path}')\n",
    "    "
   ]
  },
  {
   "cell_type": "code",
   "execution_count": 85,
   "id": "decfc839",
   "metadata": {},
   "outputs": [
    {
     "name": "stdout",
     "output_type": "stream",
     "text": [
      "Saved Cigale file to path /home/polaris/Lab_Astro/data/cigale/all_data_4/all_data_4\n"
     ]
    }
   ],
   "source": [
    "generate_ascii_with_flux(catalog_matches_noMags_full, mag_cols, mag_err_cols, all_dicts, len(catalog_matches_noMags_full), directory + 'cigale/all_data_4/all_data_4' )"
   ]
  }
 ],
 "metadata": {
  "kernelspec": {
   "display_name": "labastro",
   "language": "python",
   "name": "python3"
  },
  "language_info": {
   "codemirror_mode": {
    "name": "ipython",
    "version": 3
   },
   "file_extension": ".py",
   "mimetype": "text/x-python",
   "name": "python",
   "nbconvert_exporter": "python",
   "pygments_lexer": "ipython3",
   "version": "3.10.16"
  }
 },
 "nbformat": 4,
 "nbformat_minor": 5
}
