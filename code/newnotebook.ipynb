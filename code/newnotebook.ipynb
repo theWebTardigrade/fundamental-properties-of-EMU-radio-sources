{
 "cells": [
  {
   "cell_type": "markdown",
   "metadata": {},
   "source": [
    "# Analysing Catalogs"
   ]
  },
  {
   "cell_type": "code",
   "execution_count": 2,
   "metadata": {},
   "outputs": [],
   "source": [
    "emu_catalog_path = \"/home/polaris/Laboratório Astrofísica/data/G23-ASKAP-EMUES-master-cat.fits\"\n",
    "gama_catalog_path = \"/home/polaris/Laboratório Astrofísica/data/gkvInputCatv02.fits\""
   ]
  },
  {
   "cell_type": "code",
   "execution_count": 3,
   "metadata": {},
   "outputs": [
    {
     "data": {
      "text/plain": [
       "XTENSION= 'BINTABLE'           / binary table extension                         \n",
       "BITPIX  =                    8 / 8-bit bytes                                    \n",
       "NAXIS   =                    2 / 2-dimensional table                            \n",
       "NAXIS1  =                  220 / width of table in bytes                        \n",
       "NAXIS2  =                39812 / number of rows in table                        \n",
       "PCOUNT  =                    0 / size of special data area                      \n",
       "GCOUNT  =                    1 / one data group                                 \n",
       "TFIELDS =                   27 / number of columns                              \n",
       "EXTNAME = 'Joined  '           / table name                                     \n",
       "TTYPE1  = 'Source_Name'        / label for column 1                             \n",
       "TFORM1  = '19A     '           / format for column 1                            \n",
       "TCOMM1  = 'Expression: \"EMUJ\"+last_name'                                        \n",
       "TTYPE2  = 'RA      '           / label for column 2                             \n",
       "TFORM2  = 'D       '           / format for column 2                            \n",
       "TTYPE3  = 'E_RA    '           / label for column 3                             \n",
       "TFORM3  = 'D       '           / format for column 3                            \n",
       "TTYPE4  = 'DEC     '           / label for column 4                             \n",
       "TFORM4  = 'D       '           / format for column 4                            \n",
       "TTYPE5  = 'E_DEC   '           / label for column 5                             \n",
       "TFORM5  = 'D       '           / format for column 5                            \n",
       "TTYPE6  = 'Total_flux'         / label for column 6                             \n",
       "TFORM6  = 'D       '           / format for column 6                            \n",
       "TTYPE7  = 'E_Total_flux'       / label for column 7                             \n",
       "TFORM7  = 'D       '           / format for column 7                            \n",
       "TTYPE8  = 'Peak_flux'          / label for column 8                             \n",
       "TFORM8  = 'D       '           / format for column 8                            \n",
       "TTYPE9  = 'E_Peak_flux'        / label for column 9                             \n",
       "TFORM9  = 'D       '           / format for column 9                            \n",
       "TTYPE10 = 'Length  '           / label for column 10                            \n",
       "TFORM10 = 'D       '           / format for column 10                           \n",
       "TTYPE11 = 'Width   '           / label for column 11                            \n",
       "TFORM11 = 'D       '           / format for column 11                           \n",
       "TTYPE12 = 'PA      '           / label for column 12                            \n",
       "TFORM12 = 'D       '           / format for column 12                           \n",
       "TTYPE13 = 'DC_Maj  '           / label for column 13                            \n",
       "TFORM13 = 'D       '           / format for column 13                           \n",
       "TTYPE14 = 'E_DC_Maj'           / label for column 14                            \n",
       "TFORM14 = 'D       '           / format for column 14                           \n",
       "TTYPE15 = 'DC_Min  '           / label for column 15                            \n",
       "TFORM15 = 'D       '           / format for column 15                           \n",
       "TTYPE16 = 'E_DC_Min'           / label for column 16                            \n",
       "TFORM16 = 'D       '           / format for column 16                           \n",
       "TTYPE17 = 'Maj     '           / label for column 17                            \n",
       "TFORM17 = 'D       '           / format for column 17                           \n",
       "TTYPE18 = 'E_Maj   '           / label for column 18                            \n",
       "TFORM18 = 'D       '           / format for column 18                           \n",
       "TTYPE19 = 'Min     '           / label for column 19                            \n",
       "TFORM19 = 'D       '           / format for column 19                           \n",
       "TTYPE20 = 'E_Min   '           / label for column 20                            \n",
       "TFORM20 = 'D       '           / format for column 20                           \n",
       "TTYPE21 = 'Separation'         / label for column 21                            \n",
       "TFORM21 = 'D       '           / format for column 21                           \n",
       "TTYPE22 = 'Isl_rms '           / label for column 22                            \n",
       "TFORM22 = 'D       '           / format for column 22                           \n",
       "TTYPE23 = 'SCode   '           / label for column 23                            \n",
       "TFORM23 = 'A       '           / format for column 23                           \n",
       "TTYPE24 = 'Size    '           / label for column 24                            \n",
       "TFORM24 = 'D       '           / format for column 24                           \n",
       "TTYPE25 = 'Host_ID '           / label for column 25                            \n",
       "TFORM25 = 'K       '           / format for column 25                           \n",
       "TNULL25 =               999999 / blank value for column 25                      \n",
       "TCOMM25 = 'Expression: Host_ID == -1 ? NULL : Host_ID'                          \n",
       "TTYPE26 = 'Host_RA '           / label for column 26                            \n",
       "TFORM26 = 'D       '           / format for column 26                           \n",
       "TTYPE27 = 'Host_DEC'           / label for column 27                            \n",
       "TFORM27 = 'D       '           / format for column 27                           \n",
       "DATE-HDU= '2022-03-30T06:50:41' / Date of HDU creation (UTC)                    \n",
       "STILVERS= '3.2.2-debian'       / Version of STIL software                       \n",
       "STILCLAS= 'uk.ac.starlink.votable.FitsPlusTableWriter' / Author class in STIL so"
      ]
     },
     "execution_count": 3,
     "metadata": {},
     "output_type": "execute_result"
    }
   ],
   "source": [
    "from astropy.io import fits\n",
    "\n",
    "emu_catalog = fits.open(emu_catalog_path)\n",
    "gama_catalog = fits.open(gama_catalog_path)\n",
    "\n",
    "emu_catalog_data = emu_catalog[1].data\n",
    "gama_catalog_data = gama_catalog[1].data\n",
    "\n",
    "emu_catalog_header = emu_catalog[1].header\n",
    "gama_catalog_header = gama_catalog[1].header\n",
    "\n",
    "emu_catalog_header"
   ]
  },
  {
   "cell_type": "markdown",
   "metadata": {},
   "source": [
    "python nway-write-header.py gkvInputCatv02.fits GAMA23 82.7\n",
    "python nway-write-header.py G23-ASKAP-EMUES-master-cat.fits EMU 103\n",
    "\n",
    "python nway.py G23-ASKAP-EMUES-master-cat.fits :E_RA :E_DEC gkvInputCatv02.fits 0.1 --out=example1.fits --radius 15 --prior-completeness 0.9"
   ]
  },
  {
   "cell_type": "code",
   "execution_count": 7,
   "metadata": {},
   "outputs": [
    {
     "name": "stdout",
     "output_type": "stream",
     "text": [
      "{'pixels': 214163136, 'pixel_scale (arcsec/pixel)': np.float64(2.49999999999984), 'area (arcsec^2)': np.float64(1338519599.9998288), 'area (arcmin^2)': np.float64(371810.99999995244), 'area (deg^2)': np.float64(103.28083333332012)}\n"
     ]
    }
   ],
   "source": [
    "from astropy.io import fits\n",
    "import numpy as np\n",
    "\n",
    "def calculate_survey_area(fits_file):\n",
    "    # Open the FITS file and extract the header\n",
    "    with fits.open(fits_file) as hdul:\n",
    "        header = hdul[0].header\n",
    "        data = hdul[0].data\n",
    "        \n",
    "        # Ensure data is at least 2D (handle multi-dimensional FITS files)\n",
    "        if data.ndim > 2:\n",
    "            data = data[0]  # Take the first frame if it's a multi-frame FITS\n",
    "        \n",
    "        # Get image dimensions\n",
    "        height, width = data.shape[-2:]  # Ensure correct shape indexing\n",
    "        total_pixels = width * height\n",
    "        \n",
    "        # Extract pixel scale from header (if available)\n",
    "        if 'PIXSCALE' in header:\n",
    "            pixel_scale = header['PIXSCALE']  # in arcsec/pixel\n",
    "        elif 'CD1_1' in header and 'CD2_2' in header:\n",
    "            pixel_scale = np.abs(header['CD1_1']) * 3600  # Convert from degrees to arcseconds\n",
    "        elif 'CDELT1' in header and 'CDELT2' in header:\n",
    "            pixel_scale = np.abs(header['CDELT1']) * 3600  # Convert from degrees to arcseconds\n",
    "        else:\n",
    "            raise ValueError(\"Pixel scale not found in FITS header. Check metadata or specify manually.\")\n",
    "        \n",
    "        # Compute the survey area in square arcseconds\n",
    "        area_arcsec2 = total_pixels * (pixel_scale ** 2)\n",
    "        \n",
    "        # Convert to square arcminutes and square degrees\n",
    "        area_arcmin2 = area_arcsec2 / 3600\n",
    "        area_deg2 = area_arcsec2 / (3600 ** 2)\n",
    "        \n",
    "        return {\n",
    "            'pixels': total_pixels,\n",
    "            'pixel_scale (arcsec/pixel)': pixel_scale,\n",
    "            'area (arcsec^2)': area_arcsec2,\n",
    "            'area (arcmin^2)': area_arcmin2,\n",
    "            'area (deg^2)': area_deg2\n",
    "        }\n",
    "\n",
    "# Example usage:\n",
    "fits_file = \"/home/polaris/Laboratório Astrofísica/data/G23-ASKAP-EMUES-data/G23-EMUES-mosaic.fits\"\n",
    "result = calculate_survey_area(fits_file)\n",
    "print(result)\n"
   ]
  }
 ],
 "metadata": {
  "kernelspec": {
   "display_name": "labastro",
   "language": "python",
   "name": "python3"
  },
  "language_info": {
   "codemirror_mode": {
    "name": "ipython",
    "version": 3
   },
   "file_extension": ".py",
   "mimetype": "text/x-python",
   "name": "python",
   "nbconvert_exporter": "python",
   "pygments_lexer": "ipython3",
   "version": "3.10.16"
  }
 },
 "nbformat": 4,
 "nbformat_minor": 2
}
