{
 "cells": [
  {
   "cell_type": "markdown",
   "id": "222f9a6e",
   "metadata": {},
   "source": [
    "# Import Libraries"
   ]
  },
  {
   "cell_type": "code",
   "execution_count": null,
   "id": "9532c641",
   "metadata": {},
   "outputs": [],
   "source": [
    "import numpy as np\n",
    "from astropy.table import Table\n",
    "import pandas as pd"
   ]
  },
  {
   "cell_type": "code",
   "execution_count": null,
   "id": "4a3743e7",
   "metadata": {},
   "outputs": [],
   "source": [
    "observatory = '/home/mfonseca/fastdisk2'\n",
    "my_computer = '/home/polaris/Lab_Astro/data/'\n",
    "\n",
    "directory = my_computer"
   ]
  },
  {
   "cell_type": "markdown",
   "id": "40ca9ade",
   "metadata": {},
   "source": [
    "# Import prototype file from SOMs"
   ]
  },
  {
   "cell_type": "code",
   "execution_count": null,
   "id": "1c6b9a92",
   "metadata": {},
   "outputs": [],
   "source": [
    "prototypes_file_path = directory + 'soms/maps1/prototypes.fit'"
   ]
  },
  {
   "cell_type": "code",
   "execution_count": null,
   "id": "10a2110c",
   "metadata": {},
   "outputs": [],
   "source": [
    "prototypes_columns = ['id',\n",
    "                    'DESY6_mag_auto_g_extcorr',\n",
    "                    'VKG_zAperMag3_ab_extcorr',\n",
    "                    'CAT_w1mpro_ab',\n",
    "                    'DESY6_g_r_extcorr', \n",
    "                    'DESY6_r_i_extcorr', \n",
    "                    'DESY6_i_z_extcorr', \n",
    "                    'DESY6_z_y_extcorr', \n",
    "                    'VKG_z_y_am3_extcorr', \n",
    "                    'VKG_y_j_am3_extcorr', \n",
    "                    'VKG_j_h_am3_extcorr', \n",
    "                    'VKG_h_ks_am3_extcorr', \n",
    "                    'CAT_w1_w2_ab',\n",
    "                    'DESY6_dnf_z', \n",
    "                    'DESY6_spread_model_g', \n",
    "                    'DESY6_spread_model_r', \n",
    "                    'DESY6_spread_model_i', \n",
    "                    'DESY6_spread_model_z']"
   ]
  },
  {
   "cell_type": "markdown",
   "id": "ccfde4f3",
   "metadata": {
    "vscode": {
     "languageId": "plaintext"
    }
   },
   "source": [
    "# Convert colors to magnitudes"
   ]
  },
  {
   "cell_type": "code",
   "execution_count": null,
   "id": "c5f55b9f",
   "metadata": {},
   "outputs": [],
   "source": []
  },
  {
   "cell_type": "markdown",
   "id": "480ade27",
   "metadata": {},
   "source": [
    "# Convert magnitudes to fluxes"
   ]
  },
  {
   "cell_type": "markdown",
   "id": "d48de10d",
   "metadata": {},
   "source": [
    "# Export "
   ]
  }
 ],
 "metadata": {
  "kernelspec": {
   "display_name": "cigale",
   "language": "python",
   "name": "python3"
  },
  "language_info": {
   "codemirror_mode": {
    "name": "ipython",
    "version": 3
   },
   "file_extension": ".py",
   "mimetype": "text/x-python",
   "name": "python",
   "nbconvert_exporter": "python",
   "pygments_lexer": "ipython3",
   "version": "3.12.2"
  }
 },
 "nbformat": 4,
 "nbformat_minor": 5
}
