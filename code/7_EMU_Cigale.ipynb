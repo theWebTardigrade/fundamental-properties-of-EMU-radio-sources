{
 "cells": [
  {
   "cell_type": "markdown",
   "id": "45036041",
   "metadata": {},
   "source": [
    "# Create CIGALE data file for EMU sources"
   ]
  },
  {
   "cell_type": "markdown",
   "id": "6af95369",
   "metadata": {},
   "source": [
    "Saves a file in the format required for CIGALE.\n",
    "DES (mag_auto), VIKING (mag_petro), CATWISE (mag_psf)"
   ]
  },
  {
   "cell_type": "markdown",
   "id": "3b584709",
   "metadata": {},
   "source": [
    "# Import Libraries"
   ]
  },
  {
   "cell_type": "code",
   "execution_count": 1,
   "id": "a6ea429d",
   "metadata": {},
   "outputs": [],
   "source": [
    "import numpy as np\n",
    "from astropy.table import Table\n",
    "import pandas as pd\n",
    "import matplotlib.pyplot as plt\n",
    "import missingno"
   ]
  },
  {
   "cell_type": "markdown",
   "id": "b69d05f5",
   "metadata": {},
   "source": [
    "# Define the directory"
   ]
  },
  {
   "cell_type": "code",
   "execution_count": 2,
   "id": "0ac4f686",
   "metadata": {},
   "outputs": [],
   "source": [
    "observatory = '/home/mfonseca/fastdisk'\n",
    "my_computer = '/home/polaris/Lab_Astro/data/'\n",
    "\n",
    "directory = my_computer"
   ]
  },
  {
   "cell_type": "code",
   "execution_count": 9,
   "id": "4dca8e6a",
   "metadata": {},
   "outputs": [
    {
     "name": "stdout",
     "output_type": "stream",
     "text": [
      "Number of objects in the catalog 11695\n",
      "Number of objects in the catalog that have matches in all three surveys 3855\n",
      "Number of objects in the catalog that have matches in all three surveys and have full photometry 3530\n"
     ]
    },
    {
     "name": "stderr",
     "output_type": "stream",
     "text": [
      "/tmp/ipykernel_14680/2944410317.py:14: SettingWithCopyWarning: \n",
      "A value is trying to be set on a copy of a slice from a DataFrame.\n",
      "Try using .loc[row_indexer,col_indexer] = value instead\n",
      "\n",
      "See the caveats in the documentation: https://pandas.pydata.org/pandas-docs/stable/user_guide/indexing.html#returning-a-view-versus-a-copy\n",
      "  catalog_matches_noMags_full['EMU_island_name'] = catalog_matches_noMags_full['EMU_island_name'].str.decode('utf-8').str.strip(' ')\n",
      "/tmp/ipykernel_14680/2944410317.py:18: SettingWithCopyWarning: \n",
      "A value is trying to be set on a copy of a slice from a DataFrame\n",
      "\n",
      "See the caveats in the documentation: https://pandas.pydata.org/pandas-docs/stable/user_guide/indexing.html#returning-a-view-versus-a-copy\n",
      "  catalog_matches_noMags_full.drop(columns=['DESY6_mag_auto_y_extcorr', 'DESY6_z_y_extcorr','VKG_magerr_petro_z', 'VKG_mag_petro_z_ab_extcorr'], inplace=True)\n",
      "/tmp/ipykernel_14680/2944410317.py:19: SettingWithCopyWarning: \n",
      "A value is trying to be set on a copy of a slice from a DataFrame\n",
      "\n",
      "See the caveats in the documentation: https://pandas.pydata.org/pandas-docs/stable/user_guide/indexing.html#returning-a-view-versus-a-copy\n",
      "  catalog_matches_noMags_full.dropna(inplace=True)\n"
     ]
    }
   ],
   "source": [
    "matched_no_mags_path = directory + 'cross_match/EMU_0102-32_DESY6GOLD_VIKING_CATWISE_noMags/EMU_0102-32_DESY6GOLD_VIKINGDR5_CATWISE_noMag_petro_2.fits'\n",
    "matched_no_mags = Table.read(matched_no_mags_path).filled()\n",
    "matched_no_mags = matched_no_mags.to_pandas()\n",
    "\n",
    "match_mask = (matched_no_mags['match_flag'] == 1) & (matched_no_mags['p_i'] >= 0.1) & (matched_no_mags['p_any'] >=0.83)\n",
    "catalog_matches_noMags = matched_no_mags[match_mask]\n",
    "print(f'Number of objects in the catalog {len(catalog_matches_noMags)}')\n",
    "\n",
    "# Here we select objects that have matches in all three surveys\n",
    "full_match_mask = (catalog_matches_noMags['DESY6_coadd_object_id'] != -99) & (catalog_matches_noMags['VKG_sourceID'] != -99) & (catalog_matches_noMags['CAT_source_id'] != b'-99')\n",
    "catalog_matches_noMags_full = catalog_matches_noMags[full_match_mask]\n",
    "\n",
    "# Ignore the warning\n",
    "catalog_matches_noMags_full['EMU_island_name'] = catalog_matches_noMags_full['EMU_island_name'].str.decode('utf-8').str.strip(' ')\n",
    "\n",
    "print(f'Number of objects in the catalog that have matches in all three surveys {len(catalog_matches_noMags_full)}')\n",
    "\n",
    "catalog_matches_noMags_full.drop(columns=['DESY6_mag_auto_y_extcorr', 'DESY6_z_y_extcorr','VKG_magerr_petro_z', 'VKG_mag_petro_z_ab_extcorr'], inplace=True)\n",
    "catalog_matches_noMags_full.dropna(inplace=True)\n",
    "\n",
    "print(f'Number of objects in the catalog that have matches in all three surveys and have full photometry {len(catalog_matches_noMags_full)}')"
   ]
  },
  {
   "cell_type": "code",
   "execution_count": 18,
   "id": "e2280881",
   "metadata": {},
   "outputs": [
    {
     "name": "stdout",
     "output_type": "stream",
     "text": [
      "363431\n"
     ]
    }
   ],
   "source": [
    "nonemu_path = '/home/polaris/Lab_Astro/data/cigale/nonemu_data/nonemu_data.dat'\n",
    "nonemu_data = pd.read_csv(nonemu_path)\n",
    "print(len(nonemu_data))"
   ]
  },
  {
   "cell_type": "markdown",
   "id": "c2a34f63",
   "metadata": {},
   "source": [
    "## Histogram of Redshifts"
   ]
  },
  {
   "cell_type": "code",
   "execution_count": 8,
   "id": "da429dbb",
   "metadata": {},
   "outputs": [
    {
     "data": {
      "image/png": "[encoded data removed]",
      "text/plain": [
       "<Figure size 640x480 with 1 Axes>"
      ]
     },
     "metadata": {},
     "output_type": "display_data"
    },
    {
     "data": {
      "text/plain": [
       "1310"
      ]
     },
     "execution_count": 8,
     "metadata": {},
     "output_type": "execute_result"
    }
   ],
   "source": [
    "plt.hist(nonemu_data['DESY6_dnf_z'], bins = 100)\n",
    "plt.show()\n",
    "\n",
    "len(nonemu_data[nonemu_data['DESY6_dnf_z']<0])"
   ]
  },
  {
   "cell_type": "markdown",
   "id": "9c0b4b57",
   "metadata": {},
   "source": [
    "# Define column names"
   ]
  },
  {
   "cell_type": "code",
   "execution_count": 9,
   "id": "2cdd8340",
   "metadata": {},
   "outputs": [],
   "source": [
    "id = ['VKG_sourceID']\n",
    "\n",
    "redshift = ['DESY6_dnf_z']\n",
    "\n",
    "des_filters_cigale = ['ctio_decam.g', 'ctio_decam.r', 'ctio_decam.i', 'ctio_decam.z', 'ctio_decam.Y']\n",
    "des_errors_cigale = ['ctio_decam.g_err', 'ctio_decam.r_err', 'ctio_decam.i_err', 'ctio_decam.z_err', 'ctio_decam.Y_err']\n",
    "\n",
    "viking_filters_cigale = ['paranal.vircam.Z', 'paranal.vircam.Y', 'paranal.vircam.J', 'paranal.vircam.H', 'paranal.vircam.Ks']\n",
    "viking_errors_cigale = ['paranal.vircam.Z_err', 'paranal.vircam.Y_err', 'paranal.vircam.J_err', 'paranal.vircam.H_err', 'paranal.vircam.Ks_err']\n",
    "\n",
    "catwise_filters_cigale = ['wise.W1', 'wise.W2']\n",
    "catwise_errors_cigale = ['wise.W1_err', 'wise.W2_err']\n"
   ]
  },
  {
   "cell_type": "code",
   "execution_count": 10,
   "id": "0f6c2f5a",
   "metadata": {},
   "outputs": [],
   "source": [
    "extra_cols_dict = {\n",
    "    'VKG_sourceID' : 'id',\n",
    "    'DESY6_dnf_z' : 'redshift',\n",
    "}\n",
    "\n",
    "des_cols_dict = {\n",
    "    'DESY6_mag_auto_g_extcorr_flux': 'ctio.decam.g',\n",
    "    'DESY6_mag_auto_r_extcorr_flux': 'ctio.decam.r',\n",
    "    'DESY6_mag_auto_i_extcorr_flux': 'ctio.decam.i',\n",
    "    'DESY6_mag_auto_z_extcorr_flux': 'ctio.decam.z',\n",
    "    'DESY6_magerr_auto_g_fluxerr' : 'ctio.decam.g_err',\n",
    "    'DESY6_magerr_auto_r_fluxerr' : 'ctio.decam.r_err',\n",
    "    'DESY6_magerr_auto_i_fluxerr' : 'ctio.decam.i_err',\n",
    "    'DESY6_magerr_auto_z_fluxerr' : 'ctio.decam.z_err',\n",
    "}\n",
    "\n",
    "viking_cols_dict = {\n",
    "    'VKG_mag_petro_y_ab_extcorr_flux': 'paranal.vircam.Y',\n",
    "    'VKG_mag_petro_j_ab_extcorr_flux': 'paranal.vircam.J',\n",
    "    'VKG_mag_petro_h_ab_extcorr_flux': 'paranal.vircam.H',\n",
    "    'VKG_mag_petro_ks_ab_extcorr_flux': 'paranal.vircam.Ks',\n",
    "    'VKG_magerr_petro_y_fluxerr': 'paranal.vircam.Y_err',\n",
    "    'VKG_magerr_petro_j_fluxerr': 'paranal.vircam.J_err',\n",
    "    'VKG_magerr_petro_h_fluxerr': 'paranal.vircam.H_err',\n",
    "    'VKG_magerr_petro_ks_fluxerr': 'paranal.vircam.Ks_err',\n",
    "\n",
    "}\n",
    "\n",
    "catwise_cols_dict = {\n",
    "    'CAT_w1mpro_ab_flux': 'wise.W1',\n",
    "    'CAT_w2mpro_ab_flux': 'wise.W2',\n",
    "    'CAT_w1sigmpro_fluxerr': 'wise.W1_err',\n",
    "    'CAT_w2sigmpro_fluxerr': 'wise.W2_err',\n",
    "}\n",
    "\n",
    "all_dicts = [extra_cols_dict, des_cols_dict, viking_cols_dict, catwise_cols_dict]\n",
    "mag_cols = [\n",
    "    'DESY6_mag_auto_g_extcorr',\n",
    "    'DESY6_mag_auto_r_extcorr',\n",
    "    'DESY6_mag_auto_i_extcorr',\n",
    "    'DESY6_mag_auto_z_extcorr',\n",
    "    'VKG_mag_petro_y_ab_extcorr',\n",
    "    'VKG_mag_petro_j_ab_extcorr',\n",
    "    'VKG_mag_petro_h_ab_extcorr',\n",
    "    'VKG_mag_petro_ks_ab_extcorr',\n",
    "    'CAT_w1mpro_ab',\n",
    "    'CAT_w2mpro_ab'\n",
    "]\n",
    "\n",
    "mag_err_cols = [\n",
    "    'DESY6_magerr_auto_g',\n",
    "    'DESY6_magerr_auto_r',\n",
    "    'DESY6_magerr_auto_i',\n",
    "    'DESY6_magerr_auto_z',\n",
    "    'VKG_magerr_petro_y',\n",
    "    'VKG_magerr_petro_j',\n",
    "    'VKG_magerr_petro_h',\n",
    "    'VKG_magerr_petro_ks',\n",
    "    'CAT_w1sigmpro',\n",
    "    'CAT_w2sigmpro'\n",
    "]"
   ]
  },
  {
   "cell_type": "code",
   "execution_count": 11,
   "id": "35b0dfa3",
   "metadata": {},
   "outputs": [
    {
     "ename": "NameError",
     "evalue": "name 'catalog_matches_noMags_full' is not defined",
     "output_type": "error",
     "traceback": [
      "\u001b[0;31m---------------------------------------------------------------------------\u001b[0m",
      "\u001b[0;31mNameError\u001b[0m                                 Traceback (most recent call last)",
      "Cell \u001b[0;32mIn[11], line 1\u001b[0m\n\u001b[0;32m----> 1\u001b[0m \u001b[43mcatalog_matches_noMags_full\u001b[49m[\u001b[38;5;124m'\u001b[39m\u001b[38;5;124mDESY6_magerr_auto_g\u001b[39m\u001b[38;5;124m'\u001b[39m]\u001b[38;5;241m.\u001b[39mdescribe()\n",
      "\u001b[0;31mNameError\u001b[0m: name 'catalog_matches_noMags_full' is not defined"
     ]
    }
   ],
   "source": [
    "catalog_matches_noMags_full['DESY6_magerr_auto_g'].describe()"
   ]
  },
  {
   "cell_type": "markdown",
   "id": "c27fa102",
   "metadata": {},
   "source": [
    "# Convert magnitudes to fluxes"
   ]
  },
  {
   "cell_type": "code",
   "execution_count": 12,
   "id": "354060ec",
   "metadata": {},
   "outputs": [],
   "source": [
    "def mag_to_flux_mJy(mag):\n",
    "    '''\n",
    "    Convert magnitude to flux using the formula:\n",
    "\n",
    "    Args:\n",
    "        mag (float or array-like): Magnitude value(s) to convert.\n",
    "\n",
    "    Returns:\n",
    "        float or array-like: Corresponding flux value(s) in mJy.\n",
    "\n",
    "    '''\n",
    "    return 10 ** (6.56-0.4 * mag)\n",
    "\n",
    "def magerr_to_fluxerr_mJy(mag, magerr):\n",
    "    '''\n",
    "\n",
    "    Args:\n",
    "        mag (float or array-like): Magnitude value(s) to convert.\n",
    "        magerr (float or array-like): Magnitude error value(s) to convert.\n",
    "\n",
    "    Returns:\n",
    "        float or array-like: Corresponding flux error value(s) in mJy.\n",
    "    \n",
    "    '''\n",
    "\n",
    "    return np.maximum(np.log(10) * 0.4 * 10 ** (6.56-0.4 * mag) * magerr, 10 ** (6.56-0.4 * mag)*0.1 )"
   ]
  },
  {
   "cell_type": "code",
   "execution_count": 13,
   "id": "ce44ed0f",
   "metadata": {},
   "outputs": [],
   "source": [
    "def add_flux_to_df(df, mag_cols, mag_err_cols):\n",
    "    '''\n",
    "    Add flux and flux error columns to the DataFrame.\n",
    "    If the flux error is smaller than 0.1, use \n",
    "\n",
    "    Args:\n",
    "        df (DataFrame): Input DataFrame.\n",
    "        mag_cols (list): List of magnitude column names.\n",
    "        mag_err_cols (list): List of magnitude error column names.\n",
    "\n",
    "    Returns:\n",
    "        DataFrame: Updated DataFrame with flux and flux error columns added.\n",
    "    \n",
    "    '''\n",
    "\n",
    "    df = df.copy()\n",
    "\n",
    "    for mag_col, mag_err_col in zip(mag_cols, mag_err_cols):\n",
    "        # Create new column names for flux and flux error\n",
    "        flux_col = f\"{mag_col}_flux\"\n",
    "        flux_err_col = f\"{mag_err_col}_fluxerr\"\n",
    "\n",
    "        # Convert magnitudes to fluxes\n",
    "        df[flux_col] = mag_to_flux_mJy(df[mag_col])\n",
    "\n",
    "        # Convert magnitude errors to flux errors\n",
    "        df[flux_err_col] = magerr_to_fluxerr_mJy(df[mag_col], df[mag_err_col])\n",
    "\n",
    "    return df"
   ]
  },
  {
   "cell_type": "markdown",
   "id": "49c51e85",
   "metadata": {},
   "source": [
    "# Create a catalog for CIGALE"
   ]
  },
  {
   "cell_type": "markdown",
   "id": "64c00a86",
   "metadata": {},
   "source": [
    "Creates an ASCII file for cigale "
   ]
  },
  {
   "cell_type": "code",
   "execution_count": null,
   "id": "54f0afbd",
   "metadata": {},
   "outputs": [],
   "source": [
    "def generate_ascii_with_flux(catalog_df, mag_columns, mag_error_columns, dict_all_cols, n_rows ,output_path):\n",
    "    \"\"\"\n",
    "    Converts magnitude columns and magnitude error columns to flux and flux error in mJy.\n",
    "\n",
    "    Args:\n",
    "        df (pd.DataFrame): DataFrame with magnitude columns and their corresponding error columns.\n",
    "        mag_columns (list): List of magnitude column names to convert.\n",
    "        mag_error_columns (list): List of magnitude error column names to convert.\n",
    "        dict_flux_to_filters (dict): Dictionary mapping flux columns to their corresponding filters.\n",
    "\n",
    "    Returns:\n",
    "        pd.DataFrame: DataFrame with new flux and flux error columns added.\n",
    "    \"\"\"\n",
    "\n",
    "    catalog_flux = add_flux_to_df(catalog_df, mag_columns, mag_error_columns)\n",
    "\n",
    "    # Create a new DataFrame to store the data for CIGALE\n",
    "    cigale_df = pd.DataFrame()\n",
    "\n",
    "    # Add the ID, redshift columns, flux and flux_err columns\n",
    "    for catalog in dict_all_cols:\n",
    "        for col, new_col in catalog.items():\n",
    "            cigale_df[new_col] = catalog_flux[col]\n",
    "\n",
    "    # If the redshift column is negative, CIGALE will consider the redshifts from a grid\n",
    "    #cigale_df['redshift'] = -cigale_df['redshift']\n",
    "\n",
    "    cigale_to_save = cigale_df.head(n_rows)\n",
    "    #cigale_to_save = cigale_df[cigale_df['id'] == 'J005713-314828']\n",
    "\n",
    "    cigale_to_save.to_csv(output_path, sep='\\t', index=False)\n",
    "\n",
    "    print(f'Saved Cigale file to path {output_path}')\n",
    "    "
   ]
  },
  {
   "cell_type": "code",
   "execution_count": 16,
   "id": "decfc839",
   "metadata": {},
   "outputs": [
    {
     "name": "stdout",
     "output_type": "stream",
     "text": [
      "Saved Cigale file to path /home/polaris/Lab_Astro/data/cigale/nonemu_data/nonemu_data.dat\n"
     ]
    }
   ],
   "source": [
    "generate_ascii_with_flux(nonemu_data, mag_cols, mag_err_cols, all_dicts, len(nonemu_data), '/home/polaris/Lab_Astro/data/cigale/nonemu_data/nonemu_data.dat' )"
   ]
  },
  {
   "cell_type": "markdown",
   "id": "43e42e75",
   "metadata": {},
   "source": [
    "## After CIGALE, transfers fits to new folder"
   ]
  },
  {
   "cell_type": "code",
   "execution_count": null,
   "id": "f5f5560c",
   "metadata": {},
   "outputs": [],
   "source": [
    "import os\n",
    "import shutil\n",
    "\n",
    "def move_pdfs_to_new_folder(source_folder, destination_folder):\n",
    "    \"\"\"\n",
    "    Copies all PDF files from the source_folder to the destination_folder.\n",
    "\n",
    "    Parameters:\n",
    "        source_folder (str): Path to the folder containing PDF files.\n",
    "        destination_folder (str): Path to the folder where PDFs will be saved.\n",
    "    \"\"\"\n",
    "    # Create the destination folder if it doesn't exist\n",
    "    if not os.path.exists(destination_folder):\n",
    "        os.makedirs(destination_folder)\n",
    "\n",
    "    # Iterate over all files in the source folder\n",
    "    for filename in os.listdir(source_folder):\n",
    "        if filename.lower().endswith(\".pdf\"):\n",
    "            source_path = os.path.join(source_folder, filename)\n",
    "            dest_path = os.path.join(destination_folder, filename)\n",
    "            shutil.move(source_path, dest_path)\n",
    "            print(f\"Copied: {filename}\")\n",
    "\n",
    "    print(\"All PDF files have been copied.\")"
   ]
  },
  {
   "cell_type": "code",
   "execution_count": null,
   "id": "f5db8316",
   "metadata": {},
   "outputs": [],
   "source": [
    "# move_pdfs_to_new_folder(\"/home/polaris/Lab_Astro/data/cigale/all_data_6/out7\", \"/home/polaris/Lab_Astro/data/cigale/all_data_6/out7/images\")"
   ]
  }
 ],
 "metadata": {
  "kernelspec": {
   "display_name": "labastro",
   "language": "python",
   "name": "python3"
  },
  "language_info": {
   "codemirror_mode": {
    "name": "ipython",
    "version": 3
   },
   "file_extension": ".py",
   "mimetype": "text/x-python",
   "name": "python",
   "nbconvert_exporter": "python",
   "pygments_lexer": "ipython3",
   "version": "3.10.16"
  }
 },
 "nbformat": 4,
 "nbformat_minor": 5
}
