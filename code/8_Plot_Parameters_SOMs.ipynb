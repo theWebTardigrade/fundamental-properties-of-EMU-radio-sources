{
 "cells": [
  {
   "cell_type": "markdown",
   "id": "4e6ba83a",
   "metadata": {},
   "source": [
    "# Plot parameters obtained in CIGALE in the trained SOM"
   ]
  },
  {
   "cell_type": "markdown",
   "id": "0092e49c",
   "metadata": {},
   "source": [
    "## Define the directory\n",
    "Define the directory were all the files are saved."
   ]
  },
  {
   "cell_type": "code",
   "execution_count": 1,
   "id": "6cc6f96c",
   "metadata": {},
   "outputs": [],
   "source": [
    "observatory = '/data/mfonseca/'\n",
    "my_computer = '/home/polaris/Lab_Astro/data/'\n",
    "\n",
    "directory = my_computer"
   ]
  },
  {
   "cell_type": "markdown",
   "id": "065af6e4",
   "metadata": {},
   "source": [
    "## Import the libraries"
   ]
  },
  {
   "cell_type": "code",
   "execution_count": 2,
   "id": "e6e58de4",
   "metadata": {},
   "outputs": [],
   "source": [
    "import matplotlib.pyplot as plt\n",
    "import matplotlib.colors as mcolors\n",
    "\n",
    "import numpy as np\n",
    "import pandas as pd\n",
    "\n",
    "# SimpSOM, https://simpsom.readthedocs.io\n",
    "import simpsom as sps\n",
    "\n",
    "# Astropy\n",
    "from astropy.table import Table\n",
    "from astropy.coordinates import SkyCoord\n",
    "from astropy import units as u\n",
    "\n",
    "# CuPY\n",
    "# import cupy as cp\n",
    "\n",
    "# Seaborn\n",
    "import seaborn as sns"
   ]
  },
  {
   "cell_type": "markdown",
   "id": "823941d0",
   "metadata": {},
   "source": [
    "## Trained SOM"
   ]
  },
  {
   "cell_type": "markdown",
   "id": "d2bd4647",
   "metadata": {},
   "source": [
    "Import original and whitened data used to train the SOM"
   ]
  },
  {
   "cell_type": "code",
   "execution_count": 22,
   "id": "65176ac8",
   "metadata": {},
   "outputs": [],
   "source": [
    "data_path = '/home/polaris/Lab_Astro/data/soms/maps1/EMU_0102-32_DESY6GOLD_VIKINGDR5_CATWISE_noMag_original.csv'\n",
    "data = pd.read_csv(data_path, sep=',', header=0, index_col=0)\n",
    "\n",
    "data_white_path = '/home/polaris/Lab_Astro/data/soms/maps1/EMU_0102-32_DESY6GOLD_VIKINGDR5_CATWISE_noMag_zcaWhite.csv'\n",
    "data_white = pd.read_csv(data_white_path, sep=',', header=0, index_col=0)"
   ]
  },
  {
   "cell_type": "markdown",
   "id": "78fd722d",
   "metadata": {},
   "source": [
    "Import the trained SOM"
   ]
  },
  {
   "cell_type": "code",
   "execution_count": null,
   "id": "8d3af7cd",
   "metadata": {},
   "outputs": [],
   "source": [
    "best_som_epoch = 40\n",
    "file_trained_som = directory + 'soms/maps3/epoch_files/trained_som_' + str(best_som_epoch) + 'epoch'+ '.npy'"
   ]
  },
  {
   "cell_type": "code",
   "execution_count": null,
   "id": "bc21b219",
   "metadata": {},
   "outputs": [],
   "source": [
    "sommap = sps.SOMNet(\n",
    "    17,\n",
    "    16,\n",
    "    data_white,\n",
    "    load_file = file_trained_som,\n",
    "    debug= False,\n",
    "    metric = 'euclidean',\n",
    "    topology= 'hexagonal'\n",
    "    )"
   ]
  },
  {
   "cell_type": "markdown",
   "id": "b1dd3676",
   "metadata": {},
   "source": [
    "## CIGALE results"
   ]
  },
  {
   "cell_type": "markdown",
   "id": "26f09ef4",
   "metadata": {},
   "source": [
    "Import the parameters from CIGALE"
   ]
  },
  {
   "cell_type": "code",
   "execution_count": 3,
   "id": "00f382bc",
   "metadata": {},
   "outputs": [],
   "source": [
    "cigale_results_file_path = directory + 'cigale/all_data_6/out7/results.fits'\n",
    "cigale_results_table = Table.read(cigale_results_file_path)\n",
    "cigale_results_df = cigale_results_table.to_pandas()"
   ]
  },
  {
   "cell_type": "code",
   "execution_count": 12,
   "id": "c0a8b289",
   "metadata": {},
   "outputs": [
    {
     "name": "stdout",
     "output_type": "stream",
     "text": [
      "ID with lowest chi-square: b'J010240-312004'\n",
      "ID with highest chi-square: b'J004953-321718'\n",
      "ID with chi-square closest to the median: b'J005649-332450'\n"
     ]
    }
   ],
   "source": [
    "# Lowest chi-square\n",
    "min_index = cigale_results_df['best.reduced_chi_square'].idxmin()\n",
    "min_id = cigale_results_df.loc[min_index, 'id']\n",
    "\n",
    "# Highest chi-square\n",
    "max_index = cigale_results_df['best.reduced_chi_square'].idxmax()\n",
    "max_id = cigale_results_df.loc[max_index, 'id']\n",
    "\n",
    "print(\"ID with lowest chi-square:\", min_id)\n",
    "print(\"ID with highest chi-square:\", max_id) \n",
    "\n",
    "# Compute the median value\n",
    "median_value = cigale_results_df['best.reduced_chi_square'].median()\n",
    "\n",
    "# Find the row where chi-square is closest to the median\n",
    "# (in case there's no exact match)\n",
    "closest_index = (cigale_results_df['best.reduced_chi_square'] - median_value).abs().idxmin()\n",
    "median_id = cigale_results_df.loc[closest_index, 'id']\n",
    "\n",
    "print(\"ID with chi-square closest to the median:\", median_id)"
   ]
  },
  {
   "cell_type": "markdown",
   "id": "46d1a96b",
   "metadata": {},
   "source": [
    "## Join both tables"
   ]
  },
  {
   "cell_type": "code",
   "execution_count": null,
   "id": "64d78d82",
   "metadata": {},
   "outputs": [],
   "source": [
    "allresults_df = pd.merge(data_white, cigale_results_df, on='key')"
   ]
  },
  {
   "cell_type": "markdown",
   "id": "335589a0",
   "metadata": {},
   "source": [
    "## Plot the results in the trained SOM"
   ]
  }
 ],
 "metadata": {
  "kernelspec": {
   "display_name": "labastro",
   "language": "python",
   "name": "python3"
  },
  "language_info": {
   "codemirror_mode": {
    "name": "ipython",
    "version": 3
   },
   "file_extension": ".py",
   "mimetype": "text/x-python",
   "name": "python",
   "nbconvert_exporter": "python",
   "pygments_lexer": "ipython3",
   "version": "3.10.16"
  }
 },
 "nbformat": 4,
 "nbformat_minor": 5
}
