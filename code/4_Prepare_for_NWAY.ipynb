{
 "cells": [
  {
   "cell_type": "markdown",
   "metadata": {},
   "source": [
    "# Cross-Match Catalogs using NWAY"
   ]
  },
  {
   "cell_type": "markdown",
   "metadata": {},
   "source": [
    "## Import Libraries"
   ]
  },
  {
   "cell_type": "code",
   "execution_count": 1,
   "metadata": {},
   "outputs": [],
   "source": [
    "from astropy.io import fits\n",
    "import numpy as np\n",
    "from astropy.table import Table"
   ]
  },
  {
   "cell_type": "markdown",
   "metadata": {},
   "source": [
    "## Import Catalog Data"
   ]
  },
  {
   "cell_type": "code",
   "execution_count": 2,
   "metadata": {},
   "outputs": [],
   "source": [
    "observatory = '/home/mfonseca/fastdisk2/data/'\n",
    "my_computer = '/home/polaris/Lab_Astro/data/'\n",
    "server = '/workspace/data/'\n",
    "\n",
    "directory = my_computer"
   ]
  },
  {
   "cell_type": "code",
   "execution_count": 3,
   "metadata": {},
   "outputs": [],
   "source": [
    "# EMU catalogs\n",
    "emu_catalog_path = directory + 'survey_data/EMU_data/EMU_0102-32/EMU_0102-32_1comp.fits'\n",
    "emu_patched_catalog_path = directory + 'survey_data/EMU_data/EMU_0102-32/EMU_0102-32_1comp_withoutpatches.fits'\n",
    "emuXviking_catalog_path = ''\n",
    "\n",
    "# DES catalogs\n",
    "desy6gold_catalog_path = directory + 'survey_data/DES_data/DESY6GOLD_in_EMU_0102-32_clean.fits'\n",
    "\n",
    "# VIKING catalogs\n",
    "viking_catalog_path = directory + \"survey_data/VIKING_data/VIKINGDR5_in_EMU_0102-32_clean.fits\"\n",
    "\n",
    "# CatWISE catalogs\n",
    "catwise_catalog_path = directory + 'survey_data/CATWISE_data/CATWISE2020_in_EMU_0102-32_clean.fits'"
   ]
  },
  {
   "cell_type": "markdown",
   "metadata": {},
   "source": [
    "## Prepare the catalogs for NWAY input\n",
    "The NWAY library has multiple requirements for a catalog to serve as input.\n",
    "1. The fits data table needs to have a extension name. It is used as a prefix for the columns copied to the output catalog, so each column from each catalog is called \"PREFIXOFCATALOG_NAMEOFCOLUMN\"\n",
    "2. The fits header of the catalogs needs to have the SKYAREA keyword. This keyword has the area on the sky in square degrees covered by the catalog. Since I don't have the documentation for EMU data, I must calculate the area using the mosaic image.\n",
    "3. The position error needs to be a column with a single value, called positional error, so we need to obtain it from the right ascension and declination errors."
   ]
  },
  {
   "cell_type": "markdown",
   "metadata": {},
   "source": [
    "### Change extension name\n",
    "This process is also possible using just the NWAY library. Check page 8 of the NWAY documentation\n",
    "Changes the extension name of each catalog, it becomes the prefix of the columns from that catalog after running nway"
   ]
  },
  {
   "cell_type": "code",
   "execution_count": 4,
   "metadata": {},
   "outputs": [],
   "source": [
    "def change_hdu_name(fits_file, hdu_index, new_name):\n",
    "    with fits.open(fits_file, mode='update') as hdul:\n",
    "        # Change the name of the specified HDU\n",
    "        hdul[hdu_index].header['EXTNAME'] = new_name\n",
    "        # Save changes to the FITS file\n",
    "        hdul.flush()"
   ]
  },
  {
   "cell_type": "code",
   "execution_count": 5,
   "metadata": {},
   "outputs": [],
   "source": [
    "change_hdu_name(emu_catalog_path, hdu_index=1, new_name=\"EMU\")\n",
    "change_hdu_name(emu_patched_catalog_path, hdu_index=1, new_name=\"EMU\")\n",
    "\n",
    "change_hdu_name(desy6gold_catalog_path, hdu_index=1, new_name='DESY6')\n",
    "change_hdu_name(viking_catalog_path, hdu_index=1, new_name=\"VKG\")\n",
    "change_hdu_name(catwise_catalog_path, hdu_index=1, new_name=\"CAT\")"
   ]
  },
  {
   "cell_type": "markdown",
   "metadata": {},
   "source": [
    "### Create and assign value to SKYAREA keyword"
   ]
  },
  {
   "cell_type": "markdown",
   "metadata": {},
   "source": [
    "Create the SKYAREA in the FITS header and assign a value to it."
   ]
  },
  {
   "cell_type": "code",
   "execution_count": 6,
   "metadata": {},
   "outputs": [],
   "source": [
    "def create_skyarea_keyword(fits_file, skyarea_value):\n",
    "    \"\"\"\n",
    "    Create the SKYAREA keyword in the FITS header and assign a value to it.\n",
    "\n",
    "    Parameters:\n",
    "    fits_file (str): Path to the FITS file.\n",
    "    skyarea_value (float): Value to assign to the SKYAREA keyword (in square degrees).\n",
    "    \"\"\"\n",
    "    with fits.open(fits_file, mode='update') as hdul:\n",
    "        header = hdul[1].header\n",
    "        \n",
    "        header['SKYAREA'] = skyarea_value\n",
    "        \n",
    "        hdul.flush()\n",
    "        print(f\"SKYAREA keyword set to {skyarea_value} in {fits_file}.\")"
   ]
  },
  {
   "cell_type": "code",
   "execution_count": 7,
   "metadata": {},
   "outputs": [],
   "source": [
    "def calculate_skyarea(ra_interval, dec_interval):\n",
    "    \"\"\"\n",
    "    Calculate the area of the sky.\n",
    "\n",
    "    Parameters:\n",
    "    ra_interval (list): List of interval of RA in degrees\n",
    "    dec_interval (list): List of interval of DEC in degrees\n",
    "\n",
    "    \"\"\"\n",
    "    delta_ra_rad  = np.radians(abs(ra_interval[1]-ra_interval[0]))\n",
    "    delta_dec_rad = np.sin(np.radians(dec_interval[1])) - np.sin(np.radians(dec_interval[0]))\n",
    "\n",
    "    solid_angle_sr = delta_ra_rad*delta_dec_rad\n",
    "    solid_angle_deg2 = solid_angle_sr * (180 / np.pi) ** 2\n",
    "\n",
    "    return solid_angle_deg2"
   ]
  },
  {
   "cell_type": "code",
   "execution_count": 8,
   "metadata": {},
   "outputs": [
    {
     "name": "stdout",
     "output_type": "stream",
     "text": [
      "Patch 1 Sky Area: 0.9617694716176918 deg^2\n",
      "Patch 2 Sky Area: 0.2521135638049071 deg^2\n",
      "Patch 3 Sky Area: 0.8932636233122696 deg^2\n",
      "Total Patch Area: 2.1071466587348686 deg^2\n"
     ]
    }
   ],
   "source": [
    "patch1 = calculate_skyarea([16.77, 18.32], [-30.84, -30.12])\n",
    "patch2 = calculate_skyarea([14.95, 16.49], [-35.16, -34.96])\n",
    "patch3 = calculate_skyarea([12.54, 13.97], [-32.79, -32.05])\n",
    "\n",
    "total_patch = patch1 + patch2 + patch3\n",
    "\n",
    "print(f\"Patch 1 Sky Area: {patch1} deg^2\")\n",
    "print(f\"Patch 2 Sky Area: {patch2} deg^2\")\n",
    "print(f\"Patch 3 Sky Area: {patch3} deg^2\")\n",
    "print(f\"Total Patch Area: {total_patch} deg^2\")"
   ]
  },
  {
   "cell_type": "code",
   "execution_count": 9,
   "metadata": {},
   "outputs": [
    {
     "name": "stdout",
     "output_type": "stream",
     "text": [
      "30.425887052030664\n",
      "28.318740393295794\n"
     ]
    }
   ],
   "source": [
    "# Acoording to documentation it is indeed around 30 degrees\n",
    "area_emu_survey = calculate_skyarea([12.0,19.0], [-35.16,-30.00])\n",
    "print(area_emu_survey)\n",
    "\n",
    "area_emu_patched = area_emu_survey - total_patch\n",
    "print(area_emu_patched)"
   ]
  },
  {
   "cell_type": "code",
   "execution_count": 10,
   "metadata": {},
   "outputs": [
    {
     "name": "stdout",
     "output_type": "stream",
     "text": [
      "SKYAREA keyword set to 30.425887052030664 in /home/polaris/Lab_Astro/data/survey_data/EMU_data/EMU_0102-32/EMU_0102-32_1comp.fits.\n",
      "SKYAREA keyword set to 31.061035431358185 in /home/polaris/Lab_Astro/data/survey_data/DES_data/DESY6GOLD_in_EMU_0102-32_clean.fits.\n",
      "SKYAREA keyword set to 30.493888772623315 in /home/polaris/Lab_Astro/data/survey_data/VIKING_data/VIKINGDR5_in_EMU_0102-32_clean.fits.\n",
      "SKYAREA keyword set to 32.601035431358184 in /home/polaris/Lab_Astro/data/survey_data/CATWISE_data/CATWISE2020_in_EMU_0102-32_clean.fits.\n"
     ]
    }
   ],
   "source": [
    "# The limits are derived from the limit imposed when querying the catalogs\n",
    "area_des_survey = calculate_skyarea([11.8,19.1], [-35.2,-29.9])\n",
    "\n",
    "\n",
    "area_viking_survey = calculate_skyarea([11.8,19.1], [-35.2,-29.9])\n",
    "area_catwise_survey = calculate_skyarea([11.8,19.1], [-35.2,-29.9])\n",
    "\n",
    "# EMU area\n",
    "create_skyarea_keyword(emu_catalog_path, area_emu_survey)\n",
    "\n",
    "# DES area\n",
    "create_skyarea_keyword(desy6gold_catalog_path, area_des_survey-1.54)\n",
    "\n",
    "# VIKING area\n",
    "create_skyarea_keyword(viking_catalog_path, area_viking_survey-2.1071466587348686)\n",
    "\n",
    "# CatWISE area\n",
    "create_skyarea_keyword(catwise_catalog_path, area_catwise_survey)"
   ]
  },
  {
   "cell_type": "markdown",
   "metadata": {},
   "source": [
    "## Fix ID Column in EMU survey"
   ]
  },
  {
   "cell_type": "code",
   "execution_count": 11,
   "metadata": {},
   "outputs": [],
   "source": [
    "\n",
    "def create_id_column_from_source_name(fits_file):\n",
    "    with fits.open(fits_file, mode='update') as hdul:\n",
    "        data = hdul[1].data\n",
    "\n",
    "        if 'Source_Name' not in data.columns.names:\n",
    "            raise ValueError(\"The FITS file does not contain a 'Source_Name' column.\")\n",
    "        \n",
    "        if 'ID' in data.columns.names:\n",
    "            raise ValueError(\"The FITS file already contains an 'ID' column.\")\n",
    "\n",
    "        source_names = data['Source_Name']\n",
    "\n",
    "        id_data = [name.split('EMUJ')[-1] if 'EMUJ' in name else '' for name in source_names]\n",
    "\n",
    "        id_col = fits.Column(name='ID', format='20A', array=id_data)  # '20A' for a string column of max length 20\n",
    "\n",
    "        new_columns = hdul[1].columns + fits.ColDefs([id_col])\n",
    "        new_hdu = fits.BinTableHDU.from_columns(new_columns)\n",
    "\n",
    "        hdul[1] = new_hdu\n",
    "\n",
    "        hdul.flush()\n",
    "        print(\"Created new 'ID' column with the number part of 'Source_Name'.\")"
   ]
  },
  {
   "cell_type": "markdown",
   "metadata": {},
   "source": [
    "# Creates a command for NWAY"
   ]
  },
  {
   "cell_type": "markdown",
   "metadata": {},
   "source": [
    "## Without Magnitude"
   ]
  },
  {
   "cell_type": "code",
   "execution_count": 12,
   "metadata": {},
   "outputs": [],
   "source": [
    "def build_nway_command_nomag(output_path, input_catalogs, radius=5, nway_path='/root/miniconda3/envs/cigale/bin/nway.py'):\n",
    "    '''\n",
    "    Build a nway.py crossmatch command string for magnitudes.\n",
    "\n",
    "    Args:\n",
    "    output_path (str): Path to the output file.\n",
    "    input_catalogs (list of tuples): List of (file_path, pos_error) tuples.\n",
    "    radius (float, optional): Matching radius (default 5 arcsec).\n",
    "    nway_path (str, optional): Path to nway.py script.\n",
    "\n",
    "    Returns:\n",
    "    str: Full nway.py command string.\n",
    "    '''\n",
    "\n",
    "    cmd = f'{nway_path}'\n",
    "\n",
    "    # Add catalogs and positional errors\n",
    "    for file_path, pos_error in input_catalogs:\n",
    "        cmd += f\" {file_path} {pos_error}\"\n",
    "\n",
    "    # Output file and radius\n",
    "    cmd += f\" --out={output_path} --radius {radius}\"\n",
    "\n",
    "    print(cmd)\n",
    "   \n",
    "    return cmd"
   ]
  },
  {
   "cell_type": "code",
   "execution_count": 13,
   "metadata": {},
   "outputs": [
    {
     "name": "stdout",
     "output_type": "stream",
     "text": [
      "/root/miniconda3/envs/cigale/bin/nway.py /workspace/data/survey_data/VIKINGDR5_in_EMU_0102-32.fits 0.1 /workspace/data/survey_data/DESY6GOLD_in_EMU_0102-32.fits 0.1 /data/mfonseca/survey_data/CATWISE2020_in_EMU_0102-32.fits 0.2 --out=/workspace/data/cross_match/EMU_0103-32_DESY6_VKG_CAT_noMags_PSF.fits --radius 5\n"
     ]
    },
    {
     "data": {
      "text/plain": [
       "'/root/miniconda3/envs/cigale/bin/nway.py /workspace/data/survey_data/VIKINGDR5_in_EMU_0102-32.fits 0.1 /workspace/data/survey_data/DESY6GOLD_in_EMU_0102-32.fits 0.1 /data/mfonseca/survey_data/CATWISE2020_in_EMU_0102-32.fits 0.2 --out=/workspace/data/cross_match/EMU_0103-32_DESY6_VKG_CAT_noMags_PSF.fits --radius 5'"
      ]
     },
     "execution_count": 13,
     "metadata": {},
     "output_type": "execute_result"
    }
   ],
   "source": [
    "\n",
    "input_catalogs = [\n",
    "    ('/workspace/data/survey_data/VIKINGDR5_in_EMU_0102-32.fits', 0.1),\n",
    "    ('/workspace/data/survey_data/DESY6GOLD_in_EMU_0102-32.fits', 0.1),\n",
    "    ('/data/mfonseca/survey_data/CATWISE2020_in_EMU_0102-32.fits', 0.2)\n",
    "]\n",
    "\n",
    "output_path = '/workspace/data/cross_match/EMU_0103-32_DESY6_VKG_CAT_noMags_PSF.fits'\n",
    "\n",
    "# Build and print the command\n",
    "build_nway_command_nomag(output_path, input_catalogs)"
   ]
  },
  {
   "cell_type": "markdown",
   "metadata": {},
   "source": [
    "## With Magnitude"
   ]
  },
  {
   "cell_type": "code",
   "execution_count": 14,
   "metadata": {},
   "outputs": [],
   "source": [
    "def build_nway_command_mag(output_path, input_catalogs, mags_dict, radius=5, nway_path='~/.local/bin/nway.py'):\n",
    "    '''\n",
    "    Build a nway.py crossmatch command string for magnitudes.\n",
    "\n",
    "    Args:\n",
    "        output_path (str): Path to the output file.\n",
    "        input_catalogs (list of tuples): List of (file_path, pos_error) tuples.\n",
    "        mags_dict (dict): Dictionary where keys are prefixes (DES, VKG, CAT) and values are lists of magnitudes.\n",
    "        radius (float, optional): Matching radius (default 5 arcsec).\n",
    "        nway_path (str, optional): Path to nway.py script.\n",
    "\n",
    "    Returns:\n",
    "        str: Full nway.py command string.\n",
    "    '''\n",
    "    cmd = f\"{nway_path}\"\n",
    "\n",
    "    # Add catalogs and positional errors\n",
    "    for file_path, pos_error in input_catalogs:\n",
    "        cmd += f\" {file_path} {pos_error}\"\n",
    "\n",
    "    # Output file and radius\n",
    "    cmd += f\" --out={output_path} --radius {radius}\"\n",
    "\n",
    "    # Magnitudes\n",
    "    for prefix, mags in mags_dict.items():\n",
    "        for mag in mags:\n",
    "            cmd += f\" --mag {prefix}:{mag} auto\"\n",
    "\n",
    "    print(cmd)\n",
    "    return cmd"
   ]
  },
  {
   "cell_type": "code",
   "execution_count": 15,
   "metadata": {},
   "outputs": [
    {
     "name": "stdout",
     "output_type": "stream",
     "text": [
      "~/.local/bin/nway.py /data/mfonseca/survey_data/DES_data/DESY6GOLD_in_EMU_0102-32_magauto.fits 0.1 /data/mfonseca/survey_data/VIKING_data/VIKINGDR5_in_EMU_0102-32_allapermag3.fits 0.1 /data/mfonseca/survey_data/CATWISE_data/CATWISE2020_in_EMU_0102-32.fits 0.2 --out=/home/polaris/Lab_Astro/data/cross_match/EMU_0103-32_DESY6_VKG_CAT_Mags_PSF/EMU_0103-32_DESY6_VKG_CAT_Mags_PSF.fits --radius 5 --mag DESY6:mag_auto_g_extcorr auto --mag DESY6:mag_auto_r_extcorr auto --mag DESY6:mag_auto_i_extcorr auto --mag DESY6:mag_auto_z_extcorr auto --mag DESY6:mag_auto_y_extcorr auto --mag VKG:mag_petro_y_ab_extcorr auto --mag VKG:mag_petro_j_ab_extcorr auto --mag VKG:mag_petro_h_ab_extcorr auto --mag VKG:mag_petro_ks_ab_extcorr auto --mag CAT:w1mpro_ab_extcorr auto --mag CAT:w2mpro_ab_extcorr auto\n"
     ]
    },
    {
     "data": {
      "text/plain": [
       "'~/.local/bin/nway.py /data/mfonseca/survey_data/DES_data/DESY6GOLD_in_EMU_0102-32_magauto.fits 0.1 /data/mfonseca/survey_data/VIKING_data/VIKINGDR5_in_EMU_0102-32_allapermag3.fits 0.1 /data/mfonseca/survey_data/CATWISE_data/CATWISE2020_in_EMU_0102-32.fits 0.2 --out=/home/polaris/Lab_Astro/data/cross_match/EMU_0103-32_DESY6_VKG_CAT_Mags_PSF/EMU_0103-32_DESY6_VKG_CAT_Mags_PSF.fits --radius 5 --mag DESY6:mag_auto_g_extcorr auto --mag DESY6:mag_auto_r_extcorr auto --mag DESY6:mag_auto_i_extcorr auto --mag DESY6:mag_auto_z_extcorr auto --mag DESY6:mag_auto_y_extcorr auto --mag VKG:mag_petro_y_ab_extcorr auto --mag VKG:mag_petro_j_ab_extcorr auto --mag VKG:mag_petro_h_ab_extcorr auto --mag VKG:mag_petro_ks_ab_extcorr auto --mag CAT:w1mpro_ab_extcorr auto --mag CAT:w2mpro_ab_extcorr auto'"
      ]
     },
     "execution_count": 15,
     "metadata": {},
     "output_type": "execute_result"
    }
   ],
   "source": [
    "input_catalogs = [\n",
    "    ('/data/mfonseca/survey_data/DES_data/DESY6GOLD_in_EMU_0102-32_magauto.fits', 0.1),\n",
    "    ('/data/mfonseca/survey_data/VIKING_data/VIKINGDR5_in_EMU_0102-32_allapermag3.fits', 0.1),\n",
    "    ('/data/mfonseca/survey_data/CATWISE_data/CATWISE2020_in_EMU_0102-32.fits', 0.2)\n",
    "]\n",
    "\n",
    "output_path = '/home/polaris/Lab_Astro/data/cross_match/EMU_0103-32_DESY6_VKG_CAT_Mags_PSF/EMU_0103-32_DESY6_VKG_CAT_Mags_PSF.fits'\n",
    "\n",
    "mags_dict = {\n",
    "    'DESY6': ['mag_auto_g_extcorr', 'mag_auto_r_extcorr', 'mag_auto_i_extcorr', 'mag_auto_z_extcorr', 'mag_auto_y_extcorr'],\n",
    "    'VKG': ['mag_petro_y_ab_extcorr', 'mag_petro_j_ab_extcorr', 'mag_petro_h_ab_extcorr', 'mag_petro_ks_ab_extcorr'],\n",
    "    'CAT': ['w1mpro_ab_extcorr', 'w2mpro_ab_extcorr']\n",
    "}\n",
    "\n",
    "# Build and print the command\n",
    "build_nway_command_mag(output_path, input_catalogs, mags_dict)"
   ]
  }
 ],
 "metadata": {
  "kernelspec": {
   "display_name": "labastro",
   "language": "python",
   "name": "python3"
  },
  "language_info": {
   "codemirror_mode": {
    "name": "ipython",
    "version": 3
   },
   "file_extension": ".py",
   "mimetype": "text/x-python",
   "name": "python",
   "nbconvert_exporter": "python",
   "pygments_lexer": "ipython3",
   "version": "3.10.16"
  }
 },
 "nbformat": 4,
 "nbformat_minor": 2
}
