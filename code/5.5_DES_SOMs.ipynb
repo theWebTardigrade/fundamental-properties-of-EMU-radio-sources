{
 "cells": [
  {
   "cell_type": "markdown",
   "id": "a6942eac",
   "metadata": {},
   "source": [
    "# Self Organized Maps (SOMs) for DES/VIKING/CATWISE objects"
   ]
  },
  {
   "cell_type": "markdown",
   "id": "0730eeb3",
   "metadata": {},
   "source": [
    "## Define the directory"
   ]
  },
  {
   "cell_type": "code",
   "execution_count": 1,
   "id": "d47a6d16",
   "metadata": {},
   "outputs": [],
   "source": [
    "observatory = '/data/mfonseca/'\n",
    "my_computer = '/home/polaris/Lab_Astro/data/'\n",
    "\n",
    "directory = my_computer"
   ]
  },
  {
   "cell_type": "markdown",
   "id": "b72afb7a",
   "metadata": {},
   "source": [
    "## Import Libraries"
   ]
  },
  {
   "cell_type": "code",
   "execution_count": 3,
   "id": "532e0845",
   "metadata": {},
   "outputs": [],
   "source": [
    "import matplotlib.pyplot as plt\n",
    "import matplotlib.colors as mcolors\n",
    "\n",
    "import numpy as np\n",
    "import pandas as pd\n",
    "\n",
    "# SimpSOM, https://simpsom.readthedocs.io\n",
    "import simpsom as sps\n",
    "\n",
    "# Astropy\n",
    "from astropy.table import Table\n",
    "from astropy.coordinates import SkyCoord\n",
    "from astropy import units as u\n",
    "\n",
    "# CuPY\n",
    "# import cupy as cp\n",
    "\n",
    "# Seaborn\n",
    "import seaborn as sns\n",
    "\n",
    "# Kolmorgorov-Smirnov\n",
    "from scipy.stats import kstest"
   ]
  },
  {
   "cell_type": "markdown",
   "id": "ecef03e0",
   "metadata": {},
   "source": [
    "## PCA Whitening and ZPCA Whitening"
   ]
  },
  {
   "cell_type": "code",
   "execution_count": null,
   "id": "c4b0b1b5",
   "metadata": {},
   "outputs": [],
   "source": [
    "def pca_whitening(data, epsilon=1e-5):\n",
    "    '''\n",
    "    PCA whitening\n",
    "\n",
    "    Args:\n",
    "        data: array-like data\n",
    "        epsilon: small value to avoid division by zero\n",
    "\n",
    "    Returns:\n",
    "        out: array-like data pca whitened\n",
    "    \n",
    "    '''\n",
    "    # Data needs to have 0 mean\n",
    "    data_mean = np.mean(data, axis=0)\n",
    "    data_centered = data - data_mean\n",
    "\n",
    "    # If the data has 0 mean, then we calculate the covariance matrix\n",
    "    # rowvar=False means that each row is an observation\n",
    "    cov_matrix = np.cov(data_centered, rowvar=False)\n",
    "\n",
    "    # Calculate the eigenvalues and the eigenvectors\n",
    "    eigvals, eigvecs = np.linalg.eigh(cov_matrix)\n",
    "\n",
    "    # Sort the eigenvalues and eigenvectors\n",
    "    idx = np.argsort(eigvals)[::-1]\n",
    "    eigvals = eigvals[idx]\n",
    "    eigvecs = eigvecs[:, idx]\n",
    "\n",
    "  \n",
    "    D_inv_sqrt = np.diag(1.0 / np.sqrt(eigvals + epsilon))\n",
    "    whitening_matrix = eigvecs @ D_inv_sqrt @ eigvecs.T\n",
    "\n",
    "    xPCAwhite = (whitening_matrix @ data_centered.T).T\n",
    "\n",
    "    return xPCAwhite\n",
    "\n",
    "\n",
    "def zca_whitening(data, epsilon=1e-5):\n",
    "    '''\n",
    "    ZCA whitening\n",
    "    \n",
    "    Args:\n",
    "        data: array-like data\n",
    "        epsilon: small value to avoid division by zero\n",
    "\n",
    "    Returns:\n",
    "        out: array-like data zca whitened\n",
    "\n",
    "    \n",
    "    '''\n",
    "    # Data needs to have 0 mean\n",
    "    data_mean = np.mean(data, axis=0)\n",
    "    data_mean0 = data - data_mean\n",
    "\n",
    "    # If the data has 0 mean, then we calculate the covariance matrix\n",
    "    # rowvar=False means that each row is an observation\n",
    "    cov_matrix = np.cov(data_mean0, rowvar=False)\n",
    "\n",
    "    # Calculate the eigenvalues and the eigenvectors\n",
    "    eigvals, eigvecs = np.linalg.eigh(cov_matrix)\n",
    "\n",
    "    # Sort the eigenvalues and eigenvectors\n",
    "    idx = np.argsort(eigvals)[::-1]\n",
    "    eigvals = eigvals[idx]\n",
    "    eigvecs = eigvecs[:, idx]\n",
    "\n",
    "    # Calculate x_rot and x_tilde\n",
    "    x_rot = np.dot(data_mean0, eigvecs)\n",
    "\n",
    "    # Whitening matrix: U * D^{-1/2} * U.T\n",
    "    D_inv_sqrt = np.diag(1.0 / np.sqrt(eigvals + epsilon))\n",
    "    whitening_matrix = eigvecs @ D_inv_sqrt @ eigvecs.T\n",
    "\n",
    "    # Apply whitening\n",
    "    xZCAwhite = data_mean0 @ whitening_matrix\n",
    "    \n",
    "    return xZCAwhite"
   ]
  },
  {
   "cell_type": "markdown",
   "id": "5605e76e",
   "metadata": {},
   "source": [
    "## PCA Dewhitening and ZCA Dewhitening"
   ]
  },
  {
   "cell_type": "code",
   "execution_count": null,
   "id": "8480cef6",
   "metadata": {},
   "outputs": [],
   "source": [
    "def inverse_pca_whitening(original_data, whitened_data, epsilon=1e-5):\n",
    "    '''\n",
    "    Inverse PCA whitening\n",
    "\n",
    "    Args:\n",
    "        original_data: original data\n",
    "        whitened_data: whitened data\n",
    "        epsilon: small value to avoid division by zero\n",
    "\n",
    "    Returns:\n",
    "        out: array-like data in original feature space\n",
    "    \n",
    "    '''\n",
    "    # Data needs to have 0 mean\n",
    "    data_mean = np.mean(original_data, axis=0)\n",
    "    data_centered = original_data - data_mean\n",
    "\n",
    "    # If the data has 0 mean, then we calculate the covariance matrix\n",
    "    # rowvar=False means that each row is an observation\n",
    "    cov_matrix = np.cov(data_centered, rowvar=False)\n",
    "\n",
    "    # Calculate the eigenvalues and the eigenvectors\n",
    "    eigvals, eigvecs = np.linalg.eigh(cov_matrix)\n",
    "\n",
    "    # Sort the eigenvalues and eigenvectors\n",
    "    idx = np.argsort(eigvals)[::-1]\n",
    "    eigvals = eigvals[idx]\n",
    "    eigvecs = eigvecs[:, idx]\n",
    "\n",
    "    D_sqrt = np.diag(np.sqrt(eigvals + epsilon))\n",
    "\n",
    "    \n",
    "    # Calculate the inverse of the PCA whitening matrix\n",
    "    X_centered = whitened_data @ ((eigvecs @ D_sqrt @ eigvecs.T))\n",
    "    \n",
    "    x_dewhitened = X_centered + data_mean.values\n",
    "\n",
    "    return x_dewhitened\n",
    "\n",
    "\n",
    "def inverse_zca_whitening(original_data, whitened_data, epsilon=1e-5):\n",
    "    '''\n",
    "    Inverse ZCA whitening\n",
    "    \n",
    "    Args:\n",
    "        data: array-like data\n",
    "        epsilon: small value to avoid division by zero\n",
    "\n",
    "    Returns:\n",
    "        out: array-like data in original feature space\n",
    "\n",
    "    \n",
    "    '''\n",
    "    # Data needs to have 0 mean\n",
    "    data_mean = np.mean(original_data, axis=0)\n",
    "    data_mean0 = original_data - data_mean\n",
    "\n",
    "    # If the data has 0 mean, then we calculate the covariance matrix\n",
    "    # rowvar=False means that each row is an observation\n",
    "    cov_matrix = np.cov(data_mean0, rowvar=False)\n",
    "\n",
    "    # Calculate the eigenvalues and the eigenvectors\n",
    "    eigvals, eigvecs = np.linalg.eigh(cov_matrix)\n",
    "\n",
    "    # Sort the eigenvalues and eigenvectors\n",
    "    idx = np.argsort(eigvals)[::-1]\n",
    "    eigvals = eigvals[idx]\n",
    "    eigvecs = eigvecs[:, idx]\n",
    "\n",
    "    # Calculate the inverse of the ZCA whitening matrix\n",
    "    D = np.diag(np.sqrt(eigvals + epsilon))\n",
    "    inverse_zca_matrix = eigvecs @ D @ eigvecs.T\n",
    "\n",
    "    # Apply inverse transform and add mean back\n",
    "    x_orig = (inverse_zca_matrix @ whitened_data.T).T + data_mean.values\n",
    "\n",
    "    return x_orig\n"
   ]
  },
  {
   "cell_type": "markdown",
   "id": "0ce4a3ca",
   "metadata": {},
   "source": [
    "# Import DES + VIKING + CATWISE match catalog"
   ]
  },
  {
   "cell_type": "markdown",
   "id": "f6125784",
   "metadata": {},
   "source": [
    "Import the matched catalog from NWAY and convert it to a Pandas DataFrame."
   ]
  },
  {
   "cell_type": "code",
   "execution_count": 6,
   "id": "5f3985f5",
   "metadata": {},
   "outputs": [],
   "source": [
    "# RADIUS (3''), DESY6GOLD (0.1''), VIKINGDR4 (0.1''), CATWISE2020 (0.2''), No MAGNITUDES\n",
    "# For a false detection rate of <10% \n",
    "# p_i>=0.1 & match_flag==1 & p_any>0.81\n",
    "matched_no_mags_path = directory + 'cross_match/without_EMU/DESY6_VKG_CAT_noMags/DESY6_VKG_CAT_noMags.fits'\n",
    "matched_no_mags = Table.read(matched_no_mags_path)\n",
    "matched_no_mags = matched_no_mags.to_pandas()"
   ]
  },
  {
   "cell_type": "markdown",
   "id": "842940c5",
   "metadata": {},
   "source": [
    "Filter using NWAY recomendations"
   ]
  },
  {
   "cell_type": "code",
   "execution_count": 9,
   "id": "cef8fdc1",
   "metadata": {},
   "outputs": [
    {
     "name": "stdout",
     "output_type": "stream",
     "text": [
      "Number of objects in the catalog 12000\n"
     ]
    }
   ],
   "source": [
    "# Here we filter the NWAY catalog to keep only the best objects\n",
    "\n",
    "# From NWAY\n",
    "# Filter the catalog based on the match_flag and p_i, p_any values\n",
    "match_mask = (matched_no_mags['match_flag'] == 1) & (matched_no_mags['p_i'] >= 0.1) & (matched_no_mags['p_any'] >= 0.81)\n",
    "catalog_matches_noMags = matched_no_mags[match_mask]\n",
    "print(f'Number of objects in the catalog {len(catalog_matches_noMags)}')"
   ]
  },
  {
   "cell_type": "markdown",
   "id": "f726e7cd",
   "metadata": {},
   "source": [
    "Select the objects that have matches in the two surveys"
   ]
  },
  {
   "cell_type": "code",
   "execution_count": 10,
   "id": "93978215",
   "metadata": {},
   "outputs": [
    {
     "name": "stdout",
     "output_type": "stream",
     "text": [
      "Number of objects in the catalog that have matches in the two surveys 4879\n"
     ]
    }
   ],
   "source": [
    "# Here we select objects that have matches in all three surveys\n",
    "full_match_mask = ((catalog_matches_noMags['VKG_sourceID'] != -99) & (catalog_matches_noMags['CAT_source_id'] != b'-99'))\n",
    "catalog_matches_noMags_full = catalog_matches_noMags[full_match_mask]\n",
    "print(f'Number of objects in the catalog that have matches in the two surveys {len(catalog_matches_noMags_full)}')"
   ]
  },
  {
   "cell_type": "markdown",
   "id": "b27f586d",
   "metadata": {},
   "source": [
    "Select the features used in the SOM"
   ]
  },
  {
   "cell_type": "code",
   "execution_count": null,
   "id": "ba5469d0",
   "metadata": {},
   "outputs": [],
   "source": [
    "som_columns = ['DESY6_mag_auto_g_extcorr',\n",
    "                   'VKG_mag_petro_y_ab_extcorr',\n",
    "                   'CAT_w1mpro_ab',\n",
    "                   'DESY6_g_r_extcorr', \n",
    "                   'DESY6_r_i_extcorr', \n",
    "                   'DESY6_i_z_extcorr', \n",
    "                   'VKG_y_j_petro_extcorr', \n",
    "                   'VKG_j_h_petro_extcorr', \n",
    "                   'VKG_h_ks_petro_extcorr', \n",
    "                   'CAT_w1_w2_ab', \n",
    "                   'DESY6_spread_model_g']\n",
    "\n",
    "catalog_som = catalog_matches_noMags_full[som_columns]"
   ]
  },
  {
   "cell_type": "markdown",
   "id": "5f6801dd",
   "metadata": {},
   "source": [
    "Filter for objects that have full photometric coverage in all the bands"
   ]
  },
  {
   "cell_type": "code",
   "execution_count": null,
   "id": "ed9f4f0e",
   "metadata": {},
   "outputs": [],
   "source": [
    "# All the photometric values that weren't detected are nans\n",
    "catalog_som = catalog_som.dropna()\n",
    "\n",
    "print(len(catalog_som))\n",
    "catalog_som.describe()"
   ]
  },
  {
   "cell_type": "markdown",
   "id": "a926addf",
   "metadata": {},
   "source": [
    "# Perform ZCA Whitening"
   ]
  },
  {
   "cell_type": "markdown",
   "id": "670abf9d",
   "metadata": {},
   "source": [
    "Correlation matrix for original data"
   ]
  },
  {
   "cell_type": "code",
   "execution_count": null,
   "id": "2c91383e",
   "metadata": {},
   "outputs": [],
   "source": [
    "correlation_matrix_original = catalog_som.corr(method='pearson')\n",
    "plt.figure(figsize = (9,8))\n",
    "sns.heatmap(correlation_matrix_original, annot=True, fmt=\".2f\", cmap='coolwarm', center=0, square=True,\n",
    "            linewidths=0.5, cbar_kws={\"shrink\": 0.75})\n",
    "\n",
    "plt.title(\"Pearson Correlation Matrix for Original Data\")\n",
    "plt.xticks(rotation=90)\n",
    "plt.yticks(rotation=0)\n",
    "plt.tight_layout()\n",
    "plt.show()"
   ]
  },
  {
   "cell_type": "markdown",
   "id": "bd4771ce",
   "metadata": {},
   "source": [
    "Correlation matrix for ZCA whitened data"
   ]
  },
  {
   "cell_type": "code",
   "execution_count": null,
   "id": "26cb5337",
   "metadata": {},
   "outputs": [],
   "source": [
    "# Save the original training data to an CSV file for easier access\n",
    "data_path = '/home/polaris/Lab_Astro/data/soms/maps1/EMU_0102-32_DESY6GOLD_VIKINGDR5_CATWISE_noMag_original.csv'\n",
    "data.to_csv(data_path, index=False)\n",
    "\n",
    "\n",
    "# ZCA Whiten the data\n",
    "data_white = zca_whitening(data)\n",
    "\n",
    "# Keep the column labels\n",
    "data_white.columns = som_columns[:data_white.shape[1]]\n",
    "\n",
    "# Save the ZCA Whitened to an CSV file for easier access\n",
    "data_white_path = '/home/polaris/Lab_Astro/data/soms/maps1/EMU_0102-32_DESY6GOLD_VIKINGDR5_CATWISE_noMag_zcaWhite.csv'\n",
    "data_white.to_csv(data_white_path, index=False)\n",
    "\n",
    "# Calculate and plot the correlation matrix for the ZCA Whitened data\n",
    "correlation_matrix_whitened = data_white.corr(method='pearson')\n",
    "plt.figure(figsize=(10, 10))\n",
    "sns.heatmap(correlation_matrix_whitened, annot=True, fmt=\".2f\", cmap='coolwarm', center=0, square=True,\n",
    "            linewidths=0.5, cbar_kws={\"shrink\": 0.75})\n",
    "\n",
    "plt.title(\"Pearson Correlation Matrix ZCA Whitened Data\")\n",
    "plt.xticks(rotation=90)\n",
    "plt.yticks(rotation=0)\n",
    "plt.tight_layout()\n",
    "plt.show()"
   ]
  },
  {
   "cell_type": "markdown",
   "id": "6e730f3a",
   "metadata": {},
   "source": [
    "# Generate the SOMs"
   ]
  },
  {
   "cell_type": "markdown",
   "id": "5eab520f",
   "metadata": {},
   "source": [
    "## Define the SOM topology"
   ]
  },
  {
   "cell_type": "code",
   "execution_count": null,
   "id": "bd4b263f",
   "metadata": {},
   "outputs": [],
   "source": [
    "# SOM topology (lattice size)\n",
    "\n",
    "data_white = np.array(data_white)\n",
    "\n",
    "# Number of sources in our dataframe\n",
    "inputdata_size = len(data_white)\n",
    "\n",
    "# From Kohonen, the optimal ratio of height to width of the lattice\n",
    "# is equal to the ratio of the two largest eigenvalue of the autocorrelation matrix\n",
    "cov_matrix = np.cov(data_white, rowvar=False)\n",
    "eigen_values = np.linalg.eigvals(cov_matrix)\n",
    "eigen_values_sorted = np.sort(eigen_values)[::-1]\n",
    "ratio_eigenvalues = eigen_values_sorted[0] / eigen_values_sorted[1]\n",
    "\n",
    "# From Kohonen, the number of nodes is 5*sqrt(n), where n is the number of data points\n",
    "som_dim = int(np.sqrt(inputdata_size) * 5)\n",
    "\n",
    "# The number of nodes in the x and y direction\n",
    "som_x = int(np.sqrt(som_dim * ratio_eigenvalues))\n",
    "som_y = int(som_x / ratio_eigenvalues)\n",
    "\n",
    "#=================================================================\n",
    "\n",
    "# Resize the SOM map by applying a scaling factor that maintains the aspect ratio\n",
    "\n",
    "scaling_factor = 2  # Change this factor to resize the map\n",
    "\n",
    "# Apply scaling to the x dimension, and calculate y dimension based on ratio\n",
    "som_x_resized = int(som_x * scaling_factor)\n",
    "som_y_resized = int(som_x_resized / ratio_eigenvalues)  # Keep the same ratio of eigenvalues\n",
    "\n",
    "#=================================================================\n",
    "\n",
    "# Print the results\n",
    "print('Dimension of the SOM: ', som_dim)\n",
    "print('Square SOM map size ', np.round(np.sqrt(som_dim)))\n",
    "print('Ratio of the two largest eigenvalues: ', int(ratio_eigenvalues))\n",
    "print('SOM map size using eigenvalues: ', som_x, 'x', som_y)\n",
    "\n",
    "print('Resized SOM map size using eigenvalues: ', som_x_resized, 'x', som_y_resized)"
   ]
  },
  {
   "cell_type": "markdown",
   "id": "95820eed",
   "metadata": {},
   "source": [
    "## Run the SOM"
   ]
  },
  {
   "cell_type": "code",
   "execution_count": null,
   "id": "6a810fa1",
   "metadata": {},
   "outputs": [],
   "source": [
    "# Define the SOM\n",
    "som = sps.SOMNet(\n",
    "    som_x,\n",
    "    som_y,\n",
    "    data_white,\n",
    "    load_file = None,\n",
    "    metric = 'euclidean', # 'euclidian' or 'cosine' or 'manhattan'\n",
    "    # metrick_kwds={},\n",
    "    init = 'random' , # 'random' or 'pca'\n",
    "    PBC = True,\n",
    "    GPU = False,\n",
    "    random_seed = 6942,\n",
    "    topology='hexagonal', # 'square' or 'hexagonal'\n",
    "    debug= True,\n",
    "    output_path = '/home/polaris/Lab_Astro/data/soms/maps4/epoch_files'\n",
    ")\n",
    "\n",
    "# Train the SOM\n",
    "som.train(\n",
    "    train_algo = 'batch', \n",
    "    epochs = 100,\n",
    "    # start_learning_rate = 0.01 , # Used only for online training\n",
    "    early_stop = None ,\n",
    "    early_stop_patience = 3 ,\n",
    "    early_stop_tolerance = 0.01 ,\n",
    "    batch_size = -1\n",
    ")"
   ]
  },
  {
   "cell_type": "markdown",
   "id": "ba9a0bee",
   "metadata": {},
   "source": [
    "## Quality check: Quantization Error and Topographic Error"
   ]
  },
  {
   "cell_type": "code",
   "execution_count": 7,
   "id": "4933f1e2",
   "metadata": {},
   "outputs": [],
   "source": [
    "quantization_error_list = [16.73721694946289, 2.8538708686828613, 2.8346457481384277, 2.817385196685791, 2.8009862899780273, 2.788602828979492, 2.777346611022949, 2.767371416091919, 2.757256507873535, 2.7473373413085938, 2.7368361949920654, 2.7259304523468018, 2.7143826484680176, 2.702284336090088, 2.689603090286255, 2.676363229751587, 2.662564992904663, 2.6481943130493164,2.633239507675171,2.6176836490631104,2.601508855819702, 2.5846917629241943,2.5672237873077393,2.5490834712982178,2.5302553176879883,2.510720729827881,2.490475654602051,2.4695394039154053, 2.4479317665100098, 2.4256763458251953, 2.402820587158203, 2.3794214725494385, 2.355565309524536, 2.331327199935913]\n",
    "topographic_error_list = [1.0, 0.041102589689299474, 0.23366567820686424, 0.15733754724394977, 0.07837477985803498, 0.1348611586181162, 0.09468860689358838, 0.09468860689358838,  0.1292950651450605, 0.1110307025602899, 0.12890495803521707, 0.12338974809822789, 0.13147457660657702, 0.13153394073198799, 0.1350166360894306, 0.13651204667716377, 0.13850498517310295, 0.13874809540097643, 0.13969226768132204, 0.1399325510460807, 0.14074386076003043, 0.14095870235675578, 0.14082301292724497, 0.14123856180512173, 0.14196223876251235, 0.14301948556745037, 0.14407107864615876, 0.14533468645847758, 0.14718345493556162, 0.14856579099870248, 0.14977286154872527, 0.1508159740380891, 0.15214742656516345, 0.15243859346598865]"
   ]
  },
  {
   "cell_type": "code",
   "execution_count": 8,
   "id": "7860b88b",
   "metadata": {},
   "outputs": [
    {
     "name": "stdout",
     "output_type": "stream",
     "text": [
      "34\n",
      "34\n"
     ]
    },
    {
     "data": {
      "image/png": "[encoded data removed]",
      "text/plain": [
       "<Figure size 1000x500 with 2 Axes>"
      ]
     },
     "metadata": {},
     "output_type": "display_data"
    }
   ],
   "source": [
    "print(len(quantization_error_list))\n",
    "print(len(topographic_error_list))\n",
    "\n",
    "fig, ax1 = plt.subplots(figsize=(10, 5))\n",
    "\n",
    "# Plot Quantization Error on the primary y-axis\n",
    "ax1.plot(quantization_error_list, label='Quantization Error', color='blue')\n",
    "ax1.set_xlabel('Epoch')\n",
    "ax1.set_ylabel('Quantization Error', color='blue')\n",
    "ax1.tick_params(axis='y', labelcolor='blue')\n",
    "ax1.tick_params(axis='x', labelcolor='black')\n",
    "ax1.grid()\n",
    "\n",
    "# Create a secondary y-axis for Topographic Error\n",
    "ax2 = ax1.twinx()\n",
    "ax2.plot(topographic_error_list, label='Topographic Error', color='red')\n",
    "ax2.set_ylabel('Topographic Error', color='red')\n",
    "ax1.tick_params(axis='x', labelcolor='black')\n",
    "ax2.tick_params(axis='y', labelcolor='red')\n",
    "\n",
    "plt.title('Quantization Error and Topographic Error (17x16, ZCA Whitening, 100 Epochs)')\n",
    "fig.tight_layout()\n",
    "plt.show()"
   ]
  },
  {
   "cell_type": "markdown",
   "id": "515ab43a",
   "metadata": {},
   "source": [
    "## Prototypes"
   ]
  },
  {
   "cell_type": "markdown",
   "id": "861d22fe",
   "metadata": {},
   "source": [
    "Select the best epoch - lowest quantization error and topographic error and plot the U matrix"
   ]
  },
  {
   "cell_type": "code",
   "execution_count": null,
   "id": "5a3c83cd",
   "metadata": {},
   "outputs": [],
   "source": []
  },
  {
   "cell_type": "markdown",
   "id": "f6bf7a66",
   "metadata": {},
   "source": [
    "### Prototype maps after dewhitening"
   ]
  },
  {
   "cell_type": "code",
   "execution_count": null,
   "id": "2f5b3541",
   "metadata": {},
   "outputs": [],
   "source": []
  },
  {
   "cell_type": "markdown",
   "id": "406840dc",
   "metadata": {},
   "source": [
    "### Comparison of prototype values with original values"
   ]
  },
  {
   "cell_type": "code",
   "execution_count": null,
   "id": "1e253114",
   "metadata": {},
   "outputs": [],
   "source": [
    "num_cols = 6\n",
    "num_rows = 3        \n",
    "fig, axes = plt.subplots(nrows=num_rows, ncols=num_cols, figsize=(12, 6))\n",
    "axes = axes.flatten()  # Flatten the 2D array of axes for easy indexing\n",
    "\n",
    "for i, col in enumerate(som_columns):\n",
    "    if i < len(axes):\n",
    "        ax = axes[i]\n",
    "        original_data = catalog_som[col]\n",
    "        som_column_data = [weights_dewhitened[row][som_columns.index(col)] for row in range(len(weights_dewhitened))]\n",
    "\n",
    "        # Histogram of the original data\n",
    "        ax.hist(original_data, weights=np.ones(len(original_data)) / len(original_data), bins=100, alpha=0.6, label='Original Data', color='skyblue')\n",
    "\n",
    "        # Histogram of the dewhitened prototypes\n",
    "        ax.hist(som_column_data, weights=np.ones(len(som_column_data)) / len(som_column_data), bins=100, alpha=0.6, label='SOM Prototypes', color='red')\n",
    "\n",
    "        # Kolmogorov-Smirnov test: how similar are the distributions?\n",
    "        ks_statistic, p_value = kstest(original_data, som_column_data)\n",
    "        ax.set_title(f'{col}\\nKS Statistic: {ks_statistic:.2f}, p-value: {p_value:.3f}', fontsize=8)\n",
    "\n",
    "\n",
    "        ax.set_xlabel('Values', fontsize=7)\n",
    "        ax.set_ylabel('Probability Density', fontsize=7)\n",
    "        ax.legend(fontsize=6)\n",
    "        ax.grid(True, alpha=0.5)\n",
    "        ax.tick_params(axis='both', which='major', labelsize=5)\n",
    "\n",
    "# Remove any unused subplots\n",
    "if len(som_columns) < len(axes):\n",
    "    for j in range(len(som_columns), len(axes)):\n",
    "        fig.delaxes(axes[j])\n",
    "\n",
    "plt.tight_layout()\n",
    "plt.show()"
   ]
  },
  {
   "cell_type": "markdown",
   "id": "f5be0aa8",
   "metadata": {},
   "source": [
    "### Photometry of prototypes"
   ]
  },
  {
   "cell_type": "markdown",
   "id": "672cfc23",
   "metadata": {},
   "source": [
    "Find the data points for each node and construct a dictionary for each."
   ]
  },
  {
   "cell_type": "code",
   "execution_count": null,
   "id": "b8f593d0",
   "metadata": {},
   "outputs": [],
   "source": [
    "# simpsom.network.SOMNode object at 'hexcode'\n",
    "nodes = best_som.nodes_list\n",
    "\n",
    "print(nodes)\n",
    "bmus = best_som.find_bmu_ix(data_white)\n",
    "print(bmus)\n",
    "\n",
    "nodes_data_dict = {}\n",
    "\n",
    "# Key= node object, Value = data index\n",
    "for node in nodes:\n",
    "    node_indices = [idx for idx in range(len(data_white)) if nodes[bmus[idx]] == node]\n",
    "    nodes_data_dict[node] = node_indices\n",
    "\n",
    "print(nodes_data_dict)"
   ]
  },
  {
   "cell_type": "markdown",
   "id": "2c5f2520",
   "metadata": {},
   "source": [
    "Convert the colors to fluxes, define the errors as the median value of the errors of the data points"
   ]
  },
  {
   "cell_type": "code",
   "execution_count": null,
   "id": "fbdb670b",
   "metadata": {},
   "outputs": [],
   "source": [
    "# Create a dataframe with the weights for easier access\n",
    "all_weights = [[node.weights[feature_idx] for feature_idx in range(len(som_columns))] for node in som.nodes_list]\n",
    "\n",
    "prototypes_df = pd.DataFrame(all_weights, som_columns)\n",
    "\n",
    "######################################################################################################################################\n",
    "prototypes_df['id'] = ['node ' + str(idx) for idx in range(len(all_weights))]\n",
    "prototypes_df['redshift'] = [-1 for _ in range(len(all_weights))]\n",
    "\n",
    "######################################################################################################################################\n",
    "# Convert the colors to magnitudes and then to fluxes\n",
    "# DES\n",
    "prototypes_df['ctio.decam.g'] = 10 ** (6.56-0.4 * [])\n",
    "prototypes_df['ctio.decam.r'] = 10 ** (6.56-0.4 * [])\n",
    "prototypes_df['ctio.decam.i'] = 10 ** (6.56-0.4 * [])\n",
    "prototypes_df['ctio.decam.z'] = 10 ** (6.56-0.4 * [])\n",
    "\n",
    "# VIKING\n",
    "prototypes_df['paranal.vircam.Y'] = 10 ** (6.56-0.4 * [])\n",
    "prototypes_df['paranal.vircam.J'] = 10 ** (6.56-0.4 * [])\n",
    "prototypes_df['paranal.vircam.H'] = 10 ** (6.56-0.4 * [])\n",
    "prototypes_df['paranal.vircam.Ks'] = 10 ** (6.56-0.4 * [])\n",
    "\n",
    "# CATWISE\n",
    "prototypes_df['wise.W1'] = 10 ** (6.56-0.4 * [])\n",
    "prototypes_df['wise.W2'] = 10 ** (6.56-0.4 * [])\n",
    "\n",
    "######################################################################################################################################\n",
    "# Calculate the errors (10% of the fluxes)\n",
    "# DES\n",
    "prototypes_df['ctio.decam.g_err'] = prototypes_df['ctio.decam.g'] * 0.1\n",
    "prototypes_df['ctio.decam.r_err'] = prototypes_df['ctio.decam.r'] * 0.1\n",
    "prototypes_df['ctio.decam.i_err'] = prototypes_df['ctio.decam.i'] * 0.1\n",
    "prototypes_df['ctio.decam.z_err'] = prototypes_df['ctio.decam.z'] * 0.1\n",
    "\n",
    "# VIKING\n",
    "prototypes_df['paranal.vircam.Y_err'] = prototypes_df['paranal.vircam.Y'] * 0.1\n",
    "prototypes_df['paranal.vircam.J_err'] = prototypes_df['paranal.vircam.J'] * 0.1\n",
    "prototypes_df['paranal.vircam.H_err'] = prototypes_df['paranal.vircam.H'] * 0.1\n",
    "prototypes_df['paranal.vircam.Ks_err'] = prototypes_df['paranal.vircam.Ks'] * 0.1\n",
    "\n",
    "# CATWISE\n",
    "prototypes_df['wise.W1_err'] = prototypes_df['wise.W1'] * 0.1\n",
    "prototypes_df['wise.W2_err'] = prototypes_df['wise.W2'] * 0.1\n",
    "\n",
    "######################################################################################################################################\n",
    "# Save the dataframe\n",
    "prototypes_file_path = directory + 'soms/maps1/prototypes.fit'\n",
    "prototypes_table = Table.from_pandas(prototypes_df)\n",
    "prototypes_table.write('', overwrite=True)"
   ]
  }
 ],
 "metadata": {
  "kernelspec": {
   "display_name": "labastro",
   "language": "python",
   "name": "python3"
  },
  "language_info": {
   "codemirror_mode": {
    "name": "ipython",
    "version": 3
   },
   "file_extension": ".py",
   "mimetype": "text/x-python",
   "name": "python",
   "nbconvert_exporter": "python",
   "pygments_lexer": "ipython3",
   "version": "3.10.16"
  }
 },
 "nbformat": 4,
 "nbformat_minor": 5
}
