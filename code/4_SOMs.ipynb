{
 "cells": [
  {
   "cell_type": "markdown",
   "metadata": {},
   "source": [
    "# Self Organized Maps (SOMs)"
   ]
  },
  {
   "cell_type": "markdown",
   "metadata": {},
   "source": [
    "## Import Libraries"
   ]
  },
  {
   "cell_type": "code",
   "execution_count": null,
   "metadata": {},
   "outputs": [],
   "source": [
    "import matplotlib.pyplot as plt\n",
    "import matplotlib.colors as mcolors\n",
    "\n",
    "import numpy as np\n",
    "import pandas as pd\n",
    "\n",
    "# SimpSOM, https://simpsom.readthedocs.io\n",
    "import simpsom as sps\n",
    "# from simpsom.plots import scatter_on_map\n",
    "\n",
    "# Astropy\n",
    "from astropy.table import Table\n",
    "\n",
    "# CuPY\n",
    "import cupy as cp"
   ]
  },
  {
   "cell_type": "markdown",
   "metadata": {},
   "source": [
    "## PCA Whitening and ZPCA Whitening"
   ]
  },
  {
   "cell_type": "markdown",
   "metadata": {},
   "source": [
    "[Link to Explanation](http://ufldl.stanford.edu/tutorial/unsupervised/PCAWhitening/)\n",
    "\n",
    "[Link to Visualization](https://setosa.io/ev/principal-component-analysis/)"
   ]
  },
  {
   "cell_type": "code",
   "execution_count": null,
   "metadata": {},
   "outputs": [],
   "source": [
    "def pca_whitening(data, epsilon=1e-5):\n",
    "    '''\n",
    "    PCA whitening\n",
    "\n",
    "    Args:\n",
    "        data: array-like data\n",
    "        epsilon: small value to avoid division by zero\n",
    "\n",
    "    Returns:\n",
    "        out: array-like data pca whitened\n",
    "    \n",
    "    '''\n",
    "    # Data needs to have 0 mean\n",
    "    data_mean = np.mean(data, axis=0)\n",
    "    data_centered = data - data_mean\n",
    "\n",
    "    # If the data has 0 mean, then we calculate the covariance matrix\n",
    "    # rowvar=False means that each row is an observation\n",
    "    cov_matrix = np.cov(data_centered, rowvar=False)\n",
    "\n",
    "    # Calculate the eigenvalues and the eigenvectors\n",
    "    eigvals, eigvecs = np.linalg.eigh(cov_matrix)\n",
    "\n",
    "    # Sort the eigenvalues and eigenvectors\n",
    "    idx = np.argsort(eigvals)[::-1]\n",
    "    eigvals = eigvals[idx]\n",
    "    eigvecs = eigvecs[:, idx]\n",
    "\n",
    "  \n",
    "    D_inv_sqrt = np.diag(1.0 / np.sqrt(eigvals + epsilon))\n",
    "    whitening_matrix = eigvecs @ D_inv_sqrt @ eigvecs.T\n",
    "\n",
    "    xPCAwhite = (whitening_matrix @ data_centered.T).T\n",
    "\n",
    "    return xPCAwhite\n",
    "\n",
    "\n",
    "def zca_whitening(data, epsilon=1e-5):\n",
    "    '''\n",
    "    ZCA whitening\n",
    "    \n",
    "    Args:\n",
    "        data: array-like data\n",
    "        epsilon: small value to avoid division by zero\n",
    "\n",
    "    Returns:\n",
    "        out: array-like data zca whitened\n",
    "\n",
    "    \n",
    "    '''\n",
    "    # Data needs to have 0 mean\n",
    "    data_mean = np.mean(data, axis=0)\n",
    "    data_mean0 = data - data_mean\n",
    "\n",
    "    # If the data has 0 mean, then we calculate the covariance matrix\n",
    "    # rowvar=False means that each row is an observation\n",
    "    cov_matrix = np.cov(data_mean0, rowvar=False)\n",
    "\n",
    "    # Calculate the eigenvalues and the eigenvectors\n",
    "    eigvals, eigvecs = np.linalg.eigh(cov_matrix)\n",
    "\n",
    "    # Sort the eigenvalues and eigenvectors\n",
    "    idx = np.argsort(eigvals)[::-1]\n",
    "    eigvals = eigvals[idx]\n",
    "    eigvecs = eigvecs[:, idx]\n",
    "\n",
    "    # Calculate x_rot and x_tilde\n",
    "    x_rot = np.dot(data_mean0, eigvecs)\n",
    "\n",
    "    # Whitening matrix: U * D^{-1/2} * U.T\n",
    "    D_inv_sqrt = np.diag(1.0 / np.sqrt(eigvals + epsilon))\n",
    "    whitening_matrix = eigvecs @ D_inv_sqrt @ eigvecs.T\n",
    "\n",
    "    # Apply whitening\n",
    "    xZCAwhite = data_mean0 @ whitening_matrix\n",
    "    \n",
    "    return xZCAwhite"
   ]
  },
  {
   "cell_type": "code",
   "execution_count": null,
   "metadata": {},
   "outputs": [],
   "source": [
    "def inverse_pca_whitening(original_data, whitened_data, epsilon=1e-5):\n",
    "    '''\n",
    "    Inverse PCA whitening\n",
    "\n",
    "    Args:\n",
    "        original_data: original data\n",
    "        whitened_data: whitened data\n",
    "        epsilon: small value to avoid division by zero\n",
    "\n",
    "    Returns:\n",
    "        out: array-like data in original feature space\n",
    "    \n",
    "    '''\n",
    "    # Data needs to have 0 mean\n",
    "    data_mean = np.mean(original_data, axis=0)\n",
    "    data_centered = original_data - data_mean\n",
    "\n",
    "    # If the data has 0 mean, then we calculate the covariance matrix\n",
    "    # rowvar=False means that each row is an observation\n",
    "    cov_matrix = np.cov(data_centered, rowvar=False)\n",
    "\n",
    "    # Calculate the eigenvalues and the eigenvectors\n",
    "    eigvals, eigvecs = np.linalg.eigh(cov_matrix)\n",
    "\n",
    "    # Sort the eigenvalues and eigenvectors\n",
    "    idx = np.argsort(eigvals)[::-1]\n",
    "    eigvals = eigvals[idx]\n",
    "    eigvecs = eigvecs[:, idx]\n",
    "\n",
    "    D_sqrt = np.diag(np.sqrt(eigvals + epsilon))\n",
    "\n",
    "    \n",
    "    # Calculate the inverse of the PCA whitening matrix\n",
    "    X_centered = whitened_data @ ((eigvecs @ D_sqrt @ eigvecs.T))\n",
    "    \n",
    "    x_dewhitened = X_centered + data_mean.values\n",
    "\n",
    "    return x_dewhitened\n",
    "\n",
    "\n",
    "def inverse_zca_whitening(original_data, whitened_data, epsilon=1e-5):\n",
    "    '''\n",
    "    Inverse ZCA whitening\n",
    "    \n",
    "    Args:\n",
    "        data: array-like data\n",
    "        epsilon: small value to avoid division by zero\n",
    "\n",
    "    Returns:\n",
    "        out: array-like data in original feature space\n",
    "\n",
    "    \n",
    "    '''\n",
    "    # Data needs to have 0 mean\n",
    "    data_mean = np.mean(original_data, axis=0)\n",
    "    data_mean0 = original_data - data_mean\n",
    "\n",
    "    # If the data has 0 mean, then we calculate the covariance matrix\n",
    "    # rowvar=False means that each row is an observation\n",
    "    cov_matrix = np.cov(data_mean0, rowvar=False)\n",
    "\n",
    "    # Calculate the eigenvalues and the eigenvectors\n",
    "    eigvals, eigvecs = np.linalg.eigh(cov_matrix)\n",
    "\n",
    "    # Sort the eigenvalues and eigenvectors\n",
    "    idx = np.argsort(eigvals)[::-1]\n",
    "    eigvals = eigvals[idx]\n",
    "    eigvecs = eigvecs[:, idx]\n",
    "\n",
    "    # Calculate the inverse of the ZCA whitening matrix\n",
    "    D = np.diag(np.sqrt(eigvals + epsilon))\n",
    "    inverse_zca_matrix = eigvecs @ D @ eigvecs.T\n",
    "\n",
    "    # Apply inverse transform and add mean back\n",
    "    x_orig = (inverse_zca_matrix @ whitened_data.T).T + data_mean.values\n",
    "\n",
    "    return x_orig\n"
   ]
  },
  {
   "cell_type": "markdown",
   "metadata": {},
   "source": [
    "## Catalogs Matched Without Magnitudes in NWAY"
   ]
  },
  {
   "cell_type": "markdown",
   "metadata": {},
   "source": [
    "Import the catalog"
   ]
  },
  {
   "cell_type": "code",
   "execution_count": null,
   "metadata": {},
   "outputs": [],
   "source": [
    "# RADIUS (3''), EMU (1''), DESY6GOLD (0.1''), VIKINGDR5 (0.1''), CATWISE2020 (0.2''), No MAGNITUDES\n",
    "# For a false detection rate of <10% \n",
    "# p_i>=0.1 & match_flag==1 & p_any>0.83\n",
    "matched_no_mags_path = '/data/mfonseca/cross_match/EMU_0102-32_DESY6GOLD_VIKING_CATWISE_noMags/EMU_0102-32_DESY6GOLD_VIKINGDR5_CATWISE_noMag.fits'\n",
    "matched_no_mags = Table.read(matched_no_mags_path)\n",
    "matched_no_mags = matched_no_mags.to_pandas()"
   ]
  },
  {
   "cell_type": "markdown",
   "metadata": {},
   "source": [
    "Filter using NWAY recomendations"
   ]
  },
  {
   "cell_type": "code",
   "execution_count": null,
   "metadata": {},
   "outputs": [
    {
     "name": "stdout",
     "output_type": "stream",
     "text": [
      "Number of objects in the catalog 11263\n"
     ]
    }
   ],
   "source": [
    "# Here we filter the NWAY catalog to keep only the best objects\n",
    "\n",
    "# From NWAY\n",
    "# Filter the catalog based on the match_flag and p_i, p_any values\n",
    "match_mask = (matched_no_mags['match_flag'] == 1) & (matched_no_mags['p_i'] >= 0.1) & (matched_no_mags['p_any'] >=0.83)\n",
    "catalog_matches_noMags = matched_no_mags[match_mask]\n",
    "print(f'Number of objects in the catalog {len(catalog_matches_noMags)}')"
   ]
  },
  {
   "cell_type": "markdown",
   "metadata": {},
   "source": [
    "Select the objects that have matches in all the three surveys"
   ]
  },
  {
   "cell_type": "code",
   "execution_count": null,
   "metadata": {},
   "outputs": [
    {
     "name": "stdout",
     "output_type": "stream",
     "text": [
      "Number of objects in the catalog that have matches in all three surveys 4207\n"
     ]
    }
   ],
   "source": [
    "# Here we select objects that have matches in all three surveys\n",
    "full_match_mask = (catalog_matches_noMags['DESY6_coadd_object_id'] != -99) & (catalog_matches_noMags['VKG_sourceID'] != -99) & (catalog_matches_noMags['CAT_source_id'] != b'-99')\n",
    "catalog_matches_noMags_full = catalog_matches_noMags[full_match_mask]\n",
    "print(f'Number of objects in the catalog that have matches in all three surveys {len(catalog_matches_noMags_full)}')"
   ]
  },
  {
   "cell_type": "markdown",
   "metadata": {},
   "source": [
    "Select the columns to run the SOMs\n",
    "\n",
    "1. Magnitudes: (DES Y6 GOLD), (VIKING DR5), (CATWISE)\n",
    "2. Features: \n",
    "3. Redshifts: BNF_z (DES Y6 GOLD)"
   ]
  },
  {
   "cell_type": "code",
   "execution_count": null,
   "metadata": {},
   "outputs": [],
   "source": [
    "# Filter the multiwavelenght catalog to keep only the columns needed\n",
    "emu_columns = ['EMU_island_id']\n",
    "\n",
    "# desdr2_mag = ['DES_mag_auto_g_dered', 'DES_mag_auto_r_dered', 'DES_mag_auto_i_dered', 'DES_mag_auto_z_dered']\n",
    "# desdr2_colors = ['DES_g_r_dered', 'DES_r_i_dered', 'DES_i_z_dered']\n",
    "\n",
    "# Technically only need one magnitude to recover the rest from the colors\n",
    "desy6gold_mag = ['DESY6_mag_auto_g_extcorr', 'DESY6_mag_auto_r_extcorr', 'DESY6_mag_auto_i_extcorr', 'DESY6_mag_auto_z_extcorr', 'DESY6_mag_auto_y_extcorr']\n",
    "desy6gold_colors = ['DESY6_g_r_extcorr', 'DESY6_r_i_extcorr', 'DESY6_i_z_extcorr', 'DESY6_z_y_extcorr']\n",
    "desy6gold_features = ['DESY6_dnf_z', 'DESY6_spread_model_g', 'DESY6_spread_model_r', 'DESY6_spread_model_i', 'DESY6_spread_model_z']\n",
    "\n",
    "viking_mag = ['VKG_zAperMag3_ab_extcorr', 'VKG_jAperMag3_ab_extcorr', 'VKG_yAperMag3_ab_extcorr', 'VKG_ksAperMag3_ab_extcorr', 'VKG_hAperMag3_ab_extcorr']\n",
    "viking_colors = ['VKG_z_y_am3_extcorr', 'VKG_y_j_am3_extcorr', 'VKG_j_h_am3_extcorr', 'VKG_h_ks_am3_extcorr']\n",
    "viking_features = ['VKG_mergedClassStat']\n",
    "\n",
    "catwise_mag = ['CAT_w1mpro_ab', 'CAT_w2mpro_ab']\n",
    "catwise_colors = ['CAT_w1_w2_ab']\n",
    "\n",
    "columns = ([desy6gold_mag[0]] + [viking_mag[0]] + [catwise_mag[0]]) + (desy6gold_colors + viking_colors + catwise_colors) + (desy6gold_features + viking_features)\n",
    "\n",
    "catalog_som = catalog_matches_noMags_full[columns]"
   ]
  },
  {
   "cell_type": "code",
   "execution_count": null,
   "metadata": {},
   "outputs": [
    {
     "data": {
      "text/plain": [
       "3838"
      ]
     },
     "execution_count": 8,
     "metadata": {},
     "output_type": "execute_result"
    }
   ],
   "source": [
    "catalog_som_clean = catalog_som[~catalog_som.isin([-999999488.0]).any(axis=1)]\n",
    "catalog_som_clean.describe()\n",
    "len(catalog_som_clean)"
   ]
  },
  {
   "cell_type": "code",
   "execution_count": null,
   "metadata": {},
   "outputs": [],
   "source": [
    "# Definine the subset of the catalog to use\n",
    "data_fraction2use = 1\n",
    "data = catalog_som_clean.sample(frac=data_fraction2use)\n",
    "\n",
    "# # Normalize the data\n",
    "# data.to_numpy()\n",
    "# data = (data - np.mean(data, axis=0)) / np.std(data, axis=0)\n",
    "# data = data.values "
   ]
  },
  {
   "cell_type": "markdown",
   "metadata": {},
   "source": [
    "### Define the topology of the SOM"
   ]
  },
  {
   "cell_type": "code",
   "execution_count": null,
   "metadata": {},
   "outputs": [
    {
     "data": {
      "image/png": "[encoded data removed]",
      "text/plain": [
       "<Figure size 640x480 with 1 Axes>"
      ]
     },
     "metadata": {},
     "output_type": "display_data"
    },
    {
     "data": {
      "image/png": "[encoded data removed]",
      "text/plain": [
       "<Figure size 640x480 with 1 Axes>"
      ]
     },
     "metadata": {},
     "output_type": "display_data"
    },
    {
     "data": {
      "image/png": "[encoded data removed]",
      "text/plain": [
       "<Figure size 640x480 with 1 Axes>"
      ]
     },
     "metadata": {},
     "output_type": "display_data"
    }
   ],
   "source": [
    "data_fraction2use = 1\n",
    "data = catalog_som_clean.sample(frac=data_fraction2use)\n",
    "\n",
    "data.to_numpy()\n",
    "\n",
    "plt.hist(data['DESY6_mag_auto_g_extcorr'], bins=100)\n",
    "plt.show()\n",
    "\n",
    "data_white = pca_whitening(data)\n",
    "\n",
    "plt.hist(data_white[0], bins=100)\n",
    "plt.show()\n",
    "\n",
    "data_dewhite = inverse_pca_whitening(data, data_white)\n",
    "plt.hist(data_dewhite[0], bins=100)\n",
    "plt.show()"
   ]
  },
  {
   "cell_type": "code",
   "execution_count": null,
   "metadata": {},
   "outputs": [
    {
     "name": "stdout",
     "output_type": "stream",
     "text": [
      "Dimension of the SOM:  309\n",
      "Square SOM map size  18.0\n",
      "Ratio of the two largest eigenvalues:  1\n",
      "SOM map size using eigenvalues:  17 x 16\n",
      "Resized SOM map size using eigenvalues:  34 x 33\n"
     ]
    }
   ],
   "source": [
    "# SOM topology (lattice size)\n",
    "\n",
    "# Number of sources in our dataframe\n",
    "inputdata_size = len(data_white)\n",
    "\n",
    "# From Kohonen, the optimal ratio of height to width of the lattice\n",
    "# is equal to the ratio of the two largest eigenvalue of the autocorrelation matrix\n",
    "cov_matrix = np.cov(data_white, rowvar=False)\n",
    "eigen_values = np.linalg.eigvals(cov_matrix)\n",
    "eigen_values_sorted = np.sort(eigen_values)[::-1]\n",
    "ratio_eigenvalues = eigen_values_sorted[0] / eigen_values_sorted[1]\n",
    "\n",
    "# From Kohonen, the number of nodes is 5*sqrt(n), where n is the number of data points\n",
    "som_dim = int(np.sqrt(inputdata_size) * 5)\n",
    "\n",
    "# The number of nodes in the x and y direction\n",
    "som_x = int(np.sqrt(som_dim * ratio_eigenvalues))\n",
    "som_y = int(som_x / ratio_eigenvalues)\n",
    "\n",
    "#=================================================================\n",
    "\n",
    "# Resize the SOM map by applying a scaling factor that maintains the aspect ratio\n",
    "\n",
    "scaling_factor = 2  # Change this factor to resize the map\n",
    "\n",
    "# Apply scaling to the x dimension, and calculate y dimension based on ratio\n",
    "som_x_resized = int(som_x * scaling_factor)\n",
    "som_y_resized = int(som_x_resized / ratio_eigenvalues)  # Keep the same ratio of eigenvalues\n",
    "\n",
    "#=================================================================\n",
    "\n",
    "# Print the results\n",
    "print('Dimension of the SOM: ', som_dim)\n",
    "print('Square SOM map size ', np.round(np.sqrt(som_dim)))\n",
    "print('Ratio of the two largest eigenvalues: ', int(ratio_eigenvalues))\n",
    "print('SOM map size using eigenvalues: ', som_x, 'x', som_y)\n",
    "\n",
    "print('Resized SOM map size using eigenvalues: ', som_x_resized, 'x', som_y_resized)"
   ]
  },
  {
   "cell_type": "markdown",
   "metadata": {},
   "source": [
    "### Run the SOM"
   ]
  },
  {
   "cell_type": "code",
   "execution_count": null,
   "metadata": {},
   "outputs": [
    {
     "name": "stderr",
     "output_type": "stream",
     "text": [
      "\u001b[32m2025-04-30 16:17:06.688\u001b[0m | \u001b[1mINFO    \u001b[0m | \u001b[36msimpsom.network\u001b[0m:\u001b[36m__init__\u001b[0m:\u001b[36m109\u001b[0m - \u001b[1mPeriodic Boundary Conditions active.\u001b[0m\n",
      "\u001b[32m2025-04-30 16:17:06.727\u001b[0m | \u001b[1mINFO    \u001b[0m | \u001b[36msimpsom.network\u001b[0m:\u001b[36m__init__\u001b[0m:\u001b[36m118\u001b[0m - \u001b[1mHexagonal topology.\u001b[0m\n",
      "\u001b[32m2025-04-30 16:17:06.728\u001b[0m | \u001b[1mINFO    \u001b[0m | \u001b[36msimpsom.network\u001b[0m:\u001b[36m_set_weights\u001b[0m:\u001b[36m194\u001b[0m - \u001b[1mThe weights will be initialized randomly.\u001b[0m\n",
      "\u001b[32m2025-04-30 16:17:06.808\u001b[0m | \u001b[1mINFO    \u001b[0m | \u001b[36msimpsom.network\u001b[0m:\u001b[36mtrain\u001b[0m:\u001b[36m419\u001b[0m - \u001b[1mThe map will be trained with the batch algorithm.\u001b[0m\n",
      "\u001b[32m2025-04-30 16:17:06.811\u001b[0m | \u001b[34m\u001b[1mDEBUG   \u001b[0m | \u001b[36msimpsom.network\u001b[0m:\u001b[36mtrain\u001b[0m:\u001b[36m542\u001b[0m - \u001b[34m\u001b[1mTraining SOM... 0.00%\u001b[0m\n",
      "\u001b[32m2025-04-30 16:17:07.672\u001b[0m | \u001b[34m\u001b[1mDEBUG   \u001b[0m | \u001b[36msimpsom.network\u001b[0m:\u001b[36mtrain\u001b[0m:\u001b[36m542\u001b[0m - \u001b[34m\u001b[1mTraining SOM... 10.00%\u001b[0m\n",
      "\u001b[32m2025-04-30 16:17:08.535\u001b[0m | \u001b[34m\u001b[1mDEBUG   \u001b[0m | \u001b[36msimpsom.network\u001b[0m:\u001b[36mtrain\u001b[0m:\u001b[36m542\u001b[0m - \u001b[34m\u001b[1mTraining SOM... 20.00%\u001b[0m\n",
      "\u001b[32m2025-04-30 16:17:09.396\u001b[0m | \u001b[34m\u001b[1mDEBUG   \u001b[0m | \u001b[36msimpsom.network\u001b[0m:\u001b[36mtrain\u001b[0m:\u001b[36m542\u001b[0m - \u001b[34m\u001b[1mTraining SOM... 30.00%\u001b[0m\n",
      "\u001b[32m2025-04-30 16:17:10.260\u001b[0m | \u001b[34m\u001b[1mDEBUG   \u001b[0m | \u001b[36msimpsom.network\u001b[0m:\u001b[36mtrain\u001b[0m:\u001b[36m542\u001b[0m - \u001b[34m\u001b[1mTraining SOM... 40.00%\u001b[0m\n",
      "\u001b[32m2025-04-30 16:17:11.125\u001b[0m | \u001b[34m\u001b[1mDEBUG   \u001b[0m | \u001b[36msimpsom.network\u001b[0m:\u001b[36mtrain\u001b[0m:\u001b[36m542\u001b[0m - \u001b[34m\u001b[1mTraining SOM... 50.00%\u001b[0m\n",
      "\u001b[32m2025-04-30 16:17:11.989\u001b[0m | \u001b[34m\u001b[1mDEBUG   \u001b[0m | \u001b[36msimpsom.network\u001b[0m:\u001b[36mtrain\u001b[0m:\u001b[36m542\u001b[0m - \u001b[34m\u001b[1mTraining SOM... 60.00%\u001b[0m\n",
      "\u001b[32m2025-04-30 16:17:12.858\u001b[0m | \u001b[34m\u001b[1mDEBUG   \u001b[0m | \u001b[36msimpsom.network\u001b[0m:\u001b[36mtrain\u001b[0m:\u001b[36m542\u001b[0m - \u001b[34m\u001b[1mTraining SOM... 70.00%\u001b[0m\n",
      "\u001b[32m2025-04-30 16:17:13.724\u001b[0m | \u001b[34m\u001b[1mDEBUG   \u001b[0m | \u001b[36msimpsom.network\u001b[0m:\u001b[36mtrain\u001b[0m:\u001b[36m542\u001b[0m - \u001b[34m\u001b[1mTraining SOM... 80.00%\u001b[0m\n",
      "\u001b[32m2025-04-30 16:17:14.593\u001b[0m | \u001b[34m\u001b[1mDEBUG   \u001b[0m | \u001b[36msimpsom.network\u001b[0m:\u001b[36mtrain\u001b[0m:\u001b[36m542\u001b[0m - \u001b[34m\u001b[1mTraining SOM... 90.00%\u001b[0m\n"
     ]
    }
   ],
   "source": [
    "# Define the SOM\n",
    "som = sps.SOMNet(\n",
    "    18,\n",
    "    18,\n",
    "    data_white,\n",
    "    load_file = None,\n",
    "    metric= 'euclidean', # 'euclidian' or 'cosine' or 'manhattan'\n",
    "    # metrick_kwds={},\n",
    "    init = 'random' , # 'random' or 'pca'\n",
    "    PBC = True,\n",
    "    GPU = True,\n",
    "    random_seed = 69,\n",
    "    topology='hexagonal', # 'square' or 'hexagonal'\n",
    "    debug= True\n",
    ")\n",
    "\n",
    "som.train(\n",
    "    train_algo = 'batch', \n",
    "    epochs = 100,\n",
    "    # start_learning_rate = 0.01 , # Used only for online training\n",
    "    early_stop = None ,\n",
    "    early_stop_patience = 3 ,\n",
    "    early_stop_tolerance = 0.01 ,\n",
    "    batch_size = -1\n",
    ")"
   ]
  },
  {
   "cell_type": "code",
   "execution_count": null,
   "metadata": {},
   "outputs": [
    {
     "name": "stderr",
     "output_type": "stream",
     "text": [
      "\u001b[32m2025-04-30 16:17:18.513\u001b[0m | \u001b[1mINFO    \u001b[0m | \u001b[36msimpsom.network\u001b[0m:\u001b[36mget_nodes_difference\u001b[0m:\u001b[36m643\u001b[0m - \u001b[1mWeights difference among neighboring nodes calculated.\u001b[0m\n"
     ]
    },
    {
     "data": {
      "image/png": "[encoded data removed]",
      "text/plain": [
       "<Figure size 500x500 with 2 Axes>"
      ]
     },
     "metadata": {},
     "output_type": "display_data"
    }
   ],
   "source": [
    "som.plot_map_by_difference(show=True, print_out=False)"
   ]
  },
  {
   "cell_type": "markdown",
   "metadata": {},
   "source": [
    "### Plot value of features"
   ]
  },
  {
   "cell_type": "markdown",
   "metadata": {},
   "source": [
    "This code plots the values of each feature in each node. Remember that this value is after PCA/ZCA, so it needs to be converted back."
   ]
  },
  {
   "cell_type": "code",
   "execution_count": null,
   "metadata": {},
   "outputs": [],
   "source": [
    "for i in range(len(columns)):\n",
    "    som.plot_map_by_feature(\n",
    "        feature_ix= i,\n",
    "        show=True,\n",
    "        print_out=True,\n",
    "        cbar_label=catalog_som_clean.columns[i],\n",
    "    )"
   ]
  },
  {
   "cell_type": "code",
   "execution_count": null,
   "metadata": {},
   "outputs": [],
   "source": [
    "projected_data = som.project_onto_map(data_white)\n",
    "som.plot_projected_points(projected_data, color_val=[n.difference for n in som.nodes_list],\n",
    "        project=False, jitter=False,\n",
    "        show=True, print_out=False)"
   ]
  },
  {
   "cell_type": "code",
   "execution_count": null,
   "metadata": {},
   "outputs": [
    {
     "name": "stdout",
     "output_type": "stream",
     "text": [
      "[23.44577796290575, 23.16208514935075, 22.83523441958639, 22.647087272783363, 22.74997733734079, 23.06795105846065, 23.44322237345097, 23.82153844371536, 24.13058042676275, 24.271052510172684, 24.18191333443169, 23.88624652106793, 23.611242492028886, 23.546001886075203, 23.625903275780477, 23.563565918378778, 23.33972127081565, 23.025898386298028, 23.685148315116418, 23.316894394714136, 23.009956894838076, 22.893345603831573, 23.01531058836826, 23.2980788660685, 23.717870423759503, 24.135180386205814, 24.355021930827256, 24.408382433964043, 24.350838121411588, 24.22675340408292, 24.168359237328417, 24.183541495211838, 24.13518943257383, 23.89199549804768, 23.532134811319896, 23.177076194126723, 23.518642957091632, 23.309849873897615, 23.195542407878744, 23.19028775215871, 23.326173396320996, 23.58578224716786, 24.043675011643288, 24.456817710325506, 24.568729085977395, 24.496769531090244, 24.358993812734067, 24.232642856133587, 24.198014365842702, 24.169707836412414, 24.012203541716886, 23.70157198715993, 23.417240415226917, 23.253811996343853, 22.957974758009403, 23.10380529246473, 23.26830280647838, 23.423693945480032, 23.636047706704794, 23.91846889684456, 24.33915672557046, 24.715767419325157, 24.72327645697636, 24.468040735339827, 24.200741656662373, 24.039999648621873, 23.981802243676082, 23.8425011513014, 23.45625043770931, 23.020762902392597, 22.99852696050639, 23.177742641874616, 21.928116954369802, 22.60954287662177, 23.090206405369706, 23.38057085608085, 23.67823543326411, 23.972982129091747, 24.3098772715258, 24.58427854772167, 24.482466278642644, 24.143428993670867, 23.87271675889157, 23.740740047394887, 23.623800422821397, 23.23823117847018, 22.3653939431991, 21.775809329224888, 22.191966323873018, 22.84825035460117, 21.00033040404374, 21.76329798297504, 22.330149031905858, 22.67956965973514, 23.07964099725315, 23.39196856104681, 23.64172529932647, 23.828707604270264, 23.724062290526835, 23.428759450366694, 23.233702027714436, 23.20035523419653, 23.01816469309943, 22.384973563123932, 21.336917318247032, 20.83010574477387, 21.28140152579713, 22.04939398530379, 20.499586586654058, 20.543074004027424, 20.694217745665057, 20.942248281010748, 21.282045569749236, 21.568973518724963, 21.857748768066568, 22.220458624940974, 22.440330836610666, 22.27542554411822, 22.011594112172354, 22.021755114655875, 22.05423608953273, 21.71111992169239, 21.094099066237046, 20.607434556225687, 20.493661249449353, 20.597074744435464, 19.69268622346083, 19.420050501701407, 19.64051725005706, 19.92445841308413, 20.135538667407126, 20.346468900972447, 20.687561245665254, 21.03068933334486, 21.227193525965237, 21.08793521000493, 20.738560969345713, 20.632489178978027, 20.965528082275764, 21.277517213888327, 21.0595402560068, 20.20849265883569, 19.485030534503167, 19.482374150328926, 18.627374975063674, 18.7851592037576, 19.227663289890675, 19.58125106769114, 19.772280440027, 19.950753036033845, 20.286376079426912, 20.62330416315235, 20.767277454696906, 20.586584512624974, 20.163442727874504, 20.014718384164464, 20.450956024693372, 20.984938531675716, 20.460550534572782, 19.01196763611278, 18.612735916490983, 18.962725385283672, 18.079634054472862, 18.542231735144313, 19.101271288127645, 19.43219711853481, 19.504991364339922, 19.551366259328688, 19.832001729665983, 20.257635406430474, 20.561024650164835, 20.588105737323517, 20.357738454943288, 20.294669463829994, 20.76115770254261, 21.10141625402579, 19.64065741157965, 18.151447633976645, 18.22186513204959, 18.786444436009795, 18.44439616236948, 18.83172041767039, 19.26722139558705, 19.432770252565195, 19.254869514930803, 19.051732434031045, 19.2061422356895, 19.716949825405536, 20.307367332145738, 20.65982659247858, 20.781751066712232, 21.132510580541506, 22.824412551940778, 24.817057003619933, 21.245893398164025, 18.603940209780063, 18.5584587193993, 19.030586006986884, 19.851521134731975, 19.604135724958116, 19.72408918765356, 19.664795976357404, 19.195480323464864, 18.754265344609333, 18.838839680176385, 19.421746402833136, 20.211146000281047, 20.785192644353675, 21.134102440750166, 22.38382400251137, 29.68111696696982, 42.21400160308062, 29.755893174778414, 20.94382527711, 19.63787346461241, 19.649650829449786, 21.27023705063897, 20.527533364715833, 20.393164149851724, 20.203370305471495, 19.614638034089072, 19.07722536347554, 19.164333770705404, 19.72295308883579, 20.475644681983447, 21.106770706051826, 21.605685376992565, 23.69523083744818, 36.236689659443186, 52.766453000536096, 34.192347790796354, 22.907946866245027, 20.814004001852982, 20.446037163398067, 21.93480424600826, 21.355274833461955, 21.115931812666183, 20.877260970346885, 20.46182358713608, 20.085095891326503, 20.123522137437792, 20.473264423714287, 21.05254338446483, 21.66905875780629, 22.14852098522686, 23.46793308818568, 30.2187615958182, 36.663907994635295, 28.284569398900985, 22.88698211911353, 21.616719852760713, 21.23981291851164, 22.3159087138279, 22.033474000061045, 21.755134541002562, 21.46499458768902, 21.2350790711014, 21.135480314272147, 21.183722588880716, 21.391916489666, 21.815293421662833, 22.29959325107569, 22.54942025216474, 22.675254498674864, 23.49862495593899, 24.354648367936313, 23.459482590960537, 22.560092000073123, 22.193727732999648, 21.921249165941955, 22.69730607168442, 22.60288749129887, 22.334307698008885, 22.005410257996836, 21.819658357893434, 21.836969424065074, 21.965709273084393, 22.198929320120133, 22.55442740143156, 22.855025267503844, 22.815234822664962, 22.458398915744166, 22.154368809066096, 22.21730052817623, 22.479823855169627, 22.663323036686137, 22.682565400806745, 22.50947185710199, 22.9531194756934, 22.92938110767325, 22.693074772254278, 22.372303053610704, 22.226671922925274, 22.333753254662554, 22.572964637185105, 22.844610990204128, 23.157844092143776, 23.367454235207507, 23.14858751143889, 22.578547040319044, 22.159790017979027, 22.20199643385195, 22.581427238237307, 22.87641636996977, 22.96850162420669, 22.85588913244708, 23.124749968271107, 23.029667862607816, 22.773534045331704, 22.503893941727124, 22.488278459984784, 22.748426679415598, 23.083810217784524, 23.39620373019256, 23.714860998397242, 23.915367906903462, 23.724218187202734, 23.153129890899972, 22.69896482448502, 22.675933390973043, 22.94925000445162, 23.11445042762743, 23.10400631232851, 22.94197239741142]\n"
     ]
    }
   ],
   "source": [
    "all_positions = [[node.pos[0], node.pos[1]] for node in som.nodes_list]\n",
    "all_weights = [[node.weights[feature_idx] for feature_idx in range(len(columns))] for node in som.nodes_list]\n",
    "\n",
    "\n",
    "\n",
    "# convert back to the original feature space\n",
    "weights_dewhitened = inverse_pca_whitening(data, all_weights)\n",
    "\n",
    "feature_idx = 0\n",
    "\n",
    "weights_dewhitened_feature = [weights_dewhitened[row][feature_idx] for row in range(len(weights_dewhitened))]\n",
    "\n",
    "print(weights_dewhitened_feature)"
   ]
  },
  {
   "cell_type": "code",
   "execution_count": null,
   "metadata": {},
   "outputs": [
    {
     "ename": "NameError",
     "evalue": "name 'plt' is not defined",
     "output_type": "error",
     "traceback": [
      "\u001b[31m---------------------------------------------------------------------------\u001b[39m",
      "\u001b[31mNameError\u001b[39m                                 Traceback (most recent call last)",
      "\u001b[36mCell\u001b[39m\u001b[36m \u001b[39m\u001b[32mIn[1]\u001b[39m\u001b[32m, line 1\u001b[39m\n\u001b[32m----> \u001b[39m\u001b[32m1\u001b[39m \u001b[43mplt\u001b[49m.hist(data[\u001b[33m'\u001b[39m\u001b[33mDESY6_mag_auto_g_extcorr\u001b[39m\u001b[33m'\u001b[39m], bins=\u001b[32m100\u001b[39m)\n\u001b[32m      2\u001b[39m plt.title(\u001b[33m'\u001b[39m\u001b[33mDES Y6 GOLD g band magnitude original\u001b[39m\u001b[33m'\u001b[39m)\n\u001b[32m      3\u001b[39m plt.show()\n",
      "\u001b[31mNameError\u001b[39m: name 'plt' is not defined"
     ]
    }
   ],
   "source": [
    "plt.hist(data['DESY6_mag_auto_g_extcorr'], bins=100)\n",
    "plt.title('DES Y6 GOLD g band magnitude original')\n",
    "plt.show()\n",
    "\n",
    "plt.hist(weights_dewhitened_feature, bins=100)\n",
    "plt.title('DES Y6 GOLD g band magnitude weights from the SOM')\n",
    "plt.show()"
   ]
  },
  {
   "cell_type": "code",
   "execution_count": null,
   "metadata": {},
   "outputs": [],
   "source": [
    "# Create a matplotlib figure\n",
    "fig = plt.figure(figsize=(7, 7))\n",
    "\n",
    "# Draw the SOM map using polygon tiling and color by the selected feature\n",
    "ax = sps.polygons.Polygon.draw_map(fig, centers=all_positions, feature=weights_dewhitened_feature, cmap=plt.cm.viridis)\n",
    "\n",
    "# Add a colorbar and labels\n",
    "plt.colorbar(ax.collections[0], ax=ax, label=f'Feature {feature_idx} Value')\n",
    "plt.title(f'SOM Colored by Feature {feature_idx}')\n",
    "plt.xlabel(\"SOM X\")\n",
    "plt.ylabel(\"SOM Y\")\n",
    "plt.grid(True)\n",
    "plt.show()"
   ]
  },
  {
   "cell_type": "markdown",
   "metadata": {},
   "source": [
    "### Obtain the data values from each node"
   ]
  },
  {
   "cell_type": "code",
   "execution_count": null,
   "metadata": {},
   "outputs": [],
   "source": []
  },
  {
   "cell_type": "markdown",
   "metadata": {},
   "source": [
    "## Catalogs Matched With Magnitudes in NWAY"
   ]
  },
  {
   "cell_type": "markdown",
   "metadata": {},
   "source": [
    "Import the catalog"
   ]
  },
  {
   "cell_type": "code",
   "execution_count": null,
   "metadata": {},
   "outputs": [],
   "source": [
    "# RADIUS (3''), EMU (1''), DESY6GOLD (0.1''), VIKINGDR5 (0.1''), CATWISE2020 (0.2''), MAGNITUDES\n",
    "# For a false detection rate of <10% \n",
    "# p_i>=0.1 & match_flag==1 & p_any>0.05\n",
    "matched_mags_path = '/data/mfonseca/cross_match/EMU_0102-32_DESY6GOLD_VIKING_CATWISE_Mags/EMU_0102-32_DESY6GOLD_VIKING_CATWISE_Mags.fits'\n",
    "matched_mags = Table.read(matched_mags_path)\n",
    "matched_mags = matched_mags.to_pandas()"
   ]
  },
  {
   "cell_type": "code",
   "execution_count": null,
   "metadata": {},
   "outputs": [],
   "source": [
    "matched_mags['VKG_sourceID'].describe()"
   ]
  },
  {
   "cell_type": "markdown",
   "metadata": {},
   "source": [
    "Filter using NWAY recomendations"
   ]
  },
  {
   "cell_type": "code",
   "execution_count": null,
   "metadata": {},
   "outputs": [],
   "source": [
    "# Here we filter the NWAY catalog to keep only the best objects\n",
    "\n",
    "# From NWAY\n",
    "# Filter the catalog based on the match_flag and p_i, p_any values\n",
    "match_mask = (matched_mags['match_flag'] == 1) & (matched_mags['p_i'] >= 0.1) & (matched_mags['p_any'] >=0.05)\n",
    "catalog_matches_Mags = matched_mags[match_mask]\n",
    "print(f'Number of objects in the catalog {len(catalog_matches_Mags)}')"
   ]
  },
  {
   "cell_type": "code",
   "execution_count": null,
   "metadata": {},
   "outputs": [],
   "source": [
    "# Here we select objects that have matches in all three surveys\n",
    "full_match_mask = (catalog_matches_Mags['DESY6_coadd_object_id'] != -99) & (catalog_matches_Mags['VKG_sourceID'] != -99) & (catalog_matches_Mags['CAT_source_id'] != b'-99')\n",
    "catalog_matches_Mags_full = catalog_matches_Mags[full_match_mask]\n",
    "print(f'Number of objects in the catalog that have matches in all three surveys {len(catalog_matches_Mags_full)}')"
   ]
  },
  {
   "cell_type": "code",
   "execution_count": null,
   "metadata": {},
   "outputs": [],
   "source": [
    "# Filter the multiwavelenght catalog to keep only the columns needed\n",
    "emu_columns = ['EMU_island_id']\n",
    "\n",
    "# desdr2_mag = ['DES_mag_auto_g_dered', 'DES_mag_auto_r_dered', 'DES_mag_auto_i_dered', 'DES_mag_auto_z_dered']\n",
    "# desdr2_colors = ['DES_g_r_dered', 'DES_r_i_dered', 'DES_i_z_dered']\n",
    "\n",
    "desy6gold_mag = ['DESY6_mag_auto_g_extcorr', 'DESY6_mag_auto_r_extcorr', 'DESY6_mag_auto_i_extcorr', 'DESY6_mag_auto_z_extcorr', 'DESY6_mag_auto_y_extcorr']\n",
    "desy6gold_colors = ['DESY6_g_r_extcorr', 'DESY6_r_i_extcorr', 'DESY6_i_z_extcorr', 'DESY6_z_y_extcorr']\n",
    "\n",
    "viking_mag = ['VKG_zAperMag3_ab_extcorr', 'VKG_jAperMag3_ab_extcorr', 'VKG_yAperMag3_ab_extcorr', 'VKG_ksAperMag3_ab_extcorr', 'VKG_hAperMag3_ab_extcorr']\n",
    "viking_colors = ['VKG_z_y_am3_extcorr', 'VKG_y_j_am3_extcorr', 'VKG_j_h_am3_extcorr', 'VKG_h_ks_am3_extcorr']\n",
    "\n",
    "catwise_mag = ['CAT_W1mpro_ab', 'CAT_W2mpro_ab']\n",
    "catwise_colors = ['CAT_w1_w2_ab']\n",
    "\n",
    "colors_columns = desy6gold_colors + viking_colors +catwise_colors\n",
    "\n",
    "catalog_matched = catalog_matched[colors_columns]\n",
    "\n",
    "# Should be the same lenght as the filtered catalog\n",
    "print(len(catalog_matched))"
   ]
  },
  {
   "cell_type": "code",
   "execution_count": null,
   "metadata": {},
   "outputs": [],
   "source": [
    "# Histograms of each columns\n",
    "\n",
    "# for col in catalog_filtered_magnitude.columns:\n",
    "#     plt.figure(figsize=(10, 5))\n",
    "#     plt.hist(catalog_filtered_magnitude[col], bins=100, color='blue', alpha=0.7)\n",
    "#     plt.title(f'Histogram of {col}')\n",
    "#     plt.xlabel(col)\n",
    "#     plt.ylabel('Frequency')\n",
    "#     plt.grid()\n",
    "#     plt.show()"
   ]
  },
  {
   "cell_type": "markdown",
   "metadata": {},
   "source": [
    "### Define the Topology"
   ]
  },
  {
   "cell_type": "markdown",
   "metadata": {},
   "source": [
    "Define the topology of the SOM, follow indications from \"Self-Organizing Maps and Their Applications to Data Analysis\" R. Ponmalai, C. Kamath"
   ]
  },
  {
   "cell_type": "code",
   "execution_count": null,
   "metadata": {},
   "outputs": [],
   "source": [
    "# SOM topology (lattice size)\n",
    "\n",
    "# Number of sources in our dataframe\n",
    "inputdata_size = len(catalog_matched)\n",
    "\n",
    "# From Kohonen, the optimal ratio of height to width of the lattice\n",
    "# is equal to the ratio of the two largest eigenvalue of the autocorrelation matrix\n",
    "cov_std = catalog_matched.cov()\n",
    "eigen_values = np.linalg.eigvals(cov_std.values)\n",
    "eigen_values_sorted = np.sort(eigen_values)[::-1]\n",
    "ratio_eigenvalues = eigen_values_sorted[0] / eigen_values_sorted[1]\n",
    "\n",
    "# From Kohonen, the number of nodes if 5*sqrt(n), where n is the number of data points\n",
    "som_dim = int(np.sqrt(inputdata_size) * 5)\n",
    "\n",
    "# The number of nodes in the x and y direction\n",
    "som_x = int(np.sqrt(som_dim * ratio_eigenvalues))\n",
    "som_y = int(som_x / ratio_eigenvalues)\n",
    "\n",
    "#=================================================================\n",
    "\n",
    "# Resize the SOM map by applying a scaling factor that maintains the aspect ratio\n",
    "\n",
    "scaling_factor = 2  # Change this factor to resize the map\n",
    "\n",
    "# Apply scaling to the x dimension, and calculate y dimension based on ratio\n",
    "som_x_resized = int(som_x * scaling_factor)\n",
    "som_y_resized = int(som_x_resized / ratio_eigenvalues)  # Keep the same ratio of eigenvalues\n",
    "\n",
    "#=================================================================\n",
    "\n",
    "# Print the results\n",
    "print('Dimension of the SOM: ', som_dim)\n",
    "print('Square SOM map size ', np.round(np.sqrt(som_dim)))\n",
    "print('Ratio of the two largest eigenvalues: ', int(ratio_eigenvalues))\n",
    "print('SOM map size using eigenvalues: ', som_x, 'x', som_y)\n",
    "\n",
    "print('Resized SOM map size using eigenvalues: ', som_x_resized, 'x', som_y_resized)"
   ]
  },
  {
   "cell_type": "code",
   "execution_count": null,
   "metadata": {},
   "outputs": [],
   "source": [
    "# Definine the subset of the catalog to use\n",
    "data_fraction2use = 1\n",
    "data = catalog_matched.sample(frac=data_fraction2use)\n",
    "\n",
    "# Normalize the data\n",
    "data.to_numpy()\n",
    "data = (data - np.mean(data, axis=0)) / np.std(data, axis=0)\n",
    "data = data.values "
   ]
  },
  {
   "cell_type": "markdown",
   "metadata": {},
   "source": [
    "## Quantization Error (QE) and Topographic Error (TE)"
   ]
  },
  {
   "cell_type": "code",
   "execution_count": null,
   "metadata": {},
   "outputs": [],
   "source": [
    "# THIS FUNCTION WORKS\n",
    "\n",
    "# Quantization Error (QE)\n",
    "# Average distance of a data point to the nearest lattice node\n",
    "# Measures how well the mapping fits the distribution of the data\n",
    "\n",
    "def som_quantization_error(data, trained_som):\n",
    "    '''\n",
    "    Calculates the quantization error of a trained SOM.ipynb\n",
    "\n",
    "    Args:\n",
    "        data: NumPy array of input data.\n",
    "        trainded_som: trained SimpSOM SOMNet object\n",
    "\n",
    "    Returns:\n",
    "        quantization error (float)\n",
    "    '''\n",
    "    # Convert to clean NumPy array with uniform dtype first\n",
    "    data_np = np.asarray(data, dtype=np.float64)\n",
    "\n",
    "    # Convert NumPy array to CuPy array for GPU processing\n",
    "    data_cp = cp.array(data_np)\n",
    "\n",
    "    # Find all BMU indices\n",
    "    bmu_indices = trained_som.find_bmu_ix(data_cp)\n",
    "\n",
    "    # Get the weights of the BMUs\n",
    "    bmu_weights = cp.array([trained_som.nodes_list[int(bmu_idx)].weights for bmu_idx in bmu_indices])\n",
    "\n",
    "    # Vectorized distance calculation\n",
    "    distances = cp.linalg.norm(bmu_weights - data_cp, axis=1)\n",
    "    total_distance = cp.sum(distances)\n",
    "\n",
    "    quantization_error = float(total_distance / len(data))\n",
    "    return quantization_error\n"
   ]
  },
  {
   "cell_type": "code",
   "execution_count": null,
   "metadata": {},
   "outputs": [],
   "source": [
    "# THIS FUNCTION WORKS\n",
    "\n",
    "# Topographic Error (TE)\n",
    "# Proportion of data points whose BMU and second BMU are NOT neighbors\n",
    "# Measures how well the shape of the data is preserved in the output space\n",
    "\n",
    "def som_topographic_error(data, trained_som):\n",
    "    \"\"\"\n",
    "    Computes topographic error ET for a SOM with hex topology using GPU (CuPy).\n",
    "    \n",
    "    Args:\n",
    "        data:    The input data used to train the SOM (NumPy array).\n",
    "        trained_som: A trained SOMNet object from the simpsom library.\n",
    "\n",
    "    Returns:\n",
    "        Topographic error (float between 0 and 1).\n",
    "        Proportion of data points whose BMU and second BMU are NOT neighbors\n",
    "    \"\"\"\n",
    "    # Convert to clean NumPy array with uniform dtype first\n",
    "    data_np = np.asarray(data, dtype=np.float64)\n",
    "\n",
    "    # Convert data to CuPy arrays\n",
    "    data_cp = cp.array(data)\n",
    "\n",
    "    # Get all the nodes' weights from the trained SOM (GPU-enabled)\n",
    "    weights_cp = cp.array([node.weights for node in trained_som.nodes_list])\n",
    "\n",
    "    # Initialize total error\n",
    "    total_error = 0\n",
    "\n",
    "    # Find all BMU indices\n",
    "    bmu_indices = trained_som.find_bmu_ix(data_cp)\n",
    "\n",
    "    # Find all the second BMU indices\n",
    "    som_dist = sps.distances.Distance(xp=np) # Initialize the distance object, as required by the documentation\n",
    "    distances = som_dist.pairdist(data_cp, weights_cp, metric='euclidean')\n",
    "\n",
    "    sorted_indices = cp.argsort(distances, axis=1)\n",
    "    sbmu_indices = sorted_indices[:, 1]\n",
    "\n",
    "\n",
    "    # Get the positions of the BMU and second BMU in the grid\n",
    "    bmu_positions = cp.array([trained_som.nodes_list[int(bmu_idx)].pos for bmu_idx in bmu_indices])\n",
    "    sbmu_positions = cp.array([trained_som.nodes_list[int(sbmu_idx)].pos for sbmu_idx in sbmu_indices])\n",
    "\n",
    "\n",
    "    bmu_row, bmu_col = bmu_positions[:, 0], bmu_positions[:, 1]\n",
    "    sbmu_row, sbmu_col = sbmu_positions[:, 0], sbmu_positions[:, 1]\n",
    "\n",
    "\n",
    "    # Check if BMU and sBMU are neighbors\n",
    "    row_neighbors = cp.abs(bmu_row - sbmu_row)\n",
    "    col_neighbors = cp.abs(bmu_col - sbmu_col)\n",
    "\n",
    "    not_neighbors = (row_neighbors > 1) | (col_neighbors > 1)\n",
    "\n",
    "    number_not_neighbors = cp.sum(not_neighbors)\n",
    "\n",
    "    # Compute the topographic error\n",
    "    topographic_error = number_not_neighbors / data_cp.shape[0]\n",
    "\n",
    "    return float(topographic_error)"
   ]
  },
  {
   "cell_type": "markdown",
   "metadata": {},
   "source": [
    "# Running the SOM"
   ]
  },
  {
   "cell_type": "code",
   "execution_count": null,
   "metadata": {},
   "outputs": [],
   "source": [
    "# Does not work correcly because the learning rate is not updated in each training epoch\n",
    "\n",
    "def track_som_errors(data, epochs, net_height=20, net_width=20):\n",
    "    som_net = sps.SOMNet(\n",
    "        net_height=net_height,\n",
    "        net_width=net_width,\n",
    "        data=data,\n",
    "        topology='hexagonal',\n",
    "        init='PCA',\n",
    "        metric='euclidean',\n",
    "        neighborhood_fun='gaussian',\n",
    "        PBC=True,\n",
    "        GPU=True,\n",
    "        random_seed=42,\n",
    "        output_path=\"./\"\n",
    "    )\n",
    "\n",
    "    quantization_errors = []\n",
    "    topographic_errors = []\n",
    "\n",
    "    for epoch in range(epochs):\n",
    "\n",
    "        som_net.train(\n",
    "            train_algo='batch',\n",
    "            epochs=1,\n",
    "            start_learning_rate = 0.1,\n",
    "            early_stop=None,\n",
    "            batch_size=-1\n",
    "        )\n",
    "\n",
    "        quant_error = som_quantization_error(data, som_net)\n",
    "        topo_error = som_topographic_error(data, som_net)\n",
    "\n",
    "        quantization_errors.append(quant_error)\n",
    "        topographic_errors.append(topo_error)\n",
    "\n",
    "        print(f\"Epoch {epoch+1}/{epochs} | QE: {quant_error:.4f} | TE: {topo_error:.4f}\")\n",
    "\n",
    "    return quantization_errors, topographic_errors, som_net"
   ]
  },
  {
   "cell_type": "code",
   "execution_count": null,
   "metadata": {},
   "outputs": [],
   "source": [
    "# Define the SOM\n",
    "som = sps.SOMNet(\n",
    "    som_y_resized,\n",
    "    som_x_resized,\n",
    "    data,\n",
    "    load_file = None,\n",
    "    metric= 'euclidean', # 'euclidian' or 'cosine' or 'manhattan'\n",
    "    # metrick_kwds={},\n",
    "    init = 'random' , # 'random' or 'pca'\n",
    "    PBC = True,\n",
    "    GPU = True,\n",
    "    random_seed = 69,\n",
    "    topology='hexagonal', # 'square' or 'hexagonal'\n",
    "    debug= True\n",
    ")\n",
    "\n",
    "som.train(\n",
    "    train_algo = 'batch', \n",
    "    epochs = 200,\n",
    "    # start_learning_rate = 0.01 , # Used only for online training\n",
    "    early_stop = None ,\n",
    "    early_stop_patience = 5 ,\n",
    "    early_stop_tolerance = 0.01 ,\n",
    "    batch_size = -1\n",
    ")"
   ]
  },
  {
   "cell_type": "code",
   "execution_count": null,
   "metadata": {},
   "outputs": [],
   "source": [
    "som.save_map('/data/mfonseca/soms/EMU_0102-32_DESY6GOLD_VIKING_CATWISE_Mags.npy')"
   ]
  },
  {
   "cell_type": "markdown",
   "metadata": {},
   "source": [
    "## U-Matrix"
   ]
  },
  {
   "cell_type": "code",
   "execution_count": null,
   "metadata": {},
   "outputs": [],
   "source": [
    "som.plot_map_by_difference(show=True, print_out=True)"
   ]
  },
  {
   "cell_type": "markdown",
   "metadata": {},
   "source": [
    "## Plot Original Data points"
   ]
  },
  {
   "cell_type": "markdown",
   "metadata": {},
   "source": [
    "## Plot Quantization Error and Topographic Error"
   ]
  },
  {
   "cell_type": "code",
   "execution_count": null,
   "metadata": {},
   "outputs": [],
   "source": [
    "plt.figure(figsize=(10, 5))\n",
    "plt.plot(net.quantization_error, label='Quantization Error', color='blue')\n",
    "plt.plot(net.topographic_error, label='Topographic Error', color='orange')\n",
    "plt.title('SOM Training Errors')\n",
    "plt.xlabel('Epoch')\n",
    "plt.ylabel('Error')\n",
    "plt.legend()\n",
    "plt.grid()\n",
    "plt.show()"
   ]
  },
  {
   "cell_type": "markdown",
   "metadata": {},
   "source": [
    "## Component Planes"
   ]
  },
  {
   "cell_type": "code",
   "execution_count": null,
   "metadata": {},
   "outputs": [],
   "source": [
    "for i in range(len(catalog_matched.columns)):\n",
    "    som.plot_map_by_feature(\n",
    "        feature_ix= i,\n",
    "        show=True,\n",
    "        print_out=True,\n",
    "        cbar_label=catalog_matched.columns[i],\n",
    "    )"
   ]
  },
  {
   "cell_type": "markdown",
   "metadata": {},
   "source": [
    "# MiniSom"
   ]
  },
  {
   "cell_type": "markdown",
   "metadata": {},
   "source": [
    "### Example"
   ]
  },
  {
   "cell_type": "code",
   "execution_count": null,
   "metadata": {},
   "outputs": [],
   "source": [
    "data = pd.read_csv('https://archive.ics.uci.edu/ml/machine-learning-databases/00236/seeds_dataset.txt', \n",
    "                    names=['area', 'perimeter', 'compactness', 'length_kernel', 'width_kernel',\n",
    "                   'asymmetry_coefficient', 'length_kernel_groove', 'target'], usecols=[0, 5], \n",
    "                   sep='\\t+', engine='python')\n",
    "# data normalization\n",
    "data = (data - np.mean(data, axis=0)) / np.std(data, axis=0)\n",
    "data = data.values\n",
    "\n",
    "\n",
    "# Initialization and training\n",
    "som_shape = (1, 3)\n",
    "som = MiniSom(som_shape[0], som_shape[1], data.shape[1], sigma=.5, learning_rate=.5,\n",
    "              neighborhood_function='gaussian', random_seed=10)\n",
    "\n",
    "som.train_batch(data, 500, verbose=True)"
   ]
  },
  {
   "cell_type": "code",
   "execution_count": null,
   "metadata": {},
   "outputs": [],
   "source": [
    "# each neuron represents a cluster\n",
    "winner_coordinates = np.array([som.winner(x) for x in data]).T\n",
    "# with np.ravel_multi_index we convert the bidimensional\n",
    "# coordinates to a monodimensional index\n",
    "cluster_index = np.ravel_multi_index(winner_coordinates, som_shape)"
   ]
  },
  {
   "cell_type": "code",
   "execution_count": null,
   "metadata": {},
   "outputs": [],
   "source": [
    "# plotting the clusters using the first 2 dimentions of the data\n",
    "for c in np.unique(cluster_index):\n",
    "    plt.scatter(data[cluster_index == c, 0],\n",
    "                data[cluster_index == c, 1], label='cluster='+str(c), alpha=.7)\n",
    "\n",
    "# plotting centroids\n",
    "for centroid in som.get_weights():\n",
    "    plt.scatter(centroid[:, 0], centroid[:, 1], marker='x', \n",
    "                s=4, linewidths=10, color='k', label='centroid')\n",
    "plt.legend(loc='best')"
   ]
  },
  {
   "cell_type": "markdown",
   "metadata": {},
   "source": [
    "### With our galaxy values"
   ]
  },
  {
   "cell_type": "code",
   "execution_count": null,
   "metadata": {},
   "outputs": [],
   "source": [
    "galaxy_names = catalog_df['EMU_island_name'].str.decode('utf-8').str.strip()\n",
    "\n",
    "# Normalize the data\n",
    "data = (catalog_df_filtered_matches_magnitude - np.mean(catalog_df_filtered_matches_magnitude, axis=0)) / np.std(catalog_df_filtered_matches_magnitude, axis=0)\n",
    "data = data.values"
   ]
  },
  {
   "cell_type": "code",
   "execution_count": null,
   "metadata": {},
   "outputs": [],
   "source": [
    "som_shape = (10, 10)\n",
    "som = MiniSom(som_shape[0], som_shape[1], data.shape[1], sigma=.5, learning_rate=.1,\n",
    "              neighborhood_function='gaussian', random_seed=0)\n",
    "\n",
    "som.train_batch(data, 100000, verbose=True)"
   ]
  },
  {
   "cell_type": "code",
   "execution_count": null,
   "metadata": {},
   "outputs": [],
   "source": [
    "plt.figure(figsize=(7, 7))\n",
    "frequencies = som.activation_response(data)\n",
    "plt.pcolor(frequencies.T, cmap='Blues') \n",
    "plt.colorbar()\n",
    "plt.show()"
   ]
  },
  {
   "cell_type": "code",
   "execution_count": null,
   "metadata": {},
   "outputs": [],
   "source": [
    "# each neuron represents a cluster\n",
    "winner_coordinates = np.array([som.winner(x) for x in data]).T\n",
    "# with np.ravel_multi_index we convert the bidimensional\n",
    "# coordinates to a monodimensional index\n",
    "cluster_index = np.ravel_multi_index(winner_coordinates, som_shape)"
   ]
  },
  {
   "cell_type": "code",
   "execution_count": null,
   "metadata": {},
   "outputs": [],
   "source": [
    "# plotting the clusters using the first 2 dimentions of the data\n",
    "for c in np.unique(cluster_index):\n",
    "    plt.scatter(data[cluster_index == c, 0],\n",
    "                data[cluster_index == c, 1], label='cluster='+str(c), alpha=.7)\n",
    "\n",
    "# plt.xlim(-.5,1)\n",
    "# plt.ylim(-1,1)\n"
   ]
  }
 ],
 "metadata": {
  "kernelspec": {
   "display_name": "rapids-25.02",
   "language": "python",
   "name": "python3"
  },
  "language_info": {
   "codemirror_mode": {
    "name": "ipython",
    "version": 3
   },
   "file_extension": ".py",
   "mimetype": "text/x-python",
   "name": "python",
   "nbconvert_exporter": "python",
   "pygments_lexer": "ipython3",
   "version": "3.12.9"
  }
 },
 "nbformat": 4,
 "nbformat_minor": 2
}
