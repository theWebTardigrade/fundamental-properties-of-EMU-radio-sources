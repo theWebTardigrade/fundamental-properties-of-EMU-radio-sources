{
 "cells": [
  {
   "cell_type": "markdown",
   "metadata": {},
   "source": [
    "# SED Fitting using GALAPY"
   ]
  },
  {
   "cell_type": "markdown",
   "metadata": {},
   "source": [
    "## Import Libraries"
   ]
  },
  {
   "cell_type": "code",
   "execution_count": null,
   "metadata": {},
   "outputs": [],
   "source": [
    "import numpy as np\n",
    "\n",
    "from astropy.io import fits\n",
    "from astropy.table import Table\n",
    "\n",
    "from galapy.internal.utils import cat_to_dict\n",
    "import galapy.analysis.plot as gplot\n",
    "from galapy.analysis.plot import plt\n",
    "from galapy.internal.utils import cat_to_dict"
   ]
  },
  {
   "cell_type": "markdown",
   "metadata": {},
   "source": [
    "# Import and prepare catalogs "
   ]
  },
  {
   "cell_type": "code",
   "execution_count": 1,
   "metadata": {},
   "outputs": [
    {
     "name": "stdout",
     "output_type": "stream",
     "text": [
      "['CTIO.DECAM.g', 'CTIO.DECAM.r', 'CTIO.DECAM.i', 'CTIO.DECAM.z', 'CTIO.DECAM.y', 'Paranal.VISTA.Y_filter', 'Paranal.VISTA.J_filter', 'Paranal.VISTA.H_filter', 'Paranal.VISTA.Z_filter', 'WISE.W1', 'WISE.W2', 'CTIO.DECAM.g_err', 'CTIO.DECAM.r_err', 'CTIO.DECAM.i_err', 'CTIO.DECAM.z_err', 'CTIO.DECAM.y_err', 'Paranal.VISTA.Y_filter_err', 'Paranal.VISTA.J_filter_err', 'Paranal.VISTA.H_filter_err', 'Paranal.VISTA.Z_filter_err', 'WISE.W1_err', 'WISE.W2_err']\n"
     ]
    }
   ],
   "source": [
    "filters = ['CTIO.DECAM.g', 'CTIO.DECAM.r', 'CTIO.DECAM.i', 'CTIO.DECAM.z', 'CTIO.DECAM.y', 'Paranal.VISTA.Y_filter', 'Paranal.VISTA.J_filter', 'Paranal.VISTA.H_filter', 'Paranal.VISTA.Z_filter', 'WISE.W1', 'WISE.W2']\n",
    "combined_filters = filters + [f\"{filter}_err\" for filter in filters]\n",
    "\n",
    "print(combined_filters)"
   ]
  },
  {
   "cell_type": "code",
   "execution_count": null,
   "metadata": {},
   "outputs": [],
   "source": [
    "# print available columns\n",
    "print(emu_g23_df.columns)\n",
    "\n",
    "# print flux columns\n",
    "columns = emu_g23_df.columns\n",
    "columns_with_flux = [col for col in columns if ('flux' in col) and ('err' in col) and ('G23' in col) and (col[-1:] != 'l')]\n",
    "print(columns_with_flux) \n"
   ]
  },
  {
   "cell_type": "code",
   "execution_count": null,
   "metadata": {},
   "outputs": [],
   "source": [
    "emu_g23_df['G23_CATAID'][13]"
   ]
  },
  {
   "cell_type": "code",
   "execution_count": null,
   "metadata": {},
   "outputs": [],
   "source": [
    "columns_with_flux = ['G23_flux_FUVt', 'G23_flux_NUVt', 'G23_flux_ut', 'G23_flux_gt', 'G23_flux_rt', 'G23_flux_it', 'G23_flux_Zt', 'G23_flux_Yt', 'G23_flux_Jt', 'G23_flux_Ht', 'G23_flux_Kt', 'G23_flux_W1t', 'G23_flux_W2t']\n",
    "columns_with_error = ['G23_flux_err_FUVt', 'G23_flux_err_NUVt', 'G23_flux_err_ut', 'G23_flux_err_gt', 'G23_flux_err_rt', 'G23_flux_err_it', 'G23_flux_err_Zt', 'G23_flux_err_Yt', 'G23_flux_err_Jt', 'G23_flux_err_Ht', 'G23_flux_err_Kt', 'G23_flux_err_W1t', 'G23_flux_err_W2t']\n",
    "filters = ['GALEX.FUV', 'GALEX.NUV', 'SDSS.u', 'SDSS.g', 'SDSS.r', 'SDSS.i', 'SDSS.z', 'Paranal.VISTA.Y_filter', 'Paranal.VISTA.J_filter', 'Paranal.VISTA.H_filter', 'Paranal.VISTA.Ks_filter', 'WISE.W1', 'WISE.W2']\n",
    "\n",
    "column_list_to_convert = columns_with_flux + columns_with_error"
   ]
  },
  {
   "cell_type": "markdown",
   "metadata": {},
   "source": [
    "## Convert Jansky to MiliJansky\n",
    "Convert all columns from a given list from Jansky to Milijansky"
   ]
  },
  {
   "cell_type": "code",
   "execution_count": null,
   "metadata": {},
   "outputs": [],
   "source": [
    "jansky_columns = []"
   ]
  },
  {
   "cell_type": "code",
   "execution_count": null,
   "metadata": {},
   "outputs": [],
   "source": [
    "def convert_to_millijansky(fits_file, column_list):\n",
    "    with fits.open(fits_file) as hdul:\n",
    "        data = hdul[1].data\n",
    "        columns = data.columns.names \n",
    "\n",
    "        for column_name in column_list:\n",
    "            if column_name in columns:\n",
    "                data[column_name] = data[column_name] * 1000\n",
    "                print(f\"Converted {column_name} values to Millijansky.\")\n",
    "            else:\n",
    "                print(f\"Column '{column_name}' not found in the FITS file.\")\n",
    "\n",
    "        hdul.writeto(fits_file.replace('.fits', '_mjy.fits'), overwrite=True)\n",
    "        print(f\"Converted data saved to {fits_file.replace('.fits', '_mjy.fits')}\")\n",
    "        return\n",
    "    \n",
    "convert_to_millijansky(emu_g23_catalog_path, column_list_to_convert )"
   ]
  },
  {
   "cell_type": "markdown",
   "metadata": {},
   "source": [
    "## GALAPY code"
   ]
  },
  {
   "cell_type": "code",
   "execution_count": null,
   "metadata": {},
   "outputs": [],
   "source": [
    "from galapy.PhotometricSystem import print_filters\n",
    "print_filters()"
   ]
  },
  {
   "cell_type": "code",
   "execution_count": null,
   "metadata": {},
   "outputs": [],
   "source": [
    "def print_row_values(row_number, column_list, fits_file):\n",
    "    with fits.open(fits_file) as hdul:\n",
    "        data = hdul[1].data\n",
    "        if row_number < 0 or row_number >= len(data):\n",
    "            print(f\"Row number {row_number} is out of range.\")\n",
    "            return\n",
    "        \n",
    "        row = data[row_number]\n",
    "        # Convert numpy.float to normal Python float\n",
    "        values = [float(row[column]) if isinstance(row[column], (np.float32, np.float64)) else row[column]\n",
    "                  for column in column_list if column in data.columns.names]\n",
    "        print(values)\n",
    "\n",
    "\n",
    "print_row_values(20, columns_with_error, emu_g23_mlj_catalog_path)"
   ]
  },
  {
   "cell_type": "code",
   "execution_count": null,
   "metadata": {},
   "outputs": [],
   "source": [
    "catalogue = cat_to_dict(\n",
    "    emu_g23_mlj_catalog_path, id_field='name', err_field='_err',\n",
    "    meta_fields = ['redshift', 'redshift_err'],\n",
    "    skip_fields = ['ra', 'dec', 'semimaj_arcsec', 'axial_ratio', 'pos_angle', '*_flag']\n",
    ")\n",
    "\n"
   ]
  },
  {
   "cell_type": "markdown",
   "metadata": {},
   "source": [
    "# Run SED Fitting"
   ]
  },
  {
   "cell_type": "markdown",
   "metadata": {},
   "source": [
    "## Get and plot the Results"
   ]
  },
  {
   "cell_type": "code",
   "execution_count": null,
   "metadata": {},
   "outputs": [],
   "source": [
    "from galapy.sampling.Results import load_results\n",
    "\n",
    "res = load_results('/home/polaris/Lab_Astro/data/344680520004824_emcee_results_light.galapy.hdf5')\n",
    "\n",
    "model = res.get_model()\n",
    "observation = res.get_observation()\n",
    "handler = res.get_handler()\n",
    "print('The run has ', res.Ndof, 'degrees of freedom')"
   ]
  },
  {
   "cell_type": "code",
   "execution_count": null,
   "metadata": {},
   "outputs": [],
   "source": [
    "res.get_stored_quantities()"
   ]
  },
  {
   "cell_type": "code",
   "execution_count": null,
   "metadata": {},
   "outputs": [],
   "source": [
    "print(f\"Best-fitting stellar mass: {res.get_bestfit('Mstar'):.2e} Msol\")\n",
    "print(f\"Median stellar mass: {res.get_median('Mstar'):.2e} Msol\")\n",
    "print(res.get_bestfit('Mdust'))\n",
    "print(res.get_bestfit('Zstar'))\n",
    "print(res.get_bestfit('Zgas'))\n",
    "print(res.get_bestfit('SFR'))\n",
    "print(res.get_bestfit('TMC'))\n",
    "print(res.get_bestfit('TDD'))\n"
   ]
  },
  {
   "cell_type": "code",
   "execution_count": null,
   "metadata": {},
   "outputs": [],
   "source": [
    "# If plot_contours=True it breaks the code\n",
    "\n",
    "fig, axes = plt.subplots(2,1,figsize=(6,5),tight_layout=True,\n",
    "                                      sharex = True,\n",
    "                         gridspec_kw={'height_ratios':(4.5,1.5), 'hspace':0.0})\n",
    "\n",
    "###################################################\n",
    "# Plot the SED:\n",
    "\n",
    "_ = gplot.sed_flux_res(\n",
    "    res, plot_components=True, plot_observation=True, plot_contours=False,\n",
    "    ax = axes[0], # passing the first Axis to the ax argument\n",
    "    ax_kwargs = {\n",
    "       'xlim':(1.e+2, 1.e+10),\n",
    "       'ylim':(1.e-10,1.e+8),\n",
    "    },\n",
    ")\n",
    "\n",
    "###################################################\n",
    "# Plot the residuals\n",
    "\n",
    "_ = gplot.sed_residuals_res(\n",
    "    res, frame='obs', plot_contours=False, plot_chi2 = True,\n",
    "    ax = axes[1], # passing the second Axis to the ax argument\n",
    "    text_kwargs={'loc':'lower right'},\n",
    "    ax_kwargs={\n",
    "       'xlim':(1.e+2, 1.e+10),\n",
    "       'ylim':(-2.5e+2,2.5e+2),\n",
    "    },\n",
    ")\n",
    "\n"
   ]
  }
 ],
 "metadata": {
  "kernelspec": {
   "display_name": "labastro",
   "language": "python",
   "name": "python3"
  },
  "language_info": {
   "codemirror_mode": {
    "name": "ipython",
    "version": 3
   },
   "file_extension": ".py",
   "mimetype": "text/x-python",
   "name": "python",
   "nbconvert_exporter": "python",
   "pygments_lexer": "ipython3",
   "version": "3.10.16"
  }
 },
 "nbformat": 4,
 "nbformat_minor": 2
}
