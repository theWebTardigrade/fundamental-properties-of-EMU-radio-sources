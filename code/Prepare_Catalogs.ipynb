{
 "cells": [
  {
   "cell_type": "markdown",
   "id": "94d63de1",
   "metadata": {},
   "source": [
    "# Prepare the Catalogs"
   ]
  },
  {
   "cell_type": "markdown",
   "id": "a202adab",
   "metadata": {},
   "source": [
    "Important functions that prepare the downloaded catalogs for the cross-matching, soms and SED fitting.\n",
    "Clear the catalogs for non-detections."
   ]
  },
  {
   "cell_type": "code",
   "execution_count": 27,
   "id": "bea44ecd",
   "metadata": {},
   "outputs": [],
   "source": [
    "# Libraries\n",
    "from astropy.table import Table\n",
    "import missingno\n",
    "import numpy as np"
   ]
  },
  {
   "cell_type": "code",
   "execution_count": 3,
   "id": "fd9ac1ac",
   "metadata": {},
   "outputs": [],
   "source": [
    "# Insert the path of the downloaded catalogs\n",
    "emu_catalog_path = '/data/mfonseca/survey_data/EMU_data/EMU_0102-32/EMU_0102-32_1comp.fits'\n",
    "des_catalog_path = '/data/mfonseca/survey_data/DES_data/DES_in_EMU_0102-32_square.fits'\n",
    "viking_catalog_path = '/data/mfonseca/survey_data/VIKING_data/VIKING_in_EMU_0102-32.fits'\n",
    "catwise_catalog_path = '/data/mfonseca/survey_data/CATWISE_data/CATWISE2020_in_EMU_0102-32.fits'"
   ]
  },
  {
   "cell_type": "markdown",
   "id": "5ac67cb4",
   "metadata": {},
   "source": [
    "## Convert VEGA magnitude to AB magnitude (VIKING, CATWISE)"
   ]
  },
  {
   "cell_type": "code",
   "execution_count": null,
   "id": "e1b1b879",
   "metadata": {},
   "outputs": [],
   "source": [
    "def fix_ab_magnitude(file_path, ab_offset, mag_columns):\n",
    "    '''\n",
    "    Converts the vega magnitudes to ab magnitudes\n",
    "\n",
    "    Args:\n",
    "        file_path (str): Path to the FITS file.\n",
    "        ab_offset (list): List of offsets for each magnitude column.\n",
    "        mag_columns (list): List of magnitude column names to be corrected, same order as ab_offset.\n",
    "    Returns:\n",
    "        None: The function modifies the FITS file in place.\n",
    "    \n",
    "    '''\n",
    "\n",
    "    catalog_table = Table.read(file_path)\n",
    "    catalog_df = catalog_table.to_pandas()\n",
    "\n",
    "    for col in mag_columns:\n",
    "        # Apply the AB magnitude correction\n",
    "        index = mag_columns.index(col)\n",
    "        catalog_df[col] = catalog_df[col] + ab_offset[index]\n",
    "\n",
    "\n",
    "    # Save the updated DataFrame back to the original FITS file\n",
    "    updated_catalog_table = Table.from_pandas(catalog_df)\n",
    "    updated_catalog_table.write(file_path, overwrite=True)"
   ]
  },
  {
   "cell_type": "code",
   "execution_count": null,
   "id": "52aa3ef1",
   "metadata": {},
   "outputs": [],
   "source": [
    "catwise_magnitude_columns = ['w1mpro', 'w2mpro']\n",
    "viking_magnitude_columns = ['zPetroMag', 'yPetroMag', 'jPetroMag', 'hPetroMag', 'ksPetroMag']\n",
    "\n",
    "# https://wise2.ipac.caltech.edu/docs/release/allsky/expsup/sec4_4h.html\n",
    "catwise_ab_offset = [2.699, 3.339]\n",
    "# http://casu.ast.cam.ac.uk/surveys-projects/vista/technical/filter-set\n",
    "viking_ab_offset = [0.502, 0.600, 0.916, 1.366, 1.827]"
   ]
  },
  {
   "cell_type": "code",
   "execution_count": null,
   "id": "c57ec9a0",
   "metadata": {},
   "outputs": [],
   "source": [
    "fix_ab_magnitude(catwise_catalog_path, catwise_ab_offset, catwise_magnitude_columns)\n",
    "fix_ab_magnitude(viking_catalog_path, viking_ab_offset, viking_magnitude_columns)"
   ]
  },
  {
   "cell_type": "markdown",
   "id": "99402a61",
   "metadata": {},
   "source": [
    "## Calculate Colors (VIKING, CATWISE)"
   ]
  },
  {
   "cell_type": "code",
   "execution_count": null,
   "id": "61906140",
   "metadata": {},
   "outputs": [],
   "source": [
    "# For the VIKING catalog\n",
    "catalog_table = Table.read(viking_catalog_path)\n",
    "viking_catalog_df = catalog_table.to_pandas()\n",
    "\n",
    "viking_catalog_df['z_y'] = viking_catalog_df['zPetroMag'] - viking_catalog_df['yPetroMag']\n",
    "viking_catalog_df['y_j'] = viking_catalog_df['yPetroMag'] - viking_catalog_df['jPetroMag']\n",
    "viking_catalog_df['j_h'] = viking_catalog_df['jPetroMag'] - viking_catalog_df['hPetroMag']\n",
    "viking_catalog_df['h_ks'] = viking_catalog_df['hPetroMag'] - viking_catalog_df['ksPetroMag']\n",
    "\n",
    "updated_catalog_table = Table.from_pandas(viking_catalog_df)\n",
    "updated_catalog_table.write(viking_catalog_path, overwrite=True)"
   ]
  },
  {
   "cell_type": "code",
   "execution_count": null,
   "id": "69bb5545",
   "metadata": {},
   "outputs": [],
   "source": [
    "# For the CATWISE catalog\n",
    "catwise_catalog_table = Table.read(catwise_catalog_path)\n",
    "catwise_catalog_df = catwise_catalog_table.to_pandas()\n",
    "\n",
    "catwise_catalog_df['w1_w2'] = catwise_catalog_df['w1mpro'] - catwise_catalog_df['w2mpro']\n",
    "\n",
    "updated_catalog_table = Table.from_pandas(catwise_catalog_df)\n",
    "updated_catalog_table.write(catwise_catalog_path, overwrite=True)"
   ]
  },
  {
   "cell_type": "markdown",
   "id": "a838467c",
   "metadata": {},
   "source": [
    "# Filter VIKING and CATWISE for objects that have full correct photometry"
   ]
  },
  {
   "cell_type": "code",
   "execution_count": null,
   "id": "021fffe1",
   "metadata": {},
   "outputs": [
    {
     "name": "stdout",
     "output_type": "stream",
     "text": [
      "total number of objects in VIKING catalog: 2991542\n",
      "total number of objects in VIKING catalog after filtering: 2358794\n"
     ]
    }
   ],
   "source": [
    "# For VIKING catalog\n",
    "\n",
    "catalog_table = Table.read(viking_catalog_path)\n",
    "viking_catalog_df = catalog_table.to_pandas()\n",
    "\n",
    "print(f'total number of objects in VIKING catalog: {len(viking_catalog_df)}')\n",
    "\n",
    "accept_mask = (viking_catalog_df['zPetroMag'] != -99) & (['jPetroMag'] != -99) & (['yPetroMag'] != -99) & (['ksPetroMag'] != -99) & (['hPetroMag'] != -99)\n",
    "\n",
    "# Recomendation from https://www.eso.org/rm/api/v1/public/releaseDescriptions/135, page 7\n",
    "vikings_match = (viking_catalog_df['zppErrBits']<255) & (viking_catalog_df['yppErrBits']<255) & (viking_catalog_df['ksErrBits']<255) & (viking_catalog_df['jErrBits']<255) & (viking_catalog_df['hErrBits']<255)\n",
    "\n",
    "\n",
    "total_mask = accept_mask & vikings_match\n",
    "\n",
    "filtered_viking_catalog_df = viking_catalog_df[total_mask]\n",
    "\n",
    "print(f'total number of objects in VIKING catalog after filtering: {len(filtered_viking_catalog_df)}')\n",
    "\n",
    "filtered_viking_catalog_path = '/data/mfonseca/survey_data/VIKING_data/VIKING_in_EMU_0102-32_filtered.fits'\n",
    "\n",
    "updated_catalog_table = Table.from_pandas(filtered_viking_catalog_df)\n",
    "updated_catalog_table.write(filtered_viking_catalog_path, overwrite=True)"
   ]
  },
  {
   "cell_type": "code",
   "execution_count": null,
   "id": "f5467bab",
   "metadata": {},
   "outputs": [
    {
     "name": "stdout",
     "output_type": "stream",
     "text": [
      "total number of objects in CATWISE catalog: 1650566\n",
      "total number of objects in CATWISE catalog after filtering: 1650566\n"
     ]
    }
   ],
   "source": [
    "# For CATWISE catalog\n",
    "\n",
    "catalog_table = Table.read(catwise_catalog_path)\n",
    "catwise_catalog_df = catalog_table.to_pandas()\n",
    "\n",
    "print(f'total number of objects in CATWISE catalog: {len(catwise_catalog_df)}')\n",
    "\n",
    "accept_mask = (catwise_catalog_df['w1mpro'] != -99) & (catwise_catalog_df['w2mpro'] != -99)\n",
    "\n",
    "total_mask = accept_mask\n",
    "\n",
    "filtered_catwise_catalog_df = catwise_catalog_df[total_mask]\n",
    "\n",
    "print(f'total number of objects in CATWISE catalog after filtering: {len(filtered_catwise_catalog_df)}')\n",
    "\n",
    "filtered_catwise_catalog_path = '/data/mfonseca/survey_data/CATWISE_data/CATWISE_in_EMU_0102-32_filtered.fits'\n",
    "\n",
    "updated_catalog_table = Table.from_pandas(filtered_catwise_catalog_df)\n",
    "updated_catalog_table.write(filtered_catwise_catalog_path, overwrite=True)\n"
   ]
  },
  {
   "cell_type": "code",
   "execution_count": 35,
   "id": "07a24a17",
   "metadata": {},
   "outputs": [
    {
     "name": "stdout",
     "output_type": "stream",
     "text": [
      "the nan value is: [-9.99999489e+08]\n",
      "2308480 (77.17%) objects have a nan value in the z filter\n",
      "1591287 (53.19%) objects have a nan value in the y filter\n",
      "1616915 (54.05%) objects have a nan value in the j filter\n",
      "1213849 (40.58%) objects have a nan value in the h filter\n",
      "1205391 (40.29%) objects have a nan value in the ks filter\n"
     ]
    }
   ],
   "source": [
    "\n",
    "catalog_table = Table.read(viking_catalog_path)\n",
    "viking_catalog_df = catalog_table.to_pandas()\n",
    "\n",
    "print(f'the nan value is: {viking_catalog_df['zPetroMag'].tail(10).unique()}')\n",
    "\n",
    "z_filter = viking_catalog_df[~np.isclose(viking_catalog_df['zPetroMag'], -9.99999489e+08)]\n",
    "y_filter = viking_catalog_df[~np.isclose(viking_catalog_df['yPetroMag'], -9.99999489e+08)]\n",
    "j_filter = viking_catalog_df[~np.isclose(viking_catalog_df['jPetroMag'], -9.99999489e+08)]\n",
    "h_filter = viking_catalog_df[~np.isclose(viking_catalog_df['hPetroMag'], -9.99999489e+08)]\n",
    "ks_filter = viking_catalog_df[~np.isclose(viking_catalog_df['ksPetroMag'], -9.99999489e+08)]\n",
    "\n",
    "\n",
    "print(f'{len(z_filter)} ({(len(z_filter)/len(viking_catalog_df))*100:.2f}%) objects have a nan value in the z filter')\n",
    "print(f'{len(y_filter)} ({(len(y_filter)/len(viking_catalog_df))*100:.2f}%) objects have a nan value in the y filter')\n",
    "print(f'{len(j_filter)} ({(len(j_filter)/len(viking_catalog_df))*100:.2f}%) objects have a nan value in the j filter')\n",
    "print(f'{len(h_filter)} ({(len(h_filter)/len(viking_catalog_df))*100:.2f}%) objects have a nan value in the h filter')\n",
    "print(f'{len(ks_filter)} ({(len(ks_filter)/len(viking_catalog_df))*100:.2f}%) objects have a nan value in the ks filter')"
   ]
  }
 ],
 "metadata": {
  "kernelspec": {
   "display_name": "rapids-25.02",
   "language": "python",
   "name": "python3"
  },
  "language_info": {
   "codemirror_mode": {
    "name": "ipython",
    "version": 3
   },
   "file_extension": ".py",
   "mimetype": "text/x-python",
   "name": "python",
   "nbconvert_exporter": "python",
   "pygments_lexer": "ipython3",
   "version": "3.12.9"
  }
 },
 "nbformat": 4,
 "nbformat_minor": 5
}
