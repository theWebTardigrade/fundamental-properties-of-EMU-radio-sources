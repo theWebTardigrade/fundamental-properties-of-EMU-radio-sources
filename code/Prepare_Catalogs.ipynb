{
 "cells": [
  {
   "cell_type": "markdown",
   "id": "94d63de1",
   "metadata": {},
   "source": [
    "# Prepare the Catalogs"
   ]
  },
  {
   "cell_type": "markdown",
   "id": "a202adab",
   "metadata": {},
   "source": [
    "Important functions that prepare the downloaded catalogs for the cross-matching, soms and SED fitting"
   ]
  },
  {
   "cell_type": "code",
   "execution_count": 1,
   "id": "bea44ecd",
   "metadata": {},
   "outputs": [],
   "source": [
    "# Libraries\n",
    "from astropy.table import Table"
   ]
  },
  {
   "cell_type": "code",
   "execution_count": null,
   "id": "fd9ac1ac",
   "metadata": {},
   "outputs": [],
   "source": [
    "# Insert the path of the downloaded catalogs\n",
    "emu_catalog_path = '/data/mfonseca/survey_data/EMU_data/EMU_0102-32/EMU_0102-32_1comp.fits'\n",
    "des_catalog_path = '/data/mfonseca/survey_data/DES_data/DES_in_EMU_0102-32_square.fits'\n",
    "viking_catalog_path = '/data/mfonseca/survey_data/VIKING_data/VIKING_in_EMU_0102-32.fits'\n",
    "catwise_catalog_path = '/data/mfonseca/survey_data/CATWISE_data/CATWISE2020_in_EMU_0102-32.fits'"
   ]
  },
  {
   "cell_type": "markdown",
   "id": "5ac67cb4",
   "metadata": {},
   "source": [
    "## Convert VEGA magnitude to AB magnitude (VIKING, CATWISE)"
   ]
  },
  {
   "cell_type": "code",
   "execution_count": null,
   "id": "e1b1b879",
   "metadata": {},
   "outputs": [],
   "source": [
    "def fix_ab_magnitude(file_path, ab_offset, mag_columns):\n",
    "    '''\n",
    "    Converts the vega magnitudes to ab magnitudes\n",
    "\n",
    "    Args:\n",
    "        file_path (str): Path to the FITS file.\n",
    "        ab_offset (list): List of offsets for each magnitude column.\n",
    "        mag_columns (list): List of magnitude column names to be corrected, same order as ab_offset.\n",
    "    Returns:\n",
    "        None: The function modifies the FITS file in place.\n",
    "    \n",
    "    '''\n",
    "\n",
    "    catalog_table = Table.read(file_path)\n",
    "    catalog_df = catalog_table.to_pandas()\n",
    "\n",
    "    for col in mag_columns:\n",
    "        # Apply the AB magnitude correction\n",
    "        index = mag_columns.index(col)\n",
    "        catalog_df[col] = catalog_df[col] + ab_offset[index]\n",
    "\n",
    "\n",
    "    # Save the updated DataFrame back to the original FITS file\n",
    "    updated_catalog_table = Table.from_pandas(catalog_df)\n",
    "    updated_catalog_table.write(file_path, overwrite=True)"
   ]
  },
  {
   "cell_type": "code",
   "execution_count": null,
   "id": "52aa3ef1",
   "metadata": {},
   "outputs": [],
   "source": [
    "catwise_magnitude_columns = ['w1mpro', 'w2mpro']\n",
    "viking_magnitude_columns = ['zPetroMag', 'yPetroMag', 'jPetroMag', 'hPetroMag', 'ksPetroMag']\n",
    "\n",
    "# https://wise2.ipac.caltech.edu/docs/release/allsky/expsup/sec4_4h.html\n",
    "catwise_ab_offset = [2.699, 3.339]\n",
    "# http://casu.ast.cam.ac.uk/surveys-projects/vista/technical/filter-set\n",
    "viking_ab_offset = [0.502, 0.600, 0.916, 1.366, 1.827]"
   ]
  },
  {
   "cell_type": "code",
   "execution_count": null,
   "id": "c57ec9a0",
   "metadata": {},
   "outputs": [],
   "source": [
    "fix_ab_magnitude(catwise_catalog_path, catwise_ab_offset, catwise_magnitude_columns)\n",
    "fix_ab_magnitude(viking_catalog_path, viking_ab_offset, viking_magnitude_columns)"
   ]
  },
  {
   "cell_type": "markdown",
   "id": "99402a61",
   "metadata": {},
   "source": [
    "## Calculate Colors (VIKING, CATWISE)"
   ]
  },
  {
   "cell_type": "code",
   "execution_count": null,
   "id": "61906140",
   "metadata": {},
   "outputs": [],
   "source": [
    "# For the VIKING catalog\n",
    "catalog_table = Table.read(viking_catalog_path)\n",
    "viking_catalog_df = catalog_table.to_pandas()\n",
    "\n",
    "viking_catalog_df['z_y'] = viking_catalog_df['zPetroMag'] - viking_catalog_df['yPetroMag']\n",
    "viking_catalog_df['y_j'] = viking_catalog_df['yPetroMag'] - viking_catalog_df['jPetroMag']\n",
    "viking_catalog_df['j_h'] = viking_catalog_df['jPetroMag'] - viking_catalog_df['hPetroMag']\n",
    "viking_catalog_df['h_ks'] = viking_catalog_df['hPetroMag'] - viking_catalog_df['ksPetroMag']\n",
    "\n",
    "updated_catalog_table = Table.from_pandas(viking_catalog_df)\n",
    "updated_catalog_table.write(viking_catalog_path, overwrite=True)"
   ]
  },
  {
   "cell_type": "code",
   "execution_count": null,
   "id": "69bb5545",
   "metadata": {},
   "outputs": [],
   "source": [
    "# For the CATWISE catalog\n",
    "catwise_catalog_table = Table.read(catwise_catalog_path)\n",
    "catwise_catalog_df = catwise_catalog_table.to_pandas()\n",
    "\n",
    "catwise_catalog_df['w1_w2'] = catwise_catalog_df['w1mpro'] - catwise_catalog_df['w2mpro']\n",
    "\n",
    "updated_catalog_table = Table.from_pandas(catwise_catalog_df)\n",
    "updated_catalog_table.write(catwise_catalog_path, overwrite=True)"
   ]
  }
 ],
 "metadata": {
  "kernelspec": {
   "display_name": "rapids-25.02",
   "language": "python",
   "name": "python3"
  },
  "language_info": {
   "codemirror_mode": {
    "name": "ipython",
    "version": 3
   },
   "file_extension": ".py",
   "mimetype": "text/x-python",
   "name": "python",
   "nbconvert_exporter": "python",
   "pygments_lexer": "ipython3",
   "version": "3.12.9"
  }
 },
 "nbformat": 4,
 "nbformat_minor": 5
}
