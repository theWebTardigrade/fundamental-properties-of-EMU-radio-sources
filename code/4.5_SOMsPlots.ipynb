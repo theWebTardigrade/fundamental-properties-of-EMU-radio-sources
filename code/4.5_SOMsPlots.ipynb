{
 "cells": [
  {
   "cell_type": "markdown",
   "id": "5c8e71a9",
   "metadata": {},
   "source": [
    "# Self Organized Maps (SOMs) - Create Gifs"
   ]
  },
  {
   "cell_type": "code",
   "execution_count": 1,
   "id": "3642b8e1",
   "metadata": {},
   "outputs": [],
   "source": [
    "observatory = '/data/mfonseca/'\n",
    "my_computer = '/home/polaris/Lab_Astro/data/'\n",
    "\n",
    "directory = my_computer"
   ]
  },
  {
   "cell_type": "markdown",
   "id": "b3350816",
   "metadata": {
    "vscode": {
     "languageId": "plaintext"
    }
   },
   "source": [
    "## Import Libraries"
   ]
  },
  {
   "cell_type": "code",
   "execution_count": 2,
   "id": "02d8df96",
   "metadata": {},
   "outputs": [],
   "source": [
    "import matplotlib.pyplot as plt\n",
    "\n",
    "# Create GIFs\n",
    "import imageio\n",
    "import os\n",
    "import natsort\n",
    "\n",
    "import numpy as np\n",
    "import pandas as pd\n",
    "\n",
    "from astropy.table import Table\n",
    "\n",
    "# SimpSOM, https://simpsom.readthedocs.io\n",
    "import simpsom as sps\n",
    "\n",
    "# CuPY\n",
    "# import cupy as cp"
   ]
  },
  {
   "cell_type": "markdown",
   "id": "098d4397",
   "metadata": {},
   "source": [
    "## GIF Creator"
   ]
  },
  {
   "cell_type": "code",
   "execution_count": 3,
   "id": "3a1b05b6",
   "metadata": {},
   "outputs": [],
   "source": [
    "def create_gif_from_folder(folder_path, gif_filename=\"images.gif\", duration=0.5):\n",
    "    \"\"\"\n",
    "    Generates a GIF from the ordered images in a folder and saves it in the same folder.\n",
    "\n",
    "    Args:\n",
    "        folder_path (str): The path to the folder containing the images.\n",
    "        gif_filename (str, optional): The name of the output GIF file.\n",
    "            Defaults to \"images.gif\".  The file will be saved in the\n",
    "            same folder as the images.\n",
    "        duration (float, optional): The duration of each frame in the GIF,\n",
    "            in seconds. Defaults to 0.5.\n",
    "    \"\"\"\n",
    "    # Get a list of all files in the folder\n",
    "    files = os.listdir(folder_path)\n",
    "\n",
    "    # Use natural sort to order the files correctly\n",
    "    files = natsort.natsorted(files)\n",
    "\n",
    "    # Filter out non-image files (optional, but recommended)\n",
    "    image_files = [f for f in files if f.lower().endswith(('.png', '.jpg', '.jpeg', '.gif', '.bmp'))]\n",
    "\n",
    "    if not image_files:\n",
    "        print(f\"Error: No image files found in the folder: {folder_path}\")\n",
    "        return\n",
    "\n",
    "    # Construct the full path to each image\n",
    "    image_paths = [os.path.join(folder_path, file) for file in image_files]\n",
    "\n",
    "    # Read the images using imageio\n",
    "    images = []\n",
    "    for image_path in image_paths:\n",
    "        try:\n",
    "            images.append(imageio.imread(image_path))\n",
    "        except ValueError:\n",
    "            print(f\"Warning: Could not read image file: {image_path}. Skipping.\")\n",
    "            continue  # Skip to the next file\n",
    "\n",
    "    if not images:\n",
    "        print(f\"Error: No readable image files found in the folder: {folder_path}\")\n",
    "        return\n",
    "\n",
    "    # Construct the full path for the output GIF\n",
    "    gif_filepath = os.path.join(folder_path, gif_filename)\n",
    "\n",
    "    # Create the GIF\n",
    "    imageio.mimsave(gif_filepath, images, duration=duration)\n",
    "\n",
    "    print(f\"GIF created successfully: {gif_filepath}\")"
   ]
  },
  {
   "cell_type": "markdown",
   "id": "2d8f6d79",
   "metadata": {},
   "source": [
    "## Original data"
   ]
  },
  {
   "cell_type": "code",
   "execution_count": null,
   "id": "bc9b3579",
   "metadata": {},
   "outputs": [],
   "source": [
    "original_data_path = '/home/polaris/Lab_Astro/data/soms/maps1/EMU_0102-32_DESY6GOLD_VIKINGDR5_CATWISE_noMag_zcaWhite.csv'\n",
    "data_white = pd.read_csv(original_data_path)"
   ]
  },
  {
   "cell_type": "markdown",
   "id": "a5e76841",
   "metadata": {},
   "source": [
    "## Define folder for maps"
   ]
  },
  {
   "cell_type": "code",
   "execution_count": null,
   "id": "3c12e18a",
   "metadata": {},
   "outputs": [],
   "source": [
    "folder_som_epochs = '/home/polaris/Lab_Astro/data/soms/maps1/'\n",
    "feature_columns = ['DESY6_mag_auto_g_extcorr',\n",
    "                   'VKG_zAperMag3_ab_extcorr',\n",
    "                   'CAT_w1mpro_ab',\n",
    "                   'DESY6_g_r_extcorr', \n",
    "                   'DESY6_r_i_extcorr', \n",
    "                   'DESY6_i_z_extcorr', \n",
    "                   'DESY6_z_y_extcorr', \n",
    "                   'VKG_z_y_am3_extcorr', \n",
    "                   'VKG_y_j_am3_extcorr', \n",
    "                   'VKG_j_h_am3_extcorr', \n",
    "                   'VKG_h_ks_am3_extcorr', \n",
    "                   'CAT_w1_w2_ab',\n",
    "                   'DESY6_dnf_z', \n",
    "                   'DESY6_spread_model_g', \n",
    "                   'DESY6_spread_model_r', \n",
    "                   'DESY6_spread_model_i', \n",
    "                   'DESY6_spread_model_z']"
   ]
  },
  {
   "cell_type": "markdown",
   "id": "b87ad203",
   "metadata": {},
   "source": [
    "## GIF of SOM by epoch"
   ]
  },
  {
   "cell_type": "code",
   "execution_count": null,
   "id": "0267f8c3",
   "metadata": {},
   "outputs": [],
   "source": [
    "num_epochs = 50\n",
    "\n",
    "for i in range(1,num_epochs):\n",
    "    name_file = f'{folder_som_epochs}trained_som_' + str(i) + 'epoch'+ '.npy'\n",
    "    \n",
    "    # Define the SOM\n",
    "    sommap = sps.SOMNet(\n",
    "    17,\n",
    "    16,\n",
    "    data_white,\n",
    "    load_file = name_file,\n",
    "    debug= False,\n",
    "    )\n",
    "\n",
    "    # Plot and save the som\n",
    "    som_file = f'{folder_som_epochs}epochs/trained_som_' + str(i) + 'epoch' + '.png'\n",
    "    sommap.plot_map_by_difference(show=False, print_out=True, title='SOM PCA Whitened data 100 Epochs', figsize=(8,8), file_name = image_file)\n",
    "\n",
    "    # Plot and save the features\n",
    "    for i in range(len(feature_columns)):\n",
    "        feature_file_num = f'{i+1:03d}'\n",
    "        feature_file = f'{folder_som_epochs}feature{feature_file_num}/feature{feature_file_num}epoch.png'\n",
    "        sommap.plot_map_by_feature(\n",
    "            feature_ix=i,\n",
    "            show=False,\n",
    "            print_out=True,\n",
    "            cbar_label=feature_columns[i],\n",
    "            figsize=(10, 10),\n",
    "            file_name=feature_file\n",
    "        )\n"
   ]
  },
  {
   "cell_type": "markdown",
   "id": "8ce498ed",
   "metadata": {},
   "source": [
    "## GIF of Features"
   ]
  },
  {
   "cell_type": "markdown",
   "id": "891579c4",
   "metadata": {},
   "source": [
    "## GIF of Quantization Error (QE) and Topographic Error (TE)"
   ]
  }
 ],
 "metadata": {
  "kernelspec": {
   "display_name": "labastro",
   "language": "python",
   "name": "python3"
  },
  "language_info": {
   "codemirror_mode": {
    "name": "ipython",
    "version": 3
   },
   "file_extension": ".py",
   "mimetype": "text/x-python",
   "name": "python",
   "nbconvert_exporter": "python",
   "pygments_lexer": "ipython3",
   "version": "3.10.16"
  }
 },
 "nbformat": 4,
 "nbformat_minor": 5
}
