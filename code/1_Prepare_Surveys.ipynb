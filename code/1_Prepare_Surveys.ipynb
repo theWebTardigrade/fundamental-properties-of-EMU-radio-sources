{
 "cells": [
  {
   "cell_type": "markdown",
   "id": "94d63de1",
   "metadata": {},
   "source": [
    "# Prepare All Catalogs"
   ]
  },
  {
   "cell_type": "markdown",
   "id": "a202adab",
   "metadata": {},
   "source": [
    "This notebook contains a list of functions that prepare the complementary catalogs for future work.\n",
    "\n",
    "Make sure all of the functions add new columns to the catalogs instead of replace the values of the old was, to avoid replacing multiple times and making a mistake\n",
    "\n",
    "It clears the catalogs of non-detections and flagged objects."
   ]
  },
  {
   "cell_type": "markdown",
   "id": "22ad527e",
   "metadata": {},
   "source": [
    "## Import libraries"
   ]
  },
  {
   "cell_type": "code",
   "execution_count": 1,
   "id": "bea44ecd",
   "metadata": {},
   "outputs": [],
   "source": [
    "# Astropy\n",
    "from astropy.table import Table\n",
    "from astropy.io import fits\n",
    "from astropy.coordinates import SkyCoord\n",
    "from astropy import units as u\n",
    "\n",
    "import missingno\n",
    "import numpy as np"
   ]
  },
  {
   "cell_type": "markdown",
   "id": "167eceac",
   "metadata": {},
   "source": [
    "## Define the paths to the main catalogs to use"
   ]
  },
  {
   "cell_type": "code",
   "execution_count": 2,
   "id": "6861e12a",
   "metadata": {},
   "outputs": [],
   "source": [
    "observatory = '/data/mfonseca/'\n",
    "my_computer = '/home/polaris/Lab_Astro/data/'\n",
    "\n",
    "directory = my_computer"
   ]
  },
  {
   "cell_type": "code",
   "execution_count": 3,
   "id": "fd9ac1ac",
   "metadata": {},
   "outputs": [],
   "source": [
    "# EMU catalogs\n",
    "emu_catalog_path = directory + 'survey_data/EMU_data/EMU_0102-32/EMU_0102-32_1comp.fits'\n",
    "\n",
    "# DES catalogs\n",
    "desy6gold_catalog_path = directory + 'survey_data/DES_data/DESY6GOLD_in_EMU_0102-32.fits'\n",
    "\n",
    "\n",
    "# VIKING catalogs\n",
    "vikingdr5_catalog_path = directory + 'survey_data/VIKING_data/VIKINGDR5_in_EMU_0102-32_allapermag3.fits'\n",
    "\n",
    "# CatWISE catalogs\n",
    "catwise2020_catalog_path = directory + 'survey_data/CATWISE_data/CATWISE2020_in_EMU_0102-32.fits'\n",
    "\n",
    "# Matched\n",
    "matched_catalog_path = directory + 'cross_match/without_EMU/DESY6_VKG_CAT_noMags/DESY6_VKG_CAT_noMags_filtered.fits'"
   ]
  },
  {
   "cell_type": "code",
   "execution_count": 4,
   "id": "c111e39f",
   "metadata": {},
   "outputs": [],
   "source": [
    "def replace_close_bad_value_with_nan(file_path, columns, bad_value, tolerance):\n",
    "    '''\n",
    "    Replaces all occurrences of values \"close\" to a specified bad value with NaN\n",
    "    in selected columns of a FITS file using np.isclose().\n",
    "\n",
    "    Args:\n",
    "        file_path (str): Path to the FITS file.\n",
    "        columns (list): List of column names to process.\n",
    "        bad_value (float or int): The bad value to find close matches for.\n",
    "        tolerance (float): The maximum absolute difference for a value to be considered \"close\".\n",
    "    Returns:\n",
    "        None: The function modifies the FITS file in place.\n",
    "    '''\n",
    "    catalog_table = Table.read(file_path)\n",
    "    catalog_df = catalog_table.to_pandas()\n",
    "\n",
    "    for col in columns:\n",
    "        if catalog_df[col].dtype in [np.float64, np.float32, np.int64, np.int32]:\n",
    "            close_mask = np.isclose(catalog_df[col], bad_value, atol=tolerance)\n",
    "            catalog_df.loc[close_mask, col] = np.nan\n",
    "        else:\n",
    "            print(f\"Warning: Column '{col}' is not numeric. Skipping close value replacement.\")\n",
    "\n",
    "    updated_catalog_table = Table.from_pandas(catalog_df)\n",
    "    updated_catalog_table.write(file_path, overwrite=True)"
   ]
  },
  {
   "cell_type": "code",
   "execution_count": 5,
   "id": "1c683d77",
   "metadata": {},
   "outputs": [],
   "source": [
    "# Example usage:\n",
    "file_path = desy6gold_catalog_path\n",
    "columns_to_process = ['mag_auto_g', 'magerr_auto_g', 'mag_auto_r', 'magerr_auto_r', 'mag_auto_i', 'magerr_auto_i', 'mag_auto_z', 'magerr_auto_z', 'mag_auto_y', 'magerr_auto_y', ]\n",
    "bad_value_to_check = 99.0\n",
    "tolerance_level = 0.1\n",
    "replace_close_bad_value_with_nan(file_path, columns_to_process, bad_value_to_check, tolerance_level)"
   ]
  },
  {
   "cell_type": "markdown",
   "id": "5ac67cb4",
   "metadata": {},
   "source": [
    "## Convert VEGA magnitude to AB magnitude (VIKING DR5, CATWISE2020)"
   ]
  },
  {
   "cell_type": "markdown",
   "id": "6a8b97f6",
   "metadata": {},
   "source": [
    "While the DES DR2 magnitudes are already in the AB system, the VIKING DR5 and CATWISE2020 magnitudes are in the Vega system and need to be converted."
   ]
  },
  {
   "cell_type": "code",
   "execution_count": null,
   "id": "e1b1b879",
   "metadata": {},
   "outputs": [],
   "source": [
    "def fix_ab_magnitude(file_path, ab_offset, mag_columns, prefix=''):\n",
    "    '''\n",
    "    Converts Vega magnitudes to AB magnitudes.\n",
    "\n",
    "    Args:\n",
    "        file_path (str): Path to the FITS file.\n",
    "        ab_offset (list): List of offsets for each magnitude column.\n",
    "        mag_columns (list): List of base magnitude column names (without prefix).\n",
    "        prefix (str): Optional prefix to prepend to input column names only.\n",
    "    Returns:\n",
    "        None: The function modifies the FITS file in place.\n",
    "    '''\n",
    "    catalog_table = Table.read(file_path)\n",
    "    catalog_df = catalog_table.to_pandas()\n",
    "\n",
    "    bad_value = -999999488.0  # Define bad value\n",
    "\n",
    "    for idx, base_col in enumerate(mag_columns):\n",
    "        input_col = prefix + base_col\n",
    "        output_col = base_col + '_ab' \n",
    "        offset = ab_offset[idx]\n",
    "\n",
    "        # Initialize new column with NaNs\n",
    "        catalog_df[output_col] = np.nan\n",
    "\n",
    "        # Apply correction where value is valid\n",
    "        valid_mask = catalog_df[input_col] != bad_value\n",
    "        catalog_df.loc[valid_mask, output_col] = catalog_df.loc[valid_mask, input_col] + offset\n",
    "\n",
    "    # Save the updated DataFrame back to the original FITS file\n",
    "    updated_catalog_table = Table.from_pandas(catalog_df)\n",
    "    updated_catalog_table.write(file_path, overwrite=True)"
   ]
  },
  {
   "cell_type": "markdown",
   "id": "2efd206f",
   "metadata": {},
   "source": [
    "For the ViKING DR5 we used the two magnitudes recomended in the webpage of VSA: AperMagNoAperCorr3 and AperMag3."
   ]
  },
  {
   "cell_type": "code",
   "execution_count": null,
   "id": "e911dbff",
   "metadata": {},
   "outputs": [],
   "source": [
    "viking_AperMagNoAperCorr3_cols = ['zAperMagNoAperCorr3', 'yAperMagNoAperCorr3', 'jAperMagNoAperCorr3', 'hAperMagNoAperCorr3', 'ksAperMagNoAperCorr3']\n",
    "viking_AperMag3_cols = ['zAperMag3', 'yAperMag3', 'jAperMag3', 'hAperMag3', 'ksAperMag3']\n",
    "\n",
    "\n",
    "# http://casu.ast.cam.ac.uk/surveys-projects/vista/technical/filter-set\n",
    "viking_ab_offset = [0.502, 0.600, 0.916, 1.366, 1.827]\n",
    "\n",
    "fix_ab_magnitude(vikingdr5_catalog_path, viking_ab_offset, viking_AperMagNoAperCorr3_cols)\n",
    "fix_ab_magnitude(vikingdr5_catalog_path, viking_ab_offset, viking_AperMag3_cols)"
   ]
  },
  {
   "cell_type": "markdown",
   "id": "b3514a28",
   "metadata": {},
   "source": [
    "For the CATWISE2020 survey, given the big size of the aperture magnitudes, we use the PSF magnitudes."
   ]
  },
  {
   "cell_type": "code",
   "execution_count": null,
   "id": "fecf517c",
   "metadata": {},
   "outputs": [],
   "source": [
    "# For CATWISE2020\n",
    "catwise_psfmag_columns = ['w1mpro', 'w2mpro']\n",
    "\n",
    "# https://wise2.ipac.caltech.edu/docs/release/allsky/expsup/sec4_4h.html\n",
    "catwise_ab_offset = [2.699, 3.339]\n",
    "\n",
    "fix_ab_magnitude(catwise2020_catalog_path, catwise_ab_offset, catwise_psfmag_columns)"
   ]
  },
  {
   "cell_type": "markdown",
   "id": "1a3a7b1e",
   "metadata": {},
   "source": [
    "## Correct for extinction (DESY6GOLD, VIKING DR5)"
   ]
  },
  {
   "cell_type": "code",
   "execution_count": 6,
   "id": "ac71dd84",
   "metadata": {},
   "outputs": [],
   "source": [
    "def correct_extinction(file_path, mag_extinction_dict, bad_value):\n",
    "    '''\n",
    "    Corrects the extinction in the magnitudes of the catalog using the total extinction.\n",
    "\n",
    "    Args:\n",
    "        file_path (str): Path to the FITS file.\n",
    "        mag_extinction_dict (dict): Dictionary where\n",
    "            key = name of the magnitude column,\n",
    "            value = name of the extinction coefficient column.\n",
    "        bad_value (float): Sentinel value indicating invalid or missing data.\n",
    "    Returns:\n",
    "        None: The function modifies the FITS file in place.\n",
    "    '''\n",
    "\n",
    "    catalog_table = Table.read(file_path)\n",
    "    catalog_df = catalog_table.to_pandas()\n",
    "\n",
    "    for mag_col, excoef_col in mag_extinction_dict.items():\n",
    "        new_mag_col = mag_col + '_extcorr'\n",
    "\n",
    "        # Initialize new column with NaNs\n",
    "        catalog_df[new_mag_col] = np.nan\n",
    "\n",
    "        # Mask for valid entries\n",
    "        valid_mask = catalog_df[mag_col] != bad_value\n",
    "\n",
    "        # Apply extinction correction only where data is valid\n",
    "        catalog_df.loc[valid_mask, new_mag_col] = (\n",
    "            catalog_df.loc[valid_mask, mag_col] - catalog_df.loc[valid_mask, excoef_col]\n",
    "        )\n",
    "\n",
    "    # Save the updated DataFrame back to the original FITS file\n",
    "    updated_catalog_table = Table.from_pandas(catalog_df)\n",
    "    updated_catalog_table.write(file_path, overwrite=True)"
   ]
  },
  {
   "cell_type": "code",
   "execution_count": 7,
   "id": "64fb11f3",
   "metadata": {},
   "outputs": [],
   "source": [
    "# For DES Y6 GOLD\n",
    "des_extinction_dict = {\n",
    "    'mag_auto_g': 'a_fiducial_g',\n",
    "    'mag_auto_r': 'a_fiducial_r',\n",
    "    'mag_auto_i': 'a_fiducial_i',\n",
    "    'mag_auto_z': 'a_fiducial_z',\n",
    "    'mag_auto_y': 'a_fiducial_y',\n",
    "}\n",
    "\n",
    "correct_extinction(desy6gold_catalog_path, des_extinction_dict, np.nan)"
   ]
  },
  {
   "cell_type": "code",
   "execution_count": 9,
   "id": "eff6ba0a",
   "metadata": {},
   "outputs": [],
   "source": [
    "# For VIKING DR5\n",
    "viking_extinction_dict = {\n",
    "    'mag_petro_z_ab': 'aZ',\n",
    "    'mag_petro_y_ab': 'aY',\n",
    "    'mag_petro_j_ab': 'aJ',\n",
    "    'mag_petro_h_ab': 'aH',\n",
    "    'mag_petro_ks_ab': 'aKs',\n",
    "}\n",
    "\n",
    "correct_extinction('/home/polaris/Lab_Astro/data/survey_data/VIKING_data/VIKINGDR5_in_EMU_0102-32_ab.fits', viking_extinction_dict, np.nan)"
   ]
  },
  {
   "cell_type": "markdown",
   "id": "99402a61",
   "metadata": {},
   "source": [
    "## Calculate Colors (DES DR2, DES Y6 GOLD, VIKING DR5, CATWISE2020)"
   ]
  },
  {
   "cell_type": "code",
   "execution_count": 4,
   "id": "22eeb63a",
   "metadata": {},
   "outputs": [],
   "source": [
    "def compute_color(df, new_col_name, col1, col2, bad_value):\n",
    "    '''\n",
    "    Function to calculate colors given two columns\n",
    "    '''\n",
    "\n",
    "    mask_good = (df[col1] != bad_value) & (df[col2] != bad_value)\n",
    "    \n",
    "    # Initialize the color column with nans\n",
    "    df[new_col_name] = np.nan\n",
    "\n",
    "    # Where both magnitudes are good, compute the color\n",
    "    df.loc[mask_good, new_col_name] = df.loc[mask_good, col1] - df.loc[mask_good, col2]"
   ]
  },
  {
   "cell_type": "code",
   "execution_count": 7,
   "id": "9d0eef27",
   "metadata": {},
   "outputs": [],
   "source": [
    "# For DESY6 GOLD \n",
    "desy6gold_catalog_table = Table.read(matched_catalog_path)\n",
    "desy6gold_catalog_df = desy6gold_catalog_table.to_pandas()\n",
    "\n",
    "bad_value = np.nan\n",
    "compute_color(desy6gold_catalog_df, 'DESY6_g_r_extcorr', 'DESY6_mag_auto_g_extcorr', 'DESY6_mag_auto_r_extcorr', bad_value)\n",
    "compute_color(desy6gold_catalog_df, 'DESY6_r_i_extcorr', 'DESY6_mag_auto_r_extcorr', 'DESY6_mag_auto_i_extcorr', bad_value)\n",
    "compute_color(desy6gold_catalog_df, 'DESY6_i_z_extcorr', 'DESY6_mag_auto_i_extcorr', 'DESY6_mag_auto_z_extcorr', bad_value)\n",
    "compute_color(desy6gold_catalog_df, 'DESY6_z_y_extcorr', 'DESY6_mag_auto_z_extcorr', 'DESY6_mag_auto_y_extcorr', bad_value)\n",
    "\n",
    "updated_catalog_table = Table.from_pandas(desy6gold_catalog_df)\n",
    "updated_catalog_table.write(matched_catalog_path, overwrite=True)"
   ]
  },
  {
   "cell_type": "code",
   "execution_count": 5,
   "id": "128be5ed",
   "metadata": {},
   "outputs": [],
   "source": [
    "# For VIKING DR5\n",
    "bad_value = np.nan\n",
    "\n",
    "vikingdr5_catalog_table = Table.read(matched_catalog_path)\n",
    "vikingdr5_catalog_df = vikingdr5_catalog_table.to_pandas()\n",
    "\n",
    "compute_color(vikingdr5_catalog_df, 'VKG_z_y_petro_extcorr', 'VKG_mag_petro_z_ab_extcorr', 'VKG_mag_petro_y_ab_extcorr', bad_value)\n",
    "compute_color(vikingdr5_catalog_df, 'VK_y_j_petro_extcorr', 'VKG_mag_petro_y_ab_extcorr', 'VKG_mag_petro_j_ab_extcorr', bad_value)\n",
    "compute_color(vikingdr5_catalog_df, 'VKG_j_h_petro_extcorr', 'VKG_mag_petro_j_ab_extcorr', 'VKG_mag_petro_h_ab_extcorr', bad_value)\n",
    "compute_color(vikingdr5_catalog_df, 'VKG_h_ks_petro_extcorr', 'VKG_mag_petro_h_ab_extcorr', 'VKG_mag_petro_ks_ab_extcorr', bad_value)\n",
    "\n",
    "# Save back to FITS\n",
    "updated_catalog_table = Table.from_pandas(vikingdr5_catalog_df)\n",
    "updated_catalog_table.write(matched_catalog_path, overwrite=True)"
   ]
  },
  {
   "cell_type": "code",
   "execution_count": 9,
   "id": "69bb5545",
   "metadata": {},
   "outputs": [],
   "source": [
    "# For the CATWISE2020\n",
    "catwise_catalog_table = Table.read(matched_catalog_path)\n",
    "catwise_catalog_df = catwise_catalog_table.to_pandas()\n",
    "\n",
    "compute_color(catwise_catalog_df, 'CAT_w1_w2_ab', 'CAT_w1mpro_ab', 'CAT_w2mpro_ab', bad_value=np.nan )\n",
    "\n",
    "updated_catalog_table = Table.from_pandas(catwise_catalog_df)\n",
    "updated_catalog_table.write(matched_catalog_path, overwrite=True)"
   ]
  },
  {
   "cell_type": "markdown",
   "id": "a838467c",
   "metadata": {},
   "source": [
    "# Count non-detections (VIKING DR5, CATWISE2020)"
   ]
  },
  {
   "cell_type": "code",
   "execution_count": null,
   "id": "7eff708b",
   "metadata": {},
   "outputs": [
    {
     "name": "stdout",
     "output_type": "stream",
     "text": [
      "Index(['sourceID', 'ra', 'dec', 'zAperMag3', 'zAperMagNoAperCorr3',\n",
      "       'zAperMag3Err', 'yAperMag3', 'yAperMagNoAperCorr3', 'yAperMag3Err',\n",
      "       'jAperMag3', 'jAperMagNoAperCorr3', 'jAperMag3Err', 'hAperMag3',\n",
      "       'hAperMagNoAperCorr3', 'hAperMag3Err', 'ksAperMag3',\n",
      "       'ksAperMagNoAperCorr3', 'ksAperMag3Err', 'eBV', 'aZ', 'aY', 'aJ', 'aH',\n",
      "       'aKs', 'zppErrBits', 'yppErrBits', 'ksErrBits', 'jErrBits', 'hErrBits',\n",
      "       'mergedClassStat', 'pGalaxy', 'pStar', 'pNoise', 'pSaturated',\n",
      "       'zAperMagNoAperCorr3_ab', 'yAperMagNoAperCorr3_ab',\n",
      "       'jAperMagNoAperCorr3_ab', 'hAperMagNoAperCorr3_ab',\n",
      "       'ksAperMagNoAperCorr3_ab', 'zAperMag3_ab', 'yAperMag3_ab',\n",
      "       'jAperMag3_ab', 'hAperMag3_ab', 'ksAperMag3_ab', 'zAperMag3_ab_extcorr',\n",
      "       'yAperMag3_ab_extcorr', 'jAperMag3_ab_extcorr', 'hAperMag3_ab_extcorr',\n",
      "       'ksAperMag3_ab_extcorr', 'zAperMagNoAperCorr3_ab_extcorr',\n",
      "       'yAperMagNoAperCorr3_ab_extcorr', 'jAperMagNoAperCorr3_ab_extcorr',\n",
      "       'hAperMagNoAperCorr3_ab_extcorr', 'ksAperMagNoAperCorr3_ab_extcorr',\n",
      "       'z_y_am3_extcorr', 'y_j_am3_extcorr', 'j_h_am3_extcorr',\n",
      "       'h_ks_am3_extcorr', 'z_y_am3nac_extcorr', 'y_j_am3nac_extcorr',\n",
      "       'j_h_am3nac_extcorr', 'h_ks_am3nac_extcorr'],\n",
      "      dtype='object')\n"
     ]
    }
   ],
   "source": [
    "catalog_table = Table.read(vikingdr5_catalog_path)\n",
    "vikingdr5_catalog_df = catalog_table.to_pandas()\n",
    "\n",
    "print(vikingdr5_catalog_df.columns)"
   ]
  },
  {
   "cell_type": "code",
   "execution_count": null,
   "id": "3f15eae6",
   "metadata": {},
   "outputs": [
    {
     "name": "stdout",
     "output_type": "stream",
     "text": [
      "the nan value is: -999999488.0\n",
      "93357 (9.753%) objects have a nan value in the z filter\n",
      "97536 (10.190%) objects have a nan value in the y filter\n",
      "5 (0.001%) objects have a nan value in the j filter\n",
      "10 (0.001%) objects have a nan value in the h filter\n",
      "5 (0.001%) objects have a nan value in the ks filter\n"
     ]
    }
   ],
   "source": [
    "print(f'the nan value is: {vikingdr5_catalog_df['zAperMag3'].tail(len(vikingdr5_catalog_df)).unique().min()}')\n",
    "\n",
    "z_filter = vikingdr5_catalog_df[vikingdr5_catalog_df['zAperMag3']== -999999488.0]\n",
    "y_filter = vikingdr5_catalog_df[vikingdr5_catalog_df['yAperMag3'] == -999999488.0]\n",
    "j_filter = vikingdr5_catalog_df[vikingdr5_catalog_df['jAperMag3'] == -999999488.0]\n",
    "h_filter = vikingdr5_catalog_df[vikingdr5_catalog_df['hAperMag3'] == -999999488.0]\n",
    "ks_filter = vikingdr5_catalog_df[vikingdr5_catalog_df['ksAperMag3'] == -999999488.0]\n",
    "\n",
    "\n",
    "print(f'{len(z_filter)} ({(len(z_filter)/len(vikingdr5_catalog_df))*100:.3f}%) objects have a nan value in the z filter')\n",
    "print(f'{len(y_filter)} ({(len(y_filter)/len(vikingdr5_catalog_df))*100:.3f}%) objects have a nan value in the y filter')\n",
    "print(f'{len(j_filter)} ({(len(j_filter)/len(vikingdr5_catalog_df))*100:.3f}%) objects have a nan value in the j filter')\n",
    "print(f'{len(h_filter)} ({(len(h_filter)/len(vikingdr5_catalog_df))*100:.3f}%) objects have a nan value in the h filter')\n",
    "print(f'{len(ks_filter)} ({(len(ks_filter)/len(vikingdr5_catalog_df))*100:.3f}%) objects have a nan value in the ks filter')"
   ]
  },
  {
   "cell_type": "code",
   "execution_count": null,
   "id": "7215d3ac",
   "metadata": {},
   "outputs": [],
   "source": [
    "catalog_table = Table.read(catwise2020_catalog_path)\n",
    "catwise_catalog_df = catalog_table.to_pandas()"
   ]
  },
  {
   "cell_type": "code",
   "execution_count": null,
   "id": "e9a728fe",
   "metadata": {},
   "outputs": [
    {
     "name": "stdout",
     "output_type": "stream",
     "text": [
      "the nan value is: 5.181000232696533\n"
     ]
    }
   ],
   "source": [
    "# This shows us that catwise doesn't have nan values\n",
    "\n",
    "# missingno.matrix(catwise_catalog_df)\n",
    "\n",
    "print(f'the nan value is: {catwise_catalog_df['w1mpro'].tail(len(catwise_catalog_df)).unique().min()}')"
   ]
  },
  {
   "cell_type": "markdown",
   "id": "724ed87f",
   "metadata": {},
   "source": [
    "# Remove EMU sources in empty VIKING spots"
   ]
  },
  {
   "cell_type": "markdown",
   "id": "ccce25da",
   "metadata": {},
   "source": [
    "There are three rectangular patches in the VIKING area that don't have any objects, which is due to bad quality measurments."
   ]
  },
  {
   "cell_type": "code",
   "execution_count": null,
   "id": "85ce3da5",
   "metadata": {},
   "outputs": [],
   "source": [
    "emu_catalog_path = '/data/mfonseca/survey_data/EMU_data/EMU_0102-32/EMU_0102-32_1comp.fits'"
   ]
  },
  {
   "cell_type": "code",
   "execution_count": null,
   "id": "9de24920",
   "metadata": {},
   "outputs": [
    {
     "name": "stderr",
     "output_type": "stream",
     "text": [
      "WARNING: UnitsWarning: '--' did not parse as fits unit: Invalid character at col 0 If this is meant to be a custom unit, define it with 'u.def_unit'. To have it recognized inside a file reader or other code, enable it with 'u.add_enabled_units'. For details, see https://docs.astropy.org/en/latest/units/combining_and_defining.html [astropy.units.core]\n"
     ]
    }
   ],
   "source": [
    "emu_table = Table.read(emu_catalog_path)\n",
    "emu_catalog_df = emu_table.to_pandas()\n",
    "\n",
    "viking_table = Table.read(vikingdr5_catalog_path)\n",
    "viking_catalog_df = viking_table.to_pandas()\n",
    "\n",
    "emu_coords = SkyCoord(ra=emu_catalog_df['ra_deg_cont'].values * u.deg,\n",
    "                      dec=emu_catalog_df['dec_deg_cont'].values * u.deg)\n",
    "\n",
    "viking_coords = SkyCoord(ra=viking_catalog_df['ra'].values * u.deg,\n",
    "                         dec=viking_catalog_df['dec'].values * u.deg)\n",
    "\n",
    "# Perform many-to-many matching (find all EMU–VIKING pairs within 10 arcsec)\n",
    "idx_viking, idx_emu, sep2d, _ = emu_coords.search_around_sky(viking_coords, 10 * u.arcsec)\n",
    "\n",
    "# Get unique EMU indices that have at least one match\n",
    "unique_matched_emu_indices = np.unique(idx_emu)\n",
    "\n",
    "matched_emu_df = emu_catalog_df.iloc[unique_matched_emu_indices]\n",
    "\n",
    "Table.from_pandas(matched_emu_df).write(\"/data/mfonseca/survey_data/EMU_data/EMU_0102-32/EMU_0102-32_1comp_filtered.fits\", overwrite=True)"
   ]
  },
  {
   "cell_type": "code",
   "execution_count": null,
   "id": "dab548a9",
   "metadata": {},
   "outputs": [
    {
     "name": "stdout",
     "output_type": "stream",
     "text": [
      "Number of original sources in EMU catalog: 18736\n",
      "Number of sources in EMU catalog after filtering: 11588\n",
      "Fraction of sources in EMU catalog after filtering: 61.85%\n"
     ]
    }
   ],
   "source": [
    "print(f'Number of original sources in EMU catalog: {len(emu_catalog_df)}')\n",
    "print(f'Number of sources in EMU catalog after filtering: {len(matched_emu_df)}')\n",
    "\n",
    "fraction = len(matched_emu_df) / len(emu_catalog_df)\n",
    "\n",
    "print(f'Fraction of sources in EMU catalog after filtering: {fraction:.2%}')"
   ]
  }
 ],
 "metadata": {
  "kernelspec": {
   "display_name": "labastro",
   "language": "python",
   "name": "python3"
  },
  "language_info": {
   "codemirror_mode": {
    "name": "ipython",
    "version": 3
   },
   "file_extension": ".py",
   "mimetype": "text/x-python",
   "name": "python",
   "nbconvert_exporter": "python",
   "pygments_lexer": "ipython3",
   "version": "3.10.16"
  }
 },
 "nbformat": 4,
 "nbformat_minor": 5
}
